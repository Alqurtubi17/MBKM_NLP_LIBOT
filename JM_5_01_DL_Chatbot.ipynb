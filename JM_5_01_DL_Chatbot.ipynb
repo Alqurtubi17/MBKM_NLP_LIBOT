{
 "cells": [
  {
   "cell_type": "markdown",
   "id": "d18e160a",
   "metadata": {
    "id": "d18e160a"
   },
   "source": [
    "# Chatbot With Neural Network\n",
    "\n",
    "<b>Chatbot</b> merupakan bagian dari Natural Language Processing yang digunakan untuk percakapan dengan pengguna melalui teks dan ucapan. Pada mini project ini kita akan membuat sebuah chat otomatis atau chatbot tentang pelayan perpustakaan. \n",
    "\n",
    "Dalam tahapan Chatbot ini ada tahapan yang harus kita perhatikan yaitu,\n",
    "\n",
    "1. Import Library\n",
    "2. Load Dataset\n",
    "3. Preprocessing Data\n",
    "4. Input Length, Output Length and Vocabulary\n",
    "5. Neural Network Model\n",
    "6. Model Analysis\n",
    "7. Testing\n",
    "8. Save Model"
   ]
  },
  {
   "cell_type": "markdown",
   "id": "9ZsdBYNrTfgg",
   "metadata": {
    "id": "9ZsdBYNrTfgg"
   },
   "source": [
    "## Instalasi Library Pengenal Suara"
   ]
  },
  {
   "cell_type": "code",
   "execution_count": 1,
   "id": "Q2lOz2OmFhsz",
   "metadata": {
    "colab": {
     "base_uri": "https://localhost:8080/"
    },
    "id": "Q2lOz2OmFhsz",
    "outputId": "d7c96497-542a-4d5c-b02c-d02643cba22c"
   },
   "outputs": [],
   "source": [
    "!pip -q install speechrecognition"
   ]
  },
  {
   "cell_type": "code",
   "execution_count": 2,
   "id": "OcZ28yqJFcR8",
   "metadata": {
    "id": "OcZ28yqJFcR8"
   },
   "outputs": [],
   "source": [
    "!pip -q install gtts"
   ]
  },
  {
   "cell_type": "markdown",
   "id": "MZMVLNyqYTCK",
   "metadata": {
    "id": "MZMVLNyqYTCK"
   },
   "source": [
    "# Import Library\n",
    "\n",
    "Tahapan pertama sebelum melakukan eksplorasi dan praproses pada data adalah memasukan library yang akan digunakan untuk menganalisa dataset dengan menggunakan metode Deep Learning seperti Neural Network dalam pengolahan teks, Chatbot dll. Library yang saya gunakan yaitu NumPy untuk komputasi matematika, Matplotlib untuk visualisasi model data, Natural Language Toolkit atau NLTK untuk pengolahan teks, Pandas untuk membaca data, serta Tensorflow untuk model pada data menggunakan algoritma LSTM dan Jaringan Syaraf Tiruan (Neural Network)."
   ]
  },
  {
   "cell_type": "code",
   "execution_count": 3,
   "id": "df6e6af3",
   "metadata": {
    "id": "df6e6af3"
   },
   "outputs": [],
   "source": [
    "# Import Libraries\n",
    "import json\n",
    "import nltk\n",
    "import time\n",
    "import random\n",
    "import string\n",
    "import pickle\n",
    "import numpy as np\n",
    "import pandas as pd\n",
    "from gtts import gTTS\n",
    "from io import BytesIO\n",
    "import tensorflow as tf\n",
    "import IPython.display as ipd\n",
    "import speech_recognition as sr \n",
    "import matplotlib.pyplot as plt\n",
    "from nltk.stem import WordNetLemmatizer\n",
    "import Sastrawi\n",
    "from Sastrawi.Stemmer.StemmerFactory import StemmerFactory\n",
    "from tensorflow.keras.models import Model\n",
    "from keras.utils.vis_utils import plot_model\n",
    "from sklearn.preprocessing import LabelEncoder\n",
    "from tensorflow.keras.preprocessing.text import Tokenizer\n",
    "from tensorflow.keras.layers import Input, Embedding, LSTM\n",
    "from tensorflow.keras.preprocessing.sequence import pad_sequences\n",
    "from tensorflow.keras.layers import Flatten, Dense, GlobalMaxPool1D"
   ]
  },
  {
   "cell_type": "markdown",
   "id": "XFqXivzfTGhq",
   "metadata": {
    "id": "XFqXivzfTGhq"
   },
   "source": [
    "## Download NLTK and Sastrawi Package"
   ]
  },
  {
   "cell_type": "code",
   "execution_count": 4,
   "id": "ZFHfBZ3mO1QE",
   "metadata": {
    "colab": {
     "base_uri": "https://localhost:8080/"
    },
    "id": "ZFHfBZ3mO1QE",
    "outputId": "0265ac00-7e6f-417c-b2f1-37017b557352"
   },
   "outputs": [
    {
     "name": "stderr",
     "output_type": "stream",
     "text": [
      "[nltk_data] Downloading package punkt to\n",
      "[nltk_data]     C:\\Users\\Alqurtubi\\AppData\\Roaming\\nltk_data...\n",
      "[nltk_data]   Package punkt is already up-to-date!\n",
      "[nltk_data] Downloading package wordnet to\n",
      "[nltk_data]     C:\\Users\\Alqurtubi\\AppData\\Roaming\\nltk_data...\n",
      "[nltk_data]   Package wordnet is already up-to-date!\n",
      "[nltk_data] Downloading package omw-1.4 to\n",
      "[nltk_data]     C:\\Users\\Alqurtubi\\AppData\\Roaming\\nltk_data...\n",
      "[nltk_data]   Package omw-1.4 is already up-to-date!\n"
     ]
    },
    {
     "data": {
      "text/plain": [
       "True"
      ]
     },
     "execution_count": 4,
     "metadata": {},
     "output_type": "execute_result"
    }
   ],
   "source": [
    "nltk.download('punkt')\n",
    "nltk.download('wordnet')\n",
    "nltk.download('omw-1.4')"
   ]
  },
  {
   "cell_type": "markdown",
   "id": "gLGpuyY9aMwW",
   "metadata": {
    "id": "gLGpuyY9aMwW"
   },
   "source": [
    "# Load Dataset Json"
   ]
  },
  {
   "cell_type": "code",
   "execution_count": 5,
   "id": "JD4ILKqFZ_hf",
   "metadata": {
    "id": "JD4ILKqFZ_hf"
   },
   "outputs": [],
   "source": [
    "# Importing the dataset\n",
    "with open('libot.json') as content:\n",
    "  data1 = json.load(content)\n",
    "\n",
    "# Mendapatkan semua data ke dalam list\n",
    "tags = [] # data tag\n",
    "inputs = [] # data input atau pattern\n",
    "responses = {} # data respon\n",
    "words = [] # Data kata \n",
    "classes = [] # Data Kelas atau Tag\n",
    "documents = [] # Data Kalimat Dokumen\n",
    "ignore_words = ['?', '!'] # Mengabaikan tanda spesial karakter\n",
    "\n",
    "for intent in data1['intents']:\n",
    "  responses[intent['tag']]=intent['responses']\n",
    "  for lines in intent['patterns']:\n",
    "    inputs.append(lines)\n",
    "    tags.append(intent['tag'])\n",
    "    for pattern in intent['patterns']:\n",
    "      w = nltk.word_tokenize(pattern)\n",
    "      words.extend(w)\n",
    "      documents.append((w, intent['tag']))\n",
    "      # add to our classes list\n",
    "      if intent['tag'] not in classes:\n",
    "        classes.append(intent['tag'])\n",
    "\n",
    "# Konversi data json ke dalam dataframe\n",
    "data = pd.DataFrame({\"patterns\":inputs, \"tags\":tags})"
   ]
  },
  {
   "cell_type": "code",
   "execution_count": 6,
   "id": "5DFoJwcVdP52",
   "metadata": {
    "colab": {
     "base_uri": "https://localhost:8080/",
     "height": 206
    },
    "id": "5DFoJwcVdP52",
    "outputId": "038c3775-96bc-4d3e-b68c-d519823cd3dd"
   },
   "outputs": [
    {
     "data": {
      "text/html": [
       "<div>\n",
       "<style scoped>\n",
       "    .dataframe tbody tr th:only-of-type {\n",
       "        vertical-align: middle;\n",
       "    }\n",
       "\n",
       "    .dataframe tbody tr th {\n",
       "        vertical-align: top;\n",
       "    }\n",
       "\n",
       "    .dataframe thead th {\n",
       "        text-align: right;\n",
       "    }\n",
       "</style>\n",
       "<table border=\"1\" class=\"dataframe\">\n",
       "  <thead>\n",
       "    <tr style=\"text-align: right;\">\n",
       "      <th></th>\n",
       "      <th>patterns</th>\n",
       "      <th>tags</th>\n",
       "    </tr>\n",
       "  </thead>\n",
       "  <tbody>\n",
       "    <tr>\n",
       "      <th>0</th>\n",
       "      <td>hallo</td>\n",
       "      <td>greeting</td>\n",
       "    </tr>\n",
       "    <tr>\n",
       "      <th>1</th>\n",
       "      <td>hai</td>\n",
       "      <td>greeting</td>\n",
       "    </tr>\n",
       "    <tr>\n",
       "      <th>2</th>\n",
       "      <td>halo</td>\n",
       "      <td>greeting</td>\n",
       "    </tr>\n",
       "    <tr>\n",
       "      <th>3</th>\n",
       "      <td>hei</td>\n",
       "      <td>greeting</td>\n",
       "    </tr>\n",
       "    <tr>\n",
       "      <th>4</th>\n",
       "      <td>hi</td>\n",
       "      <td>greeting</td>\n",
       "    </tr>\n",
       "  </tbody>\n",
       "</table>\n",
       "</div>"
      ],
      "text/plain": [
       "  patterns      tags\n",
       "0    hallo  greeting\n",
       "1      hai  greeting\n",
       "2     halo  greeting\n",
       "3      hei  greeting\n",
       "4       hi  greeting"
      ]
     },
     "execution_count": 6,
     "metadata": {},
     "output_type": "execute_result"
    }
   ],
   "source": [
    "data.head() # Cetak data baris pertama sampai baris kelima"
   ]
  },
  {
   "cell_type": "code",
   "execution_count": 7,
   "id": "HksM_GGVdenI",
   "metadata": {
    "colab": {
     "base_uri": "https://localhost:8080/",
     "height": 206
    },
    "id": "HksM_GGVdenI",
    "outputId": "1186dc18-7eb9-43dd-a854-403824567d47"
   },
   "outputs": [
    {
     "data": {
      "text/html": [
       "<div>\n",
       "<style scoped>\n",
       "    .dataframe tbody tr th:only-of-type {\n",
       "        vertical-align: middle;\n",
       "    }\n",
       "\n",
       "    .dataframe tbody tr th {\n",
       "        vertical-align: top;\n",
       "    }\n",
       "\n",
       "    .dataframe thead th {\n",
       "        text-align: right;\n",
       "    }\n",
       "</style>\n",
       "<table border=\"1\" class=\"dataframe\">\n",
       "  <thead>\n",
       "    <tr style=\"text-align: right;\">\n",
       "      <th></th>\n",
       "      <th>patterns</th>\n",
       "      <th>tags</th>\n",
       "    </tr>\n",
       "  </thead>\n",
       "  <tbody>\n",
       "    <tr>\n",
       "      <th>37</th>\n",
       "      <td>jam buka perpustakaan dan peraturan peminjaman...</td>\n",
       "      <td>program_perpustakaan</td>\n",
       "    </tr>\n",
       "    <tr>\n",
       "      <th>38</th>\n",
       "      <td>Bagaimana cara mendaftar sebagai anggota perpu...</td>\n",
       "      <td>informasi_pendaftaran</td>\n",
       "    </tr>\n",
       "    <tr>\n",
       "      <th>39</th>\n",
       "      <td>Kapan perpustakaan buka?</td>\n",
       "      <td>jam_buka_perpustakaan</td>\n",
       "    </tr>\n",
       "    <tr>\n",
       "      <th>40</th>\n",
       "      <td>Bagaimana peraturan meminjam buku?</td>\n",
       "      <td>peraturan_peminjaman_buku</td>\n",
       "    </tr>\n",
       "    <tr>\n",
       "      <th>41</th>\n",
       "      <td>Dimana letak buku kategori...?</td>\n",
       "      <td>letak_buku_sesuai_kategori</td>\n",
       "    </tr>\n",
       "  </tbody>\n",
       "</table>\n",
       "</div>"
      ],
      "text/plain": [
       "                                             patterns  \\\n",
       "37  jam buka perpustakaan dan peraturan peminjaman...   \n",
       "38  Bagaimana cara mendaftar sebagai anggota perpu...   \n",
       "39                           Kapan perpustakaan buka?   \n",
       "40                 Bagaimana peraturan meminjam buku?   \n",
       "41                     Dimana letak buku kategori...?   \n",
       "\n",
       "                          tags  \n",
       "37        program_perpustakaan  \n",
       "38       informasi_pendaftaran  \n",
       "39       jam_buka_perpustakaan  \n",
       "40   peraturan_peminjaman_buku  \n",
       "41  letak_buku_sesuai_kategori  "
      ]
     },
     "execution_count": 7,
     "metadata": {},
     "output_type": "execute_result"
    }
   ],
   "source": [
    "data.tail() # Cetak data baris ke-37 sampai baris akhir"
   ]
  },
  {
   "cell_type": "markdown",
   "id": "8p_YOwTKdr53",
   "metadata": {
    "id": "8p_YOwTKdr53"
   },
   "source": [
    "Data yang telah kita miliki dalam format JSON yang dapat digunakan melalui pandas dengan cara konversi. Data JSON yang saya miliki didapat dengan cara manual dengan mengambil beberapa referensi tentang pelayanan di perpustakaan."
   ]
  },
  {
   "cell_type": "markdown",
   "id": "vHnr2WFvebeJ",
   "metadata": {
    "id": "vHnr2WFvebeJ"
   },
   "source": [
    "# Preprocessing The Data\n",
    "\n",
    "Setelah kita meload data dan mengonversi data json menjadi dataframe. Tahapan selanjutnya adalah praproses pada dataset yang kita gunakan saat ini yaitu dengan cara:\n",
    "\n",
    "1.   Remove Punctuations (Menghapus Punktuasi)\n",
    "2.   Lematization (Lematisasi)\n",
    "3.   Tokenization (Tokenisasi)\n",
    "4.   Apply Padding (Padding)\n",
    "5.   Encoding the Outputs (Konversi Keluaran Enkoding)"
   ]
  },
  {
   "cell_type": "code",
   "execution_count": 8,
   "id": "Gh-7EtrfhQgY",
   "metadata": {
    "colab": {
     "base_uri": "https://localhost:8080/",
     "height": 424
    },
    "id": "Gh-7EtrfhQgY",
    "outputId": "ac5d44f2-7aea-409a-c224-e816a7cffc9e"
   },
   "outputs": [
    {
     "data": {
      "text/html": [
       "<div>\n",
       "<style scoped>\n",
       "    .dataframe tbody tr th:only-of-type {\n",
       "        vertical-align: middle;\n",
       "    }\n",
       "\n",
       "    .dataframe tbody tr th {\n",
       "        vertical-align: top;\n",
       "    }\n",
       "\n",
       "    .dataframe thead th {\n",
       "        text-align: right;\n",
       "    }\n",
       "</style>\n",
       "<table border=\"1\" class=\"dataframe\">\n",
       "  <thead>\n",
       "    <tr style=\"text-align: right;\">\n",
       "      <th></th>\n",
       "      <th>patterns</th>\n",
       "      <th>tags</th>\n",
       "    </tr>\n",
       "  </thead>\n",
       "  <tbody>\n",
       "    <tr>\n",
       "      <th>0</th>\n",
       "      <td>hallo</td>\n",
       "      <td>greeting</td>\n",
       "    </tr>\n",
       "    <tr>\n",
       "      <th>1</th>\n",
       "      <td>hai</td>\n",
       "      <td>greeting</td>\n",
       "    </tr>\n",
       "    <tr>\n",
       "      <th>2</th>\n",
       "      <td>halo</td>\n",
       "      <td>greeting</td>\n",
       "    </tr>\n",
       "    <tr>\n",
       "      <th>3</th>\n",
       "      <td>hei</td>\n",
       "      <td>greeting</td>\n",
       "    </tr>\n",
       "    <tr>\n",
       "      <th>4</th>\n",
       "      <td>hi</td>\n",
       "      <td>greeting</td>\n",
       "    </tr>\n",
       "    <tr>\n",
       "      <th>5</th>\n",
       "      <td>hy</td>\n",
       "      <td>greeting</td>\n",
       "    </tr>\n",
       "    <tr>\n",
       "      <th>6</th>\n",
       "      <td>pagi</td>\n",
       "      <td>greeting</td>\n",
       "    </tr>\n",
       "    <tr>\n",
       "      <th>7</th>\n",
       "      <td>morning</td>\n",
       "      <td>greeting</td>\n",
       "    </tr>\n",
       "    <tr>\n",
       "      <th>8</th>\n",
       "      <td>siang</td>\n",
       "      <td>greeting</td>\n",
       "    </tr>\n",
       "    <tr>\n",
       "      <th>9</th>\n",
       "      <td>afternoon</td>\n",
       "      <td>greeting</td>\n",
       "    </tr>\n",
       "    <tr>\n",
       "      <th>10</th>\n",
       "      <td>sore</td>\n",
       "      <td>greeting</td>\n",
       "    </tr>\n",
       "    <tr>\n",
       "      <th>11</th>\n",
       "      <td>malam</td>\n",
       "      <td>greeting</td>\n",
       "    </tr>\n",
       "    <tr>\n",
       "      <th>12</th>\n",
       "      <td>bro</td>\n",
       "      <td>greeting</td>\n",
       "    </tr>\n",
       "    <tr>\n",
       "      <th>13</th>\n",
       "      <td>sis</td>\n",
       "      <td>greeting</td>\n",
       "    </tr>\n",
       "    <tr>\n",
       "      <th>14</th>\n",
       "      <td>kawan</td>\n",
       "      <td>greeting</td>\n",
       "    </tr>\n",
       "    <tr>\n",
       "      <th>15</th>\n",
       "      <td>yuhuu</td>\n",
       "      <td>greeting</td>\n",
       "    </tr>\n",
       "    <tr>\n",
       "      <th>16</th>\n",
       "      <td>dah</td>\n",
       "      <td>goodbye</td>\n",
       "    </tr>\n",
       "    <tr>\n",
       "      <th>17</th>\n",
       "      <td>dadah</td>\n",
       "      <td>goodbye</td>\n",
       "    </tr>\n",
       "    <tr>\n",
       "      <th>18</th>\n",
       "      <td>bye</td>\n",
       "      <td>goodbye</td>\n",
       "    </tr>\n",
       "    <tr>\n",
       "      <th>19</th>\n",
       "      <td>byee</td>\n",
       "      <td>goodbye</td>\n",
       "    </tr>\n",
       "    <tr>\n",
       "      <th>20</th>\n",
       "      <td>good bye</td>\n",
       "      <td>goodbye</td>\n",
       "    </tr>\n",
       "    <tr>\n",
       "      <th>21</th>\n",
       "      <td>selamat tinggal</td>\n",
       "      <td>goodbye</td>\n",
       "    </tr>\n",
       "    <tr>\n",
       "      <th>22</th>\n",
       "      <td>sampai jumpa</td>\n",
       "      <td>goodbye</td>\n",
       "    </tr>\n",
       "    <tr>\n",
       "      <th>23</th>\n",
       "      <td>bai</td>\n",
       "      <td>goodbye</td>\n",
       "    </tr>\n",
       "    <tr>\n",
       "      <th>24</th>\n",
       "      <td>see you</td>\n",
       "      <td>goodbye</td>\n",
       "    </tr>\n",
       "    <tr>\n",
       "      <th>25</th>\n",
       "      <td>bubay</td>\n",
       "      <td>goodbye</td>\n",
       "    </tr>\n",
       "    <tr>\n",
       "      <th>26</th>\n",
       "      <td>dadaa</td>\n",
       "      <td>goodbye</td>\n",
       "    </tr>\n",
       "    <tr>\n",
       "      <th>27</th>\n",
       "      <td>thanks</td>\n",
       "      <td>terimakasih</td>\n",
       "    </tr>\n",
       "    <tr>\n",
       "      <th>28</th>\n",
       "      <td>thank you</td>\n",
       "      <td>terimakasih</td>\n",
       "    </tr>\n",
       "    <tr>\n",
       "      <th>29</th>\n",
       "      <td>terima kasih</td>\n",
       "      <td>terimakasih</td>\n",
       "    </tr>\n",
       "    <tr>\n",
       "      <th>30</th>\n",
       "      <td>makasih</td>\n",
       "      <td>terimakasih</td>\n",
       "    </tr>\n",
       "    <tr>\n",
       "      <th>31</th>\n",
       "      <td>terima kasih banyak</td>\n",
       "      <td>terimakasih</td>\n",
       "    </tr>\n",
       "    <tr>\n",
       "      <th>32</th>\n",
       "      <td>makasih ya</td>\n",
       "      <td>terimakasih</td>\n",
       "    </tr>\n",
       "    <tr>\n",
       "      <th>33</th>\n",
       "      <td>apa saja layanan bot perpustakaan</td>\n",
       "      <td>penjelasan_layanan_perpustakaan</td>\n",
       "    </tr>\n",
       "    <tr>\n",
       "      <th>34</th>\n",
       "      <td>apa saja program perpustakaan yang tersedia</td>\n",
       "      <td>program_perpustakaan</td>\n",
       "    </tr>\n",
       "    <tr>\n",
       "      <th>35</th>\n",
       "      <td>informasi pendaftaran  jam buka perpustakaan d...</td>\n",
       "      <td>program_perpustakaan</td>\n",
       "    </tr>\n",
       "    <tr>\n",
       "      <th>36</th>\n",
       "      <td>letak buku sesuai kategori</td>\n",
       "      <td>program_perpustakaan</td>\n",
       "    </tr>\n",
       "    <tr>\n",
       "      <th>37</th>\n",
       "      <td>jam buka perpustakaan dan peraturan peminjaman...</td>\n",
       "      <td>program_perpustakaan</td>\n",
       "    </tr>\n",
       "    <tr>\n",
       "      <th>38</th>\n",
       "      <td>bagaimana cara mendaftar sebagai anggota perpu...</td>\n",
       "      <td>informasi_pendaftaran</td>\n",
       "    </tr>\n",
       "    <tr>\n",
       "      <th>39</th>\n",
       "      <td>kapan perpustakaan buka</td>\n",
       "      <td>jam_buka_perpustakaan</td>\n",
       "    </tr>\n",
       "    <tr>\n",
       "      <th>40</th>\n",
       "      <td>bagaimana peraturan meminjam buku</td>\n",
       "      <td>peraturan_peminjaman_buku</td>\n",
       "    </tr>\n",
       "    <tr>\n",
       "      <th>41</th>\n",
       "      <td>dimana letak buku kategori</td>\n",
       "      <td>letak_buku_sesuai_kategori</td>\n",
       "    </tr>\n",
       "  </tbody>\n",
       "</table>\n",
       "</div>"
      ],
      "text/plain": [
       "                                             patterns  \\\n",
       "0                                               hallo   \n",
       "1                                                 hai   \n",
       "2                                                halo   \n",
       "3                                                 hei   \n",
       "4                                                  hi   \n",
       "5                                                  hy   \n",
       "6                                                pagi   \n",
       "7                                             morning   \n",
       "8                                               siang   \n",
       "9                                           afternoon   \n",
       "10                                               sore   \n",
       "11                                              malam   \n",
       "12                                                bro   \n",
       "13                                                sis   \n",
       "14                                              kawan   \n",
       "15                                              yuhuu   \n",
       "16                                                dah   \n",
       "17                                              dadah   \n",
       "18                                                bye   \n",
       "19                                               byee   \n",
       "20                                           good bye   \n",
       "21                                    selamat tinggal   \n",
       "22                                       sampai jumpa   \n",
       "23                                                bai   \n",
       "24                                            see you   \n",
       "25                                              bubay   \n",
       "26                                              dadaa   \n",
       "27                                             thanks   \n",
       "28                                          thank you   \n",
       "29                                       terima kasih   \n",
       "30                                            makasih   \n",
       "31                                terima kasih banyak   \n",
       "32                                         makasih ya   \n",
       "33                  apa saja layanan bot perpustakaan   \n",
       "34        apa saja program perpustakaan yang tersedia   \n",
       "35  informasi pendaftaran  jam buka perpustakaan d...   \n",
       "36                         letak buku sesuai kategori   \n",
       "37  jam buka perpustakaan dan peraturan peminjaman...   \n",
       "38  bagaimana cara mendaftar sebagai anggota perpu...   \n",
       "39                            kapan perpustakaan buka   \n",
       "40                  bagaimana peraturan meminjam buku   \n",
       "41                         dimana letak buku kategori   \n",
       "\n",
       "                               tags  \n",
       "0                          greeting  \n",
       "1                          greeting  \n",
       "2                          greeting  \n",
       "3                          greeting  \n",
       "4                          greeting  \n",
       "5                          greeting  \n",
       "6                          greeting  \n",
       "7                          greeting  \n",
       "8                          greeting  \n",
       "9                          greeting  \n",
       "10                         greeting  \n",
       "11                         greeting  \n",
       "12                         greeting  \n",
       "13                         greeting  \n",
       "14                         greeting  \n",
       "15                         greeting  \n",
       "16                          goodbye  \n",
       "17                          goodbye  \n",
       "18                          goodbye  \n",
       "19                          goodbye  \n",
       "20                          goodbye  \n",
       "21                          goodbye  \n",
       "22                          goodbye  \n",
       "23                          goodbye  \n",
       "24                          goodbye  \n",
       "25                          goodbye  \n",
       "26                          goodbye  \n",
       "27                      terimakasih  \n",
       "28                      terimakasih  \n",
       "29                      terimakasih  \n",
       "30                      terimakasih  \n",
       "31                      terimakasih  \n",
       "32                      terimakasih  \n",
       "33  penjelasan_layanan_perpustakaan  \n",
       "34             program_perpustakaan  \n",
       "35             program_perpustakaan  \n",
       "36             program_perpustakaan  \n",
       "37             program_perpustakaan  \n",
       "38            informasi_pendaftaran  \n",
       "39            jam_buka_perpustakaan  \n",
       "40        peraturan_peminjaman_buku  \n",
       "41       letak_buku_sesuai_kategori  "
      ]
     },
     "execution_count": 8,
     "metadata": {},
     "output_type": "execute_result"
    }
   ],
   "source": [
    "# Removing Punctuations (Menghilangkan Punktuasi)\n",
    "data['patterns'] = data['patterns'].apply(lambda wrd:[ltrs.lower() for ltrs in wrd if ltrs not in string.punctuation])\n",
    "data['patterns'] = data['patterns'].apply(lambda wrd: ''.join(wrd))\n",
    "data"
   ]
  },
  {
   "cell_type": "code",
   "execution_count": 9,
   "id": "22MVRGBsO9gX",
   "metadata": {
    "colab": {
     "base_uri": "https://localhost:8080/"
    },
    "id": "22MVRGBsO9gX",
    "outputId": "03adedb4-ab45-46c4-cd68-ab137372f9ef"
   },
   "outputs": [
    {
     "name": "stdout",
     "output_type": "stream",
     "text": [
      "63 unique lemmatized words ['', 'afternoon', 'anggota', 'apa', 'atur', 'bagai', 'bagaimana', 'bai', 'banyak', 'bot', 'bro', 'bubay', 'buka', 'buku', 'bye', 'byee', 'cara', 'dadaa', 'dadah', 'daftar', 'dah', 'dan', 'good', 'hai', 'hallo', 'halo', 'hei', 'hi', 'hy', 'informasi', 'jam', 'jumpa', 'kapan', 'kasih', 'kategori', 'kawan', 'layan', 'letak', 'makasih', 'malam', 'mana', 'morning', 'pagi', 'pinjam', 'program', 'pustaka', 'saja', 'sampai', 'sedia', 'see', 'selamat', 'sesuai', 'siang', 'sis', 'sore', 'terima', 'thank', 'thanks', 'tinggal', 'ya', 'yang', 'you', 'yuhuu']\n"
     ]
    }
   ],
   "source": [
    "# create stemmer and process stemmer with Sastrawi\n",
    "factory = StemmerFactory() \n",
    "stemmer = factory.create_stemmer()\n",
    "words = [stemmer.stem(w.lower()) for w in words if w not in ignore_words]\n",
    "words = sorted(list(set(words)))\n",
    "\n",
    "print (len(words), \"unique lemmatized words\", words)"
   ]
  },
  {
   "cell_type": "code",
   "execution_count": 10,
   "id": "TK_v4Zw5P8rn",
   "metadata": {
    "colab": {
     "base_uri": "https://localhost:8080/"
    },
    "id": "TK_v4Zw5P8rn",
    "outputId": "c5071317-4f48-4866-fa48-220c1820b5f2"
   },
   "outputs": [
    {
     "name": "stdout",
     "output_type": "stream",
     "text": [
      "9 classes ['goodbye', 'greeting', 'informasi_pendaftaran', 'jam_buka_perpustakaan', 'letak_buku_sesuai_kategori', 'penjelasan_layanan_perpustakaan', 'peraturan_peminjaman_buku', 'program_perpustakaan', 'terimakasih']\n"
     ]
    }
   ],
   "source": [
    "# sort classes\n",
    "classes = sorted(list(set(classes)))\n",
    "print (len(classes), \"classes\", classes)"
   ]
  },
  {
   "cell_type": "code",
   "execution_count": 11,
   "id": "Tv5lLFn1QCDP",
   "metadata": {
    "colab": {
     "base_uri": "https://localhost:8080/"
    },
    "id": "Tv5lLFn1QCDP",
    "outputId": "0591a008-5f7e-4825-88d5-a4228286058a"
   },
   "outputs": [
    {
     "name": "stdout",
     "output_type": "stream",
     "text": [
      "428 documents\n"
     ]
    }
   ],
   "source": [
    "# documents = combination between patterns and intents\n",
    "print (len(documents), \"documents\")"
   ]
  },
  {
   "cell_type": "code",
   "execution_count": 12,
   "id": "Xr5aehymeQdi",
   "metadata": {
    "colab": {
     "base_uri": "https://localhost:8080/"
    },
    "id": "Xr5aehymeQdi",
    "outputId": "145f5647-b1fb-452d-c311-23091c39aded"
   },
   "outputs": [
    {
     "data": {
      "text/plain": [
       "[[18],\n",
       " [19],\n",
       " [20],\n",
       " [21],\n",
       " [22],\n",
       " [23],\n",
       " [24],\n",
       " [25],\n",
       " [26],\n",
       " [27],\n",
       " [28],\n",
       " [29],\n",
       " [30],\n",
       " [31],\n",
       " [32],\n",
       " [33],\n",
       " [34],\n",
       " [35],\n",
       " [5],\n",
       " [36],\n",
       " [37, 5],\n",
       " [38, 39],\n",
       " [40, 41],\n",
       " [42],\n",
       " [43, 6],\n",
       " [44],\n",
       " [45],\n",
       " [46],\n",
       " [47, 6],\n",
       " [7, 8],\n",
       " [9],\n",
       " [7, 8, 48],\n",
       " [9, 49],\n",
       " [10, 11, 50, 51, 1],\n",
       " [10, 11, 52, 1, 53, 54],\n",
       " [55, 56, 12, 3, 1, 13, 4, 14, 2],\n",
       " [15, 2, 57, 16],\n",
       " [12, 3, 1, 13, 4, 14, 2],\n",
       " [17, 58, 59, 60, 61, 1],\n",
       " [62, 1, 3],\n",
       " [17, 4, 63, 2],\n",
       " [64, 15, 2, 16]]"
      ]
     },
     "execution_count": 12,
     "metadata": {},
     "output_type": "execute_result"
    }
   ],
   "source": [
    "# Tokenize the data (Tokenisasi Data)\n",
    "tokenizer = Tokenizer(num_words=2000)\n",
    "tokenizer.fit_on_texts(data['patterns'])\n",
    "train = tokenizer.texts_to_sequences(data['patterns'])\n",
    "train"
   ]
  },
  {
   "cell_type": "code",
   "execution_count": 13,
   "id": "5BQdPUTNvS1t",
   "metadata": {
    "id": "5BQdPUTNvS1t"
   },
   "outputs": [],
   "source": [
    "# Apply padding \n",
    "x_train = pad_sequences(train)\n",
    "\n",
    "# Encoding the outputs \n",
    "le = LabelEncoder()\n",
    "y_train = le.fit_transform(data['tags'])"
   ]
  },
  {
   "cell_type": "code",
   "execution_count": 14,
   "id": "sczq--IpTYWa",
   "metadata": {
    "colab": {
     "base_uri": "https://localhost:8080/"
    },
    "id": "sczq--IpTYWa",
    "outputId": "2089841d-f268-49f9-f7cc-7e5d66362b90"
   },
   "outputs": [
    {
     "name": "stdout",
     "output_type": "stream",
     "text": [
      "[[ 0  0  0  0  0  0  0  0 18]\n",
      " [ 0  0  0  0  0  0  0  0 19]\n",
      " [ 0  0  0  0  0  0  0  0 20]\n",
      " [ 0  0  0  0  0  0  0  0 21]\n",
      " [ 0  0  0  0  0  0  0  0 22]\n",
      " [ 0  0  0  0  0  0  0  0 23]\n",
      " [ 0  0  0  0  0  0  0  0 24]\n",
      " [ 0  0  0  0  0  0  0  0 25]\n",
      " [ 0  0  0  0  0  0  0  0 26]\n",
      " [ 0  0  0  0  0  0  0  0 27]\n",
      " [ 0  0  0  0  0  0  0  0 28]\n",
      " [ 0  0  0  0  0  0  0  0 29]\n",
      " [ 0  0  0  0  0  0  0  0 30]\n",
      " [ 0  0  0  0  0  0  0  0 31]\n",
      " [ 0  0  0  0  0  0  0  0 32]\n",
      " [ 0  0  0  0  0  0  0  0 33]\n",
      " [ 0  0  0  0  0  0  0  0 34]\n",
      " [ 0  0  0  0  0  0  0  0 35]\n",
      " [ 0  0  0  0  0  0  0  0  5]\n",
      " [ 0  0  0  0  0  0  0  0 36]\n",
      " [ 0  0  0  0  0  0  0 37  5]\n",
      " [ 0  0  0  0  0  0  0 38 39]\n",
      " [ 0  0  0  0  0  0  0 40 41]\n",
      " [ 0  0  0  0  0  0  0  0 42]\n",
      " [ 0  0  0  0  0  0  0 43  6]\n",
      " [ 0  0  0  0  0  0  0  0 44]\n",
      " [ 0  0  0  0  0  0  0  0 45]\n",
      " [ 0  0  0  0  0  0  0  0 46]\n",
      " [ 0  0  0  0  0  0  0 47  6]\n",
      " [ 0  0  0  0  0  0  0  7  8]\n",
      " [ 0  0  0  0  0  0  0  0  9]\n",
      " [ 0  0  0  0  0  0  7  8 48]\n",
      " [ 0  0  0  0  0  0  0  9 49]\n",
      " [ 0  0  0  0 10 11 50 51  1]\n",
      " [ 0  0  0 10 11 52  1 53 54]\n",
      " [55 56 12  3  1 13  4 14  2]\n",
      " [ 0  0  0  0  0 15  2 57 16]\n",
      " [ 0  0 12  3  1 13  4 14  2]\n",
      " [ 0  0  0 17 58 59 60 61  1]\n",
      " [ 0  0  0  0  0  0 62  1  3]\n",
      " [ 0  0  0  0  0 17  4 63  2]\n",
      " [ 0  0  0  0  0 64 15  2 16]]\n"
     ]
    }
   ],
   "source": [
    "print(x_train) # Padding Sequences"
   ]
  },
  {
   "cell_type": "code",
   "execution_count": 15,
   "id": "B9RKPj7_TiRr",
   "metadata": {
    "colab": {
     "base_uri": "https://localhost:8080/"
    },
    "id": "B9RKPj7_TiRr",
    "outputId": "8ff438dc-f4d5-407f-e65a-f50c7f4a849e"
   },
   "outputs": [
    {
     "name": "stdout",
     "output_type": "stream",
     "text": [
      "[1 1 1 1 1 1 1 1 1 1 1 1 1 1 1 1 0 0 0 0 0 0 0 0 0 0 0 8 8 8 8 8 8 5 7 7 7\n",
      " 7 2 3 6 4]\n"
     ]
    }
   ],
   "source": [
    "print(y_train) #Label Encodings"
   ]
  },
  {
   "cell_type": "markdown",
   "id": "D9rKggGCgnjT",
   "metadata": {
    "id": "D9rKggGCgnjT"
   },
   "source": [
    "Tokenizer pada Tensorflow memberikan token unik untuk setiap kata yang berbeda. Dan juga padding dilakukan untuk mendapatkan semua data dengan panjang yang sama sehingga dapat mengirimkannya ke lapisan atau layer RNN. variabel target juga dikodekan menjadi nilai desimal."
   ]
  },
  {
   "cell_type": "markdown",
   "id": "_hE21zfRhiNS",
   "metadata": {
    "id": "_hE21zfRhiNS"
   },
   "source": [
    "# Input Length, Output Length and Vocabulary"
   ]
  },
  {
   "cell_type": "code",
   "execution_count": 16,
   "id": "dbtBZXFvgvCB",
   "metadata": {
    "colab": {
     "base_uri": "https://localhost:8080/"
    },
    "id": "dbtBZXFvgvCB",
    "outputId": "e7f6c162-8f6c-477e-9293-591b4be5b598"
   },
   "outputs": [
    {
     "name": "stdout",
     "output_type": "stream",
     "text": [
      "9\n"
     ]
    }
   ],
   "source": [
    "# input length\n",
    "input_shape = x_train.shape[1]\n",
    "print(input_shape)"
   ]
  },
  {
   "cell_type": "code",
   "execution_count": 17,
   "id": "310y6oNLhuzv",
   "metadata": {
    "colab": {
     "base_uri": "https://localhost:8080/"
    },
    "id": "310y6oNLhuzv",
    "outputId": "9c1f1de4-cca3-426d-b631-1869c8c16873"
   },
   "outputs": [
    {
     "name": "stdout",
     "output_type": "stream",
     "text": [
      "number of unique words :  64\n",
      "output length:  9\n"
     ]
    }
   ],
   "source": [
    "# define vocabulary\n",
    "vocabulary = len(tokenizer.word_index)\n",
    "print(\"number of unique words : \", vocabulary)\n",
    "\n",
    "# output length\n",
    "output_length = le.classes_.shape[0]\n",
    "print(\"output length: \", output_length)"
   ]
  },
  {
   "cell_type": "markdown",
   "id": "AInHhmVGict2",
   "metadata": {
    "id": "AInHhmVGict2"
   },
   "source": [
    "**Input length** dan **output length** terlihat sangat jelas hasilnya. Mereka adalah untuk bentuk input dan bentuk output dari jaringan syaraf pada algoritma Neural Network.\n",
    "\n",
    "**Vocabulary Size** adalah untuk lapisan penyematan untuk membuat representasi vektor unik untuk setiap kata."
   ]
  },
  {
   "cell_type": "markdown",
   "id": "1LxIElYjQbB7",
   "metadata": {
    "id": "1LxIElYjQbB7"
   },
   "source": [
    "# Save Model Words & Classes"
   ]
  },
  {
   "cell_type": "code",
   "execution_count": 18,
   "id": "wYV77QFbQVLP",
   "metadata": {
    "id": "wYV77QFbQVLP"
   },
   "outputs": [],
   "source": [
    "pickle.dump(words, open('words.pkl','wb'))\n",
    "pickle.dump(classes, open('classes.pkl','wb'))"
   ]
  },
  {
   "cell_type": "markdown",
   "id": "BI7OvNariInQ",
   "metadata": {
    "id": "BI7OvNariInQ"
   },
   "source": [
    "# Neural Network Model\n",
    "\n",
    "Jaringan syaraf yang terdiri dari lapisan embedding yang merupakan salah satu hal yang paling kuat di bidang pemrosesan bahasa alami atau NLP. output atau keluaran dari lapisan embedding adalah input dari lapisan berulang (*recurrent*) dengan LSTM gate. Kemudian, output diratakan dan lapisan Dense digunakan dengan fungsi aktivasi softmax.\n",
    "\n",
    "Bagian utama adalah lapisan embedding yang memberikan vektor yang sesuai untuk setiap kata dalam dataset."
   ]
  },
  {
   "cell_type": "code",
   "execution_count": 19,
   "id": "2XBG3_reh2KY",
   "metadata": {
    "id": "2XBG3_reh2KY"
   },
   "outputs": [],
   "source": [
    "# Creating the model (Membuat Modeling)\n",
    "i = Input(shape=(input_shape,))\n",
    "x = Embedding(vocabulary+1,30)(i) # Layer Embedding\n",
    "x = LSTM(35, return_sequences=True)(x) # Layer Long Short Term Memory\n",
    "x = Flatten()(x) # Layer Flatten\n",
    "x = Dense(output_length, activation=\"softmax\")(x) # Layer Dense\n",
    "model  = Model(i,x)\n",
    "\n",
    "# Compiling the model (Kompilasi Model)\n",
    "model.compile(loss=\"sparse_categorical_crossentropy\", optimizer='adam', metrics=['accuracy'])"
   ]
  },
  {
   "cell_type": "code",
   "execution_count": 20,
   "id": "SO1blkS7ZzuH",
   "metadata": {
    "colab": {
     "base_uri": "https://localhost:8080/",
     "height": 533
    },
    "id": "SO1blkS7ZzuH",
    "outputId": "54a3db45-2e9a-4f3d-b772-c564c692c23b"
   },
   "outputs": [
    {
     "data": {
      "image/png": "[encoded data removed]",
      "text/plain": [
       "<IPython.core.display.Image object>"
      ]
     },
     "execution_count": 20,
     "metadata": {},
     "output_type": "execute_result"
    }
   ],
   "source": [
    "# Visualization Plot Architecture Model (Visualisasi Plot Arsitektur Model)\n",
    "plot_model(model, to_file='model_plot.png', show_shapes=True, show_layer_names=True)"
   ]
  },
  {
   "cell_type": "code",
   "execution_count": 21,
   "id": "4hab_JHoopQI",
   "metadata": {
    "colab": {
     "base_uri": "https://localhost:8080/"
    },
    "id": "4hab_JHoopQI",
    "outputId": "6b19004d-2c82-4641-cf5d-b0c8ddc265b0"
   },
   "outputs": [
    {
     "name": "stdout",
     "output_type": "stream",
     "text": [
      "Model: \"model\"\n",
      "_________________________________________________________________\n",
      " Layer (type)                Output Shape              Param #   \n",
      "=================================================================\n",
      " input_1 (InputLayer)        [(None, 9)]               0         \n",
      "                                                                 \n",
      " embedding (Embedding)       (None, 9, 30)             1950      \n",
      "                                                                 \n",
      " lstm (LSTM)                 (None, 9, 35)             9240      \n",
      "                                                                 \n",
      " flatten (Flatten)           (None, 315)               0         \n",
      "                                                                 \n",
      " dense (Dense)               (None, 9)                 2844      \n",
      "                                                                 \n",
      "=================================================================\n",
      "Total params: 14,034\n",
      "Trainable params: 14,034\n",
      "Non-trainable params: 0\n",
      "_________________________________________________________________\n"
     ]
    }
   ],
   "source": [
    "model.summary() # Menampilkan Parameter Model"
   ]
  },
  {
   "cell_type": "code",
   "execution_count": 22,
   "id": "AHtOlCb8kGgZ",
   "metadata": {
    "colab": {
     "base_uri": "https://localhost:8080/"
    },
    "id": "AHtOlCb8kGgZ",
    "outputId": "cc723d9a-389a-4abb-cdd0-877c10f643f2"
   },
   "outputs": [
    {
     "name": "stdout",
     "output_type": "stream",
     "text": [
      "Epoch 1/400\n",
      "2/2 [==============================] - 8s 40ms/step - loss: 2.1981 - accuracy: 0.0476\n",
      "Epoch 2/400\n",
      "2/2 [==============================] - 0s 12ms/step - loss: 2.1814 - accuracy: 0.4286\n",
      "Epoch 3/400\n",
      "2/2 [==============================] - 0s 16ms/step - loss: 2.1648 - accuracy: 0.4048\n",
      "Epoch 4/400\n",
      "2/2 [==============================] - 0s 17ms/step - loss: 2.1456 - accuracy: 0.4048\n",
      "Epoch 5/400\n",
      "2/2 [==============================] - 0s 15ms/step - loss: 2.1249 - accuracy: 0.3810\n",
      "Epoch 6/400\n",
      "2/2 [==============================] - 0s 16ms/step - loss: 2.0975 - accuracy: 0.3810\n",
      "Epoch 7/400\n",
      "2/2 [==============================] - 0s 15ms/step - loss: 2.0681 - accuracy: 0.3810\n",
      "Epoch 8/400\n",
      "2/2 [==============================] - 0s 25ms/step - loss: 2.0306 - accuracy: 0.3810\n",
      "Epoch 9/400\n",
      "2/2 [==============================] - 0s 24ms/step - loss: 1.9918 - accuracy: 0.3810\n",
      "Epoch 10/400\n",
      "2/2 [==============================] - 0s 24ms/step - loss: 1.9401 - accuracy: 0.3810\n",
      "Epoch 11/400\n",
      "2/2 [==============================] - 0s 24ms/step - loss: 1.8759 - accuracy: 0.3810\n",
      "Epoch 12/400\n",
      "2/2 [==============================] - 0s 24ms/step - loss: 1.8133 - accuracy: 0.3810\n",
      "Epoch 13/400\n",
      "2/2 [==============================] - 0s 16ms/step - loss: 1.7415 - accuracy: 0.3810\n",
      "Epoch 14/400\n",
      "2/2 [==============================] - 0s 20ms/step - loss: 1.6725 - accuracy: 0.3810\n",
      "Epoch 15/400\n",
      "2/2 [==============================] - 0s 16ms/step - loss: 1.5981 - accuracy: 0.3810\n",
      "Epoch 16/400\n",
      "2/2 [==============================] - 0s 16ms/step - loss: 1.5635 - accuracy: 0.3810\n",
      "Epoch 17/400\n",
      "2/2 [==============================] - 0s 24ms/step - loss: 1.5624 - accuracy: 0.3810\n",
      "Epoch 18/400\n",
      "2/2 [==============================] - 0s 16ms/step - loss: 1.5585 - accuracy: 0.3810\n",
      "Epoch 19/400\n",
      "2/2 [==============================] - 0s 48ms/step - loss: 1.5588 - accuracy: 0.3810\n",
      "Epoch 20/400\n",
      "2/2 [==============================] - 0s 8ms/step - loss: 1.5477 - accuracy: 0.4048\n",
      "Epoch 21/400\n",
      "2/2 [==============================] - 0s 16ms/step - loss: 1.5320 - accuracy: 0.4048\n",
      "Epoch 22/400\n",
      "2/2 [==============================] - 0s 10ms/step - loss: 1.5163 - accuracy: 0.4048\n",
      "Epoch 23/400\n",
      "2/2 [==============================] - 0s 16ms/step - loss: 1.5059 - accuracy: 0.4048\n",
      "Epoch 24/400\n",
      "2/2 [==============================] - 0s 16ms/step - loss: 1.5001 - accuracy: 0.4048\n",
      "Epoch 25/400\n",
      "2/2 [==============================] - 0s 6ms/step - loss: 1.4902 - accuracy: 0.4048\n",
      "Epoch 26/400\n",
      "2/2 [==============================] - 0s 16ms/step - loss: 1.4831 - accuracy: 0.4048\n",
      "Epoch 27/400\n",
      "2/2 [==============================] - 0s 16ms/step - loss: 1.4757 - accuracy: 0.4048\n",
      "Epoch 28/400\n",
      "2/2 [==============================] - 0s 16ms/step - loss: 1.4671 - accuracy: 0.4286\n",
      "Epoch 29/400\n",
      "2/2 [==============================] - 0s 16ms/step - loss: 1.4580 - accuracy: 0.4286\n",
      "Epoch 30/400\n",
      "2/2 [==============================] - 0s 16ms/step - loss: 1.4480 - accuracy: 0.4286\n",
      "Epoch 31/400\n",
      "2/2 [==============================] - 0s 16ms/step - loss: 1.4375 - accuracy: 0.4286\n",
      "Epoch 32/400\n",
      "2/2 [==============================] - 0s 19ms/step - loss: 1.4272 - accuracy: 0.4286\n",
      "Epoch 33/400\n",
      "2/2 [==============================] - 0s 24ms/step - loss: 1.4148 - accuracy: 0.4286\n",
      "Epoch 34/400\n",
      "2/2 [==============================] - 0s 24ms/step - loss: 1.4037 - accuracy: 0.4286\n",
      "Epoch 35/400\n",
      "2/2 [==============================] - 0s 32ms/step - loss: 1.3922 - accuracy: 0.4286\n",
      "Epoch 36/400\n",
      "2/2 [==============================] - 0s 16ms/step - loss: 1.3811 - accuracy: 0.4524\n",
      "Epoch 37/400\n",
      "2/2 [==============================] - 0s 24ms/step - loss: 1.3697 - accuracy: 0.4524\n",
      "Epoch 38/400\n",
      "2/2 [==============================] - 0s 32ms/step - loss: 1.3574 - accuracy: 0.4524\n",
      "Epoch 39/400\n",
      "2/2 [==============================] - 0s 13ms/step - loss: 1.3442 - accuracy: 0.4524\n",
      "Epoch 40/400\n",
      "2/2 [==============================] - 0s 14ms/step - loss: 1.3304 - accuracy: 0.4524\n",
      "Epoch 41/400\n",
      "2/2 [==============================] - 0s 16ms/step - loss: 1.3168 - accuracy: 0.4524\n",
      "Epoch 42/400\n",
      "2/2 [==============================] - 0s 16ms/step - loss: 1.3028 - accuracy: 0.4524\n",
      "Epoch 43/400\n",
      "2/2 [==============================] - 0s 16ms/step - loss: 1.2875 - accuracy: 0.4524\n",
      "Epoch 44/400\n",
      "2/2 [==============================] - 0s 16ms/step - loss: 1.2723 - accuracy: 0.4524\n",
      "Epoch 45/400\n",
      "2/2 [==============================] - 0s 8ms/step - loss: 1.2577 - accuracy: 0.4524\n",
      "Epoch 46/400\n",
      "2/2 [==============================] - 0s 16ms/step - loss: 1.2427 - accuracy: 0.4524\n",
      "Epoch 47/400\n",
      "2/2 [==============================] - 0s 20ms/step - loss: 1.2271 - accuracy: 0.4524\n",
      "Epoch 48/400\n",
      "2/2 [==============================] - 0s 16ms/step - loss: 1.2118 - accuracy: 0.4524\n",
      "Epoch 49/400\n",
      "2/2 [==============================] - 0s 16ms/step - loss: 1.1990 - accuracy: 0.4524\n",
      "Epoch 50/400\n",
      "2/2 [==============================] - 0s 8ms/step - loss: 1.1825 - accuracy: 0.4524\n",
      "Epoch 51/400\n",
      "2/2 [==============================] - 0s 16ms/step - loss: 1.1644 - accuracy: 0.4524\n",
      "Epoch 52/400\n",
      "2/2 [==============================] - 0s 15ms/step - loss: 1.1477 - accuracy: 0.4762\n",
      "Epoch 53/400\n",
      "2/2 [==============================] - 0s 16ms/step - loss: 1.1299 - accuracy: 0.4762\n",
      "Epoch 54/400\n",
      "2/2 [==============================] - 0s 9ms/step - loss: 1.1123 - accuracy: 0.5000\n",
      "Epoch 55/400\n",
      "2/2 [==============================] - 0s 9ms/step - loss: 1.0978 - accuracy: 0.5000\n",
      "Epoch 56/400\n",
      "2/2 [==============================] - 0s 9ms/step - loss: 1.0780 - accuracy: 0.5000\n",
      "Epoch 57/400\n",
      "2/2 [==============================] - 0s 8ms/step - loss: 1.0599 - accuracy: 0.5000\n",
      "Epoch 58/400\n",
      "2/2 [==============================] - 0s 8ms/step - loss: 1.0416 - accuracy: 0.5000\n",
      "Epoch 59/400\n",
      "2/2 [==============================] - 0s 16ms/step - loss: 1.0221 - accuracy: 0.5952\n",
      "Epoch 60/400\n",
      "2/2 [==============================] - 0s 24ms/step - loss: 1.0054 - accuracy: 0.5952\n",
      "Epoch 61/400\n",
      "2/2 [==============================] - 0s 24ms/step - loss: 0.9889 - accuracy: 0.6667\n",
      "Epoch 62/400\n",
      "2/2 [==============================] - 0s 23ms/step - loss: 0.9684 - accuracy: 0.7381\n",
      "Epoch 63/400\n",
      "2/2 [==============================] - 0s 16ms/step - loss: 0.9502 - accuracy: 0.5952\n",
      "Epoch 64/400\n",
      "2/2 [==============================] - 0s 27ms/step - loss: 0.9280 - accuracy: 0.6190\n",
      "Epoch 65/400\n",
      "2/2 [==============================] - 0s 24ms/step - loss: 0.9089 - accuracy: 0.6429\n",
      "Epoch 66/400\n",
      "2/2 [==============================] - 0s 16ms/step - loss: 0.8858 - accuracy: 0.6429\n",
      "Epoch 67/400\n",
      "2/2 [==============================] - 0s 16ms/step - loss: 0.8660 - accuracy: 0.6667\n",
      "Epoch 68/400\n",
      "2/2 [==============================] - 0s 17ms/step - loss: 0.8419 - accuracy: 0.6667\n",
      "Epoch 69/400\n",
      "2/2 [==============================] - 0s 16ms/step - loss: 0.8179 - accuracy: 0.7619\n",
      "Epoch 70/400\n",
      "2/2 [==============================] - 0s 16ms/step - loss: 0.7923 - accuracy: 0.8333\n",
      "Epoch 71/400\n",
      "2/2 [==============================] - 0s 16ms/step - loss: 0.7672 - accuracy: 0.8333\n",
      "Epoch 72/400\n",
      "2/2 [==============================] - 0s 26ms/step - loss: 0.7500 - accuracy: 0.8095\n",
      "Epoch 73/400\n",
      "2/2 [==============================] - 0s 6ms/step - loss: 0.7233 - accuracy: 0.8095\n",
      "Epoch 74/400\n",
      "2/2 [==============================] - 0s 8ms/step - loss: 0.6974 - accuracy: 0.8333\n",
      "Epoch 75/400\n",
      "2/2 [==============================] - 0s 16ms/step - loss: 0.6789 - accuracy: 0.8333\n",
      "Epoch 76/400\n",
      "2/2 [==============================] - 0s 21ms/step - loss: 0.6583 - accuracy: 0.8095\n",
      "Epoch 77/400\n",
      "2/2 [==============================] - 0s 16ms/step - loss: 0.6317 - accuracy: 0.8333\n",
      "Epoch 78/400\n",
      "2/2 [==============================] - 0s 16ms/step - loss: 0.6074 - accuracy: 0.8333\n",
      "Epoch 79/400\n",
      "2/2 [==============================] - 0s 16ms/step - loss: 0.5813 - accuracy: 0.8333\n",
      "Epoch 80/400\n",
      "2/2 [==============================] - 0s 8ms/step - loss: 0.5578 - accuracy: 0.8333\n",
      "Epoch 81/400\n",
      "2/2 [==============================] - 0s 16ms/step - loss: 0.5430 - accuracy: 0.8333\n",
      "Epoch 82/400\n",
      "2/2 [==============================] - 0s 0s/step - loss: 0.5233 - accuracy: 0.8333\n",
      "Epoch 83/400\n",
      "2/2 [==============================] - 0s 16ms/step - loss: 0.5053 - accuracy: 0.8571\n"
     ]
    },
    {
     "name": "stdout",
     "output_type": "stream",
     "text": [
      "Epoch 84/400\n",
      "2/2 [==============================] - 0s 16ms/step - loss: 0.4833 - accuracy: 0.8810\n",
      "Epoch 85/400\n",
      "2/2 [==============================] - 0s 8ms/step - loss: 0.4655 - accuracy: 0.8810\n",
      "Epoch 86/400\n",
      "2/2 [==============================] - 0s 16ms/step - loss: 0.4618 - accuracy: 0.9048\n",
      "Epoch 87/400\n",
      "2/2 [==============================] - 0s 16ms/step - loss: 0.4499 - accuracy: 0.9048\n",
      "Epoch 88/400\n",
      "2/2 [==============================] - 0s 8ms/step - loss: 0.4149 - accuracy: 0.9286\n",
      "Epoch 89/400\n",
      "2/2 [==============================] - 0s 16ms/step - loss: 0.4008 - accuracy: 0.9048\n",
      "Epoch 90/400\n",
      "2/2 [==============================] - 0s 16ms/step - loss: 0.3985 - accuracy: 0.9286\n",
      "Epoch 91/400\n",
      "2/2 [==============================] - 0s 16ms/step - loss: 0.3785 - accuracy: 0.9286\n",
      "Epoch 92/400\n",
      "2/2 [==============================] - 0s 16ms/step - loss: 0.3542 - accuracy: 0.9286\n",
      "Epoch 93/400\n",
      "2/2 [==============================] - 0s 24ms/step - loss: 0.3421 - accuracy: 0.9524\n",
      "Epoch 94/400\n",
      "2/2 [==============================] - 0s 12ms/step - loss: 0.3382 - accuracy: 0.9286\n",
      "Epoch 95/400\n",
      "2/2 [==============================] - 0s 16ms/step - loss: 0.3283 - accuracy: 0.9286\n",
      "Epoch 96/400\n",
      "2/2 [==============================] - 0s 16ms/step - loss: 0.3119 - accuracy: 0.9524\n",
      "Epoch 97/400\n",
      "2/2 [==============================] - 0s 16ms/step - loss: 0.2931 - accuracy: 0.9524\n",
      "Epoch 98/400\n",
      "2/2 [==============================] - 0s 14ms/step - loss: 0.2893 - accuracy: 0.9524\n",
      "Epoch 99/400\n",
      "2/2 [==============================] - 0s 0s/step - loss: 0.2724 - accuracy: 0.9524\n",
      "Epoch 100/400\n",
      "2/2 [==============================] - 0s 16ms/step - loss: 0.2624 - accuracy: 0.9762\n",
      "Epoch 101/400\n",
      "2/2 [==============================] - 0s 24ms/step - loss: 0.2594 - accuracy: 0.9762\n",
      "Epoch 102/400\n",
      "2/2 [==============================] - 0s 0s/step - loss: 0.2435 - accuracy: 0.9762\n",
      "Epoch 103/400\n",
      "2/2 [==============================] - 0s 16ms/step - loss: 0.2342 - accuracy: 0.9762\n",
      "Epoch 104/400\n",
      "2/2 [==============================] - 0s 16ms/step - loss: 0.2271 - accuracy: 1.0000\n",
      "Epoch 105/400\n",
      "2/2 [==============================] - 0s 16ms/step - loss: 0.2171 - accuracy: 1.0000\n",
      "Epoch 106/400\n",
      "2/2 [==============================] - 0s 16ms/step - loss: 0.2067 - accuracy: 1.0000\n",
      "Epoch 107/400\n",
      "2/2 [==============================] - 0s 11ms/step - loss: 0.2029 - accuracy: 1.0000\n",
      "Epoch 108/400\n",
      "2/2 [==============================] - 0s 31ms/step - loss: 0.2007 - accuracy: 1.0000\n",
      "Epoch 109/400\n",
      "2/2 [==============================] - 0s 16ms/step - loss: 0.1889 - accuracy: 1.0000\n",
      "Epoch 110/400\n",
      "2/2 [==============================] - 0s 16ms/step - loss: 0.1764 - accuracy: 1.0000\n",
      "Epoch 111/400\n",
      "2/2 [==============================] - 0s 15ms/step - loss: 0.1747 - accuracy: 1.0000\n",
      "Epoch 112/400\n",
      "2/2 [==============================] - 0s 15ms/step - loss: 0.1693 - accuracy: 1.0000\n",
      "Epoch 113/400\n",
      "2/2 [==============================] - 0s 0s/step - loss: 0.1598 - accuracy: 1.0000\n",
      "Epoch 114/400\n",
      "2/2 [==============================] - 0s 12ms/step - loss: 0.1552 - accuracy: 1.0000\n",
      "Epoch 115/400\n",
      "2/2 [==============================] - 0s 15ms/step - loss: 0.1537 - accuracy: 1.0000\n",
      "Epoch 116/400\n",
      "2/2 [==============================] - 0s 16ms/step - loss: 0.1455 - accuracy: 1.0000\n",
      "Epoch 117/400\n",
      "2/2 [==============================] - 0s 17ms/step - loss: 0.1368 - accuracy: 1.0000\n",
      "Epoch 118/400\n",
      "2/2 [==============================] - 0s 15ms/step - loss: 0.1363 - accuracy: 1.0000\n",
      "Epoch 119/400\n",
      "2/2 [==============================] - 0s 23ms/step - loss: 0.1341 - accuracy: 1.0000\n",
      "Epoch 120/400\n",
      "2/2 [==============================] - 0s 28ms/step - loss: 0.1269 - accuracy: 1.0000\n",
      "Epoch 121/400\n",
      "2/2 [==============================] - 0s 31ms/step - loss: 0.1192 - accuracy: 1.0000\n",
      "Epoch 122/400\n",
      "2/2 [==============================] - 0s 16ms/step - loss: 0.1147 - accuracy: 1.0000\n",
      "Epoch 123/400\n",
      "2/2 [==============================] - 0s 14ms/step - loss: 0.1118 - accuracy: 1.0000\n",
      "Epoch 124/400\n",
      "2/2 [==============================] - 0s 15ms/step - loss: 0.1086 - accuracy: 1.0000\n",
      "Epoch 125/400\n",
      "2/2 [==============================] - 0s 31ms/step - loss: 0.1046 - accuracy: 1.0000\n",
      "Epoch 126/400\n",
      "2/2 [==============================] - 0s 22ms/step - loss: 0.1017 - accuracy: 1.0000\n",
      "Epoch 127/400\n",
      "2/2 [==============================] - 0s 16ms/step - loss: 0.1007 - accuracy: 1.0000\n",
      "Epoch 128/400\n",
      "2/2 [==============================] - 0s 16ms/step - loss: 0.0966 - accuracy: 1.0000\n",
      "Epoch 129/400\n",
      "2/2 [==============================] - 0s 16ms/step - loss: 0.0925 - accuracy: 1.0000\n",
      "Epoch 130/400\n",
      "2/2 [==============================] - 0s 16ms/step - loss: 0.0887 - accuracy: 1.0000\n",
      "Epoch 131/400\n",
      "2/2 [==============================] - 0s 16ms/step - loss: 0.0861 - accuracy: 1.0000\n",
      "Epoch 132/400\n",
      "2/2 [==============================] - 0s 29ms/step - loss: 0.0848 - accuracy: 1.0000\n",
      "Epoch 133/400\n",
      "2/2 [==============================] - 0s 16ms/step - loss: 0.0826 - accuracy: 1.0000\n",
      "Epoch 134/400\n",
      "2/2 [==============================] - 0s 16ms/step - loss: 0.0805 - accuracy: 1.0000\n",
      "Epoch 135/400\n",
      "2/2 [==============================] - 0s 16ms/step - loss: 0.0775 - accuracy: 1.0000\n",
      "Epoch 136/400\n",
      "2/2 [==============================] - 0s 16ms/step - loss: 0.0750 - accuracy: 1.0000\n",
      "Epoch 137/400\n",
      "2/2 [==============================] - 0s 16ms/step - loss: 0.0723 - accuracy: 1.0000\n",
      "Epoch 138/400\n",
      "2/2 [==============================] - 0s 14ms/step - loss: 0.0704 - accuracy: 1.0000\n",
      "Epoch 139/400\n",
      "2/2 [==============================] - 0s 16ms/step - loss: 0.0686 - accuracy: 1.0000\n",
      "Epoch 140/400\n",
      "2/2 [==============================] - 0s 31ms/step - loss: 0.0666 - accuracy: 1.0000\n",
      "Epoch 141/400\n",
      "2/2 [==============================] - 0s 16ms/step - loss: 0.0644 - accuracy: 1.0000\n",
      "Epoch 142/400\n",
      "2/2 [==============================] - 0s 33ms/step - loss: 0.0624 - accuracy: 1.0000\n",
      "Epoch 143/400\n",
      "2/2 [==============================] - 0s 31ms/step - loss: 0.0604 - accuracy: 1.0000\n",
      "Epoch 144/400\n",
      "2/2 [==============================] - 0s 15ms/step - loss: 0.0589 - accuracy: 1.0000\n",
      "Epoch 145/400\n",
      "2/2 [==============================] - 0s 16ms/step - loss: 0.0573 - accuracy: 1.0000\n",
      "Epoch 146/400\n",
      "2/2 [==============================] - 0s 16ms/step - loss: 0.0560 - accuracy: 1.0000\n",
      "Epoch 147/400\n",
      "2/2 [==============================] - 0s 31ms/step - loss: 0.0541 - accuracy: 1.0000\n",
      "Epoch 148/400\n",
      "2/2 [==============================] - 0s 16ms/step - loss: 0.0531 - accuracy: 1.0000\n",
      "Epoch 149/400\n",
      "2/2 [==============================] - 0s 18ms/step - loss: 0.0519 - accuracy: 1.0000\n",
      "Epoch 150/400\n",
      "2/2 [==============================] - 0s 16ms/step - loss: 0.0505 - accuracy: 1.0000\n",
      "Epoch 151/400\n",
      "2/2 [==============================] - 0s 16ms/step - loss: 0.0493 - accuracy: 1.0000\n",
      "Epoch 152/400\n",
      "2/2 [==============================] - 0s 16ms/step - loss: 0.0484 - accuracy: 1.0000\n",
      "Epoch 153/400\n",
      "2/2 [==============================] - 0s 16ms/step - loss: 0.0472 - accuracy: 1.0000\n",
      "Epoch 154/400\n",
      "2/2 [==============================] - 0s 15ms/step - loss: 0.0460 - accuracy: 1.0000\n",
      "Epoch 155/400\n",
      "2/2 [==============================] - 0s 16ms/step - loss: 0.0445 - accuracy: 1.0000\n",
      "Epoch 156/400\n",
      "2/2 [==============================] - 0s 0s/step - loss: 0.0431 - accuracy: 1.0000\n",
      "Epoch 157/400\n",
      "2/2 [==============================] - 0s 16ms/step - loss: 0.0418 - accuracy: 1.0000\n",
      "Epoch 158/400\n",
      "2/2 [==============================] - 0s 18ms/step - loss: 0.0408 - accuracy: 1.0000\n",
      "Epoch 159/400\n",
      "2/2 [==============================] - 0s 18ms/step - loss: 0.0396 - accuracy: 1.0000\n",
      "Epoch 160/400\n",
      "2/2 [==============================] - 0s 28ms/step - loss: 0.0389 - accuracy: 1.0000\n",
      "Epoch 161/400\n",
      "2/2 [==============================] - 0s 32ms/step - loss: 0.0382 - accuracy: 1.0000\n",
      "Epoch 162/400\n",
      "2/2 [==============================] - 0s 14ms/step - loss: 0.0372 - accuracy: 1.0000\n",
      "Epoch 163/400\n",
      "2/2 [==============================] - 0s 18ms/step - loss: 0.0364 - accuracy: 1.0000\n",
      "Epoch 164/400\n",
      "2/2 [==============================] - 0s 31ms/step - loss: 0.0356 - accuracy: 1.0000\n",
      "Epoch 165/400\n",
      "2/2 [==============================] - 0s 16ms/step - loss: 0.0347 - accuracy: 1.0000\n",
      "Epoch 166/400\n"
     ]
    },
    {
     "name": "stdout",
     "output_type": "stream",
     "text": [
      "2/2 [==============================] - 0s 17ms/step - loss: 0.0339 - accuracy: 1.0000\n",
      "Epoch 167/400\n",
      "2/2 [==============================] - 0s 16ms/step - loss: 0.0331 - accuracy: 1.0000\n",
      "Epoch 168/400\n",
      "2/2 [==============================] - 0s 16ms/step - loss: 0.0325 - accuracy: 1.0000\n",
      "Epoch 169/400\n",
      "2/2 [==============================] - 0s 31ms/step - loss: 0.0319 - accuracy: 1.0000\n",
      "Epoch 170/400\n",
      "2/2 [==============================] - 0s 16ms/step - loss: 0.0313 - accuracy: 1.0000\n",
      "Epoch 171/400\n",
      "2/2 [==============================] - 0s 8ms/step - loss: 0.0306 - accuracy: 1.0000\n",
      "Epoch 172/400\n",
      "2/2 [==============================] - 0s 16ms/step - loss: 0.0300 - accuracy: 1.0000\n",
      "Epoch 173/400\n",
      "2/2 [==============================] - 0s 16ms/step - loss: 0.0294 - accuracy: 1.0000\n",
      "Epoch 174/400\n",
      "2/2 [==============================] - 0s 16ms/step - loss: 0.0288 - accuracy: 1.0000\n",
      "Epoch 175/400\n",
      "2/2 [==============================] - 0s 16ms/step - loss: 0.0283 - accuracy: 1.0000\n",
      "Epoch 176/400\n",
      "2/2 [==============================] - 0s 20ms/step - loss: 0.0279 - accuracy: 1.0000\n",
      "Epoch 177/400\n",
      "2/2 [==============================] - 0s 0s/step - loss: 0.0274 - accuracy: 1.0000\n",
      "Epoch 178/400\n",
      "2/2 [==============================] - 0s 16ms/step - loss: 0.0269 - accuracy: 1.0000\n",
      "Epoch 179/400\n",
      "2/2 [==============================] - 0s 21ms/step - loss: 0.0264 - accuracy: 1.0000\n",
      "Epoch 180/400\n",
      "2/2 [==============================] - 0s 16ms/step - loss: 0.0260 - accuracy: 1.0000\n",
      "Epoch 181/400\n",
      "2/2 [==============================] - 0s 16ms/step - loss: 0.0255 - accuracy: 1.0000\n",
      "Epoch 182/400\n",
      "2/2 [==============================] - 0s 19ms/step - loss: 0.0250 - accuracy: 1.0000\n",
      "Epoch 183/400\n",
      "2/2 [==============================] - 0s 16ms/step - loss: 0.0246 - accuracy: 1.0000\n",
      "Epoch 184/400\n",
      "2/2 [==============================] - 0s 22ms/step - loss: 0.0243 - accuracy: 1.0000\n",
      "Epoch 185/400\n",
      "2/2 [==============================] - 0s 31ms/step - loss: 0.0240 - accuracy: 1.0000\n",
      "Epoch 186/400\n",
      "2/2 [==============================] - 0s 16ms/step - loss: 0.0237 - accuracy: 1.0000\n",
      "Epoch 187/400\n",
      "2/2 [==============================] - 0s 0s/step - loss: 0.0233 - accuracy: 1.0000\n",
      "Epoch 188/400\n",
      "2/2 [==============================] - 0s 16ms/step - loss: 0.0229 - accuracy: 1.0000\n",
      "Epoch 189/400\n",
      "2/2 [==============================] - 0s 19ms/step - loss: 0.0225 - accuracy: 1.0000\n",
      "Epoch 190/400\n",
      "2/2 [==============================] - 0s 16ms/step - loss: 0.0222 - accuracy: 1.0000\n",
      "Epoch 191/400\n",
      "2/2 [==============================] - 0s 14ms/step - loss: 0.0219 - accuracy: 1.0000\n",
      "Epoch 192/400\n",
      "2/2 [==============================] - 0s 7ms/step - loss: 0.0215 - accuracy: 1.0000\n",
      "Epoch 193/400\n",
      "2/2 [==============================] - 0s 16ms/step - loss: 0.0211 - accuracy: 1.0000\n",
      "Epoch 194/400\n",
      "2/2 [==============================] - 0s 16ms/step - loss: 0.0208 - accuracy: 1.0000\n",
      "Epoch 195/400\n",
      "2/2 [==============================] - 0s 16ms/step - loss: 0.0204 - accuracy: 1.0000\n",
      "Epoch 196/400\n",
      "2/2 [==============================] - 0s 16ms/step - loss: 0.0201 - accuracy: 1.0000\n",
      "Epoch 197/400\n",
      "2/2 [==============================] - 0s 21ms/step - loss: 0.0199 - accuracy: 1.0000\n",
      "Epoch 198/400\n",
      "2/2 [==============================] - 0s 16ms/step - loss: 0.0196 - accuracy: 1.0000\n",
      "Epoch 199/400\n",
      "2/2 [==============================] - 0s 18ms/step - loss: 0.0193 - accuracy: 1.0000\n",
      "Epoch 200/400\n",
      "2/2 [==============================] - 0s 16ms/step - loss: 0.0190 - accuracy: 1.0000\n",
      "Epoch 201/400\n",
      "2/2 [==============================] - 0s 16ms/step - loss: 0.0187 - accuracy: 1.0000\n",
      "Epoch 202/400\n",
      "2/2 [==============================] - 0s 16ms/step - loss: 0.0184 - accuracy: 1.0000\n",
      "Epoch 203/400\n",
      "2/2 [==============================] - 0s 14ms/step - loss: 0.0181 - accuracy: 1.0000\n",
      "Epoch 204/400\n",
      "2/2 [==============================] - 0s 16ms/step - loss: 0.0179 - accuracy: 1.0000\n",
      "Epoch 205/400\n",
      "2/2 [==============================] - 0s 14ms/step - loss: 0.0177 - accuracy: 1.0000\n",
      "Epoch 206/400\n",
      "2/2 [==============================] - 0s 16ms/step - loss: 0.0175 - accuracy: 1.0000\n",
      "Epoch 207/400\n",
      "2/2 [==============================] - 0s 16ms/step - loss: 0.0172 - accuracy: 1.0000\n",
      "Epoch 208/400\n",
      "2/2 [==============================] - 0s 16ms/step - loss: 0.0170 - accuracy: 1.0000\n",
      "Epoch 209/400\n",
      "2/2 [==============================] - 0s 16ms/step - loss: 0.0168 - accuracy: 1.0000\n",
      "Epoch 210/400\n",
      "2/2 [==============================] - 0s 12ms/step - loss: 0.0165 - accuracy: 1.0000\n",
      "Epoch 211/400\n",
      "2/2 [==============================] - 0s 16ms/step - loss: 0.0163 - accuracy: 1.0000\n",
      "Epoch 212/400\n",
      "2/2 [==============================] - 0s 16ms/step - loss: 0.0161 - accuracy: 1.0000\n",
      "Epoch 213/400\n",
      "2/2 [==============================] - 0s 16ms/step - loss: 0.0159 - accuracy: 1.0000\n",
      "Epoch 214/400\n",
      "2/2 [==============================] - 0s 16ms/step - loss: 0.0157 - accuracy: 1.0000\n",
      "Epoch 215/400\n",
      "2/2 [==============================] - 0s 16ms/step - loss: 0.0155 - accuracy: 1.0000\n",
      "Epoch 216/400\n",
      "2/2 [==============================] - 0s 16ms/step - loss: 0.0153 - accuracy: 1.0000\n",
      "Epoch 217/400\n",
      "2/2 [==============================] - 0s 16ms/step - loss: 0.0151 - accuracy: 1.0000\n",
      "Epoch 218/400\n",
      "2/2 [==============================] - 0s 16ms/step - loss: 0.0149 - accuracy: 1.0000\n",
      "Epoch 219/400\n",
      "2/2 [==============================] - 0s 16ms/step - loss: 0.0147 - accuracy: 1.0000\n",
      "Epoch 220/400\n",
      "2/2 [==============================] - 0s 16ms/step - loss: 0.0145 - accuracy: 1.0000\n",
      "Epoch 221/400\n",
      "2/2 [==============================] - 0s 4ms/step - loss: 0.0144 - accuracy: 1.0000\n",
      "Epoch 222/400\n",
      "2/2 [==============================] - 0s 16ms/step - loss: 0.0142 - accuracy: 1.0000\n",
      "Epoch 223/400\n",
      "2/2 [==============================] - 0s 16ms/step - loss: 0.0140 - accuracy: 1.0000\n",
      "Epoch 224/400\n",
      "2/2 [==============================] - 0s 31ms/step - loss: 0.0139 - accuracy: 1.0000\n",
      "Epoch 225/400\n",
      "2/2 [==============================] - 0s 31ms/step - loss: 0.0137 - accuracy: 1.0000\n",
      "Epoch 226/400\n",
      "2/2 [==============================] - 0s 31ms/step - loss: 0.0136 - accuracy: 1.0000\n",
      "Epoch 227/400\n",
      "2/2 [==============================] - 0s 32ms/step - loss: 0.0134 - accuracy: 1.0000\n",
      "Epoch 228/400\n",
      "2/2 [==============================] - 0s 16ms/step - loss: 0.0133 - accuracy: 1.0000\n",
      "Epoch 229/400\n",
      "2/2 [==============================] - 0s 16ms/step - loss: 0.0131 - accuracy: 1.0000\n",
      "Epoch 230/400\n",
      "2/2 [==============================] - 0s 31ms/step - loss: 0.0130 - accuracy: 1.0000\n",
      "Epoch 231/400\n",
      "2/2 [==============================] - 0s 32ms/step - loss: 0.0128 - accuracy: 1.0000\n",
      "Epoch 232/400\n",
      "2/2 [==============================] - 0s 16ms/step - loss: 0.0126 - accuracy: 1.0000\n",
      "Epoch 233/400\n",
      "2/2 [==============================] - 0s 16ms/step - loss: 0.0125 - accuracy: 1.0000\n",
      "Epoch 234/400\n",
      "2/2 [==============================] - 0s 17ms/step - loss: 0.0124 - accuracy: 1.0000\n",
      "Epoch 235/400\n",
      "2/2 [==============================] - 0s 16ms/step - loss: 0.0123 - accuracy: 1.0000\n",
      "Epoch 236/400\n",
      "2/2 [==============================] - 0s 16ms/step - loss: 0.0122 - accuracy: 1.0000\n",
      "Epoch 237/400\n",
      "2/2 [==============================] - 0s 16ms/step - loss: 0.0121 - accuracy: 1.0000\n",
      "Epoch 238/400\n",
      "2/2 [==============================] - 0s 16ms/step - loss: 0.0120 - accuracy: 1.0000\n",
      "Epoch 239/400\n",
      "2/2 [==============================] - 0s 16ms/step - loss: 0.0119 - accuracy: 1.0000\n",
      "Epoch 240/400\n",
      "2/2 [==============================] - 0s 16ms/step - loss: 0.0117 - accuracy: 1.0000\n",
      "Epoch 241/400\n",
      "2/2 [==============================] - 0s 16ms/step - loss: 0.0116 - accuracy: 1.0000\n",
      "Epoch 242/400\n",
      "2/2 [==============================] - 0s 19ms/step - loss: 0.0114 - accuracy: 1.0000\n",
      "Epoch 243/400\n",
      "2/2 [==============================] - 0s 16ms/step - loss: 0.0113 - accuracy: 1.0000\n",
      "Epoch 244/400\n",
      "2/2 [==============================] - 0s 16ms/step - loss: 0.0112 - accuracy: 1.0000\n",
      "Epoch 245/400\n",
      "2/2 [==============================] - 0s 25ms/step - loss: 0.0111 - accuracy: 1.0000\n",
      "Epoch 246/400\n",
      "2/2 [==============================] - 0s 16ms/step - loss: 0.0110 - accuracy: 1.0000\n",
      "Epoch 247/400\n",
      "2/2 [==============================] - 0s 16ms/step - loss: 0.0109 - accuracy: 1.0000\n",
      "Epoch 248/400\n"
     ]
    },
    {
     "name": "stdout",
     "output_type": "stream",
     "text": [
      "2/2 [==============================] - 0s 31ms/step - loss: 0.0108 - accuracy: 1.0000\n",
      "Epoch 249/400\n",
      "2/2 [==============================] - 0s 16ms/step - loss: 0.0107 - accuracy: 1.0000\n",
      "Epoch 250/400\n",
      "2/2 [==============================] - 0s 22ms/step - loss: 0.0106 - accuracy: 1.0000\n",
      "Epoch 251/400\n",
      "2/2 [==============================] - 0s 20ms/step - loss: 0.0105 - accuracy: 1.0000\n",
      "Epoch 252/400\n",
      "2/2 [==============================] - 0s 16ms/step - loss: 0.0104 - accuracy: 1.0000\n",
      "Epoch 253/400\n",
      "2/2 [==============================] - 0s 16ms/step - loss: 0.0103 - accuracy: 1.0000\n",
      "Epoch 254/400\n",
      "2/2 [==============================] - 0s 0s/step - loss: 0.0102 - accuracy: 1.0000\n",
      "Epoch 255/400\n",
      "2/2 [==============================] - 0s 16ms/step - loss: 0.0101 - accuracy: 1.0000\n",
      "Epoch 256/400\n",
      "2/2 [==============================] - 0s 18ms/step - loss: 0.0100 - accuracy: 1.0000\n",
      "Epoch 257/400\n",
      "2/2 [==============================] - 0s 16ms/step - loss: 0.0099 - accuracy: 1.0000\n",
      "Epoch 258/400\n",
      "2/2 [==============================] - 0s 40ms/step - loss: 0.0098 - accuracy: 1.0000\n",
      "Epoch 259/400\n",
      "2/2 [==============================] - 0s 31ms/step - loss: 0.0097 - accuracy: 1.0000\n",
      "Epoch 260/400\n",
      "2/2 [==============================] - 0s 16ms/step - loss: 0.0096 - accuracy: 1.0000\n",
      "Epoch 261/400\n",
      "2/2 [==============================] - 0s 16ms/step - loss: 0.0095 - accuracy: 1.0000\n",
      "Epoch 262/400\n",
      "2/2 [==============================] - 0s 0s/step - loss: 0.0094 - accuracy: 1.0000\n",
      "Epoch 263/400\n",
      "2/2 [==============================] - 0s 16ms/step - loss: 0.0093 - accuracy: 1.0000\n",
      "Epoch 264/400\n",
      "2/2 [==============================] - 0s 16ms/step - loss: 0.0093 - accuracy: 1.0000\n",
      "Epoch 265/400\n",
      "2/2 [==============================] - 0s 16ms/step - loss: 0.0092 - accuracy: 1.0000\n",
      "Epoch 266/400\n",
      "2/2 [==============================] - 0s 16ms/step - loss: 0.0091 - accuracy: 1.0000\n",
      "Epoch 267/400\n",
      "2/2 [==============================] - 0s 16ms/step - loss: 0.0090 - accuracy: 1.0000\n",
      "Epoch 268/400\n",
      "2/2 [==============================] - 0s 16ms/step - loss: 0.0089 - accuracy: 1.0000\n",
      "Epoch 269/400\n",
      "2/2 [==============================] - 0s 15ms/step - loss: 0.0089 - accuracy: 1.0000\n",
      "Epoch 270/400\n",
      "2/2 [==============================] - 0s 16ms/step - loss: 0.0088 - accuracy: 1.0000\n",
      "Epoch 271/400\n",
      "2/2 [==============================] - 0s 16ms/step - loss: 0.0087 - accuracy: 1.0000\n",
      "Epoch 272/400\n",
      "2/2 [==============================] - 0s 9ms/step - loss: 0.0086 - accuracy: 1.0000\n",
      "Epoch 273/400\n",
      "2/2 [==============================] - 0s 16ms/step - loss: 0.0085 - accuracy: 1.0000\n",
      "Epoch 274/400\n",
      "2/2 [==============================] - 0s 32ms/step - loss: 0.0085 - accuracy: 1.0000\n",
      "Epoch 275/400\n",
      "2/2 [==============================] - 0s 16ms/step - loss: 0.0084 - accuracy: 1.0000\n",
      "Epoch 276/400\n",
      "2/2 [==============================] - 0s 16ms/step - loss: 0.0083 - accuracy: 1.0000\n",
      "Epoch 277/400\n",
      "2/2 [==============================] - 0s 20ms/step - loss: 0.0082 - accuracy: 1.0000\n",
      "Epoch 278/400\n",
      "2/2 [==============================] - 0s 16ms/step - loss: 0.0082 - accuracy: 1.0000\n",
      "Epoch 279/400\n",
      "2/2 [==============================] - 0s 16ms/step - loss: 0.0081 - accuracy: 1.0000\n",
      "Epoch 280/400\n",
      "2/2 [==============================] - 0s 31ms/step - loss: 0.0081 - accuracy: 1.0000\n",
      "Epoch 281/400\n",
      "2/2 [==============================] - 0s 31ms/step - loss: 0.0080 - accuracy: 1.0000\n",
      "Epoch 282/400\n",
      "2/2 [==============================] - 0s 31ms/step - loss: 0.0079 - accuracy: 1.0000\n",
      "Epoch 283/400\n",
      "2/2 [==============================] - 0s 16ms/step - loss: 0.0079 - accuracy: 1.0000\n",
      "Epoch 284/400\n",
      "2/2 [==============================] - 0s 31ms/step - loss: 0.0078 - accuracy: 1.0000\n",
      "Epoch 285/400\n",
      "2/2 [==============================] - 0s 15ms/step - loss: 0.0077 - accuracy: 1.0000\n",
      "Epoch 286/400\n",
      "2/2 [==============================] - 0s 16ms/step - loss: 0.0077 - accuracy: 1.0000\n",
      "Epoch 287/400\n",
      "2/2 [==============================] - 0s 31ms/step - loss: 0.0076 - accuracy: 1.0000\n",
      "Epoch 288/400\n",
      "2/2 [==============================] - 0s 16ms/step - loss: 0.0076 - accuracy: 1.0000\n",
      "Epoch 289/400\n",
      "2/2 [==============================] - 0s 13ms/step - loss: 0.0075 - accuracy: 1.0000\n",
      "Epoch 290/400\n",
      "2/2 [==============================] - 0s 16ms/step - loss: 0.0074 - accuracy: 1.0000\n",
      "Epoch 291/400\n",
      "2/2 [==============================] - 0s 0s/step - loss: 0.0074 - accuracy: 1.0000\n",
      "Epoch 292/400\n",
      "2/2 [==============================] - 0s 0s/step - loss: 0.0073 - accuracy: 1.0000\n",
      "Epoch 293/400\n",
      "2/2 [==============================] - 0s 0s/step - loss: 0.0073 - accuracy: 1.0000\n",
      "Epoch 294/400\n",
      "2/2 [==============================] - 0s 17ms/step - loss: 0.0072 - accuracy: 1.0000\n",
      "Epoch 295/400\n",
      "2/2 [==============================] - 0s 16ms/step - loss: 0.0071 - accuracy: 1.0000\n",
      "Epoch 296/400\n",
      "2/2 [==============================] - 0s 17ms/step - loss: 0.0071 - accuracy: 1.0000\n",
      "Epoch 297/400\n",
      "2/2 [==============================] - 0s 22ms/step - loss: 0.0070 - accuracy: 1.0000\n",
      "Epoch 298/400\n",
      "2/2 [==============================] - 0s 16ms/step - loss: 0.0070 - accuracy: 1.0000\n",
      "Epoch 299/400\n",
      "2/2 [==============================] - 0s 16ms/step - loss: 0.0069 - accuracy: 1.0000\n",
      "Epoch 300/400\n",
      "2/2 [==============================] - 0s 16ms/step - loss: 0.0069 - accuracy: 1.0000\n",
      "Epoch 301/400\n",
      "2/2 [==============================] - 0s 31ms/step - loss: 0.0068 - accuracy: 1.0000\n",
      "Epoch 302/400\n",
      "2/2 [==============================] - 0s 18ms/step - loss: 0.0068 - accuracy: 1.0000\n",
      "Epoch 303/400\n",
      "2/2 [==============================] - 0s 24ms/step - loss: 0.0067 - accuracy: 1.0000\n",
      "Epoch 304/400\n",
      "2/2 [==============================] - 0s 16ms/step - loss: 0.0067 - accuracy: 1.0000\n",
      "Epoch 305/400\n",
      "2/2 [==============================] - 0s 8ms/step - loss: 0.0066 - accuracy: 1.0000\n",
      "Epoch 306/400\n",
      "2/2 [==============================] - 0s 32ms/step - loss: 0.0066 - accuracy: 1.0000\n",
      "Epoch 307/400\n",
      "2/2 [==============================] - 0s 18ms/step - loss: 0.0065 - accuracy: 1.0000\n",
      "Epoch 308/400\n",
      "2/2 [==============================] - 0s 16ms/step - loss: 0.0065 - accuracy: 1.0000\n",
      "Epoch 309/400\n",
      "2/2 [==============================] - 0s 12ms/step - loss: 0.0064 - accuracy: 1.0000\n",
      "Epoch 310/400\n",
      "2/2 [==============================] - 0s 12ms/step - loss: 0.0064 - accuracy: 1.0000\n",
      "Epoch 311/400\n",
      "2/2 [==============================] - 0s 16ms/step - loss: 0.0063 - accuracy: 1.0000\n",
      "Epoch 312/400\n",
      "2/2 [==============================] - 0s 16ms/step - loss: 0.0063 - accuracy: 1.0000\n",
      "Epoch 313/400\n",
      "2/2 [==============================] - 0s 6ms/step - loss: 0.0062 - accuracy: 1.0000\n",
      "Epoch 314/400\n",
      "2/2 [==============================] - 0s 16ms/step - loss: 0.0062 - accuracy: 1.0000\n",
      "Epoch 315/400\n",
      "2/2 [==============================] - 0s 16ms/step - loss: 0.0062 - accuracy: 1.0000\n",
      "Epoch 316/400\n",
      "2/2 [==============================] - 0s 15ms/step - loss: 0.0061 - accuracy: 1.0000\n",
      "Epoch 317/400\n",
      "2/2 [==============================] - 0s 16ms/step - loss: 0.0061 - accuracy: 1.0000\n",
      "Epoch 318/400\n",
      "2/2 [==============================] - 0s 16ms/step - loss: 0.0060 - accuracy: 1.0000\n",
      "Epoch 319/400\n",
      "2/2 [==============================] - 0s 16ms/step - loss: 0.0060 - accuracy: 1.0000\n",
      "Epoch 320/400\n",
      "2/2 [==============================] - 0s 16ms/step - loss: 0.0060 - accuracy: 1.0000\n",
      "Epoch 321/400\n",
      "2/2 [==============================] - 0s 14ms/step - loss: 0.0059 - accuracy: 1.0000\n",
      "Epoch 322/400\n",
      "2/2 [==============================] - 0s 31ms/step - loss: 0.0059 - accuracy: 1.0000\n",
      "Epoch 323/400\n",
      "2/2 [==============================] - 0s 16ms/step - loss: 0.0058 - accuracy: 1.0000\n",
      "Epoch 324/400\n",
      "2/2 [==============================] - 0s 12ms/step - loss: 0.0058 - accuracy: 1.0000\n",
      "Epoch 325/400\n",
      "2/2 [==============================] - 0s 16ms/step - loss: 0.0058 - accuracy: 1.0000\n",
      "Epoch 326/400\n",
      "2/2 [==============================] - 0s 16ms/step - loss: 0.0057 - accuracy: 1.0000\n",
      "Epoch 327/400\n",
      "2/2 [==============================] - 0s 14ms/step - loss: 0.0057 - accuracy: 1.0000\n",
      "Epoch 328/400\n",
      "2/2 [==============================] - 0s 16ms/step - loss: 0.0056 - accuracy: 1.0000\n",
      "Epoch 329/400\n",
      "2/2 [==============================] - 0s 16ms/step - loss: 0.0056 - accuracy: 1.0000\n",
      "Epoch 330/400\n"
     ]
    },
    {
     "name": "stdout",
     "output_type": "stream",
     "text": [
      "2/2 [==============================] - 0s 18ms/step - loss: 0.0056 - accuracy: 1.0000\n",
      "Epoch 331/400\n",
      "2/2 [==============================] - 0s 16ms/step - loss: 0.0055 - accuracy: 1.0000\n",
      "Epoch 332/400\n",
      "2/2 [==============================] - 0s 10ms/step - loss: 0.0055 - accuracy: 1.0000\n",
      "Epoch 333/400\n",
      "2/2 [==============================] - 0s 9ms/step - loss: 0.0055 - accuracy: 1.0000\n",
      "Epoch 334/400\n",
      "2/2 [==============================] - 0s 16ms/step - loss: 0.0054 - accuracy: 1.0000\n",
      "Epoch 335/400\n",
      "2/2 [==============================] - 0s 16ms/step - loss: 0.0054 - accuracy: 1.0000\n",
      "Epoch 336/400\n",
      "2/2 [==============================] - 0s 16ms/step - loss: 0.0054 - accuracy: 1.0000\n",
      "Epoch 337/400\n",
      "2/2 [==============================] - 0s 14ms/step - loss: 0.0053 - accuracy: 1.0000\n",
      "Epoch 338/400\n",
      "2/2 [==============================] - 0s 16ms/step - loss: 0.0053 - accuracy: 1.0000\n",
      "Epoch 339/400\n",
      "2/2 [==============================] - 0s 16ms/step - loss: 0.0053 - accuracy: 1.0000\n",
      "Epoch 340/400\n",
      "2/2 [==============================] - 0s 9ms/step - loss: 0.0052 - accuracy: 1.0000\n",
      "Epoch 341/400\n",
      "2/2 [==============================] - 0s 16ms/step - loss: 0.0052 - accuracy: 1.0000\n",
      "Epoch 342/400\n",
      "2/2 [==============================] - 0s 16ms/step - loss: 0.0052 - accuracy: 1.0000\n",
      "Epoch 343/400\n",
      "2/2 [==============================] - 0s 2ms/step - loss: 0.0051 - accuracy: 1.0000\n",
      "Epoch 344/400\n",
      "2/2 [==============================] - 0s 16ms/step - loss: 0.0051 - accuracy: 1.0000\n",
      "Epoch 345/400\n",
      "2/2 [==============================] - 0s 16ms/step - loss: 0.0051 - accuracy: 1.0000\n",
      "Epoch 346/400\n",
      "2/2 [==============================] - 0s 31ms/step - loss: 0.0050 - accuracy: 1.0000\n",
      "Epoch 347/400\n",
      "2/2 [==============================] - 0s 30ms/step - loss: 0.0050 - accuracy: 1.0000\n",
      "Epoch 348/400\n",
      "2/2 [==============================] - 0s 31ms/step - loss: 0.0050 - accuracy: 1.0000\n",
      "Epoch 349/400\n",
      "2/2 [==============================] - 0s 16ms/step - loss: 0.0049 - accuracy: 1.0000\n",
      "Epoch 350/400\n",
      "2/2 [==============================] - 0s 16ms/step - loss: 0.0049 - accuracy: 1.0000\n",
      "Epoch 351/400\n",
      "2/2 [==============================] - 0s 37ms/step - loss: 0.0049 - accuracy: 1.0000\n",
      "Epoch 352/400\n",
      "2/2 [==============================] - 0s 16ms/step - loss: 0.0048 - accuracy: 1.0000\n",
      "Epoch 353/400\n",
      "2/2 [==============================] - 0s 27ms/step - loss: 0.0048 - accuracy: 1.0000\n",
      "Epoch 354/400\n",
      "2/2 [==============================] - 0s 16ms/step - loss: 0.0048 - accuracy: 1.0000\n",
      "Epoch 355/400\n",
      "2/2 [==============================] - 0s 16ms/step - loss: 0.0048 - accuracy: 1.0000\n",
      "Epoch 356/400\n",
      "2/2 [==============================] - 0s 15ms/step - loss: 0.0047 - accuracy: 1.0000\n",
      "Epoch 357/400\n",
      "2/2 [==============================] - 0s 16ms/step - loss: 0.0047 - accuracy: 1.0000\n",
      "Epoch 358/400\n",
      "2/2 [==============================] - 0s 16ms/step - loss: 0.0047 - accuracy: 1.0000\n",
      "Epoch 359/400\n",
      "2/2 [==============================] - 0s 16ms/step - loss: 0.0046 - accuracy: 1.0000\n",
      "Epoch 360/400\n",
      "2/2 [==============================] - 0s 16ms/step - loss: 0.0046 - accuracy: 1.0000\n",
      "Epoch 361/400\n",
      "2/2 [==============================] - 0s 16ms/step - loss: 0.0046 - accuracy: 1.0000\n",
      "Epoch 362/400\n",
      "2/2 [==============================] - 0s 16ms/step - loss: 0.0046 - accuracy: 1.0000\n",
      "Epoch 363/400\n",
      "2/2 [==============================] - 0s 16ms/step - loss: 0.0045 - accuracy: 1.0000\n",
      "Epoch 364/400\n",
      "2/2 [==============================] - 0s 5ms/step - loss: 0.0045 - accuracy: 1.0000\n",
      "Epoch 365/400\n",
      "2/2 [==============================] - 0s 4ms/step - loss: 0.0045 - accuracy: 1.0000\n",
      "Epoch 366/400\n",
      "2/2 [==============================] - 0s 16ms/step - loss: 0.0045 - accuracy: 1.0000\n",
      "Epoch 367/400\n",
      "2/2 [==============================] - 0s 16ms/step - loss: 0.0044 - accuracy: 1.0000\n",
      "Epoch 368/400\n",
      "2/2 [==============================] - 0s 16ms/step - loss: 0.0044 - accuracy: 1.0000\n",
      "Epoch 369/400\n",
      "2/2 [==============================] - 0s 16ms/step - loss: 0.0044 - accuracy: 1.0000\n",
      "Epoch 370/400\n",
      "2/2 [==============================] - 0s 18ms/step - loss: 0.0044 - accuracy: 1.0000\n",
      "Epoch 371/400\n",
      "2/2 [==============================] - 0s 16ms/step - loss: 0.0043 - accuracy: 1.0000\n",
      "Epoch 372/400\n",
      "2/2 [==============================] - 0s 18ms/step - loss: 0.0043 - accuracy: 1.0000\n",
      "Epoch 373/400\n",
      "2/2 [==============================] - 0s 16ms/step - loss: 0.0043 - accuracy: 1.0000\n",
      "Epoch 374/400\n",
      "2/2 [==============================] - 0s 16ms/step - loss: 0.0043 - accuracy: 1.0000\n",
      "Epoch 375/400\n",
      "2/2 [==============================] - 0s 23ms/step - loss: 0.0042 - accuracy: 1.0000\n",
      "Epoch 376/400\n",
      "2/2 [==============================] - 0s 26ms/step - loss: 0.0042 - accuracy: 1.0000\n",
      "Epoch 377/400\n",
      "2/2 [==============================] - 0s 15ms/step - loss: 0.0042 - accuracy: 1.0000\n",
      "Epoch 378/400\n",
      "2/2 [==============================] - 0s 16ms/step - loss: 0.0042 - accuracy: 1.0000\n",
      "Epoch 379/400\n",
      "2/2 [==============================] - 0s 12ms/step - loss: 0.0041 - accuracy: 1.0000\n",
      "Epoch 380/400\n",
      "2/2 [==============================] - 0s 15ms/step - loss: 0.0041 - accuracy: 1.0000\n",
      "Epoch 381/400\n",
      "2/2 [==============================] - 0s 12ms/step - loss: 0.0041 - accuracy: 1.0000\n",
      "Epoch 382/400\n",
      "2/2 [==============================] - 0s 8ms/step - loss: 0.0041 - accuracy: 1.0000\n",
      "Epoch 383/400\n",
      "2/2 [==============================] - 0s 16ms/step - loss: 0.0041 - accuracy: 1.0000\n",
      "Epoch 384/400\n",
      "2/2 [==============================] - 0s 16ms/step - loss: 0.0040 - accuracy: 1.0000\n",
      "Epoch 385/400\n",
      "2/2 [==============================] - 0s 17ms/step - loss: 0.0040 - accuracy: 1.0000\n",
      "Epoch 386/400\n",
      "2/2 [==============================] - 0s 10ms/step - loss: 0.0040 - accuracy: 1.0000\n",
      "Epoch 387/400\n",
      "2/2 [==============================] - 0s 24ms/step - loss: 0.0040 - accuracy: 1.0000\n",
      "Epoch 388/400\n",
      "2/2 [==============================] - 0s 16ms/step - loss: 0.0039 - accuracy: 1.0000\n",
      "Epoch 389/400\n",
      "2/2 [==============================] - 0s 11ms/step - loss: 0.0039 - accuracy: 1.0000\n",
      "Epoch 390/400\n",
      "2/2 [==============================] - 0s 16ms/step - loss: 0.0039 - accuracy: 1.0000\n",
      "Epoch 391/400\n",
      "2/2 [==============================] - 0s 9ms/step - loss: 0.0039 - accuracy: 1.0000\n",
      "Epoch 392/400\n",
      "2/2 [==============================] - 0s 19ms/step - loss: 0.0039 - accuracy: 1.0000\n",
      "Epoch 393/400\n",
      "2/2 [==============================] - 0s 16ms/step - loss: 0.0038 - accuracy: 1.0000\n",
      "Epoch 394/400\n",
      "2/2 [==============================] - 0s 16ms/step - loss: 0.0038 - accuracy: 1.0000\n",
      "Epoch 395/400\n",
      "2/2 [==============================] - 0s 18ms/step - loss: 0.0038 - accuracy: 1.0000\n",
      "Epoch 396/400\n",
      "2/2 [==============================] - 0s 16ms/step - loss: 0.0038 - accuracy: 1.0000\n",
      "Epoch 397/400\n",
      "2/2 [==============================] - 0s 16ms/step - loss: 0.0038 - accuracy: 1.0000\n",
      "Epoch 398/400\n",
      "2/2 [==============================] - 0s 8ms/step - loss: 0.0037 - accuracy: 1.0000\n",
      "Epoch 399/400\n",
      "2/2 [==============================] - 0s 12ms/step - loss: 0.0037 - accuracy: 1.0000\n",
      "Epoch 400/400\n",
      "2/2 [==============================] - 0s 16ms/step - loss: 0.0037 - accuracy: 1.0000\n"
     ]
    }
   ],
   "source": [
    "# Training the model (Latih Model Data)\n",
    "train = model.fit(x_train, y_train, epochs=400)"
   ]
  },
  {
   "cell_type": "markdown",
   "id": "BfQP5TaPkGzB",
   "metadata": {
    "id": "BfQP5TaPkGzB"
   },
   "source": [
    "# Model Analysis\n",
    "\n",
    "Setelah menjalankan model fitting. Selanjutnya adalah analisa model untuk melihat hasil akurasi dari model Neural Network tersebut."
   ]
  },
  {
   "cell_type": "code",
   "execution_count": 23,
   "id": "FEz3P5djksfa",
   "metadata": {
    "colab": {
     "base_uri": "https://localhost:8080/",
     "height": 336
    },
    "id": "FEz3P5djksfa",
    "outputId": "b44cde33-b4b8-4c85-d990-9cf1df5f5a39"
   },
   "outputs": [
    {
     "data": {
      "image/png": "[encoded data removed]",
      "text/plain": [
       "<Figure size 1008x360 with 2 Axes>"
      ]
     },
     "metadata": {
      "needs_background": "light"
     },
     "output_type": "display_data"
    }
   ],
   "source": [
    "# Plotting model Accuracy and Loss (Visualisasi Plot Hasil Akurasi dan Loss)\n",
    "# Plot Akurasi\n",
    "plt.figure(figsize=(14, 5))\n",
    "plt.subplot(1, 2, 1)\n",
    "plt.plot(train.history['accuracy'],label='Training Set Accuracy')\n",
    "plt.legend(loc='lower right')\n",
    "plt.title('Accuracy')\n",
    "# Plot Loss\n",
    "plt.subplot(1, 2, 2)\n",
    "plt.plot(train.history['loss'],label='Training Set Loss')\n",
    "plt.legend(loc='upper right')\n",
    "plt.title('Loss')\n",
    "plt.show()"
   ]
  },
  {
   "cell_type": "markdown",
   "id": "WcOYpQfuln4T",
   "metadata": {
    "id": "WcOYpQfuln4T"
   },
   "source": [
    "# Testing Chatbot Dan Tambahkan Suara Pada Chatbot\n",
    "\n",
    "Setelah mengetahui hasil dari akurasi dan loss pada model yang telah ditetapkan dengan algoritma Neural Network dan LSTM. Maka, tahapan selanjutnya adalah menguji atau testing pada chatbot yang telah dilatih sebelumnya dan melihat apakah sesuai atau tidak pada saat kita masukan teks kalimat pertanyaannya. \n",
    "\n",
    "Pada pengujian ini menggunakan metode input atau masukan sesuai dengan kalimat pertanyaan yang dimasukkan."
   ]
  },
  {
   "cell_type": "code",
   "execution_count": 32,
   "id": "fao4rG4rlh1D",
   "metadata": {
    "colab": {
     "base_uri": "https://localhost:8080/",
     "height": 802
    },
    "id": "fao4rG4rlh1D",
    "outputId": "5ba368b2-8e95-40bb-d57f-868cd960c2e0"
   },
   "outputs": [
    {
     "name": "stdout",
     "output_type": "stream",
     "text": [
      "Kamu : halo\n",
      "1/1 [==============================] - 0s 66ms/step\n",
      "LiBot :  Helo! Ini bot. Lagi kepo tentang layanan perpustakaan ya?\n"
     ]
    },
    {
     "data": {
      "text/html": [
       "\n",
       "                <audio  controls=\"controls\" autoplay=\"autoplay\">\n",
       "                    <source src=\"data:audio/wav;base64,//NExAAQwC4kAUkQABWKxWTyFAIAgwowNB8HwcBAEAQBAHwfB8H/+j6wfB8CAh+JwcBAEP0AgCAIfqBA5//+XBAEAQBAEwfB8HwfBAEAQBDbArCvP0usRkG0hqprW7a2//NExBAWQlKcAY84AEL7jwki4HwZFfiWPjiiWND0+UNZCwpFwnBM39lRGi1zhuOL/zHa0keex3/oyqevVDixMuxRP/9K9upQ4fEhR//0snNQJrEppJOokYBBEimd+E0r//NExAoTAV6sAcgwAIH2xgyBeKT8TjTkmeZjxFwHCCSEnMbsp2U/vfrfbjMc+s+fXvmQEnAQCHAfGhggeCBm17VMIEbkM0NGbP9/y9L9qpPKvD7Tmabb2DHfTZm6+anM//NExBEW4b60AHmGlINqSpUV2nHkuVvFTerBuQo8SQv3UxYIEMCKERMgw4Kq/uR4imWuRjmkYKJQ1JqGxhgaIioQFzLQK80DE3SoX/86ofILFGPQwYMUtcs/oE2xemN///NExAgUSTa4AMLMcClaSeS1goEGqMcX21KKbOndN77reCGsx132vXT4WW8wbnrd8qk2NzG0pkyhSBUTMB8stqBrhOCKEoF3UJWKXqT7f1elVqaKUvQq5z9JvlfLNfBR//NExAkSiZ68AMIQlPJt6wpxwQD4vsEn8gE+VUz+a/Kf+DtqkLRAqSixyy2PGVKHjDF9XteuLj4v6Wd+3rkdqbLOFnnqVX9w7///76q1VebyxGTjZcpm6yUadZyhgUsE//NExBETAYq8AMLQlI/EGp7tADg/Tymd+G1+ovvel3ULcoIYPiLZkCvKDh49qDh4iVZuq/a/i/5r3UgueBZIauRy3/////Vo5jqSjMrXbm4YC6kKsWGgBBVkfUNp/8Jl//NExBgSATq8AMvMcP8TW/ydv7I5/bfvU/eBo4aLDgu0UR3wZWVo9Ku53AZT7HgmFgVPWdvV////9N2tCsP3NDzGpc05YLDO5IgNQbnrND+YF1qzB+tsnn9WxoluIiRh//NExCMQYTLAAMNKcKcGDtmcpB5xVUYaUH1GnG/Xte0SVxdn///+xf1V1oXefZg1milehHUqnhdU/wDZ5PqXfvdiia98/Hk/77+2b/67xOtkAxzmSOzKJN4lJ7KBqqJO//NExDQSgTq8AMPMcFiJa2WSQ8oeKueHV/////9BC9LpkwjmdWCApNmuMy1RCqLdCXiIMsJmNyassBlr6Z3umv3v/3v1o7yz64JZmbF6xH42Y3LufRrzCY0FTU5QsVcY//NExD0SUTq8AMPMcHoh219nZ///9e72Y1XmV6Gxe0j49AILB+qYJYsJwukSGRUozKq6I9KrP6lN2f72meUiiQNJB9LB0aZPG3PeGxEkXGVe1AjQXSW//t////rVqrX6//NExEYRINq8AMQMcHyIBjpITnAQPEweLNjA/HA6SYuLLWrCsQKQmbG5affD/8ppKNhmn0SJJLO/1JETyp0qJBRKz94qk4Sex//////7FtYh+TUCAgBkYpPKHDI1D7hw//NExFQRMM60AMPMcIDoLirm5a8Hn+5EUCYROGEzHc+CbBhZKzLdo/9sKvBlxtyBY0881wLJV/UdeveKmQcX/0DJ96u50tFa1dXYiVJCKmGJuYGx3dygorUdzMbQM3SK//NExGISkK6oANPMTA6kyMtebIsh00kiyzrf///////vZnduhnLMcGSDKf/0xcjs7PooY9vsRQrmUbHNluxSICqI/k5MyKEBzMVxKCPXY+04kZpRQIEskPgMkydf9l////NExGoQgY6oAMrElP////23c8rMx1dBJjCBh8j/r69tIZAz/+xE7V9ZOtW92UjsoIPwxNiFybMEwVPkgPDwWNzMIx31V48cVnLV9tiSL1OkyHeuXuHLN7Rf9b/69/////NExHsRkYKkAMrElPKzpmHERSMxiUZyvDwTMKiYgBX/0LwLROOOf6UkBVlxRV9MQqNqpKNlgQKPuFbkzkaEjW1ZsRMOQMYYEhFOzFvLHElLmXNwblAunqXJk/YSVGML//NExIcWWZqcANPKlBnGzSx41I0Sma6xXX/f/tkac5kZwZJUjmBQHwaYAhjP+230JX09lYPoEpMKWWuFGJEiFfoYALCE06B0aAdAHnLIZSF4jGvAFQcedWinkOw6ElBP//NExIAX+WacANPElAYAvCTAmxKCUECAcwAgMKoSoBrHkgbFI01u6VTWUr/fqd6sVjiITGEEhYOvHiI4ikdXiz0FXVyn//t9TLoxtWVq3Y3/6q9BikQwTU5SBAqzi90K//NExHMfav6cANNKuYahlETi6jSho17a5Tbbib4DSZQSAK5MpFIboAO7DV7bAWgWNwCQyBDQ0JCB8cOZYNxKWcm60GsWk7//A58BlgbS+OephZYaKO/qt2LKr/+qDbww//NExEgU4KaoANZeTBQmZHAIe1gqXhYYmrN2u2A47CIC3KyCE5VWbSlsRi8Mkk33Qt5fWdGMMtIqTAEsOElyesRk/mJp3bUv///9c2s0xn82m6sGd0dm//9O3qR1tI7f//NExEcVerKoAMtEuP//0ss0olrrcTvCBYTsNdS2/ERFKHgVm7pSjIAZfSTKt1QThFYwom4yzZEcBCH4ohhAeR7GhjdJHr/////2pVEY//+5iJHZ////9iKGC1ljtITc//NExEQRMZasAMtElFW3U7VFZo2dtt1YmBKwRqvSmIhcGHum5icGUGExcJ0OoIaWy+MsEQmnSdJlaL9v////1K0q39fczzGOBjIfc//yraf/8qTFzp4alq2kVBUSic0a//NExFIUgZqgANQElPqagEL3xLTbjDXxFoJgUZlEGjJuBsOksDQOqzMS8AJYeS+ZDWDnGRrOqXpel////9rnW9Zf9O53e7sn/2qqpb75lt////S3Z2UlirbXnuequPCV//NExFMUkwqgANNEubcpjDCySDZDGI8tI7wih2NYLINIpodnOIPT9OpQl4rh0IQnQfaAWLQoB+JK9v/9aHfaED4kWcurTh2YZoH2//0AcVkiz4JhsTChBlBtn5qla0L0//NExFMTMIqcAN5eTBFE9taDznDUYa8YCxxOnlNtNx+qeJE8AYbqg4CFlLLEq1aWDz///7wrrxaUKg+JT/3ZPH2vV/+pcw0Sj5U6bbDkiDxp7HKq+zpqmJTjCzEtww7L//NExFkScIqcAM6eTJ9RCDInzHCfIuLPHJPGYzYD4OeLnFkDWC00nWSWTqlqR///////reT/ylaCc1//tX//3aiGrKlWG7bObQJ1BeLauCZe4GwdxaCmAarNtFUzciff//NExGISAZaYANRElEdBpLLQtYDmAKAjRPozhPDvJv///1Gln6efCIY/////UebfZdFbToGJrQrFuUSM1RLeugmUe4yDgsAjgg6ScaIplDwVzrDhtFc2AS24ZFdrcUyK//NExG0RGIqUAM5eTDmfpLWsbnX///88s8LMzI95X/////KlQ1tlRYqFWE2mkbjyzxo6NTj4XGD1XLVUEU5QJHBEcjlFvXq5KYTkgqUGACpExy/EiQ5f///9ZBNjXOLf//NExHsSOI6MANawTP/p//4IySRRUy2gcKtNGJQzt8DujcxyyXMM1a0DQjjAX/AsthJNIpmSYkw1gpYwo5wfxePGzk40Qrv/////////ZUogorjO09////7FLICZhrwm//NExIUQQHKIAM5eSJclZBCP4l9jroToEIJgFpiuAJKO6YV0nJ1Q6uKWXRUiZOk0rjZX54+4rzzTX///XKOdeGAGIi1X////5541WwUek+HhYmAiFWysHhsYqwtr0DsD//NExJcR+ZqAAMtElHaAiBkvNLi/EU4z/MJYqXAWQSNACboa+gRIeAAllH///cZOXzYJMDFX//T/9rDBqJammHtMREWKqnxXkqMkl7U1EGRzVl7trUDQ1MqofJ4a4Rlk//NExKIQ2H54AMveSHQPAPFzyky21cYN///9cqqhwYB0l/////htFt+L0qCgFqoozMrJViRGgZokguWK1FylyQ56P42RgoQGwHPI4oEXzsmKaZpIqtiz21fW/rOP7PZ///NExLEQyIZ0AMMeSP///12tR2WgZ4UpB7Ef/+kRL/q8RM8t7UUA4PtjaJi6CUsqki3JYxorLEnkOngLQjqCHyJiLMLUN1CCFHqhWWFWssiuZp/CjHjolHgqArFP//vB//NExMAO4IpwAHvYTFhoiolj1SIhIipwuUJxYMgkAoLAeDgLhQNnyVEqkmouokmsmkmEcQMyyyyhQwUEDBB0FilDAwQMIGU00yoQmmkjVVVMmBqqgy3/6ErTSB///kSq//NExNcSaYpgAMPElKqv//QlaaQN///Kqqr///jTTSpMQU1FMy4xMDCqqqqqqqqqqqqqqqqqqqqqqqqqqqqqqqqqqqqqqqqqqqqqqqqqqqqqqqqqqqqqqqqqTEFNRTMu//NExOAP0J44AMPeTDEwMKqqqqqqqqqqqqqqqqqqqqqqqqqqqqqqqqqqqqqqqqqqqqqqqqqqqqqqqqqqqqqqqqqqqqqqqqqqqqqqqqqqqqqqqqqqqqqqqqqqTEFNRTMu//NExPMX2PTQAEpGcTEwMKqqqqqqqqqqqqqqqqqqqqqqqqqqqqqqqqqqqqqqqqqqqqqqqqqqqqqqqqqqqqqqqqqqqqqqqqqqqqqqqqqqqqqqqqqqqqqqqqqqTEFNRTMu//NExKwAAANIAAAAADEwMKqqqqqqqqqqqqqqqqqqqqqqqqqqqqqqqqqqqqqqqqqqqqqqqqqqqqqqqqqqqqqqqqqqqqqqqqqqqqqqqqqqqqqqqqqqqqqqqqqqkqshJjIu//NExKwAAANIAAAAACwuDQMg0EQmDANiQTj4sbJEaBdKKFEhJjIuOD44Ojw6LjgnJCckMNsJxbTVSkikoeMHh0UlJoJoJ3mw7P8mprNUtStMmQTDBo0//8yZMGjRr0Gz//NExKwAAANIAAAAACZMmTRrlTRo0ZMmQTMGjVUEwAx3SKITszfYODBB9gggyEg4DWQIOQIZbAgAQcRXgQq5hwMwgArvAMXAwTEA44D4gOHAfKOOA+8uDhd8HzmfqBD9//NExKwAAANIAAAAAB//nPlHHBOqHpRwf4PqC9IahRrYN6WiuOVUvYjuDFibkteCrVa9iZJAwU84SCiRszMsls6ajjVRpF0ToNAUqGoabPArUetPZYGolBWJTZY9ExXW//NExP8aCXEsAEpMlPWGioLHoiDqIKgqWBqstPRE/csOr2vLB1EDw7/hEgEvH8h5KvOG4k6cXYXRxEvi7HOir/Rmcmmn7OQc5On/jnI1m9V//93nf0T1//scexxdjv6///NExOkUGOYUAGGGcP///6EHGFARxQUOAR3+wiNpCFJP7C38AVy7f/LOWYzzRBhgB7lP0+Q1UP/W7Jv/+X03LUSX//xKxLB4BuDjKY8///zhoWF8+S5cNB4f///mZuS5//NExOsXeOIMAU8wAIGhpZBk/////+m59Cybl9I0MEaVpDJrOkpMfGCMEros8SiCJcbAcySRY2pTnvlWzb1ruVOiOv/n6i2fNR/tYxjtiZ86kXLDvIpIHWPAHARDgIWM//NExOARsxnYAYsoAQrBLKD2NBMNSqIPkidJmm3hi1UoeefiIiYnmDdiJkeNz0Xw92d++q+OY////n9jKSUo4qfN6aeKTzmqIrHVKQXa968Kw8pg+hXfKB9xwAJPwIgF//NExOwWOyJsAZhoAd7+R0sBhjBfEqXW5vB+SDbLLX6z3Wj6kPUj6R7rLmpSxlvLh8C6A8D6BSKgriNTDUegJx/L1yfA6DkpNIAfNp9g7+G3RYrd8OVL3oDrKzOtYvin//NExOYiOx6QAdpYAN8b/5//////++Lt13b2VmRGNMnKGxqP7qPFaBxZMzLD5WYIGkpm49W3Uh12gYAnE54GpVfSGgeM0sun9Z8mbL8fihXWSr+e9R/029L2R6p8zZJE//NExLAhExqUANtWvXYZHTA6OYJqOY+O4wGYdBQo4xbZtIhVBEu5RpgS3t9MmUQQ2zClR16hxsnAVJCQZBFCOf+r/z/37//////3+u/fPF1YwVJlGrSLhV9MQIm+yVgl//NExH4hqyKUANtSvE+JM8lINEErcuYStrAJBziOM00DZI/crWANaDYFv67BcXXrHuOnMx5ecX6n9H7ep1dJRxjZymWkdIlx7ApQ9jIkzUQQwIEDaM4RishIzqJQ0uTg//NExEoiEyKUANtSvCC81sgefqr5MrS3d+r5M6SI19nXy8+f1Hx+/3/////////79MxMRWRkq8RSNHas1haaum9s8gjpMiUmKy7c6st1JtDwwqWLpU9ilf4eR7m9bm6N//NExBQWKxKoANlEuXICl5xX0+b///6mIKFQ4IEOMYdwYxgZIRxIQCjFGFHNAmUhEeiI10RaSjpOQx3/9/////u7SGEHEsdFqKR0Q/cwZWKNNcNd5Rmq0KnrHLhKAiyF//NExA4VWsKgANnOuUf57fTtoGMmeNW6t5nr//1O8uWSgmH1MPGosJtIiA1Tjji5hhm3dZ93JaVWrIxiKahxx7f/////01ueyTZJ8cdwE6UHPhSAKs8qduhKdBnwx4GO//NExAsUOVqgANHMlGTRkWBYVIfzGgXa5USyLzz3bMVs+b7f/rZ/nfcbc8o+c7V5znJoEwQgOa1BVGOers1INhsFwE7//6hjwFQI9taxCQFFFRmBbUArmLiHYgqVgBq7//NExA0TwwaQAONEuWC4DgUv6xnOSPtlZwPpKmTD4DYUzJm1KxcdeZ70PQ977///Mqf////9AaHcosY66//////5TrMmrVzVeyiUVFiHCYpQwQoeFDcTjkMAj/w43FFS//NExBESYvqUAONEuUFN9aDMNqgnwwCMqDbNELrN1rmZLvov//W3////////8lCdVQ1q//////9klRWdL13KZjHKQUZptaSbdJBkAuht82W+fW1eJQu9R98Yw6aIngGK//NExBoReeKUANtEmGi0joid1kgnWzkPonvVr//////////6oWwYRBo9//rR8yh7JppwVEooQLsU29kiZoYTIJ0MjDQzYpF3rLzQPZ5qOy36gKBBZQDBffJaRx6T2/7e//NExCcR0waUAOHEuc3////////6HSjCDqb//////tqlmJbZvNVyCARxyRJuqqWXRFVIU9mUWMbnsiJgqBEDyCi/0x9l1Dx8IiTforauW/lFn8pUfDBMEBIT//62nRKW//NExDIP+KqcANSOTP//skzzSBzWSsMhUwWRr1rLWkAouuNRd6s/4CK73NasY44CGM6kb0/7/6lKUxjW0bRTGnIokDJh40CAmaOikbjzWPL1PMZNG/Xb1p21X/////67//NExEUVCr6kANlOuVFQsc7KexNPzVOYH7NlESqe3MQGMNjyC2CVZAqiIwFXL9X+/QCG6N1br////T1bhRbNMpGOrB6HIcjkdhbsa17KlXTmvcqMlrf/////vsjlMwUo//NExEMTEraoANCEuWY38IBqlQRZRSqes0z+hU8e1uqKlxeEADXvz/xz4FPX1/////q/cjEYImIrKBFPGhyHkcOtHLPOYy1kN9fd5IiPPf//ricwR3HXlkkTy3Fg5d4V//NExEkRqe6oANHKmOABkibOA1+cn4kIDlzH/cf0Af09X9vT///v6554pakoSNd1CZKnDzoacrKh0tRZ33rlx4HGPT//7azixglApaojBQ4KhFCV5rGRKsGz1GF1rEyY//NExFUSIdqsANFOmKiry63+Pfx8NPyft9vb///fRzPELBASFTMMYWPHGOWRTOxz8hFySzLTslY0xmf//////nsWJvWCPZM/DCR88qypVoGylTIx+XqeGo7BtDS+1+pj//NExF8S+qqoANnKuf8LBuqeb7dP//9vRRppyB4TGIOc6CQgUK4cSqOUMzmOhHZHmVPdaEU28xv/////+7pYu77udqqyIhVRaPsCassMp1H4bJla9RZfRhojFquXy//x//NExGYUYx6oAMlEvAO2re3r////earsV0AyuLMjFK5QF8Ua5hVUcxmdymMVnezd3WGnKzWfX6f////VM7DtbDalm8c5hRDds93KAv2fZjX4cohUM2RHvvfgN4E/P7////NExGcTqrqoANiEueT/p1duCVSoHMpZ0MCdyGDDliQI3VNFbbdaSzxT///oJrX3SKlFg6WVT5rP6j0abKAjKdUTXaYAqPGaYeSERtug01uzWdWk1W+5ZUdipcpa/qUt//NExGsQEVaoAMiElB0M8xwFywolgwEBHfg11K/WdKub///nQq//4Koy4BISA8tKYXjidglYY+hAEAAFQVCoQGQybwbwgyYFDPNBCXLBoRTzMBFiQ8WeNZypZqfZpeDC//NExH0RaUaUANIEcKGhKxwy/9GWI+36f/T/9H//q/0VBXoDhdDBh/hn/ScSBVuCgIKWEaZygwC+XUl8PDTUWuwZNTghAKCzaFIRfyD8bsvH2t6o7T0dP/+2js+zqT/+//NExIoSmJpYAO5eTM/ZpQnrNAAPUqgECSaadg8kSEAAMAYDixL7NjHbl9wNLUd26SGWtEhL8pgMAkrKI+3O+FQdEe5NP3fXWKUej675bqW2z//0/ckFQAJAUg+YFzqa//NExJIRAKpUAOZSTKYOpfv4AQaAQ2sAjAM4KxZPGCqK7NmMxejrBgMUOKmcQQWCIDjr2Pu6fB/306Wosd36HUb5f7ff02pY/3dYytQ1cFwEKqQz5dT0orMRjswqETAo//NExKERAJZQAO5MTCwcBWftXMDhBWByIcWKy+G4fl8Xn7VBcBIIAkHbk9d/uVt36/upF2W6f/1ptTdSaM9H6K/FKjRxfMbQQzYIDhzVMtFA3CrhEJQwEGHAY3hjoZAg//NExLASeJZMAO5GTBQ0AWZPazlyGsECTRMi4wBeFv4dOkzLrXGPANQJYb5b6sL5hgsLYD5FL1f1NHMHMIgT5DCIf/4gmVicFLmyBp/q/5TJ8nFuRQ0lyv///0Ky+5Fz//NExLkSEGZQAVwAAHczL5ub////7/dkiKFQ4QAnECKFSSovmaUW/hyirCDX4i/JoAhkwp7BYWnnnZtzixiCzkGJOExwnxlyDCShzBcwnMCtBmymSxDCGiEhqTp8EvEA//NExMMhUx5gAZyAAdFEmThiaoGSmRWaJKfdFSXddDrUdUZOk9aKetTm5suipSNf9B3fuigbLtr9V+rq/9a9BvXvRSoqUym9CcZBS2rZH7KNEGY8fOqWZ35oZ2+hyOeA//NExJAh+yqcAZqQAIMIUDV2GECJsLIDghqUWQnCMrLlxeNzazEf4eiSDRiYQBjgCzRGdDJAOkG8ZE0DIuNmKBmb1W//3TvugccvMdMjDZS2Tsip1OkdZJI2JZSi4cRT//NExFsfSwqYAduIAXV6/f2Vv01p3ZbL1f//6C6KCJm1U0OJmeySbU9KzIJomlAq3LMqqjhyZrQoq/rPTDUwFsjcqn0O5oiTiHzp8L/BqsvEVIqAuwDgYh5BRGxTFhDB//NExDAcox6gANTKvGSaCRNETWnWcTQ0k/b/os/ZBBBJSandJUXrq0YdCi48cDs9U6fZfucut3ZO1////nzVKxKozMlWdBRzokjKKMVkFUru7XIsaIsrVLdS5YUjCPZb//NExBAWEwasANNEuatgRjELCYbHyYAbQ8STMh5APwTscxSHEkMkTtlOdHhVqPdm//622q1VRGNufr0zWRTA1dKyf///n/////r8Z0aTI9FWzth8xOqvZ/OGDvZOCT2K//NExAoTKZawAMYElKosAX1MedTcIkzF/UfQboquNFD6fUrpo1TXGp75vG1z//eP////99KNvn7/0Y8gMuCb7tykHrXV2//6SZ5b/zimoM394bjxkSurb1TxgJVL9WW7//NExBAQ0Ka0AM4eTKF7Zql+bVXOaPJBXY+VzTKHj7JEzYzVji9Yh//riwCQTb1BsRmDrCvd6ULrW9v//t/RYtWfldGwAtgeIjnymRCE55Q0KWsDU+HFkr+4u2zSfV8c//NExB8SqKqsAM4eTJ4UJ4xtnYIqmGwvMzPPC9LxSvZ/4+UO/qLA9D62s7ickp+swH///+5lde9S7RdWUCVpIyCGAoAQpzOgfAJ1yWj8I2YKVUDIiUNS5c1cXpIrs4y6//NExCcRoKawAMPeTBM0SxKyW/iaYTp/+pRpizjT9lCThgAF1pv/91n///6q1blAiMiNK3TBwy/MLlaG61YDL/lgiVzT3lU/Q3YW8sXcd9LjtO+86wLcWd0UP3K+G7vd//NExDMSeZKsAMYElP5fz37f//WzKGQM7G/+XdzDoDW//9UbtFKgRtTShKD/UocgFo4xJxARgiEAHJDB1JQ7mpDy+rtWMJeidNpiqA1gU0S0T4dhaUjeykVpf//+l12N//NExDwSeTKkAHvacIVDod+OpFngb//////Uj0MjhihUrEaVaJ1BAxBwVFqdMI5HLoqHPe7L6RaHpv6XO9yZpbMNSoAoRQWhGNGJG1Oej7f//9dx5W/9gif/////93Gp//NExEUR2TqUAMYOcF1zFT8AgdDMywErQWKmaKrHSBAgFVM3bA7S5pkKoAn1xnUZitNEgkAEMsqrP/shJREiAKLEQqRsiMb//EqwE+DW/Z//1////8GlM8yA5CsjKIwM//NExFARoKpsANYSTHogMCgQwuDgAGwgYl1hIGsNgHAVHAAw7DjGmeyhnEhoZTh3jYEOAwGGw179hU7Tez//7f//s+s6gsDjwOKgxSRrcRsdeibBUmVcocSedz4WSNYk//NExFwQALI0AOMGTMklhF1A5FDXNHEVJSVHlBVz/tXZ8E+oqlbVWzETJWXMi1IfWjpWLKQpN9nMwAGAKISqq5g4S7F9LaX5Op5Wq4AgIiEkiJKUsSMPJPyT4uZcsa9W//NExG8RMC4gAN4YABtwldnlBWR1oPcKuSqoez8O7mCX9vZO/neRypZSNbIJHJjixjQYKAF7xgEMixEMFCIrssicFPC3ZhKjTGGtw5L0C5Q6Hg8RsN5sZXf9XVyVVSmG//NExH0RqGocANPMKFyxYPfivUL6xUWf//xVv8W4qKVMQU1FMy4xMDBVVVVVVVVVVVVVVVVVVVVVVVVVVVVVVVVVVVVVVVVVVVVVVVVVVVVVVVVVVVVVVVVVTEFNRTMu//NExIkSKMHAANYSTDEwMFVVVVVVVVVVVVVVVVVVVVVVVVVVVVVVVVVVVVVVVVVVVVVVVVVVVVVVVVVVVVVVVVVVVVVVVVVVVVVVVVVVVVVVVVVVVVVVVVVVTEFNRTMu//NExJMAAANIAAAAADEwMFVVVVVVVVVVVVVVVVVVVVVVVVVVVVVVVVVVVVVVVVVVVVVVVVVVVVVVVVVVVVVVVVVVVVVVVVVVVVVVVVVVVVVVVVVVVVVVVVVVTEFNRTMu//NExKwAAANIAAAAADEwMFVVVVVVVVVVVVVVVVVVVVVVVVVVVVVVVVVVVVVVVVVVVVVVVVVVVVVVVVVVVVVVVVVVVVVVVVVVVVVVVVVVVVVVVVVVVVVVVVVVTEFNRTMu//NExKwAAANIAAAAADEwMFVVVVVVVVVVVVVVVVVVVVVVVVVVVVVVVVVVVVVVVVVVVVVVVVVVVVVVVVVVVVVVVVVVVVVVVVVVVVVVVVVVVVVVVVVVVVVVVVVVTEFNRTMu//NExKwAAANIAAAAADEwMFVVVVVVVVVVVVVVVVVVVVVVVVVVVVVVVVVVVVVVVVVVVVVVVVVVVVVVVVVVVVVVVVVVVVVVVVVVVVVVVVVVVVVVVVVVVVVVVVVVTEFNRTMu//NExKwAAANIAAAAADEwMFVVVVVVVVVVVVVVVVVVVVVVVVVVVVVVVVVVVVVVVVVVVVVVVVVVVVVVVVVVVVVVVVVVVVVVVVVVVVVVVVVVVVVVVVVVVVVVVVVV8LCwMs+w//NExKwAAANIAAAAAB3CFkngSAIJ/g2xqC4f4FAJEc4cH/iXjzGHLw5P/ycJgUByD+Of//HGPMwDnlRQKH//5mS5BGHSKZgaFX///45FjoJeWhex+DmEQeBfE4////7e//NExKwAAANIAAAAACfjBj+QhMBlCMFATwgiZjAhay1aZZOhAwCokY5AJ9tPFp9IQHEwqjXMGOwyTDK6lmZuSIw5gP5JE5BqCyTL5Lkcly8DYQ8k1LXHFWpX/Us3sqmj//NExKwAAANIAUAAAPoFAvm5dTTRTJxUdSSPtQb3JNA3MDx6k60iIZlFaCJe0N9DrTUggktadp1c6ta1Oqr/db/Tm+ikgfRMFq7SovtToGB4+MXcHQErcYOAemC76m7f//NExP8bAyoMAZNoAAFQHCnoSUrYFqoqwqxlQuC6/3q0Thw+eOjtHEaGJMCahNxPy4oyKaepdXV//apmdkUy+cTNDQ9NVGBIKJ6FzRFZkJ4WE8zRWSiLpsy1NVSZkGWg//NExOYhYyKYAZtoAaSqfrba6uuu2397vukgb0T6tNk3U7mCCkKjRE6gYGlGLLKpR07MAqLnQmQkBuI/SPxl+kYYDJIUD+NcAxHCkPZnBPMd6VN1Yvmg90Pnuvm6RS2///NExLMgevaYAdpoAZssNnCny/3r/////+mP/A5EHyJmFOYNIo6xwiWRAIihwkEQ8kQoEAHQrEWLTPNdW11A2+plLik+5b+qr/jj//t/qrqUYfkm611DV2OotaQ9Is3k//NExIQhmwqYANvQuZe89cO2YCTlPEGomVRUYAmVBhhGHYrGQDUquafbuKqIsW5rfFoPZT2Im3Oxbs15Q5MJvyh3GIPdFaFh676a3nT17+P4fPbZWN7XlvCG1AghJoPZ//NExFAfae6oANYMmDXD2+lNMwyKjpfTfaf3JqLj3FTfU7K3qUKtX/WoZLT5wEC44MBY+FHAYRvBMSKixwpxhIDkv5Q2JaHYTveRIxg39osSlMgZ6bhmJJbpNHf4lbaW//NExCUbAwK0AMvKua1OuJPWRKHE9vis/pvGv94zfG+4OrxYax4kUilAUGxgiYrFGC4gU6To0rt1MQiLKNkWe3v9VIv///+vqSSiZWsqMjFWJ1ek5+rpKgMPav2nqVX1//NExAwS2TLAAMPOcJ9wLWM4yT2v8p3uO/4N9ZUnoVFGYaAEt2Ex9Z69H3Q9rTTJQ04EHLEbSJ1Bsaw+hMBRVMjfRun//0o3ka/2JRXHuqpVEH2r9Wmh8aetXrqCMEZK//NExBMWYbK4AMtGlCucFsqgmOmiZmnUY9RNZJ2JE1YxLiTKB/hBMswWTwHk8UC5hwMmyBdYml31NlJD9wY85FTxsyYWu0NT3/+ug6noYkLLUXFFjGGMeECw/FVmYbQc//NExAwVWU6wAMnGlCZrGYeEtqBVnjwuNuaEr3Utzn0OL6m9dvZYeZAM3ogyYELiQEYE6BQooyDQC1CxEHYtHInrGKJaNv/98ieGvEQweFEBIkIpE8KqHhS3TsJNvhg4//NExAkUSVaMANnGlAnba6rYKABEDLthl1pomhcaA6c0iIokmOpprfT7/Y1LvfVAxrqq7BhTKJgpmYUFPYCApkN3/qe5BaGv///tBqsseCbuSDsGidUOcxKIwNBowcDk//NExAoSYKJYAO6MTPJjTBSAEwdAwAzD8cCYY5Sqg5JDCLTaRvQEWh2nbo1kbVK3I392vGdkhCQllC3AuZ7mCp0X92e/bd///ur+rpU3ALS6gBFpiWAHUIHASZgwCTKg//NExBMRSJpQAVwYAJXSWZLzEIiQj3YBoAbPK6kExXmFD3yY8jIjgocWUPdBV1+qp9dyTvXlvR/991baP//1qmBQpzQbwCn/HeMRc/8x2Fe558iEAz5MwwwHwyIrfaYe//NExCAZQyqcAY84AHmlhFHQt+NzjDDI4EQXEYRW/se5MxjBJBwKgsJYwE//V3/AoSQ4so8QN////JmCIVezuz////9m88w40ccdF5ccKiSNzDQ1MS6F0QNORAkDMi6m//NExA4T6r6wAdQQAVkg5sqj961af////9L0mFqUzJeZUd0KWVRNnDkJZn5Xa7O3XaddA5WZNt6m2NXI/l/ckjolnUhSuITvzl8zfFz81bHcdQaZGYH7c+kwzoGv3//8//NExBERgr6wAMiEuUAbKx/VCf////96jjhQwIY+V0CHeZFYiulbtXfZv/71u3T13+//5v23tLV2GUWSinr212Am5n3dAlOdXCSFnCxdgJp/eYIi/Ur+rH92////+xJr//NExB4R8WqwAMlGlCgkc4Mjs1U1ZWMhYQIYMofSok+IH00Ag08G3f//swYaoiFxPEIaFi9Afc//+2QLcRgSzDU9lBUv+wv1MI/////5SuqiIdCQiDuJCylOhIdKY4my//NExCkQKV60AMiKlAFyIln3dkq9LCDjH///QUNMZG3KOuDEqqaH6mPZkseBZ3y1DUn3t+h3wkf2MX/9P6/r5Fdm2SCgQVDd47iARk7qPHp72fCy/7p/+WxWUdQCRQn///NExDsRUfKsAMFGmO39Z1qCIBNUxmWqK1Kfr4xNoigy7oJr0uXO1V4QkJ/Lz//4n6t+jlMZHVjUMjoR9BSlLlLl5n+pjZv92DAVgKuCZ1xJZ3+quVnvLEp6p9c1G2O5//NExEgQ+fKgAMBEmGAIHgENBYLBwSnM9ABBF2MWXbIatKFCtQoKcVeUvKX/NZ//rCbYVVYK64E4wEFBEZMa4UIPxl3lqdzX9H/7PZ/UCZjWSsRLldO7JaTFQNPU0JCO//NExFcROWZIANhGlEREwi4VRQpzXtmcUtWmK0schQ4E3VMpCrfFXplS0trc4i5S907alKlv1qGqcpZlayPlQP41YXYmLn+ul6wif//pGKwfhcUO2FzH+AOgJiAxYKn///NExGUQgCYkAVoYAOH0C5sBSw9gOk//DTRGwNjgB+Ba+I3//xZAl4X3DThPoWzAU///8OgE4EVHOEeB6gtYpcQP///+NAWWHrj4HAJ8FznxyB0iPw4//////FyGo5Y5//NExHYhOypIAZiQAEIABvgy58lCAiPw98cgqQLissYWSQRk19cYtakyAjxHsEjU0JpEhPJr3VyOpIHuhK/L+PxcoRl7NqlUKRIrNl5wigE0InAISqUQEwiBsva5jCFV//NExEQh8xaoAYlIARllVjB6WN5SQpmrNJ8jHPJq6Sy1pdOvuThOUdrdX3V0SuoIJVqbLCvZz5U4ZK3ZtRlK/+rtz8C1Qc3iaL+bVR8Zvqhp3h9aSmdKCjJpmeWAMzBY//NExA8Q6SK4AdgoAJR83K5fv/1hY3/kY/T/2//5zyOgmA6kKPa8rGCp4Rj2ApMEgJe/ZUYl9lP//8Loe4u7rRDC/n7egNrFeduDjgN0OF1EwJAfoMfLqOZ+s3bq/V/V//NExB4RmSK8AMNKcPn71MMPGAq4cFR4aFACaFzDyT5oXJuUGAiUNocgJtW483///6fSzjE17+qrPg98apuSUzrc2tEaYfXSWao5wgr6kfY3jvI/VkoOFjLCYRFWONDy//NExCoSKSa8AMQKcCoPDwbBI6pDGh9KXERg6oOCwFJFkjhK8193//+360KVWfuiMZ/NIIdvKHmZlfDCIAESau0j0GdAbhPtY4SboIIFa6BgTNBAuFNqDRiu8JD0aNDC//NExDQR8aqwAMSKlHAEqYdFeVn5fR+zvzHRVHVFfyRaOgRFuULCmoiBCxaF/BkAzTAaUjm2gpHou1A8Vu4wzDpqZHQNgJIjI6Jzy05MT1k9WmNF0MR1AfadQFTRFQFI//NExD8SeMKQAM4YTA8sBYNf9T50NCUzM8wQ4WkjAYTMAAYxWEjCxLMmBkwOHjDoWMhSsDtuIXeTCh9TFAK/b8zLuiIuUIxKmAUYHmSzUVnKCp1Yi0tyrv/////+v/+7//NExEgSeJJAAOYSTP/WOIBkeC+yV5f2ZiteWwFBO7MckFbFhqMFlhJ791aJk+oBImhZTkA2FUqc0kXdUi9Am5kVJpltTxxvpFQzZeUpSLpex43UwSjqOaCWpB3inUCu//NExFER4DYgAVsYAIVNdtWNiwInh/8609iFmW6wpBggkG2bIuC4LYJACMaDetyOHMDgKQlCkFs/reJwfHIJwfHo1SldJtpGSHoQDYuEBnQW9KyFbUXdblwlHNCg5oUE//NExFwg+xooAZtoAJqN2WvXXdqCK1bkoUHJQoOXCg5cJRttbV7Nu9LTX6HNjQoJIGljRdFYdY7KhGFTpGTrjyFYdiZ3xI0HduL82BgcQXZpquHdciahIyTtpzqNYbmn//NExCscSOqYAZp4Ae4UZ92Nniv49MbfX/zXxLx5g85El//Rjg9Xqb2NnJx0fNamzSXgAp6QPRjo5EdSmjeENWm9/P8zDxHu8L/zsikn+3tyobWqxpO1VVTADyu2y61A//NExAwRgZ6gAdo4ACXtMIHA69p1amrL7WfW5uGRARGQVuYHxqJITv//0////+t+r/9EMzEUgJ3K1n9/yX//OAADM5jqtUi5b7XiA6NJ0zv2L0qT/NeYd20mockL7Eif//NExBkRuZakANSElLh7IHkhb2anz5wdBv9///////VnIVF1/fLhwVGB/+bKZfLt//reCCPGSh8qLC3n5brIcTaWhPd0y+TItV/k6jgJUL5Us4SQBRDxnCiXhAhgDRPv//NExCUP0VKsAMtElP/////2+Df1zxg6FE3td5ftEdv//s9ZJ0OalSLm75dCBWVnsRYL8BXzysjRJVK3iowVRTWdNh5HC5g+HD///+xisewPhgakKPQJ3rCyggXNoKNH//NExDgQ+I6sAKSeTJZv//dQVRSjKSZEBkrHAsy+GBUk04hpt/K1hjIVgHax1y5Uda/yucA8GdjXbFNarftJEHTINf/9cNFXJc7RgqwTHgatHA0WnnbP/+RprqjQySHF//NExEcSCKagAM4STI1VNSgyZ1ZiOgBgoYYaABQHVCraQEkBFMhCp40GCczGaKhFRwKgsvBRzMxV7WzSbSxEs7//5G1v/XrYWJf///66oFIqMnaAAMMEhx+GRouYMM27//NExFEQWLJwANvQTIkYq0sppa1rLK5a6eLPUtrWhUkaqfqtp3tYHC4Guue0SosvqQm7Y7QjQt4Q6YtoauYmhxR9PXMrHyHpF7IyNwJuz+pP0ODCL9f3wQA0BW2Dc0Gz//NExGIRwFYoAVoYAEBmA33wNkIAFDiHikv/DGoBwsA4+Fkgb59qvEaidgsoC0gZMZj//DVAzoj8LqxXBYCIf//mZuXzdAihRHGX//9Xb5kRAcwhouMPuSAzY55HC4Bk//NExG4gMypAAZmgAD/////KZXIOpi4ak+O8uMSZ4n5MOs5ohBYaVKZZDAkO84P2NuGG83vqB4chGgMB8gJg6kFAEQIpYNqZsIBKJwHgEBoI0UHIs70FgaBGsByHw4UD//NExEAhEuKkAZlAAcF6mohut/Gi6MRRvM/Ee8LVh+g8U0m25WuIiv/jpzHHOjUh5FDY9mXXaCUMuq/5nHmD09+rqnT1rqNZG2drf4QIIGspKr+WdKSomWIrFbusgIwF//NExA4RIMK0AdlIAAZl0WfcumvWlyzpqWlx3AcqV/09KWzVyUplDRUhLBRGdE7v2fkg2Acp/brYVi7////9SnLTcbq9bygsGw2a2YeeIGgFoxbj6IygxdcRgzlKIRVv//NExBwRgVasANJElIoxLnhGWQibAlmaI8CJ7192/9urfRaoxwQlU1X/bcvZ////poDrHnodk70qkzbnKgnPCKDMuZcJ9YlPy1uTQ4zZxle+aiC2RytVj0yJrpEBpXNm//NExCkPsLqUANYSTMrc/Ka//2O//4eaIF///+v9YwuPKDpOuXQSQARhvkAgKA4YHQsWL4tjcS0frv4ka7G4Kk8/07UyQGCP1GnX7tqX1f//+i/////1Ku7lT//////t//NExD0Rsv6MANtEuV9u/18quwz4BnIOCH5iAMADK8cmaVftVEI2CjbG1VUlez3Ky/OIhRi1U3qRbOj2N2pmvb26q6n/////////+7dv//////2d//VkK5DDDyDpFjZp//NExEkRswaEANtEudInQwYDMhVjWTgHB4QEocTFB0IAobkDDofgW7DLsxqNUztSOHefjs3AIMKo55W+S8qM/9v//////6/iVIKgJ4iEVSJqQbv3TsRKnt7CyCrnlPP3//NExFUQ2JJoAVsYAOOKA4H6mA/AAJaA0/94LeChABpgbS6/4N7AHQAHgAkIe//+FrQcADY+AUsP8Fpn/+A0gMbixjJDIh64X3///GcHYJ8GXImNIeRcYgH///+OgiAx//NExGQhSypIAZiYAAeyCCyC6T4zZKDgGB/////kmRQWQOkUuIPIAedZubFEcap53YkJKauMzcSWKWgI6wg0q1Zdtg6nkkjVE2JkplcFATyQcniiZORAmGNhpkMKhIlh//NExDEdUd60AZiAABPGhuUzdFBIc8YROpoGBZSpIqSqsfvoIs6SKSFnfuxne/1Len7qQTVvNjBYZAYRGyCt7Jd85oDwWegPzmVakDhj4jUAasfJuhQFc+hCLE2jbsU0//NExA4RUMa8Ac9gAGvISk0WVhJmPLeWo9z55stntdK65njgYHy6S4Ir1GHZSs9fY7IGxQSpEqCxdD1XGi6lOeEabGJqs4xgF1LTqCE3fwfiW10QI09suyeR9QSMM2rl//NExBsScMK4AJPeTN5tbU7JvMqD1Lcv6E67V0hFxR89qBWIpGImCZImQKjQOECj2o7FPoX8klH///+iw7dKpki5jjxlxnGmDijeUOJHVoQEvObCB2nNot7QauzLCpll//NExCQRELKsAMPYTGPVDYaU+3/86kMngWSeDJEKip0jK/6+dF3DXf//+6RlqsKB+TAQA7kPYvByipjgUj0JYgUDRZEhU2o5BQVtiyUAF9C6V0P7mJ7bKR5ns//rtBU8//NExDIROKqIANvSTDA6GhcBP/////x13WpACWAmBJeUV18AV5OhNhoHhKHg4Snml3oAfVOZC8KquQO8fdVwLTN4WfqRG63iaLSjFBrSR//t1C5Meb/5z///yEoT9SEk//NExEAQiJqAANveTAbLKpihUaIJM2Ikaa4CVZo4EajYuwRhUUbxfTw5AbCuPGQBz2aZ/4VHacxrwRcmuAZd3/9pALsLInDf/f//8H4DSNSK01wQOrYwJErVmmIFxOBo//NExFASMJqAANvYTDlIUwHvqz7LG8sA+IAIkskToBGDAUXkqCYFk+qMXV7/9//9////6EahCdFMQQjISEEKKHLCH3U+p3/61Od3c1KV1d9trsDfYTTrYAhMPz0GobSG//NExFoSCYqgAMpElOPxzqHeDcR2tKQvVKw1AhVY6SdemtelP//////1fKbZs1aicws+KgIKAd9umpH/Z//R9L1pUrOUySmAIGSXWxDYzkYS0INZPnc6J9UMKJTnchcf//NExGQRqXqkAMvElE9KzepR4zX3PnHtT/P////rwyncUry2qTQxCDBiyALhBzDtlVaV/EW7//+jqVXmWM+T6kXt2LanOtFcAxswFwGKUBcQotGhm1SkWWrLSUpaomCj//NExHASmZakAMvElPqQ+o6v/Za9RFjyku9lQNHkfs/6WoW6AbsL3G6BfB5FRJY6uUT+La4p8H8zo/68ff3Y4aZwvxdvUQovOuImnDpW3Tr3vXqU9B9BZ1ui8RDkzSlx//NExHgOoLKwAMMYTNw/d17///6N1TJJ9bCcgKlbJEDJPNxJVMsJAkth4kPIhvpDy1D8/K15O/0pK0XDH1hb0CBQ0et5oaADgUbFgMhiDyve5bGOe4P/T///5alyledr//NExJAR8Va4AJPElLSA3ss7MiOrebp0OU5dNcdlCwLqgoFS3kxeqfF0vNfA/4BKrU9jDiDVBdqi6jCa6K5jCiDZCRLK/9tdbf//+6evnUHYjj0Ks5UqZR6kv1M1jI2c//NExJsRUN64AHtMcLtuiIg3t6yF9QhbltS3Xlfbt1bXxqbQTCVYqG2UwZdVFSshoceaWH2cLSqGSq1o+x3///SweQOkdCTsyWEl3ustkh0Vol7MDPfGn49m6MQojwwH//NExKgSGU6wAMIGlIIDeoxMvTl9f/n/r0arU48YIQqEgiootohZkIwqXKi1uU1tA2iQYQWCwr7FpW36m//4VQwIDC8UGp4qw7qPkrmI2LawouGqWdLzsvQJuAPqXnbp//NExLISaWKkAMnOlO/X/h/4Z7ud+KZtbQuKlE2SNLJU59Llj06khaqqXy/JwkFixQLNM9LlBv///KwHIEgikofWhTVo5hjWBEUssWywAX6fmm8sEvcXGCwysHg8TUR7//NExLsT+YKgAMiQlPJv9b+Hv2SO5kRzSdvAOv2kQbDWGFRBfW2BzWBTiMFJsOPLDwuBSQQHf////+lT4gSgyuqioxA7RsuwzwLgqrh3Q3mzgXFqKJh8ywXL2jHUvuOJ//NExL4UAYaoANCSlMr/EDG+hDTGsz31TU3D+zJdj1zzU3ISnfa7znSt1/X///20bdXmf5gqL5808a7cP2o28qpmE9etIM9aBIkfSKXWlqMka0SWUIMDgWWLvu3s9ysl//NExMETkWKwAMoMlAVbVEQ45lg1F0kExV4/fdF3p/cz///6VebzqGXy74XeTvRShFPcYDLNQ2EW6fOoaezuq6adeCy7+JYngajvL5fsk6HgtDiR01Pbm85e7WklYucW//NExMUQ+VK4AInMlDQiDSvI0fZ/////2ra4isalOnYbRVoiqAqAgg5KBFq0WehYstuX5gFJlhKAsKnKwdHm7tNF1WIQjEmHEjTDp17r6////rr3ZDHEo7aI////73pa//NExNQRUVa4AMNKlJ///////b/otldyBwtML9V/m6LUMFHzx+QRARWBIPlUtCgezaGUiwUFPJG45GGJkoyBGWOelZ/l+++Ih7s8uOdUSr+Oz41fX/xjO6Zv6ems7w30//NExOESaVawAMPOlG2UMLRnrJIx/1//RUQrUEiy3T//////1uv22W+6qRlopmBofRobXRQSeg8z1tU5oMNAgddiNRhAhEq3TtwgwdDe2NIhDp9U/zjraG5ME8WChdm+//NExOoVAu6IANoEuUfoZBYnNDydrh0xsa28vh59e7/e7/GGnRXGChCMA4eODhwOMQiBweomPIou4CC6KJmY86oRBOiyCaEZTk//////871fRp5zqxBAQ4yT4GG/WmV8//NExOkZgxKAANvEuBkagOcQ3MT5hysX7hGhI1SzGS+Q6lnCovlamd6ZcV1+4zLy0/PlL6SbeL6uxOZXXqp7PZU70syylU3T471P46yy4pRgsH4kLCIDnQBg4CEh0wcM//NExNYfut6YANPKuUFjgOPCw4JgODDxYYBBEzkFDKhxdHFlSUaNJZUcn2ofv///97a02zTuag+Y52QVVxqi/H8ZcJgY7sIypn39VUtSTxv0yya3BJDGzqEiq4pCZqX///NExKoiKxKgANYKuW23zVhcMYDwaStOye6Jv6VZkLQeNHojxziwPHQoEyoc9x4uGiX//+v+zYKOQ1ffd8bINhQ4A1uQK2ts307PM5Go3pyUKUU9CDU86YCUjrMtdOyI//NExHQTuXK0AMvKlCgR82Sn+XK3N6P3XmR+jo6iVLBjIGCQdEus7+p7v////4aVjskmE9zAyCOWEEiFDbOKk6YXBU1nymi/fNYEIUJLCX8yiqEY2NkQ3XsvX70o///9//NExHgR0WqoANMElB/////8gGfOy//////69GMr1/qkoxDCBDnGBnLLKkKmYwEn+Q3hpKmitHYOT1IkV+bWdwcCOmFCaHmTJqaevdicZHVLWl6Xt6k///+/////9ESr//NExIMTSwqEAOKEuasCjl///SxBVid4sgKBAaDQPFg7MbBYWIqUZaAwE1jgZMEgW7ErBIyjNmJ6rQ7M30YPgaKIBIjEhqzw46F7QV3damf////WCrv///s5KgGjRUwH//NExIgSOfaEANtEmFU29RTQRAMIi0EFo12+jeqKMFEMwMGBIZIfg6K0mDSdcr6O23rIJMcUFqLcXJDnK2GJms+PcsWEQdDQdUFTv//////////rEHxrLokqxAYEVPRM//NExJIP0HJ8AOYSSE8pQ/ErtVu/ul5ld1axYf2QwKWJUMe2atXLtbSs8jVAPb7rjigZnzyuZZ3oa9d2jeqm57rUh0mlKns40GRnbbhYN/yx5DJlxkb/35YQClKeSCRO//NExKURgIZUAOYeSANyQv8Jt80oFcAxwrwA4C5PsmV2NwxOFoApIOjFo/N2TemIDCkSDCfiClb+/2FxDyOMZMcwi5T/+21mLhFyiUCmTJGF0mf/7fvdy8akVIsOAiBF//NExLIRGF4kAVkYAMihYHLJQcX///7fyKlc2LpB1mhFyHl5Eqm9YC+VNgJVgelymBF9zMXNkZQ1qAEWOhBBd7IusR9Y9J4YRUZjBUnjAWPBfNAaA6ORqegBgbWHZUES//NExMAhqyZ0AZqQALS773jYfidBysPigIAMgs5KIdiwYbo30spKIrBAmae7/66mpbxChJMLOILcXuv8eIkyGJsgIGm8Vhpasiz1eyKxJX+y7eLS1qKAekdIUxalth1B//NExIwY6L6cAdlgAIoRIA9e9p98QBQH2k0ViQadLLMDRL+n///////c9FraKsr8MwUBYrGrvQFCFa2zS5dkyIY56YJIuGBocsQ4ebQX8eloDiShEKAwQtoEoKrLebPH//NExHsSEMKoAMYYTKAMCow486FSpZt6W////////m4oYJKqmmd3RUc72os1gLAGm2jG7CWhg6EBeWjmpdjUlDbIm1AZEguUBGiQUgaTUQAkIQy5pFJFFJoGgKCoFBUJ//NExIUSENasAMPScFl1mv////////5Z9Yw5hPHnssunyGHIkFFUSM1LDHQhvkSTDA5gRlWbA61aWUy1gT3K1lorl0FSKSxMJ3Eua5pEJA6ISSA6IgZzpLkv/K////////NExI8SQMKcAM4STP/4ljWNmOVmAy0gTLQZAIcGgsuxG8IAIWGkwXyoYChtYrRGDCIClUrduSu0KUwWHMCZ0NELkWLSxvGbPcl1ntxT6P31dS/bzit/s5s44XMeBwgx//NExJkSMI5sAN4eTEUXdXVB8zIcqa3S4htqlgNRVDvAqQpNcCjaFn0OLAHE51UkMscxRNjn3R/coud2Paz2l1MaFrWdJax60paYah7HKc6U1S//wIb56X//T9BwBaPl//NExKMSQIIsAOYSSETiggVAD0/JA3NB2B04AYAaqDdP5uaEg5oFjAWfEZg3UC1/8qOaFR0BGIbIIRibRIBu/zR0DR0GFmjOD7FdIEQ8cP/s32IcYk6UDU6YGZD///tt//NExK0RQDogAVsAALG5fNC4XzMwMzViLnv//2//kUKZFS8iYlg8YmR4h5bXjEYoVlHJMonQbfdci1MaeXz/46leVXCYpIxZxBN8F5uDaq6CT3+e/bk+9H+39W33W/Zm//NExLsh+ypsAZmQABh8qt6W3g8CJ8QCw9Smk1M1U545qGUPxoPY0VfJlNHzswNMqLYskBMaIILRKVApgrMIDHXb//////0X////////////68u5RKfloQ84dCB4IfGq//NExIYP+IKYAdlIAO9mIoEu0taMAwYC6TRgTApZ8pMpBEdzX3dqjQOHxgDe0TvKO//L3fs4Y+XAhyGMME4YB9YfpKRG/h8FAgJr3n5BgnICqS4Ppm0wLGEtc7KOr//9//NExJkRUq6YANKEudS5SMOxGxhGmjpG8HN//t+hLq/omnuhb6knZ1ejNMyaEYaYjKtzop3MjHYPvOH6pZw4HGUhA44gKOQgcUHFIuznGFGDzuH1EjnFx8gi4IZSn/////NExKYR8KKoAMwKTP//+/L///////+36+vvWlei3KGVDPEqmNIcyUDAKUcKUeHY5DJRVAQRxSDggRDgigQEFFILK4p1EnjphlWX////+v9f6+hjL1s0k7UndjlGseMU//NExLEWsxK4ADBKuYcRKzCpxJyIPCjlICTC4SMUJIHB4gKOKlQQIKg4sCh5RYPkYBxgfIDmILkKICYKgCnVcf////5/+f//ieV+47aOumjrSLWpVKkYp1rHa81+wuOu//NExKkPywbEAAhEucVinGDXglDxQu4ILyi0ARHTAsSOEVx5BYNRClLkFsyIRAgFIJRnr///P/////////+t11301a376d5VKXESzK3l9WV/qxTPMIiriIrlI4iBUMge//NExLwR0xa4AAgKuHRylKQrAMDCIqhnKjlEhoAgUJDjKgHQAtCljMnRmSKmqSkutH0nWp8v8yP/////6e/Q2VkM9HXR/2lTo/8ysb6sn/aWVszsZDPlavRyo9WDOVlK//NExMcQwxq0ABAQvRiCqkv3NfKKOKClMD4g5iY2CDQNfmoarRKYz3rN6WDwrQt6yLWyP9RJ8YxrJlx47PfWIudXvv72/jRNUh0zilPm1Xrs6E0zGR9QM1zvG7R9SUMR//NExNcRSyKYAGhKvGkIPCPM4WxeDbP+K0+LZjazZkcIzyJt4sY/+Lz1+f9/0rjfm39xnixLinvqSry2cZ+K2pvVNf/Wb09fjevnOP90zStMx47yny/qjeStzVV2mTvz//NExOQRgtpQAVEQAdh9OHTCw/cIjpTBrhPcxImgigNCQd47yfZPg9aQ6Ct3bEyfZ8PI7UGol1tk3N3ybn2Jok1Ob7dbZfdPt7nJnbPOu3H7ue9983TZlnFa3/EISWT///NExPElEyocAZt4AP7+6dcQuwog9cPmZdt3S1v/NsZX7GflVXCh5mlTYq/bG2tjKag5StYq2g1QgyFbM0FKhLLFKskRxSyp0iswakHhxcICOMYheW+xWzU2yAmO6C49//NExK8gwyqgAZlYAJlt1vcQqijr1EBV7vr/zhJoRTd////dQLdNZllgCtBwLjpBxnblC6xXIfS1mzaLNq90kg7ay6b/spm8PhDJ6gNvUigsDpYs45s4LLKXvburWlRl//NExH8RaNK4Ac9IAHXSfSiKFA9U2b3////qGreeVKDSpsX+XERP1g2Tgzaz5GY1BJCsa8JPa34Q7PjI75zD9OJMhIjWVdamyJ3gpPhCrPnTAeYqcSNeSGKLhoLHQeYp//NExIwR+Na4AJvScPs////1VViOp2SGZOlDf4vNY1frEGaHTNbDahOsbbWXP9fv5K2gpb0zMJZ4lDrj3yuIh5PYJTzFgEYBcK1B0sJgaCj4ddLNo//9bklu+pplSjfZ//NExJcSSM60AMPMcE0AJI8LpDYnFC3QLZLnTGl7+igeZkqyQmZXFDSLfSKUvn7V+843eYBgEk5pE9DX1a3YlAT//7GNW5bqP//+8qSqPLGD6jWUAAbKB6OidtOYSvLs//NExKASmMqkAMvEcGQMaOMBoqzqJCk+l7Dxcba64qKAwvLYtYeNEriW41uOtrjHMXd7raNyw68CXCl6t6VrnVMMVox1B8KYQHCwaTCCYspg2b3ansxZDZZ6mpba1DyS//NExKgRkNpwANJMcPW1SngYeeVswFVSsgi14mcSLsUTduikPirmpMUXYssJVsRrshU5kHMWhXHsbGANF5/VZ0FiHj+rGSV9xlxC4pcREQqOnwbsDLApQMtkQImThG/D//NExLQRaFIkANPSJOMUuAMBthIC7GRFfARj5/E7n7oQsaFGGOQHSQX+ThpW8uFgnSYKJQKJB/+g36ZfRm6EmDBD/9O6DdPkwaFBRi8+g6CP//regylplxZv885obmbk//NExMERIDIgAVsYAGkUI8Z0ixmT7rO+WQqsrK8sqpWULsis9edt/7+GE3T65lKMMzf2ZiL875FP6gWnFeSioD6RWdySvg0OTW5hn+73SaN9aUf//tWPxrVvYQq5rmYW//NExM8hOyqMAY+AAErfvd8tWzXDMAYhYraodE+cE8pntiERv8iy8OGhwAvEEPX6haUbVl9ZS5xeUzwbR5/FFpaaD5I8ZcMdshjMRymf/+iv9dVqzgJQYTJjoFcTyF8Y//NExJ0RYTqwAdgYAPHbCdkdaY/ybLMfa4Ver4a0pswjcRAW2HklW9Fb/6968/8uXhYLDzQq+hELoSpbn2qMXaEnOrE6FcUu2EHfX0Momjh10l27OiZRSsXB/hul9V8d//NExKoSSUa0AMPGcOty3DhLTdmkDBRDhoXJIE4TlMSomt1i57jnab+6ncZZYBKLwUjhtQlLBI0SIK/Z9KrDtUaHKdH0pmE0YjMwkpMlVQGduJCQQmxPmkTaVNwW1efq//NExLMRUQ64AIvMcNgWRSRdaQyAE9BoKmY+pdbBn746LaXqJo4FRRffUN8UC3cb9NWwmApQBgVPFAGRYKWVIMW1a0RVOPoLoTsDWC+BqIQHSuGMw9zwaIWiEMhYuetR//NExMASiS60AHvQcJHRVA1K2ePoWdRIHowMiQyoqoWODmKcqpyqVbSasYA/NRHh1Af5pwDQwudg3IYVpgesCXHOPN6fBiNkDKkcID+O+iT6P9yesmYALAmKnM51HJPK//NExMgRiN6gAHvScTnBggXfH3BhCt3ccYaEY3zsVsUyW/7z0OImLAmNkQxgUJ2maFCSznNCV6EPp4x+ophZXp3koT6JmsrwWMfRS1P1fUcrHV1XA1I5PMlKlk3y4p5g//NExNQSENaMAEvScHPA7FMe9Gz/ulXPHLGsFpHcpe/BKmEm/dyRMj+1qIJXq5Ol+L6JAVrE8VyecPeZPHGrNt1JUah0AYUxyIeXCKefT8IctoqCBaAgzsIw0XFgGKOD//NExN4QQMKkAHseTIevNvW1P/33//2avoXD8M5QDTDZM+a2vuTd5BaivtfFlOGofK6rK9A4v5r1U2dwLuiQrU7VGcjmWBlosUnyE/ewsj08yL6QOC1KmF1kUM7T3Snr//NExPAU8YasAMPQlEMChEgBKTnY/cf///vrna3O2QukfTf5rro29fm5ouPtiIONO6zLAGcjomItndZ7PmVKUjM1lWymFyvu7fgTO355vbefPvuzsfukUiK0DyB9oYHk//NExO8VYWKsAMvGlK/zEi7DhFosXnzeq2pOr//2/N1qRZFRGgRSicUHoD9+uBTPui5Eru0mt/u5P34JkuS5QaJiihzPZVcWR9SWztP0bJbOHDzWy1hXqecl9/iLUiP7//NExOwVAa6sAMPGlOfuuh0OADHgcY5GFVFNaLlRECevrwdMB0qF16IecNdfvI3+GpSssXEke29rDW9FiPFrKDihVeHWekveyHg4Qx4pZIRiUgPUKJGqt0PX+ftW5i8c//NExOsWGZasAMPMlAIiJTZE1f//9u4N4u2MFNQ7NQSCRY4ULMTCGXuS4TTYeo8JUE2AoRbmolJqs4kxInnWYmray62qlVRKUqiIAh51qUvr9PKhnDphEVEQFOiIKhr///NExOUPuWa0AKJElSriwNUCL////9C8NKrTY8X3MAhdOESIUreRE8wSCgBDkoNEZlebJsvLgPA0lwewTQCiC2OMpmoKLia6CKSTrNi8tpu3Saugv//9/////9FOYweG//NExPkYgc6gANPQlAsilGaz9/////oYxzsboc79DFRR0eLD5McOMGgtUOLDi4QmkkuMEQ2p7DS4cRNfBBIZdBSI0blKy0cssqgXsSlAng6wE8eP0F6aZdapWy1OyBqb//NExOoT+VKUANtKlClKW2pGtf//+n////+khzukzj3//////zYqYqtK2x+MFbsMFQY5BdSC4mpUsvTJDgcdreZigHQamIYDCBisCQJTpbl1oX+EFFJEd4OsDsRzyjBt//NExO0aAxJsAOtOuGlW5g2xtrUzppIsq9Val/////////ehVHOzOLN/////6MqT3JZHpy1Uh3OBXHK40SOPPRV+J6WAmZO/Kg4HgURiQCxUYo44aQNnCpNynBuBZock//NExNgXEw5wAONKuQ42YTjmfmOX7r3/Spvd3e4RHREk55DnoyEU+tv////06f//////rdnW6rIyrRdGcpS3OZQjIYfgRr5jmYT6ZlQGBOG8Dl9oCAJ11aXd7LpALYcs//NExM4W2w5wAONKuUdaMO6IWef340+I5X621pe3xYWLQVGsQcD4XBRMBoFYqgeArIQQ4aSBcfJCTv8PKcf7/xvVZ7Tcf///////////1DVyZcJQyEUa25o+itSCDSYI//NExMUVMxJ4ANoEuJL1qvoW6GEmBxKPkAQzBlq1wuewa/jTtQVUDR798//////////1mbVYaIKCyCYukU6MijyRpt5rYd86mWTDZpobv13///60gQTAmEkgy1Cg6kVG//NExMMcivp8ANIQuYbC1crU2eZ1Ohbg9qjboLAn/lfNcPkKysbb///////+zM+ZmvqBwJQ2ELNuHWcWZ1o0UxoFg+MNIaHjr+x39Fv/1XPFqVhQNJhsHQcNAZWn4Ixx//NExKMUmYqQANCMlIQdyTA2xMR2wYUuV+3/jFgmgzrPQSlWq/0///////vh4bZ5YrTgJbrNySC5DHaSfDTBX2W/////rAJ9cu8UUwUVNxirTiKZQaWsBBs0zWAq/SEh//NExKMS0W6YAMCMlPeC3gYEYwm6iBphSjafRq8n/7/uv5/23IrNUaVkhW0uowo2lZhBjKPvdMkPFTbAIPPhw3//p//0W6FGccfCxMCVt3FFROkhlw0yWYofpg4SVM+2//NExKoRuWaYAMiMlBAEZRJ1M9y2NS3/Z9v/+37983lGYRWoofjgT8qYdVJPi8Bc8IWuKHkPI2f////UdJz6TjHEL3Dl7XXwHZsel3Z46N/UTZ1PuBeyCaiiW6C8ky++//NExLYUGWacAMFSlJq2ZvppqRoo4oKCZnFEYMuHWhSnAYPqMI63t2SzS1Soy43/////+1L+pbV1VIWXWoWSXePFf8efqXww47FyKFizBztFn3vyFZrfTnYsot2dHD48//NExLgSYVqgAMFMlKEqyOo4oUYqCICC4UFxxRo0DsHKEwZTf/////+jXqXeETG1xfB3fpoBt5lZ2Ieaq6h+PaUKAQOBDVrG+bpts3OSmsr4SGHcWODFQTGhjkwgykzF//NExMERIaaoAMKKlFoXAxM8KHQG88kgRk6mq//////+ZbvizCES0IxfyLXhP86at3IZOhOgP88aHraet7vbemVgnJipO0QIofADUBjRpWxI74PMWJV23eAkSxCUE2Gn//NExM8R4S6oAMMGcJ0iwmO//////r6kKs78QF8xTNQ/uT0WvuQv9HFR0mp1auBrQVIP9Qx2DVNP77mkke4tB9mqFEADQBDUg2U9edoz92OxzqxSD5qZ75B+cvHvPvap//NExNoSMTqoAMMGcJpkFCs4p9X/////rFLP32A357r8PfqPRfmcx+lzO82g46mHs3QXx4QmpyieFvGI8akClsv4sWdPAoKFbLvcM16s+qEGueFHFnkCRh+rsPiQBiE0//NExOQSSU6sAHsGlBBggIvBB6c4v////v/WjTXPGbADop6yoXrUDc1lYxsqH9DFHonB+Dcnk4kRKUTiz5bpTM5G6tcu6DgoOKMNVh0RfSwtkUctkzSulWxsuqM4yOod//NExO0U8ZqkAMPMlK5c33oa9GUIcxn/0//6vWrnKisY0i7El3QJqlne8rKvyAnTiyLr2FicwmqKlp7V1Pki+IyhKKwWBuGhHPxkY17a774iVa8eTR9jSpRpIqBqaFTu//NExOwVWUqoAMPMlHORDIOzjs4Oc3/9///v/ap5gCXLDNaIbBzJfEWOz/0E/vZw0uUdMk8FFUALikhtdD51W2lIpBGohbTHESdS2f7h0Wzuj5t9KrPKftInLp1G29dW//NExOkUmaqoAMMQlGWgxguHg6Te7b////qo1ts2a9bvwAFdrvk+FNFrm6tinlMhZbXWNmEYiEx8cQorFM44qi3CyzSa5gkLaHJj6p5zlP8zPH9u9u1foZRfMe3bay3w//NExOkVaaaoAMJQlJHZjFGFTWbZ1vP07e2gVFtH//6/0phJ4EBgacJwTY1IDauJ+GlrtVXs69ZIlOlcPXliYHh/987SjQV4SJAMT8PH+e339vWv/2zO0ztHFhOlySql//NExOYUgYqoAMJMlOhU6MaBQAEwmXElCf///+m6ulJy8MaEzCsH0FHzJlK82STryWbRm2BkTXFpllWm2KJAaaO0KxXwGPGQYkkU7yW1TnrP37+/vZ/WZOtpS9m5laO4//NExOcVebKkAMJMlO7PCliqYGSZUo1K+j//6+ld7ejSmYN5QRk+66q6aqI9InQoESJGYVgbYXnL6kKjQqJ9RrSNDpsSyCh7OZ01t+rN3LmMV6jGAgosoCGYRgs8CCMs//NExOQT4XqgAJMMlEljAt7v//9vs00G2EGNkSITXePl4xk8mDKpKTLqGjiemzhKGt5K0cIQyBw8SuExYiDAsdNTBl1vdprdf//O2///Ml9jYXZJF9OSHTjnzWynFAZE//NExOcVAZ6YAJJMlMJYqe2bG13//5td/01qBYDV4Hq2uttaceZciGQSJmlYCptD1nhU9IhJY1HyWFTXVJSoIuGh1DGMpeY5W/05fMWVjPEgMMDzoYRFYiHjUDzwaEQN//NExOYSaX6QAIpElAd/LAYO7v//63fkaiQgZRitk72vg2zF+rORIuKSOCqrRKQkAwS2ZOyqli0eaSLAICJoYK7dvoGAjIYyOpUNo3ZDGVWW/ytQMKPQVBU6JjwiUHbC//NExO8VmaaAAEpMlM+sNQ03PbA1hoRHqzr/rOlQ0PoAwKgcIxQTnnuCIyMjAM+rKCBhQQcQOJDBQUssssBURmXZUKiosLCwsLipkFhYVFYqKC34s3FRUWFjXqFhWsVF//NExOsUEaJsAGJKlAWNDxVtQsLioZd6xRv4tUxBTUUzLjEwMFVVVVVVVVVVVVVVVVVVVVVVVVVVVVVVVVVVVVVVVVVVVVVVVVVVVVVVVVVVVVVVVVVVVVVVTEFNRTMu//NExO0WYan0AHmElDEwMFVVVVVVVVVVVVVVVVVVVVVVVVVVVVVVVVVVVVVVVVVVVVVVVVVVVVVVVVVVVVVVVVVVVVVVVVVVVVVVVVVVVVVVVVVVVVVVVVVVTEFNRTMu//NExOYTqL00AEhGTDEwMFVVVVVVVVVVVVVVVVVVVVVVVVVVVVVVVVVVVVVVVVVVVVVVVVVVVVVVVVVVVVVVVVVVVVVVVVVVVVVVVVVVVVVVVVVVVVVVVVVVTEFNRTMu//NExKwAAANIAAAAADEwMFVVVVVVVVVVVVVVVVVVVVVVVVVVVVVVVVVVVVVVVVVVVVVVVVVVVVVVVVVVVVVVVVVVVVVVVVVVVVVVVVVVVVVVVVVVVVVVVVVVTEFNRTMu//NExKwAAANIAAAAADEwMFVVVVVVVVVVVVVVVVVVVVVVVVVVVVVVVVVVVVVVVVVVVVVVVVVVVVVVVVVVVVVVVVVVVVVVVVVVVVVVVVVVVVVVVVVVVVVVVVVVTEFNRTMu//NExKwAAANIAAAAADEwMFVVVVVVVVVVVVVVVVVVVVVVVVVVVVVVVVVVVVVVVVVVVVVVVVVVVVVVVVVVVVVVVVVVVVVVVVVVVVVVVVVVVVVVVVVVVVVVVVVVTEFNRTMu//NExKwAAANIAAAAADEwMFVVVVVVVVVVVVVVVVVVVVVVVVVVVVVVVVVVVVVVVVVVVVVVVVVVVVVVVVVVVVVVVVVVVVVVVVVVVVVVVVVVVVVVVVVVVVVVVVVVTEFNRTMu//NExKwAAANIAAAAADEwMFVVVVVVVVVVVVVVVVVVVVVVVVVVVVVVVVVVVVVVVVVVVVVVVVVVVVVVVVVVVVVVVVVVVVVVVVVVVVVVVVVVVVVVVVVVVVVVVVVVTEFNRTMu//NExKwAAANIAAAAADEwMFVVVVVVVVVVVVVVVVVVVVVVVVVVVVVVVVVVVVVVVVVVVVVVVVVVVVVVVVVVVVVVVVVVVVVVVVVVVVVVVVVVVVVVVVVVVVVVVVVVTEFNRTMu//NExKwAAANIAAAAADEwMFVVVVVVVVVVVVVVVVVVVVVVVVVVVVVVVVVVVVVVVVVVVVVVVVVVVVVVVVVVVVVVVVVVVVVVVVVVVVVVVVVVVVVVVVVVVVVVVVVVTEFNRTMu//NExKwAAANIAAAAADEwMFVVVVVVVVVVVVVVVVVVVVVVVVVVVVVVVVVVVVVVVVVVVVVVVVVVVVVVVVVVVVVVVVVVVVVVVVVVVVVVVVVVVVVVVVVVVVVVVVVVTEFNRTMu//NExKwAAANIAAAAADEwMFVVVVVVVVVVVVVVVVVVVVVVVVVVVVVVVVVVVVVVVVVVVVVVVVVVVVVVVVVVVVVVVVVVVVVVVVVVVVVVVVVVVVVVVVVVVVVVVVVVAowMt52B//NExKwAAANIAAAAAKm8D53Iw5bD1TqnWOxN33/h8mGBgJAgAQAgBwRB3fbXwEgSBIEgR1bBIEgSBIJjljgSAaA0BoIhMPF95owsWLDxe/8z10aNjrkYrFYrFaOK6NHO//NExKwAAANIAAAAAHtQRisVk6NHNRAKxWKxWjRz2CNuc9qEM/9ro51BGRisVitHvuH/2kCDK/qEPPznv/nOahASRRo0aNvFyMVk6Of8IZc5+FwsVgmGydseAQQCR84j//NExKwAAANIAAAAAByfdmddmVS6JW5qm7uys0KkQJComRCrFSFAKhUTBYEmaoiRCoVEwqQs1KSIVCoLCkUoWakiRIlcjHqqqs9mZgwnh/qrGGFGTNWsbnGVVVaqr+q4//NExP8pexHsAMMSuWYMAiVKBgJmCqpQCFeqr9LYtjn9DMoCTbMqlAICZqx/xqtARKIbFjf6BMoCsIpgglE501coZKpLvaA05rMGRd+XCA4GwJAYPkh8lLMEwhKE4lFR//NExKwf8wIAAMJGuVUciTYJiE426NaysuwTEJ1hpVKbKIqXYaVgaymoZyaqGDB0HEhqTRxLBUcmjLHJliMqGrVC6TVGWoatSYLUZYZHdWpGubWGrUj8mWOTQ1lJlBSk//NExH8hEtGkAMpGuZYrZvd26kxBTUUzLjEwMKqqqqqqqqqqqqqqqqqqqqqqqqqqqqqqqqqqqqqqqqqqqqqqqqqqqqqqqqqqqqqqqqqqqqqqqqqqqqqqqqqqqqqqqqqq//NExE0AAANIAAAAAKqqqqqqqqqqqqqqqqqqqqqqqqqqqqqqqqqqqqqqqqqqqqqqqqqqqqqqqqqqqqqqqqqqqqqqqqqqqqqqqqqqqqqqqqqqqqqqqqqqqqqqqqqqqqqq//NExKAAAANIAAAAAKqqqqqqqqqqqqqqqqqqqqqqqqqqqqqqqqqqqqqqqqqqqqqqqqqqqqqqqqqqqqqqqqqqqqqqqqqqqqqqqqqqqqqqqqqqqqqqqqqqqqqqqqqqqqqq\" type=\"audio/wav\" />\n",
       "                    Your browser does not support the audio element.\n",
       "                </audio>\n",
       "              "
      ],
      "text/plain": [
       "<IPython.lib.display.Audio object>"
      ]
     },
     "metadata": {},
     "output_type": "display_data"
    },
    {
     "name": "stdout",
     "output_type": "stream",
     "text": [
      "============================================================\n",
      "\n",
      "Kamu : Apa saja layanan bot perpustakaan\n",
      "1/1 [==============================] - 0s 53ms/step\n",
      "LiBot :  lewat bot ini teman-teman bisa mendapatkan informasi mengenai jenis-jenis layanan perpustakaan dan cara mengaksesnya\n"
     ]
    },
    {
     "data": {
      "text/html": [
       "\n",
       "                <audio  controls=\"controls\" autoplay=\"autoplay\">\n",
       "                    <source src=\"data:audio/wav;base64,//NExAAQmv4YAUMQAT4gAAAAigAAn+7oiIX6HOc5znf///////2///////3/nIRvIz/Oc5CEIQhCEOc5znOc5CEIQhCEFnOc5znOIIAAAAr+s6MpxlBh2c8FWMHG3C7P//NExBAWUyKcAZkoAfxvqJT8eUeEwcP+LnQ4oKBMd8XukUp/9GtpH/znpOxggZyoP/4gx1P4fEg8OFzMhP/7tvXxNLlIQjn///+6Vcn0QVFyKpTEcXnqq2bMqJDgPIo+//NExAkTWYaoAdpQALkPkWBpoxjTollTqB43v1S2v/6t+6DAUGsQDwC8ues/////0Z6n3ZZiZiOZPdnZScDrDH0JP2MZo//oceS/dYmbNIkx1alW5JSoyCwmAIjSpCnq//NExA4U8ZqoANNElBynE9jVBPOoYyC6hcP6lECkswEUeMVJkP1///02d0QHYy2R2mQwhWGARZhUS6AIkDgG50w8UIWdVPZ/chJWyqLFIWGGlEH6fKlFUg/+LuNDQqEZ//NExA0VmYqsAM4GlPutenqXQqdH+XZ5yvH+/BU5zLdqDt7+CrGetchyk5nhKIwr////5HtKZNyyIVIrbGxpgyBcMSIVhkpWBElIlRd5f/7XXr7/pfNq5zuClYaNL5Bj//NExAkT8Q68AMvScEgoo89YKTAURaq7lljfenh4616MNN/Tz0kUf7SKCMd9zGELrtKNea84auDkUONEqh4sUFEOAb7ThRr/f////RuoTe4JBAum5huoQza9+VtNwPTO//NExAwT0Uq8AMTMlF/ij4DJiSZR0rKugMu15NJc7fPteRhs7WAwCrEyc4/LW3cH89mWb+y679I9P0sSChceEjgyvIVG1///7UIht6syvPoq5v/Jdsd7lIiRy3aTWBCk//NExA8R4Zq8AMJKlIEdcuS54DYSn75n/21966HfBNnyIJy0GipdQ8/BWScBh95hbm9H7aOk7uOc0TpZbXUn///9/+tAyuYbyGJRJCzTvMMsODh+QwaOD/tqxrW2E3Jv//NExBoSaZq0AMvElKUhYHD5P9y1eEfqop7Qnu+Z//6srMZQGDqVyNRm6a15WsgVkH/WtvJf//7WL03/RcO2aYQDQ1A8s+/xeY44OFUXWUhyW93Oltc37cBAl7pbGlhn//NExCMQAJKsANawTJ5NTVs5SPW7//KviXf7IiOgkDLv9X//+pZX/TYRs02DhiAwfwe0xxWIgwqctF2xWUMXHTU9Jkg6wCBM0qjCxq+MtylMm4ad/N/////3UM6yruqV//NExDYQoT6cANYEcBCCSn//1f/+nXov1LWUUt59SFIc7Y83VYrvmwACv5dFp9UAFaDh3MIFmLPRrV6NDkXblWBD9P6f////////87729fr1PEJ//1s///9Szz7VZkZG//NExEYP6ZakAMvElHCwT8oMCo4I9tfxxrLYLpy3laXMSe3tNUUNAzF31r1aX1JZ3+8z7/P1znb//p89HMU766c7nnQ6hwUJ/+Xj7Wf//Vp8vefnlMtjD8TndW1MV/Xu//NExFkSqY6sANYElNHxIhYGT7in6biEVerogyLZ7wYUNmcN4zi9P/ll///92OoMxiAySe5wWYEDAMgQ5/K+tTVs///6VaOsqAR8d9dMT0yKbrZJH+/zjOGc4N4+WGIL//NExGERkUq8AMPElLwhQfAaXlurK/z3X8f///6RcztBVDxKB8DgRMoEyx8Cg+XB+0nD+PXqs//1UdGppsN9wp0GR4/eXcW8Tlnv/h+squf7q3OL+n/9fPDorIXZJHhz//NExG0SMUa8AJPQcB2ymRXNLc4qSEgqJSSXPU+0NuJKHyJo+dcRpLAZRUbWftxNmYWEgOo78ZkwHT4vqd/C4AoDS4+tZOSlXZ+beRvRo2KWcWQumQs89blpXW7g0oSi//NExHcQMMa8AMPMcCCj1uU6p7NTwoHQk+R2Sqv///y1ajoewdcSihggGmyhmwItoomgGU2e4tpcVCwoa8HyIaXE6YEbwVa+jZ9n1VRQCWUSciRI7M5RIKAz2rDX5VsN//NExIkSmM6gAMMScH+iBFwYRhjEmFJWq3B+DWP14orikUxVERpVSbJiC3EimKiK2y6xEzYhel25Oxuyz0VdrW11Wa+Agpcp35UnkxOcDBtSSx1m0qtE9fxs3jIDD+jS//NExJEP8M5sANPMcCgE9t1Iqk/yWJZ9blvdwWlnobNo0TLmQMKdxNQqHBpIrKzuKbw8E3EXopvhdthu+Po7YZBoekYOYsKrAzR0PBV5ZYQD9wTKGocSUJhRQeFs+JRV//NExKQPQFooANPSJEDd2Un0reGQYHWgklR5Xm2d0VZckys9ICOt6j+/MQg61iXiiW0VNMBwuFDhua6LmrRxpw+c8iZgQYUCx8SCFx24R2OAqSBnzX0tPBOsTkE2BetT//NExLoRIR4gANhEcKrd3zmozT7NP/4z/+pH/8cp2hQwqAZDAFABMEgEICEYmi2NOZTwfhh3gahAMBg0BmGHqAiYMAAQGAvLppEmBCAaBAHYLxJk3QhrFzOxOkgKMhkA//NExMgR2CIgANvWAN9FGCgqZPxVMl2B7PqBTPgGp07KnmnlkZGjUv6z6Yfw4t2b84AJEsynQSTwOo93feICVEe911OPwzseMqDj9PiOsxx4BMuPkzj4AbEBDwI+gIAo//NExNMP+G4wAN6MKMFwBM0bg/jCqALMCkCJ2TCHAYKJyGr7vSPk2hQGm8YAXFbbXHyLwdJcxDA0la+b1xJuCxRM+BOGQqsewnUrPNCDG37TNaEFxRanrqyidf2N7dOQ//NExOYi+V44APPGlTz051bGAhP3sWSVNVB0wgEjDgmMxXAC58xmKTGIHEAEMjFVWyHW5GCggHDZ34wsIRAKk1UZ1LqahgyXNmo+mBZLiJwi07/+v9v6f/6H6fnP/+s0//NExK0ZEKJMAPaeTABc+PDgFOT3yFNUCY8aCDG5EFh8KhIiJ5g8QiRnGh2lUW+lIkBS5Yy58cJIm6gJsMCCAC88kjjIiEwWUAWiKm62xZZFBZA+Rk6u/4t5OE+OMoEQ//NExJsRwJJYAVwwANV+qvjwWycHAUzdLttv39ZXK6DLSQNG7I//+1M+6JfK5wLBh1ml+iKPVoAZuSMARULzLgZRIw1oWKZGyzAACDCgExdLBVIIKRSL4BAEuAMCFLyA//NExKcg4lpcAZyIAA5Qe4I7GfAOWGOhbyABAckWcQEXKI8IuoxDGaz6ZYJs+amRq7KpPyaOmFJHt7NUYmRmtk0mTspaa1pO11pK2rW6bt9A4Wl1a9JFSS96//v61f69//NExHYiEyKcAZuYAV/Xp55M8aO66vZ1zUwXcwPmJdV7XdeEKAEwIER6YGCQAu51wSCjBonOADgDD1xZBaGQQmpUpZkvqXQcyXOEjcBiKAXMYdyaGXImhTSNEG6HZ/v///NExEAgSx6UAdyYAO/RZOo+dL5umq3XTaqhSMiisihcOIskg19Damt1t9dSmQqdX//f112Zi8tFFzOkZ1VmaK2Y4mo0RUjN0jFJSbHlKsMrlCqgZG8BmkN4XX5MjnV///NExBEWgwKkANNEuXObuLRGx5iJKBIGhixkO4LmxokgOJk9Ivv63///9u6n2hCenVDju7kIIqyyW/onaQv+UiH///16qa5TAJ0mV8ppVoUyopYkxlmfpL2csT6FwlzH//NExAoUSK6oANZWTBd8OtDy7H/WVSou/8C8s9h5R+5hsHowex9HTd7D3/8qwcxrEEXkxM0UBUgdc4CF2hGGA5xlh1//i8XePQD7BYSLCqhoCYWM1S1ioZfKHAC+51Fs//NExAsR+LKgAM5QTFL8jWobdhvgRfWNamlOOuYDQ9S/EIWfhrXayTAbHXnf/U7qfDudp/qzwVAK36Uf/9ySrluIlgKCpZIKuEo2KlDMUFAYKEDKS4HDyZRhIgAhY6A1//NExBYRCIpkANvSTEQYB2CuUSRSqHJ0tpcXEibBFiSqFksaVgHQ61QFFBKHdlT3fThSe/W5//AXr/TVJfBZUvIgGeojKFyWrUkQfpc0Wo8NX8cdd3jVBZiEMAVIoh4j//NExCQReGIoAVkAAOMzlIjU5UIIDhFTCNiPP3r1upqYRSnmaU+R5yhhvVRWuxYpizkmw7J0MTUhOpNsu2gL//9C9dH4XYBuGP+IkE7GWA4//A9BOAcgWst//KY7B4Dw//NExDEeGypMAZhoAE0P/8vvKZMKAbn//4k4lYLMOQMACwE/KYXP///8YgwAVQfyXEvHsMAEgJEeYcv/////EyCcArg8R5hyxlBzAtAwIc8FvJYclUc0J0YD0vysYQuC//NExAsU+p6oAY8QAF4ZhBHd0fFc9GUQftE3Mc+i52KQ+hl6XJK5CUN1Ry70q44RE0eR+zplTX5bv/u1t1dkVXmardP/wy1QpjnDoOz6hMAAoHWcwtJ4yMr8YIFMmw8k//NExAoQ8U6UAc8oABkLPwCoVu5N/W/7Q9/8xG9vX///Uqq1tQHHoAgEGkJeHBQUBB17t9K+6N2f//+tDjAkAgAcwIQOfk6td5fsiGN6ou5NPLYAHhO/k/N//+X/1+nZ//NExBkQmW6oAMhKlEa6laKAQxQU4iLCoiUTA92KcTbIVGZQ5tl2Mn///6WxOaQkTMPqInHC1frbrR0Az111r/aUGhWa5fv/6+v////Y7j48D5qhGEQlPYoGWpFZxLUm//NExCkQsXqwANBOlBqAGQea54drDUPkf//7i5cqHwXLHnrJNa+h7ezpGVmMmjVeBJ/c8AAbn87z7P15f//L7+v9x2yFxQEJEijD5UtxulM9m0MboprXv6Gzaub///////NExDkSKq6sANBOuf6TWRTHJPTSUdXCYf3nXKLVW5HSQINArhZWXPPzrSzFxSLf1TE6gOObv9vX6//9Tk5olXOQoEw2JGsKwenHnDroqK1Fqk+aiwudJf//1LDS1gJB//NExEMSkVagANlOlBOoB0YwXOoqjUapHWWofe3jR4q54p1BKNKIrFJExJVNa6ItTNkam8O3k9bSlb7+ndDL0M+YM9Z3//sSHTyP//x9ihTZakCgcGAED4CEdalFD7WA//NExEsRWT6QANtEcChJ83eAqdajvw2OAA4EyPnPuWlyABoysxfF76yN9lf0+3////////+6PDoKMIurf////r6l0lNXm7u9GVykUgknSqarHJa/xiuMYsSJQ0dmHkg2//NExFgRqv6MANqEuCdHhQWE3dwKJnfauWf0b6FT006//om5xP0RECAAigADf//6xcLf//nJ8+PAl95wUUpdq17NM3EVgG+Ksk32y0VIic3wMMzjh76H/////tu840x0//NExGQQqUqgANlGlEA0bnlyUVjcWHANCGaDal96Xlz////RGmQCbeEBdYuJZ4PtHt8/KlGRgvicXv5SyaaBzceEJPzl9Hb////9nJspQAhwoCGAxRTMCOEADA6GD4eO//NExHQROUqoANHOlDHhVYnH0GFCgWHXf//jaAbMhAwQIPQARiRAtFXmtXaBhZjr4Ynrcl+OEP3ukBm9BT6k////37VRpyGCZBxVDo1Q4wrMPDomYMqC7SRZhIVPYw2F//NExIISiWKoANHElB7U///9ogXEIAMmxcmA3iKkuYkcECMEWIn0y6Szj5KnqaEjeg//////1fSiijKZqhgscsosIizqijynM5lZE+3+r3VSzr///////q0qOw2wzUVK//NExIoRwW6sANFKlEH18/aF8xyuyQgjOBCQ1ITO9wai22C80/oOP/+r/m/UyE6scokdg8DGmzIPdjRYRZTtHiOhaL9/+VccInVf//5RJkAWmDbWvoAVMwQaBjk3JBEE//NExJYRus6sAKHKuWJ6f0aMLWG2qh4G1NTuhBZRj920X9vTQx7s5VcSYJFg6GgZOoiVT0dXBV3+VKhIK9n//+p5URHnw6VBXKxyNhhOcfTQVeWZBJw0Ip22yN0ZtDo5//NExKIRaeKoAMnKmBXA6TVvQAKAcvdaXRs3W9+1JmVVh8oUwqMGHAYDHHgqAhx7qKlup+///q/////9VTQSi+YGCR1wi/oWCtQiUxFtWuY1ki7iJJyRd6g6s81gTTlT//NExK8RqNqYAMoEcItp9CViiCpaZYZodDV7zL6TPj6m3urFksfp3yVT0pnEPf1YkQe4Vwcwa2Y8QhH+m3SbuCQzH/9L+F31QcQSYGxz/APoHLhiQEZP+oMLADUAZAK2//NExLsRGNpgANMGcAFCf1NwJMG2I8GmLMHZ1PtW9mSKJEwwuLkL5Paf/Sr5DRH4nM8RcnCmRMhPr/6/1S2OAPoSQuAQwc4PUEGEWFkDs++rVX/+v6ZcGTJhh7NSJify//NExMkRsEIkAVoAANEHImeN1Vjz95njSRAdTy9SENnPCMBYZ0NsDKTgRg0DuRAFweD1SSCxcdVGmzIiAIGhAHC0CqhaxUF4NApZIsIiPzIhEm01z+OswZLotC0rt1Q+//NExNUh0yo0AZqYAGN4Yz6s/v+GT6rfsYiPKTkUO5XGI0HSuoyr/if/ZjE8UpCK4r8QZlWmZqpR5/2tJtRDZuvljKVTgW4Vifp3l9hVs54hIqDZAsIkqsNGcZXPyZ/o//NExKAgQxqkAZlAAdRtyx0lyQfAOEIQ6JuqOswKzqTCeOwhTY86jzW1ff///x8z3slybwXEakmIRFRYHTRkVsHCWsIlg6nT///1EsY06wXWuYTbPDBwM64JAxq4aNgK//NExHIYuUasAdlYACAx0McuWMpGQg76OYnXl7iJEtdls0kOW9h23SKVI/T81Rw6w1yqOrvVNGs9a3ZLerW///q1DKZWUuUpsMBCjSBSCQOiJbjslLHiv//+WfBr+ypY//NExGIYsZaQAN4ElGqIy1dRgIDmhd+eOIK8maP+MooiAD+w9KUt6XV4h4AQ8kTIxC3AUsEFN1l4i7UyYEnSScm0NZm2gYJc4jmBV9//9v9ffqLC1V+/kZruZHIATzt///NExFIZmxZ0AOUEuf///1aRnZ3Jr/53GoJYhmOCU4g89Y9AbdAuFQZiQQHUvLUaOHtoNTUzAHccFlvty5LCCCZtNvGSWv5AbWp7/r1GZeUDSgzJ//+BA6X/i6Qy0z////NExD4R4JqEAOZwTPxmLN6NRdbzwcXlaKNbOY4HpxCIrDggpPdZ5bBOwAeEHjSmghFcJ8LWZbntEA5BwIYqKgGAEDR4Igtnk/+f7///MbQgMhjyBQaGD5z//////7FJ//NExEkSQUagAMvUcMebqA20qu4SUHxBloihzJ1nBGSOb5lT/JIFp8+fFsLEuXFtONkzI4Hi56fo/TKVBkYXcQrZBwgBDRP/v6EqpqOhOaNMdAaVXhKT09haZsdDY+tt//NExFMPWKq4AMQeTOx7337Rtgqe2EA2PNeTHxqrky9W76iQwEiCTa8aAQRUtl6kf+r///sG4DseNt3MLwi5PUlIo4vbG3cm1vh0mt6ySqNja+jt76G18YanIPNTg/uk//NExGgQcM64AJvWcIgDw4Iqa87EK1Hh49hY1ffd2er////6KYqyZn7vTZIQen5Zp3YMGU1LXFsEyRs1lMQaJPkgJ0uOYJyxvhTKKfliaGkIpDOSRJot/ppq3ffPcXDv//NExHkQMM6wAMPQcKP/+////t+xrWkxHXUwoAnShks0cRNwcB3MZOYOEQQEZY9apm1w1SXScfkwKBFMcydWRjiYw+FyWt/T6f/////////////////+3/5bFEqSCbZx//NExIsRGM6UAMvScDZJ0DQiMRhhSZcQmHBJdEEBJhgGXuUvLKl8YTp9oefaKxq1+6XypYkoGSwFIgqsGixZ+Wf////////9H6wVLVB0RBIUEgI8K0k4gyXuRSGcByYs//NExJkRgv58AOKEub3+WPWKCj6k0sESgbRA9n+y3AZmGRQAtgjf9vBvCBzGArcQKAcf/8C3xDQbGwGxifAxP//gSeLIHPBEsTgJ3AsP/3/jIDNh05FEyJoST/q//7Gi//NExKYQeGZgAVsQAGec0GgT6BUPmg4P////8h5EyJmBoQQsk+brN85k7kOyZK8yNeyx3mjAwBK85g3kvtRccrCIhjATchE8c5BGYOhOG4umREJdNZaJ4RDQdhNMh7Gp//NExLcf8x48AZmYAcJIlGPOLASkl2QOGZgbGZgroop22ScuEoZqUpBTLUqaExetNStVkP6SNSefTRTW7rTTV06qu+tGddv+pA3GuT0HqROBXt0phcUq1Ln2fs5SlqSx//NExIogEn6oAZloAJGIW0d5TGK4gcCCmbQe8aPtLe40qi+3AYXUusdFkamZJiXk2aCXh2JZz5qMKeSWkjrR6vf31JGq1HSWQpJmu9uLXOWagzaE9hJl/cn//Fa9s6tC//NExFwXkVKkAdloAOxq6qj5Q2YAAB0QoFgOmGgOYAC4KRhiELAIVDAJMNCkHBlW6RvE1djT5yltSkLiythriJjQewEuqla9SYym0DxbCGmwrpmJ7GmrX+A1mqt9n99t//NExFAdaaJ8AOYGlI9oFLgoKM1sY28//9hQEsYM2LPfWt3xFV//BxACbdW2oSOD4mCtuq3CgBMHlg/vETBYIR5VIY5SAKKUOxoRg2Wa+SrYJFhegScAM0qmADiAHlHO//NExC0dIxpsAOTKvC0SguUqsOsLhxcJs5TVmCOpaWkatUaGzqR/q///re6CAijqRyst6clJ3lUXRWRv////9fldO7oi9No5A+JKJDw+Ch4RMOGKhatdlBhLqc6/BAGp//NExAsQ+JqAAN4eTKNGMIU0x3vdxD2LSCnrvznUjAQm/XYDuVkBnjZ+TvYPeXPLIrAsqNLf/+qs9////+u4iM/suIAEJKCZtiAGBxD/Q6KgAIUbMpJ3XHZk0k/g+wW7//NExBoUAaKgANPElHwJA1CxZiBmFK0OalBTl+MSddoeqNQ39tP779Kaf/+p9RGQAEf/fIT6ncAJOfv+UGO////1EKBmGOAKk0mYEmlWLSypRI2zdDcJbTTUesTFjcdv//NExB0ScZ60AIvElGA2GUrorAcsCNRhd09suQJztkb9GfVchSkIXpQjPoXQGtwSQz+/9f//+z/GJv1VQ7Cy7XHxVJle2iv5CGZh1Q6JvR8KrfkdfUgWO4PaVDo7UXCF//NExCYR0Nq0AMPQcFhganGDRzr2PaKHT5IgHUErJA8HRVD7/7v////tStNSxSrlyhW0PvolsETnBxLrRR0wK8tHIjTlxBLN+Mi1PNWmZN7s4RIJhwARVhIRDpWEi6f6//NExDEQoS6kAMsKcHKyOIgEEoVBUtf///////+uuntlDyGCy6cnCCFakV6AJkuFjBJaS3jqz6oRBsyhwG2ttBLUrWWOtSu/Q6HX///t/////+nb//////3/6aeszOzg//NExEEQ8v58AONEuYOWlneaWvAE8p3Zoo3CxEWGIBMhYuyAMIan5wv5wOqluLZvzL/ZVRr3/p//////////1///////dHclyNX9FYqOwsSGQDEBgbTdMSARJlnQipJm//NExFARqwZ4ANtEuQBC/ZIKlAwKAIEakVAM/9/bpyiwhwAw8WQGGK3dUu7VVv1/0//////////////////Mpf9dlZUMcBRHCgqJEmFIgOBoKGK1kjTgDw0hAHjokGIA//NExFwRswJwAOHEuQTLFjiphwmtDspajRDyzGcETklwDY5wEIE8yVEOWZAznVMb7ej/87/or/9/+7o/2wq165YzCA0SBQwnDsxVgc3iIIxiEgAAMYMBkYNgm+6cYXAU//NExGgSQJZUAO5YTMIwYZtRNIL6vznL5jK9TyakxHIRBp1OBJ7/b6/+j/s6tX+39v//6AdUH3JpnwQC7swtBPC2gYNA4PDhtT5uwMYiBu5Ek8ZkuuzwvmhqTyw3DaCe//NExHIRgIpUAV0wAItk2Z6kDQFuAaABvgkK/TvcLUBQA6BzBMP32xhhsHOTR7jn/t+O0pEoovqL3//3LpLjzJAzKJ8uGH///51ImGpLrOHjSxp/////maR9BNF2RN1F//NExH8gUypwAZtoAMRN1YAa04QBDjP2I5gEAwS2oJBjEgoMAnCpqscsb+rKqTXzMxLMNR692ldtp7KZDkmzw5Jx5vulmrCKbR0E0EoSEON6ZCPUKjhobnChM+hJufJ9//NExFAh8xKMAdtYATjihw/tYgf3Ps5PB/mLOb3a9HIa93Wz7+6r///2cfX/sp/SbtzDEvefp5oyKg0ht6799cMWzeABlsVoGwjgQ/AVUk5Ikdh5HLZ/9Vc/x0aGciQ5//NExBsXmtKcANHOuc3/RXtZa/3c53LONQ4uDgdNZz0OPeYw5KE0Odix9nNdt1R2TN95yPcw7Zn//v1X/T56nzUPH3Yyiurzy8cQliaMMjVK5dwmyQAc+UJQKGtgoaDi//NExA8V2uagANCEuZOf+/t+B9Iz9Pn+3p6HU8jAYxgACDhghgysdjIKKLIyItD/YpKK3d/qkjuEOVWd1ZOtfttTX+l7E9z7GoCMpRpDzFIKbCXcN3WxrdyMACkaF1h8//NExAoUEvawAMiKucPrh//h1urKfv7f/foc6OdQZgirBt2bIluMkVd31f79O/5L/OtknkIx0ZLo3r153oyHvXvRiM56ZhFAHD4fOdjiZ5wCQPbVc2YC8A0e1WO/+rWp//NExAwVMwq4AFCKuaTf/1uQgYzlMoZ2Q22vfbdZ2i7XRC00pZevMqkTXQs5l7ujUG0puz6rdXvO5XYUVxVSkM13cSQw8XF3Hzh4QExApwkAtREUJCUAv//+/b///xIU//NExAoSexq0AAiKvbp7///dNHzWUxjNb9VaS+xWbonIZalZnNu7IpkSieqPSoiOIU7MIlUivPI7jSioqKoHRAYGgMHhJxRAZxNw40in////PP//+95LPn/fq30p2OWf//NExBMRixqsAAhKvatszPtZtKTe53yz3NnUm109yu8ZSUVeBVGsYFYcwmcRSNF0uIgpxMiMHDBEwweHwYPD4tWv5Kv/P7HuxP/nMhIyauxzotffffTqjM6b2vJ+396K//NExB8QwxK0AAiEuKmldnfer0tZ0TbrOWRy6WNu1zGDlTBlM502FhAIOFOVUFOYdIGMasPgQxGZ8kRjjPK/aXNTZiKHmf/Ez9WQcZYkXOltfn//T+96aGb+//9qJ/T///NExC8QuwK0AHjEuf29P3VlKimujl//5nqVKOlRPoLkrf34kKQBiq6ZbWrt8PCKXP70w22Z3pGCJfK6D5vqFS8Ub2fI4gOw9Vm7//P6/v3VFNv2nfan+k5moso5plv///NExD8Red60AMpEmP/69cbhu5FWmaA2sDwPso6CBydVcwAbJK8zBN91i8vugrURjdlJsJFJGpbv/0f1fwnsdLuoxEso77KzJ7VYhHYqiTnlAR9eSlHf//3bMmrVv8pS//NExEwR2dq4AJNEmBekaJtc/JIyFY99gWV9/ykIz9ZkVut/Pi/VpD0ve2cvb+3//qbzFo6klo4slJQR9kK72UkvirTcHVUOoDRFpP//r/ZTqt3M5ho5JdcpxK+FIIwE//NExFcSMcq0AMvElFe823g7UvXcPJpqCupWclyw8vK3Sxa/sTn9WxaE3Q3//q3z0mWyasz0AlSxcM8NZHrCa1nUjams////6rsxPvkXXPBTPiVBTGGY2piAiu073a0a//NExGESgZ6oANPElHBcqXW70HCxWcy3H3BSJZbe+7QxrC014aiVkSv/+dPFRjzpHxX/V///6Lvp2OIB2pc97+JpmAwgGL0SGE4KKDtYhBdciCaHK/6cBvjVMxD2wVYd//NExGoRoJqMANYwTJOIFMVoQVq1jHmDrRmj6kG9n1ugkqv/////arPvf/3fozLon////+67prlrdt1uiUFzKwXRqpM6bdCEAmBRobJ05jQBIrtia0HBkWDz35Xadk19//NExHYWEup8AOxEuRSE2ACY4yKlMgYjsWSkxmTY6C2mgXyfKtSCD6qaPV6mf////9jJnQ7Mv/tbzdf/////ruj9FpSvzMyOhWcpSDpam5p/FphAgfSqGOgK5yAAGgsi//NExHAXYwp8AOQEuUcDBaAN9lZTGFSfumqdbzrStmC9FbICtxxrkOQ47DWEvFNFduPKmsTsbyu37eG37SbKf36EV0ACEIsnRud859AAAlAGfefsUUGDX///Si8B0+9s//NExGUaQZKMAN4ElAyElheAYzDKqxmNR0w3aFwzPMjNgGXOOzALKTIc2VdiGLVbieCunC9urBwqFOuByI6DCP4zDjFxXnyZNJDlhSAAyiAEBaoejP8MjUIQaykiAjMM//NExE8eyaaYANPSlChg/CDajVr9OEJzyGzpEZevIhxsCMW+PwE5T/f/97RCwECwegARNFYBJgaLVeco2zHrgVUE0WfDgoIAeeGYoXuBRnmxst1dW9jHJVf/86Wz/KYl//NExCYUwUagAM4McL29U5RJLTqmWBkpzuajnaqz//tW/81HslwaEoa4lDUj/////kl6zuVQGixlanJfywsY1FTzDwJex0wKOyYcyehgotzvnZQUzVBEBWKSmQfmaLU+//NExCYU8wqAAONKubLwmJ5BA/VQ9nqZL////////8iEMIkOLEN//////RJTIW/+25TiCCBxJYhDS3VxGvwwBSU+v0IhJijrGLE4sSv9SPgJCV/lSCHZM+Bms6C/fnuZ//NExCUTywqAANtEuZrdie+tul0v////////9NWKVmr//////LsrFL+1yERRg4YMBiBxICCUzioMIJc0weBTEbTO9JcygAIHQmGSR8LAFTdnYyAHm1E2zuLayhmtlPVv//NExCgSgvZwAVwQAespjOr9WWyGMVn///////////////////+3/T0M8xwHhxOHShULiCkbwmrRHn4BSZpziu5pkV75phtCNx7JZfcc49B7D4HkTQvu0kicZyEUygT9//NExDEdskqkAZloAEzlM0JxNJBId6AmIJ3W748zQyLy1jDDAjyGIaj0b8xl9nQQII4iAXTiy//9bH7rTW59aSR00V/+hf/mbf/4jdoJ4rgIeBq9vGUEVYdlL6AQMil1//NExA0UCT64AdhIAGRmkTgw7D7QPsPpY/45dxkus17S32vnsj8uQRjAKClD5D5KhijZy0e3iCccQTlqNaXTCoULPGPpQlKE/VX/////f83V7hmnYkDrcuKNY2qhOYm8//NExA8SeR64AMPScAFVU4bzKaPQqN/KT18t5n9dqrI5dcLq1yhCxcTu+s3+9/S36lqAso0wtVW6GnvEh5B5SO6M9n////TSmrsoJEOjF+p+ixtyxmB9yJwegCNO/N8e//NExBgSKSqwAMPWcC4yKQ6aSJNuhx454lZLKjZMoFZk2R5LXdGzr0nff8X9/KV29E6dBVz7b+BWNArj3LUH+CT0NAYaLFlgKINFBYFv1YWBK6m2jAESI0RgtMWE1X9g//NExCIR6SaEAM4UcIVNC4q6Lq3JK12SA1BJAZJxEi4biJMc03OVqt+rfOU1HIXO//ESNEzo6S2DOJGMiiwxSKggRGBQgAhEnsbQ5gbznXUFdKJDXFWpgKv2tDlYfVTN//NExC0R2KI4AOPYTLrT1rWXCVx7ET8aWqeW+v+7pf/u93V9Lf7tNT4EhI6YYIXGfRvYvBK1ZVPX+Ni5sheiksDN70j1CiKBUy81yraFjGKPqpYKX5ZfU1VaiLn9v4Qd//NExDgQWDYkAVoYAE10LUYk0niiswqi981ADJlDUxf91Eizbgygj/rri40Da1xchBFlYOACj45gyg4BZYpQOOFfFzfIObmZNlccoVsOSNEv/kEIoaF9OTRZIicIsZf0//NExEkhsyqEAZqAANNMnC4gmXyZNUUTEvf/TTTNEGcnjI6YqOzUy//6aaCDdMyUiXVGyyqxkkj//6boNT003QQbUmtFlF5JetjGlMtpbBFlMJ+rRCEHFZLYtIT19M2h//NExBUR8SqwAdhoAJaqnA61qsxCRSmlqg7CEs1GQN48SSL4cgfzIwHAWJvLi9Bur/b35ohY9Huk6D6HuOf/ojdpgB+RVeElHyg1hNI1NB3qPdYQVSUv2M6cXkLtM23k//NExCASIN6wAJPWcLvYCwN054tLnUkdr0aj99LAGGTL0fWpGLp1xBYLPL1k5Uqq7//+v3l6hrPLho+49rEqBJn506vECQily6i+3rKRI6ezaaX9ZHtyqH7jADbiorfa//NExCoSENasAMPQcJ47OnpGhLJXdJUMPcsr5IWBq0yRZbHSrP//+ywlQqoFkJNUYjUPGoeSfpHUzE1Cl2uqkQbIsLphLiuVntpoumKNCe0t8PrpihZmYlQ5AVBsczMS//NExDQQ8NKMAMvQcGxL1lv4Lf/9P/////tWdlY0PLjnK8MskYyOPjFIeMYjAWFT1VwNUD61HeGCQUsJIgcwmqN3FAR5iXOXOU7Xk5T5XOJScHgagKWoJTdNss73f1t///NExEMSqL44AOPMTP6//8Op/2dFOOLjFQNaSANsmJ1qRvDDOJYUeWHhSYWBVmChhKFFmDJxLnMZMnDrgWW6XPEjrmXJB9LtTABUxdLGFpJFiVLct5+B700BCi16nT9C//NExEsSqD4gANvEBAHArbHgZ6WlOw3+OMpLE8FK8iPZWwaUuUmPKWNROtaARocogd4lco9ylynstvOnxaLCgVKKesMxHU0SjCsV8SmyRTtoF2EBcpUFeAC4wMYhZ8ZM//NExFMSGIYgANjESKhJmSBufToVMmg3QMDCACPPiJlMzc0A3ieHeAYtgQE58TvOJ6giGG7s3C6u39ehNn06O73+71LdCTKxhg6jzr8Vlfx2NqRWS401JUeqh2kmPQeh//NExF0QKOYoAVQYAKSXHmOU4fNTIooIDnN48iYTh7DDGqdlj3L5uZl83HELQVxwkgXjQTQyYhr5ohmxQHeX2RTJVEqUtzum/ziSkkk1utFBFRmtZxX/6qqkamWqhOJq//NExG8iKyagAY9oADAvILNEzL//0G3RMEUVpIrP7smhZbLOH1GNmfzoFtB6G2nrIjCGPXpB8tfdnc9j921vL6e04oZUGKyCFj5koH3A+aABwe5q2rWaIPdSUvmKroIS//NExDkRsGq0AdgYAOHz739ZF///+9atiC49/9Qh4Hm0GopJ9xdwAjggUfbUdP+KJquvR3/QBOcPs1AtaiYeS4CHc8TR8TaXZJB2CTwjtmRAQHTTnGZ6mD9i0dP////s//NExEURaP68AHvKcEL96j5J2J4bsBgp7ixcFclmcHgeVGG2WKrEqfKl/NOmpCYfO4m+AaHdsrfpf6r83HJdJBEM2puc2HWVqYbNnmvABJBmrd///26Kx7deo4OS6fiG//NExFISITa4AMNQcBkCOMP9odgvq4sQbW8w1h3+1uv+1P9lH80K7jRoetVgJH/AtnWIqeEwyRFQoFQVcIerRupllf////6lauRSngU58HMmDQcAt4DRAyYCZNBKpPki//NExFwRQOawAMPQcJW6bjpcI0EjbBGrqDNvL1xr4bVPIISsjRs9vJ1nmo/tfWn//xhRT/////lxAGHqTXPf+JKJnuNLC4Ki4WAA1a/GMFF7Hm/Vef/fgZJjse7t37kq//NExGoRqNqMANvMcKvmpbd/6f//LAUYLBT///KoIr6SBUoFhKEgsRUx4EUxZaFTA8O0C4oYWGlzDAVA4xEwYFeyq24hN0cdo8qF9AG8Q9JFdaLKopXWPUYBTyzvK/////NExHYPoK6AAN6aTP/5KGv///32cGipJ6yKGDVdoAmYHUEF/DrUYkYowYQt1RM6Nkz4iRNVCeue7/eZ8X/67//6IQhA4KCAcOQOCAAAQgmLgg5np/yH///7/KKOZwhd//NExIoRKKZwAN6aTBOIKkxmJNHBihrDBkgGGHjTlNQEEp4VEVwsS6EiD8gOGoYrzDPfbrq//1fma1cbCINAdhKLwXhEeVJicNnvHGJn1CAQl5FADs71bvlP/8WcbGEg//NExJgR0UZoAMpKcGS4TEZYYJ2A4Gavyq0QMGKAHfcpVIfBdBbkhi7yARlLd0U7nWSTJ7///1PP0MIPMGoOChYgBAsUYgBgechIqqmJXqU0QeT2///9lB5BRQZO06Ur//NExKMWcVp8AMnOlNWO4zJwAotO5L1VjNUHmI5e7Ei2UoIp7SK////f/3X1FaDKKMQeC2Q/gYd5iFieHoYUKB4gach+Y9n///9aX5Nb6cnVzw5TsKC94fHpWs3fd0DC//NExJwSQV6UAMlOlIhY8hvsYwRI8xgddJm//1zv7fP/21nlnIlBRIklMXGlUaVOGkeSqzpDY7+t3///hXBWRCQFOm1B0NLGcoHfUwMQi44WIFEeVIjIVlQPze9iAJ2k//NExKYQyVqoAMiQlJx0gf7tWhiGZxQnVkozeht///3/////6FNM9Fsb///////bf5UysppIKyCdql5PzMVYKKhc+S5LGIWI47rYJdhzPxYCVUYKCh58UlC9mU/rfokp//NExLUSKVqgANFMlAlS9/xwsf1f///5+f////orX//////+jETf73ujvO6hTl6am2BSOSIhmHRHKciRFyaNnUgnrdebwtE4sl01Qh/PwoSDkelpSPp0JYw+F2M/ghXO//NExL8RYvqIAOHEuc5WOkKY4g5ZDa9/WZV3M7f3N6ndv02eyqUcwWwjTJ1+b76F571+QswiohCzNCfRMnCIXp/7F82d2SSJABcg7pZtsYcehwASSAA1FuHFhBpKs63c//NExMwSIvaMANIEud0TVQOWO9pvXt/+zCnVlzIMbFkkBM5n6GXTPutYrC8yNfWPDJZqX3p+fcynkf7XzzOec5/1z8jL76S3Y5L9dD3crsxKKjA4BkMQd1aIHMrBSBLm//NExNYf4xqIANMGveQ60WBhTdWMT///vlyYPxqZuChcdIeX6ol9F/0teTX7f2q9dtkZ3z53/XNXWcqo7Ha1mq7MRDMQqjRUxnMx0UeHRAYII4qKOwgCIRP/5/9RGrug//NExKkXCw6YAHjGuUxjGmS33k+JfR/p/rtbZ7Jz29Nff/7+nbeaSnyM7MqmU7HRkdlPVTsy2o6zuLscaLsgsyxOCcE5GfsnGBYnOSLor31ZKOoAHN0M4qoeVBOMBaRS//NExJ8Q8xKgABBKuHr7iyPxZ8qkjo1u87dkT09yzdUs2lIUPFVNCoKiICpeHWEQREU6RcvyuzBISNrBDrDqleCjFY8Egmku6ehMSAZQztTCjwkC0rMsDJNYJGSXPf/9//NExK4PsxqsAAhKvegPkmAezQpoP2e6KvKIxT//a4puTOCqmrUp1n3G05BGEe2/jNPSTbDq3PylZfSl5+rGAAcktj+ZnG/qJT0eZR3/+QNy7pjH2NHizUI0dTmOHhdi//NExMIQsLKwAEiGTBn/6Y4d3LrEo4oYFBjP78oawFHAQe68v5EHAA4sO1tQxDBfqTf+HEyrGM48JYNAskyy5OWzI/X1///9DD93d1N1Rmr0RkY1WHxsh6X91qZbNeiK//NExNIRcIqgAM4eTOsyVKM0l/+pBFFUZKDHid5CphzQmqY2s04usURxBEIoRmSwkRcEmMlQg7oXCNR8dRwAMkcCZRPDsMggwvpcHUKqUBnEaGEL6cLWFMbkdMRkpDxJ//NExN8ReJqsANYeTHJMlzpoXyTNk3NzdZaUC+ZJmhfOGhcRdZms8mZMkgYoJKUboKV0LVvbdb//6/SSS/+96v/9TqY2dk0DckV7UFIoLRvOmqMsOIS9NXGAijLSTCmI//NExOwVsi6sAVlQAGwI8VOEkjppR4IZVB37LONbFlVHxLDgnILEkAW8bBwBfiKUSYIyRBkG5LGRYmXRuHgOcYUkgU0LWYInRkDKKnkuPgxys4SCjyCzM1NXdBCPZZob//NExOgjGuqcAZpoAJomtSSRjS6vU3ft///W/Tou3/v/+t3QSRZkDrm6TvTOhS8932q86MIHKrFuWsiZ0d8yBzKFMZgkMEHGAjzeBcYdekthavcuMYWfDUxSGmLehjLD//NExK4hCqKoAZloAT8H4brK5PkciAuqPnzOzI2euYqe+/rNaxWrCICLkKO0y9gsJG/////yN11Q4ffeCgmeFQ2FapRI5hpIFFx5BXkgPTxiyHYwuTjAoqDBs5NZupgI//NExHwXkPKUAdp4ABpg4BidkSiGRwG5koQ0wGfDFwfYirDpFkinC4jrnVjnFsuspAxUlOOyT2raqj2opfb+yP/ze3/+6dT+3/////prdGX6Pa8qsthUhFGkGpO2r5rU//NExHAasxZ8AOTEuDBUWTpcigMMSkI27IOB4MDmNY5s8T5pXUIQAB0BE4iR0sh0Z5JpDBSJOmq3NCtqMEW0z6PWjrTSX//7f/0fPI9X//YpdE100/9v//ujFoQiMjUR//NExFgZEw54AOzEuftmUzpDICKJUZAaxeqi1ZUMHUKdwVg8cFr226GVLFXDlz+NgvyimjCdgsWzMbcjBqV/oioGflgngg+SfDNf//7Yq5f7o1P//+LUbfeHAk5ZmqCl//NExEYQ4JqEAOZeTJiNhak9ex5mYd1WcFJKWuVdiQO8CmqFYtIw1p6VDjLoxODYkT+CQI1nfGmo4/s81/fO+jf//27q9A4t9CNejPOcwtQ4Gfdr/8u7//0/167ue6hD//NExFUUMZ6kAMvElBB0qfm7JW6i7+xUU/v9L61nhmorL7uPtjbW9KqagabZrX7rb4c5ut/X19ft/rShwyUnXpbVSGMDfEGfpyfidTv/9bez7Hoqxw3WIGhJJbatN2R7//NExFcSkZ60AMYElMufgDB1vym/F+sF8Tea5PV1/9uOqYhn1m1bJ3aIhP/f26v0ZT4N8wwneBSB4hbNnaHtaXVplbv///oTutISEH9NVqJsFBH6zACeNnk8lk9YcSuU//NExF8RuWK0AMPElFHodzM9pGRSMmQL7KRWp/N5eq9PmFHZERW7qyGfVq1ZHa08dFMDCpcxXlf//6rK1e56qohj5usar8sW3+2EAabwTT/nDWriZr+ffUbLpCDeD5q9//NExGsR0ea4AJtEmGu+LT//6XdWcyIX69W6P/aqxSMoVihQkO76v//66zRBdarG3qAAYsWDrCZBkno1H/tT6ru/cjH9KO5kHS43WHzLMd7no1f/6BU89rSab7ejnyZy//NExHYRCeqwAMrEmFybpMoJ1gQMlyZNBMIiAH4WSJAZc3/+sg7//m7n8v//r+nT79/a1n1K2+7aUUq/d0zMfIiV3RSZTncw1SR6s44kRq5FQhnF2HAdRQaUIKgmJCg0//NExIQQMLa0AMGETMHxwfUSM////+3n//PL/////Xp+1K+kvqnW+l5aq6lcmht0PR3RlbKZmRmdSlIa53IZzHQg9xyiQHi4IY4iHBIYJAMLiQkwtSH///////+SB/9f//NExJYRmxawAChKudf/76e1namrN+d5v2eyEIjHcUZdOt31RFLFxQ5yxIYrWO6uY5DlOME0IKCBkFTjg4MEiChhQUDgYMZxD///+X///6jNHNhnXp/7WdXt39W27e7J//NExKIQ4xaoABBKuU/O121RzsZXptq+IVq5onMouo9Bqqplu48w840ac4sNAYwYGHGBwJB8GIYRESBYStXpKpxby5xoDccjJTP/+v////yiWS2ZGMQh9f7oRH0e+/////NExLERQyKwAAhKvPsiW6GzTtr/9WQ3syGOxW0epdnM611UKFmHOzBhwEBLSBa43bX6iZfQTZNOlNOFjQcFdX//P/gzcIvIX36m6f9G1ObgYoKIUTEGlCaOggAgdZiC//NExL8SKw60ABBKuQCHezHSR2U5Op+9+hbUYzt/////92VdCmRikHmYpz2Ry2eaw3Jkg2reGMaMDoJ2lMERsZuHiKPn1H0HeD9H6v19PT2/V/mXOMDIqOosUukECUZB//NExMkRqvKsAHiEuSCCqIY38d3Cx8V/3fCTXlqo1EHnWf//oLhIEASWGYoOAQSARoKECVXeplowW8KZSV6oCMaTKEM9ezf8fwPxMf0fq/L6+3TRErRDO8aEVrSgKxvA//NExNUVmv6gANCKuV6eLEWNhiyuWbPlX+/FY/n/+Y+RmtX//9ooXMzt9CiwoSiIBMLM8xE6LgyAVOpTRpJun488p7DhskAnFEgufQOTvLFr6LKez0Z69pmLrUYdEM5s//NExNEUie6gAMlQmDNfz61Kki11AKjvgk7bErlgqsRPU+zuDUS///4s9/+6yHZRxtRkABUTzB6nTBUJysBmXKPmLIjpmtYc5I1akDRGdJsWJRkMwBWNTUqikyLOpxny//NExNETueqgANFQmEi8USmXUl1HuYP0mqUaen//en//+rf/t5e72////9vsRsYSYgg39lJiomqAgsHUGB1msiVKYDCBybAGVwQGAFtgoFDF4YaPScKoBc38NCMDRZkO//NExNUUMUqUANIQlCAlEHaXzwrUn1UR0Hk1GBJvv599bLzvQP/////16v//9dFIy3/////9SviRFDGX/1KVAwYqgg9SXMYqtQw2wGAJydhGdASi0/KKQcoYGtR1Kui///NExNcYev5wAOwKuVKBO4yKZ8MAA0sXA5RJgnqZTNyIpGBbMnrt13si3pIN/////+7V//+jLK//////ojOyVK5UKR9L+xmV0UQcowrW6msZPo6R1CMhgAfK4WsFjZQV//NExMgXCv50AOUEuWPoaWOdfYZMvmBBQJ2DSyXJgTaaVIl5bS2fXX6r7dHUkyH/////1VNv//5f/////6yEztd0ZE/OzTqg5xQwQgYMKIX24KJiEXGFYsJBF005BABj//NExL4WUwJ4AOSEuQIFjFwKCoBcoQAIw0HgcIJK7Y+xOZmoSUA0wPVEnEJBG4CyAeYAdBBT4uQmSD0CbK+63oLfpuvq1//0JRiAGLkU587UIofOZgAAhGrnb6v//RtU//NExLcU6w54AOTEuT9f///QmhEWqM6M7WkRGWY4zgARz1K24GT7HiCOHAC8gvRVzCpbMGFhrFsYEWBsCGg5mJ5BMDYNURQwNODdUOlJozAlQJMpyZJcmzdZirqT6up2//NExLYdwv6IAOSKuet///PGhbCsh+AgaNPBWPsgsOBEsgG4oH4QKDhou1xp/19Tc9ce9PXRo+YR///////9IhY/LhkLo+c+RxFIVTetqMpTkce/XLBYbWUVeEiAi/V///NExJIg8xaUANRQuFbYKJnaI2iWuURA1pOJTpQHcCMrUjyQq/LXfm9v///SZFKUKGWooScSQGIBiSkRQ9//k2//zxpLEFbhVSWnkpX5mDEO4Uoj9j0MAH3ZKIkgjDFJ//NExGETYZKkANLElB2H+YVId9wlTqQmgNAxsNzN/VN5sZInSG7//rdLGgCIv/YpX//1GIneecigaODS2Bxw8RG1mpKw4tyYbTh3tUgobOTRvSYCIMzPdxf97OzAmgcC//NExGYR4KqIAN4STOVHAuKekXjTURT+pR71+/nW/////c3X1//77S2b/////+mZnNarUs/SxGBIJOZVMpa2CUM1MhZz53xM99YHaqaSDwnNl7wNRg71hhEFJ2Zn6YtR//NExHETavqAAONEuYIFToeBITiwYV0B8ERrf/3Iqd/+n//uswvhE0/Y0+UKQAKrTaS3KYCAlM3qYMEz+b7GMPPzIaa/Da1K8fCoJwpNjEtNkUWHYeR1l/qWnUsky1F0//NExHYRqHKMAN4YSGmyq00ug3T/oQjnQAGcIxQ5gAigBRaoQ5Ko3q7XQXXoT/pb///+26MHV0Z1chGOxFthGRipFnWzWxjSxR+C0GGr0dKx8HfqZAX4fVTKGcHbygMj//NExIIZYxKcANNEuF1mzdaWmZlbmBV5xhg/nLb8tf4LrlCH64nhqC30oud5BjhNxGTqOpGjxGUItO7bP/+Wl3CZpYsZQB5QXJrme7QWgNQOaljuJViyMb1ddsAQTNBS//NExG8WKYKsANRQlMeR7THEtszLNN0qEzOKZbFJniAXLkf9L5iu9pZoZGbhBSBIFaA6LLqf1bbP////dYV11b9NG2GGAzRxQSCAFK2ICArL9NO8MeKeWqwovw+hIY9h//NExGkSCVKwAMtGlFLYzqxxZVUkCSjVjiRymTUs1tW//6oc6jUS///NvW////v/aNPIIEVqlVt/kTTYU84wDSCisOmJGScVXKC0srW+kAhkmAiBT/UnaogxgNms/f36//NExHMSGUaQANvOcDf///b////+c1woNARgiG///////bv/XeqGcYKUwKu1fdAKh8wVSQuC2AS54DDIxjXI43FwOc4ZDfQRCDGz+mYM5mH00NKBk/R9rbf//+iN//////NExH0SQwaIANqEuftQ4cTBFM///////9v1/uiJZzOjCmRV66ECIfmtEHLJIXmDLGTnae3RtWyj1o8ngJ884HSfeOHhq9nun2fy7aMTUYGTV49GBkIAgy7ZOI/btnu+//NExIcSiw6EAONEuOT3uQh9jOeFgAg4EC+XB8PpEDilYfyn////8PghJuFlqpTZ34MvazCZVKxKpp1eWEASYSOei6Gw+3ABma+YRSWttQuVttcOtdO1TXUA0ozaTRoC//NExI8XCU6cAMvMlJP3GF1/6lunYst7f2th+zXqHq3Za9bVY7oKhkebE4MsFw+g+yXBpaS7/DP//2vFR5slNFSZ5NW+BGx7TCh3xCd7g0DxacCb6RgLysYbnTfWPV3l//NExIUaOWKoAMvYlEp1QZnMLhYvJjNVfMP0JmdBnNoNFIBx4ucDgcALBfqpVS9f////+7WqZpwCFzXUGaqitHTUGhnpjEepAldRItrfl5843SLa1hKtc9/73e6TdiEz//NExG8RCU60AJtUlOEXx3msQNOA+y9aYeeVT9c////+9KYvYzXV33VCZbW++mWnlzKCE2LMwXl8wCrWFWpQXc3lW7+K/j5Q64cKXsIspIxIpBrpQgHDrgeaRWlQvB1y//NExH0QyVq0AJtMlF/2X///+8q/0vl5Ucr8fsGxLJ5RHRHC8EUuw0tXDC3xgPzvxbp1bs3N69C75dz5QElVhLR0KElOjJzkgTPpNiGRobRd7KP//9AWLuOkXNkDTzJY//NExIwRWVawAMHQlMqqrXYBISgEpBgf3LGoCLbqODJGLZzMK1F0q/X/+3//lRDOgdKpAcGQx1qpg8LCyAeHskuzbwdcn//9d4ODzBpAEGragOEy5czVxuXSEI5WVhp+//NExJkR0VKoAMlOlHDZIe6K9pIV+fTz9/y9//+/XiQqwqERIdUnElqgu6Amo+o3JSvugwxn//7ZpINEzAESMJEioCMPaFWnm5QKknvND9inNSd1cdVJF+bhuv/6f7dP//NExKQRyU6gANCKlPbm5pRUnA5ZY9dx446PlFoUcUD0rLVu73AWZ/d/1Me8m5wZchyxdQola6mQTtQdhA7Lq7tGeVCco/D1r9XccYc/Nf////1JNOjtuXq7msrFR7/v//NExK8QsWKgAMhKlP72ra/q1S9Oiu7peld0q6UZ6KbrSrBnVt7abLKqN0qk9tUiIWWt3FZEFLNXieCGqtKi6rXfCw+AwJLIo/anp+MOvnfKlVRE/j6ukrEsKuk1B0sB//NExL8Q8XKYAMiOlECgI8WPLGBUYp4dUHFuyPbDqj2SIhsy6AgLAECQBMTpBMnxRSWbcwbCIWFRShaQV8fTd4qHz3T4E41POkb6O/J0wSFiRUy0NrOKM0aLOlAGRuV///NExM4SUq6YAMhEubP93b08VV/u9CoFmUwwLBIDgD7n3QWUBRnbdh5etEYiQwD3MaiSaaXVE6DolPVJXX3P13Gnx4FATHGAGw8IovFUoagYyAXBtjNXAC3sstV026eq//NExNcRwEZ8ANvYJLQqRaxFd0hKuAtDn9M0EJy+BiIpG9kGLvcxcLwCLgAXw4UyBDIaA6sEvaS3kZvcu2dTPL7nNFFi52cVPPGrGlRt8VhKU1IT5hL9yfYKrWy2S2uQ//NExOMRiIJQAO5WSC+qWkVcD4+mUr5lfHMOJbYWDF7Zm3e9delIESzFD+9P7776zE99f77pTU1bYz6Z3e9//8bjVr83pv6/+/6X3vFb6peC6eu22mv/n+l6vqbjvIar//NExO8VeIJIAOZYSMM68pVSkHB0qf7//+mvmaRRu3iPZIN3jgx2Zy5l/Qa4N1dJ6EX07r///6vf/O/2edXv77Ox1V+twnBg/LNNm63SlEXdWl3J+pVSl1GqZ6gCUAkC//NExOwUMGZEAVwAAIuiYjnP39df9////////+wipf+X+T3nUzJOatnP2XOKVRz2WTaNQwNNpAKpAISKiUaKbByLpJBLZkEFRzQjzokMSqMQCAqrChkaM4w0QCwIKCDu//NExO4lCyqgAY94AEZWiWD6w3Sx4qRis9ZiT2AleHN3P1u7nz5BdcLfk9vGeT3Y1RqYkAbmWRneo1ZR/aiqa67RnhswhZw4erf5zlM1uWU4Z1e/D9c1XZVVdmP/VGY6//NExKwXYxa4Ac0YAdxRmjUUDW0mYCJVJpUHISvm86g63BEJdfgiARyBM0GIVSbfFSffUKBvmiXniAhx5u4svHi/FKueoGChCJwHFFGGNIGnJMNOURSauPhUXsqGecuU//NExKEXetKoANFGuXQyUGp7uPkT6Id2d9JipN/////26HoYaVPRpQcKs5hRVMQfQeZHII7GlzDm1atNhExmwNdS2ECr5MFHOALg+xYdEIC+UDTLQHStKHto/jUxXQ0u//NExJYb0w6cANnOuWTatsDwWWYKD569Vr9YvW0eRMIoWLQESUEzooOWNSRyKRVz///64u5gtiKWJHmAU6WVlEEwEnaF4w74zGhh3pSjKCAhxLty1FufOCcNEecSd75y//NExHkV0UqgANHQlHclJ1urP17///+yI7f////XlIRiK//////9ff9evK5zi0MOQahK3eg9vTA4qOyncSG7qRePiEEpQ0fPuwj8XAJmpQ5+qN0Zswn84z////////////NExHQRmvaQANqEudVMrHOct//////11X62ojqklyMEDnQQ0NvKQU9AOgz1XqGYjcy8JeAXk814DqtsqWBE1/nFP/J8nQzOwsh0KIAwTSEVw4GL4QAYbDARfWD+T+X8//NExIARgwKMAOKEuVQsRLDf//6VD36CE/A62ijidcOauvAYv4GNIrl2GSAnIb/P+afqI/EX/9flf3e36ioYZqKBCTioCjC1MY77X8yvpb67mVHWyEIy1///////Z59F//NExI0S2SKgANPEcFecQAN5uV+vass95SkhhDg2LXvvpKtc53GCnwV/Z//b//8nEQYOwTgpTl1U0qNSCE0qkWIf5A/B8TuGNd//+kWMuYh5prjkAlQfKFZtRZAXwLFi//NExJQSWtKoANFKuU2rHJIi3V9/f//6SMSooWlJkrT/9LkR0ajb02T269z6dDq6369VeeRjshPO92PQiNavIhfuyu6kQAKdW0FqHcfVXhQFP/+3Snt//UsILNtQtNa///NExJ0QsU6oANFGlEtv43m2f1O/65IvfsL/8s9J97E5fXqJ+aHkt76bI0Jw8BlSU9sikKg4SCCJkcg7shoegyoAY////v///8Qg/b///+v91brffqlleVmtZpOWYrmN//NExK0Rywa4AJCEuTS09N0o6OhBZ0MzIR0IpxU1h5BqLFhgDB0GFSGGCIeD44SDoDGKIBIVagwc3//VaXteu/3mvRWWvZLXK9KFJoarM1rPM7Oh0mUsVM5xBhEZEnih//NExLgRuw68ABCGuagkIigBACJAiB0JAMDgMAYIAoRFQ4LiQkLB0q8ABGcKzqrUnb//////////9/UurSzGMb/KVSt0f8zlKIirdHUuUt+apW4iHWR1YzqVGKWURDrb//NExMQR4yK4AAhKvGrOwDAURFUUpRUSaJDxErREyiIG1lZhVBMGFwEgYdQJBiQqAw9A4YBiAAADE3AtDhReYtHecwAwERoBJa6Q9CUAAvj2DgfecRc3JxZW75fSUXEB//NExM8ROxqoACgKvfy0eYmhlVVps1UeBmblxA0SW+qjqQdA2c+mYmiV3/QWiqvTRdCkZKorq+yq9abre6kDdM4yEmKRSN67ff/da03VWg97aJ9Rg6bpHDQvmhx6AyFM//NExN0SGx6IAVAoABGEMcAY09LzDwLOQs4WJYkTCggkwpBosBwLGgJ76tVIge+wSxmxMKSwM8KwShlvvcNwT8pjzUqgzLpzBZ4kzd0H638vlRKCcDnV//dSJubqY1+r//NExOckIyo4AZ5oAP/N0C4dJcl03N/+r1f9kzEtJQchRL5fNi4UP+rV/6/t54l3I49GPF9MjksCBiDqb1K3R4u9QcT1/8tjD+7yMNr5/P/P8//9/Mu//ca+/b+v2UWJ//NExKkf8xpcAZxoAW5rFZfuarTnWu828rf+/7nptKR2TRK9HpenZLigdz9BH3Vzudj6A/EQitqRkUE6gLDhjTQHDzIdJxPXhD5PoHNwgx+TigNgWQDjCANEqBGmn++K//NExHwh0yqsAY9IADQAkDQFA29gcAVe6ll1RNApBGxyIGChwFidO6K9t35//////////+9/O+9B6Qpv2d9z5ttnTRFfaL7XMS3d8f+mf/X9m7nttl7ltNyM+mmRV5Nn//NExEcayvq0Ac0wASTmbWGXstJSRFGWUkRRcDkBKz/qvVtzl1tJopU9MrnBR2bkKlWreq0i0zniFPQxaghSYYkn9du2uaCTcJjvEPR+zeV5VI6lZhEewmqg9UIUWu4f//NExC4X+x6sANFEvDRpRQyPIV2MpwVM93dZdjaut+iuUrfN1Tylb/5n0dkVAIzu4Ulle8kspShjmRUay0BMs/jTNZGxDJaCy2ExNEaQjRVEIT7lBJbQi/PN83nbiBuT//NExCESaRqwANHKcEYaDCzo4CCz4gY8s4SD50YCUo5qD1r7/Gi603///1WuOOUtiTo0VMxlsfhkDKDWPa2+MYTTK4GJ4W64SAVVKit5AvkvRPMO3KK7mEFHIHEHbkR+//NExCoRsVasAMqGlAmnNVLiqMVHJah80Vnos9RqlUJf///9leNUwOhJmqkShsQyRkA2zSCmVF7QMQNeu1YZfS16qFBb6MatVi/uvUac1stcqK9zDXPz///9pjIb//////NExDYRewKYANoEuf1//////////p2V9nJYfuCApa/ymJhFLHHSiHAqPxZWQwAC4cleVVsvfZAJiRTECsW96VP3KjxunXvv///+v////92yDB6//////8lGe+zNXerp//NExEMSGuqMAOKEuQ5RuHak9alLTvoFwp9RjtuBAcPiohQkWKgmDlwijPQ/u38/Kl/C5Y4RHQxDzcKBizsEDSjhIHxIcEH/uqdaHP///J8mrnEXSirmVWVCgk9CBUMi//NExE0QiRqoANFGcLMpFF8P4b9Bnmhhunr/6+n/jx3hMSuUCNTnjZKxOLeg1eW/r2Wj4lf///ocRW0i1JsYLCRJlRqpjcj5IILFWNQTKn2MQoSi33hh/gH4x/b0+/v5//NExF0QQV6oANHOlL1ZlhYGIzIAQvY6tYxQwQsgk8063DvqGWtcQ///yQWKhwSCY+1pMutsuur8+4sPOdxz6DVcFDSrn/+n37X/+BBG7Tq5auuvX68hBLBHR/rD93bk//NExG8RkV6kANFKlBb/4YiB8nKLCxxZdhgTjwfD6wfSCA1qnhiBKtdImref9fpzFpRv/nIwUpy1Tl3r2/ovVu23v8y/dk3l976dczHtpKbY/5XeivZgaPs5FQi1Omcx//NExHsPgU6wAMhElEYEYScdiC4lI7FAr///1mrynl/sAYnIbRmO//9/VW/tVa2TfT6PK9CtZqLe5pVdGK1DUffs3Ogwzq4slSlKJGdyEUgQIcSUMMOAgdDooNYcIjQF//NExJARuxa8AFiEuZxCcN///////ky9yZ/lP//0+X2eXpnfX33VdzsRuK32SjyUrSSzpdkMUOqjkGDCdBhhZxE4IAwmOdRUByhYcFCjzBMcOGCYiNo1///+v/+8cwIp//NExJwSqw64ABBKuf9////tX/9PTqdbPZO1GS6zGdaXdK2Ir585TI4qx1MQRFY4UkmIODo8TMg0UD1hUOCxEcaHQ8LAYgiJCr0EFp15YGWEy2ZShTCly80eoRc8Wnbs//NExKQRoxqsABBKvTCUv6f5Zk/y9jf3XVDKzIRHVjUVtjt5ujvQztKVzMgk4qrM6yHaJMWJDw6KjBphodDqjBYJCQdiQs4dLLrKvanWlGIEA/kQDUCZkTKZW0zeZSzz//NExLARqyK0AAhKvHMq8cg7g+xtutM8gsyq4+TBENggcpWL94XdBEPjAm5YtSjv9K1WBRSbb+Vg09rktMOW/eoLBuKualOm4bYUPT2DwKEXVihrxLiaXoVu/KGGtsgE//NExLwUwxKsABhKub/c5b/////28jlZTLqZ2dkR0kiDpQY+s857YNIFnP////+nXd8+YOVoXy0IuObZuNzMKXN9kcf1Ag+6Cjvy4FfVwDkLvBjf4f////5wbMjGRCGm//NExLwR+J6kAMMGTLtucrooYMwoeS4B1KZNkS/2////pQr7l1sQFXMV4gIdNTszTAS0kMs6vUjPuASBGYgq8vc3jna/1IdrE50hqOPulP6f///9kXnZnY7z6qlHEOLA//NExMcRKZqoAMpElIHjh4kHkvVIfV////11xu4JlgOUXpIDM8Yena0NL9hq2wsWtEbMBgZ72UsQUsbarM1V/cyiDTaW/m0WPU9aDFPX/gB5FiYGZyCHdu1jj+MQhw/W//NExNURGYqoAMJElCCHsJsqEqRKHoWKAkIioQYDpRRgWe/9///RiqYogigfF1rfkGiCsrhtAwRK7PWbakHgtVwfqFX6QWvuGdUb9p1/AjbrCg67xjcaEAKukzWk/FV8//NExOMSmYasAMPElP8wr2OqRsDJxzG2IlC7sk6SHi1e/xYUeh3///0V/crdMbI/FSIBgYcrzarpyJgdiXSQJwmT48kqZo9Zx9bWMUUmMUs70kkAUuYmzGF7hdfJS+bl//NExOsZqZqoAMYKlPszck1wFfcyy23/////3+O8wseQCXkBz4FjJVKblMEpFOh81BThIhPdHSzBt8kLzzX8/6vO0NuR2eapqXNuBLA9HBAs9AiZZWLlSZBRJGlFHDHP//NExNcTWVa4AHvQlD4oLrY6Rqqter///Fc0taz0BTKhKH78dEjhFtvEVxG0YCjBCchdZ8LbGuyBJnnHYg+vV92z10pfSX52ZcOw+mgBCT3mYf3rpDbcvEGTCWVCKyml//NExNwR6Uq0AMNMlNV0/3u9axUFBICLiVMVp/cr//YFGveZWR5aLi3+XCSAoG3Nlj0WBrTpIhGpzMq9BE4XfI7jfpqX5DX/ib/Ov2qmb0iQKlEuKPT0kxRRQMvVBW0y//NExOcVsVKoAMGMlNYxFkr7x/jVNZ3N/WIMBgUbZRYv6///QvQ5RylhlrSa5hosWgb5sY+0+nlpYMLPsXQwXED58HEqSq5DivX5Mr1vkzPLP8JL04YnYHTx5VA6SxBL//NExOMWOZKgAMlWlEhlBayDFSVHLUM4re/KM7lsfrplia3M7P///qWvV02TKOf5Kp5N9QZQvobKqTnXcQ6A7z7jW9AcQ8GkVOo+aZknU7ZkaVE8ncBe9IafRJz5KzKd//NExN0VqZ6kAMnelBLdsQg1SmLQn4uOagUHFQIETImt/ZT+z///97TdZawlwttw3YLUWTUXxrborwKWYcMtL5RB467fE+KJXlSPYNMWgSXSmQi58rGMdk698fnvelcO//NExNkVAaKsAMISlD9aJs7aVHRGYMgYVl3IeVMq//////+8utXmGBYY+Uvya6pzVvNgVYwNij1A7QLaSou4uuzK+LoqZxHVxofRASANFaYOTa0v1+Ev19JvzekJSLJ6//NExNgTqV60AMNMlKLP///////RYLKCLT0GFQxlweOgwBBgaPAIjedw23blRtiAzDG2xMJYbF9JasTvbq2LBTqh1BixYMFOql6wq2Z6pjqXhxLe+VtVv/3+t9U8y3wG//NExNwTkUawAJPWcAo2zXeW2/12////6LKg8wNyhIFap27LVNFvDVgaGG6GDwj7MQTEMADZXGMZBZtGA6UlEA1qb96kvTELKEAHujtq3s+a5u65/n///87/////9eZd//NExOAQ6UK0AMMQcP//////01/l7WY1wgsh7ILpljjPudJ4YoeqoCB5k56qEOM6WmpkrKBRotstA3MwGV67ygCrHXdiIvfRtITAlOoYiMqoXcdWBoEry+IKLobx2NIm//NExO8XIU6IANvMlARhoJ4ZEGz+O8gMkR/iJbDx5LO8iXu8mjn4oHrEjHmJpFZR5qHNeAyPKZf2Z4DJBjufemF3wP///l3xGXeTLid4GPkWioXDFa2csP5EYKZbYBlK//NExOUUAw58ANrEuO2louL808UesqcFPClBJG1uQNpo0ex27uNK3lOe+ZBLzw1YXvKsBT5GQiaxYaVf4V72wt0z0VMVZT1Nfem9h+UQMlCiaHnkM8gg1FRpVb7lijkc//NExOgiWaKMANYelEGQhDEPz4gptax//9JSlR04dawqVJtEoXJqxyj4pWN/KBaNjT1Of9RYKJeAP7fLKLbBd5qbOL9JR/iLfysH02NOZEIGVcNWKpmPU7lsq+Pz2LOw//NExLEd2a6cAMPYlOljHHVlWZDut1JJe5t/p/////6y6WKq3uaAkHefwREd6HK7hQNdpmUnogNmYGt65n0MmciRNeaJ8EyXuCxNFEiFOVVIXQ2pdW0/VlY0oYcVK6bW//NExIwT0ZKwAMPOlJ3//////rEqbi0rhEbcE2GTAwKukqpxjwOny+JZRNafxaFlaglM4Sxm481ZKF2wSnwuTjw7SKTntZNRMXUff//////cq////////////////Xoy//NExI8RuVKsAMJElCAa5VDAKFrwcyI8CoJg57Au4AYzl0dFhuBrL4vNzsZLIDoXBpwzbfORFCyc41HaE+j66vtp//9u//////utP//////6n/WvqxMgQIEBcOOPh8TD//NExJsTeuqAANrEuepFJliYh4aKJBmAysFaCr99SIh7m3W3nhJE1EiKKJfRUaLeoxSNiRNEkjZ9/3//////////////////9UqxP/ZCGQkOJjClCqmy1TpFoSISqQnp//NExKATUwp0ANqKuTiBi9BgxlAMVACIfQyJgpfrvuS9lePRNyQXAiDwZEZR0qjMUpo7JWi7P/t//////////////////6//6iaEFdKqNLvjuxA05PBqoY2dm4M4CcTA//NExKUSSwJ0ANtEucMQfECQ4W41zpO4ylE5FYGxsHI6wrWoYT2rjwKhUBB2DIKiV27knft/d/b6cse17//o/O/pOEGAaJIYg4lZt9a1O4hoG2OY5bRcaWFlrSdT6z6x//NExK4SCvJoANnEueSN30C7rgDcQmJBzXoLWGso8IOSKEkXGWcUirFetNChSSvP2AxVO2Blng8sl4R+MsnLNFTwhXG9X/gN513pxTHISamrpsoc47g5gWGpmrUthxnz//NExLgRwHo4ANvYSGKI81KQuyTqSx5kwoF0+aJvXrWhSVWShibn0DcvrerZ2dBlsq6zIuGhupSzcprXUp0HTd1qdXfSzBmNi4XDFymgt2V661vW33361eXjQ0TW6nTM//NExMQQyCogAVsYAA0ZKl3uOXmCxZXJob8+xAWEFrwMQNiQdyWPE7hgiiLE7yIaaLbRKApy7K9Xs6gvHe0F+CkFgcIno8iQmKtct9820/vv3v8wcW3/8fdKa9KR7YtW//NExNMgqyIkAZtoAbXe///73p/SlL5r7Wz/n6+fv//5velNbxq+a/fxa3rX33ukQI5cCRAAz7s6DRUXGnGd0HwPpDcmvnLLbOh4sUR8q0aLFS3QM0s0zH2qmOwzMMgS//NExKMhOlaYAZp4AKIMIkD2FQkQT0aiUBPhYiYjoFCMcFUJwFsKiXQSvDAMg0J8FrEQRi4ZO/SPrWmZGCBhNjN1fQNFu6C1s1FVTLSavUkhRW91rb/ZS3ZvuyS6av31//NExHEhUxqkAZloASKv6lJqat3Q/VVpOiis2/1NUYI61RAAM+BYMXeSHMmfAEQUCwQ5xdNGszA9cr7T7B3IPhPhZLUThsH4cY8BhxZByypKXS8O2SoAPROSwcRxZso4//NExD4guqqcAZpoAGRJkgTHJExKjU1c1NaBcWmJqZBay8IklkDYyo1H3tx6G5oeTWn//+zsh//e///t1rZ3U7JO6nZI4xi2N2G3wiGgIBBKKHjlr6tZDXAFEwaeIRwX//NExA4VWS6gAdlYAGvAxJtgYg2NxbO3w3S4vA7N7K0PA6TslBCmx9MeB0qEMmMScO1YkoPbCE1whw517vqvq/zolEq7P/////+yKsiyuJjIs1yCNQMGIDLamBwawPB7//NExAsU0MqIANvYcD9FwyQdU1m5CFAEuNRjgOBBVQ2KUNUhx/qZAGimkGYgSJzZEETACnteJLruwVdq7a8FRowGj2pkRep6ZEl///////YpouAnhpU2BBzJwUEQGIjM//NExAoRKKZcAOYeTGSiyZAEZb0aBJh0bBjEhwE1yIDbIy6LYxKXs+XsW1SGGEZNhOHEnXHOrWz/hiZhMgNFhwFcMv/Ku/9KMzYM0/NgSGm5iggkiCtEOZyUo2OYFjSQ//NExBgQUFooANPMJCgQomN0FiSySJceccgi9/pW36itPVD5nZ2+vqa6K3xmrYuVfqbodIVDqjvC0yQCIhBSC8IC7RU1Ncv+dQLuXetOEqakel77oegsLDhhFTycL6Fp//NExCkQGDYgAVsQAEsbaKv2oCafHXT9pkUc7bxE2SSxBG/yFQHNasB2EOAsSpCi7OdgSKd/9TcXTaoFxEEjv0GBuNBp7XdVHRLCcUEL0siVaWPMSf2/e8mQG0+t1yTW//NExDsTeV40AZo4ABlLrKEd7VxTHziafZ2smxAETdJ/42wKjgEKtl8OQ1KQ4+UsscrVLDf6oVAXF9xdtAiNFk2ZMWgYJ5zhWIWZTu4Z/CGSRLIFh0uH3FEAsGTqkJ+G//NExEAVsP6gAZhIAEBmTd3/r2OJ1IC7N37iJokPeUUgVTB2oZDNy1fJjm5GGUCba6vIyQigq//5d1TWnRaVPU1KcIQDxch2c3ftT/////3//7372////////+nQ1zEP//NExDwSovacAdo4ADHWYaiVkTDzjmOHUHnJaqbLUyzIyFAIbS3JAboVsNF9Rq+oSgxrsB4inKtC6T8l////t256oge7nl2NT//9TBCHQQFAwBlAMyXCkoTDIBRVUtSy//NExEQQCKqkANTQTDwOakFs4nsL2mvumilZvveU7ooad6LvIjV9v///rT+//o3U6ZKAzI06uRpKuqP9XkbyK59Ce0ivoSotCu9kIQjOQGYWjnxy6qYgQGRzU1v/0bb8//NExFYSmv60AJiEuaxINuy1//////////P/LP7+T/cpoSs5ZH5JZRLtZLOOfor6m7ILOOBjhzd6IsI4QV/BjtoZh3dvYOQaHYrhSvl/////lWv//////33Xt6WJTf6o//NExF4ScxbEAFCGuPTsZ7F2LIrFZERVZhglekWORrh4e5muJhZHUweKKCJVHMcOmESGIg1xEa6qhRcs9WP////1/2+nfu2tl28zNvShFOpFYp2FkILOs6MPGjBomwmO//NExGcQ2xbEAAhKuRoeIqjCFF0FTtQOiZAGeEhcWEzgIIMKuLCasHxovYMEqgAI////qydusv/9bsmbapWMVimUy3Q4dLMrI+UOiT0GlaJAUhw6KKCuHQ8JD7oHhYRG//NExHYQywq8AAgKuY4ScOgUQDwsoAswkLCQ8VNVA8UXGNlzA3RVU//yz/8P/4sP/5r0/SxW6yo3RysbX/VkM83+hepalMZ1Q0pfq170FP/+KyixbAoKLBYQUFApIKOk//NExIUQix6oABAKvDNaDTiTWBWFNBW+xGx9rM0BhKk6ZNCqiWKVI0zbOhIM7FLdIsdDkbPanLRFEtPGCzryKHNjHZi1bSSGhSxrW5hwi1k1KsqnAf4HCZpBuuHqaDHy//NExJUQgn58AJBEuccl04TobQMfxzmxoOcL+CtD0CafSQHOkaBvjyGGEMOP8poMb4hDpaSxaTP5vp6xPjMyC9DAhcxn/6dNTdhYF8cBfHuiOwsPf/rdP6C3k8nEI1HO//NExKYQ4C4kAVoAAHCUOkgNoyx5//+nTUgg1k3T8YRQ8xoH03WSkYAhiXkNNaXLO9EzLdMaH5Dx/2YOrFoFi96G4TI6tqHKepniKB96EJWgcDgiaEw+OD51E3p6aVp///NExLUgoyqIAZJoANKMyvIOYDj938+g+0oLny/////W1DVuxypSesDqlHlwzsONapfBZKrVMjkNabecFO7z9KfP/kh7vnsr+TPvJjX1j/TzgkvQvdOWutnurpV15LHf//NExIUSiVa0AdgoADqYioYHB4KnmjKcV////p6a6zIDXUGnQhEiKqlYBFiY3QZTNmmWxQRv7MP/zhVZ/ovT2gbFAzSduj7z6UqrPKxSd6uqO4myFLfFs4mDciUshAhr//NExI0Soda4AJPEmAg3955HdaOxuok+DcSur2SIkvfY+6rc3uUuHgByztgLEL9JE6/2XX5qlTmJnLqLjjg98Slf+v9T1c3L0yWqTExqhmlK9RrlsUaa+SGNFIhjn0cm//NExJUR2Xa4AJPKlTo3d//YwXX7WzCVLiMc7MEKJ2JsUl1AosW+bZ9ghgFRf9ByJ31+tum9Lf8Us9VJ2YNGMKrC3+JXQVLCU6pJ0OhqyeCZ3yz6nhQGoKqf///1uSoz//NExKAV4jqsAMLGuNJOMtFiAsCMMbByVupa18FDi3zjBQCD45GwUwBJaaYkxI8i1dVm2anH00rNChLBp4aDh7/4iqPNs//oIuFwEj///+V5IRFU1T04MEoINLNPJG2C//NExJsRmNagAMsGcMPOC/8cy+zwKjFjTo0KL2CIFctUmpBYOWmanOHIdS9qim7Fl4u9Lr8VSdOspuSj0C+8ali03/mVBZB/Cj67oDSCETYx30INlA7/36QoCP97g5UA//NExKcSCM5gANGScABQNOP9uBvwIIhIGbEgNa2/rgDEQNaVADHgYgGBuTf7/A14sQoHzgKGA1eWH6/+G+CzyTPGZuTmp/t/lkibmZPn0SfJf///ry6OMcZhZBCo0Kv3//NExLEQoD4kAVkAAP1/3U+35SHANgvDgHYXhwCoDnB6gbASQnQhceqncRp2U1pglcqtdyzKikJFrhgTKw5tyuQ5WtiIcZ76/+DvXR1HynnjVAgUzL5akKHQdc2n7Ouc//NExMEhwyo4AZqgAETWMvYd4sS/+9Xoyv3lc40xT5pa3rvf//9MW+9Z3jOcW+LZ+cb1/f//P1u+/Nj+33vEcAglxZCxgOhy83KiQBA1BreYeYXd7Ha1BLUutX2AqxX+//NExI0f4lKkAY94AFC/biT2o2+9Nlt95FvhYOtwo5RB/CIkBM0CBIDtW2bGCcLpFnMNl2X2VfatJNAVP3VMGf///Uv+d4I0QNvCMIHT3IZPzJcZVOPxHQnmiktVTqF9//NExGARAHq0AdgwADsCsgqiDkFcOCMDcYUEEQhRGgbYJQYKnJgkLqE1r3icW8WbYr9DfFsopf+wBGXW4Yh61W5h71k/0MiPy/gaY/T9UZK3GNIoGnOxDCKkQscNLBuJ//NExG8RYNa4AMPGcI8OBEEc1FdZTuN9r7lViVt4jejnmoViiCT0OLN5FdzhqtHQkm3HgkI7EAzzRYVITUbx8EgDRLs2IYkFXO+VLMRFE2nvIWh8iD6bDai2tK99wryu//NExHwRoT64AHvQcP/K2XjebDrZG0gqWQo8nPIn3kv/+aWkSyZV+y7EylfQ82n2dq46j/OItJQZeMEByldrpZk6NJfkEJlq07beOUrDY6hsmLpC5ZA8Dx42kseqFDYN//NExIgSoT60AGPScCzoVGbvMIsGrd//8irceo5IkEoE48bU9G2ikY42LwfauDHF1VRZAx1e2HNAguaw4MbySA9a38y0n11BtNHoRdiyc4f38sisvaedmw2UkZ61hiUq//NExJASWMqgAH4YcP4ILOLawpdYKlWN1Sc3bEVDYVCccA5hCkrFeoRNM2osLNYNFiQWB2VGBqXNKkJqc7u+Yfcx6G1ct5ff7vNkT0UwXjX+wVqbovmhntrr4Zc0sja9//NExJkRUVaoAHvGlOKJXPxJ0DPAfzVYyXKffolZpwm2AYljnicyPPAAWKROlJ8SuFVws81MrYVDw//////1qtgCZBIshwLSGrnDb7qLetDKy4Yh9EnFz0l++Un4OVpo//NExKYQqUKwAHvOcaoKBESnAudeNua7f7//u+fF/uf1nEHUh6YADHnx9Hd/0O///03K7SO5wACnmE3hpM6NZ5oSXXZxdqZUKwxi3NOUzb3ZI2Jo2aQ69+4+yuht4nCE//NExLYQiNKwAHvScNINp4v7//i/bhV5XapmhqnXDhIG542x3//////s1Emnuv2dVW6pVuvWtDbOblh0pfYSU2LADL2BxPI2SUqkqlmsB9/HUeMrIYC6/zMtASOkcPP///NExMYR+T6sAIMMcO/GybZYrBdgEA/iZYTd//////+4imAtJBhOcCemSB4yFEooLcUFYmIiq5ZYzKxVmuDsHobHj6VnHGsg8hojDDMeSVm+3////0Vv//////////////NExNEScVqoAIvQlP/b/6qdCMclQTi1eRWYVB5xYJM/UGMDmg2iA3ljZh4QPFkqlCfrONTFkBPmpIjlN6ne9SJQnBGzpkalOyK3Wnu29X//+pU/////6q9nSX////////NExNoSKVKcAMMGlO9mLWnKkomQUCYSAQcDCxxKKV7qfR+FGDjY8DiDGB4XD4uelr5i0MjwIk6ym3rZqdmsgYIplD4S1VnWZjrIjpLhOlonE1ufXZ7N02t///t///////NExOQSQxJ0ANnEuCJZmSq3//////zvP+qayqQUYCgGDgKAg0UA4TD4gQovnCzAodO6V0DGYw4CAClTipCTRfky8KRIIQwh2IgPlSuoMk3BKgeA4WHMaLTdVFlzZBAX//NExO4W0wpkAONKuUlS6bDcgqlUk9LdK/v//vW//////mnbGIaZ///+3/zjUoSKJZz5tTDCI+VLCQJQWCdwcCINCQucUmjyKTCIEg4DwSKxljchjMIyJwJKMwhEAiCQ//NExOUXYw5gAOQKuSoGGFYnFA+uopUEAlEdMiE0HuIUAaITsd5IkZ1K06lKss1Pn1mBNVTTe69m1Nt//t7f+n/7f0OZB81U/T/vSs+v1/rNscrMdSarTh84anHBcIBK//NExNob+xpUAONOvS4PQqPiMKh0dCySDlEAINAQeTW+EzRgRzAwDAIG5mkA5EEMTWFMQgNk7IxGCdDMRYPZJHaYCMDo3TbD3sP1beahBa7cQSqC7r5uefn57j/97r9t//NExL0dKw5MAOtOub6/tVvyJ20SVv1p71/9H3+jf/9+bQ1DI4Y4xBXSdRZaQ4DB0CziYuDB4Ai3oFAoBGKoI9AgTDNMpSNKeeUKJzUzancqL9tnZnjf6Q9wrAXmhi2l//NExJsZWwpMAOrEuV38zunqu/S7r+R/0VdvX6dHrzZBCJqEAEuUdDihyA/GJgkBAEBBiXzdVsZchelCpi31iS3JZSVretZbtK0zLu+pHArjABr+j9PNO//0dFX/r1ez//NExIgSMMJMAO4MTP+pNeGw88yzQQ6Pnnc1UPzMD2MjDYHA8IaQGAwjJoKFpMBV+EQVZyGAVIMLsYkIfCLYShFhfnE08iNPUQhGeTMgqlmYysxC5hP/zGjhceBSFySu//NExJIQMMZQAVwYANf+HxcWAUD8gCx29eeY+pMF4BANxYEI5INOj99m+mjzzBohIND+nb/09fb7+5pOT55rrk+xI1+TbkjJyWt+kQMpnkSQ+gI5q0XUnNpGtfLRqO5E//NExKQg+wpUAZxQARQvKATldfSexzI30fR3xYXy3Pnw9oRSScSAuXyvX5c7aVIy66BwkQMLMlxfuX+UNcv6/Ew4VrOvyxezAYLkhZINAUm11IPlyYxxZ8sqp3wGFg4B//NExHMfoYagAZlgAOt5YcuooEn7WtCo6qkqh5pQFsA4pE4dEAMI1S6/bZyERpX827SuJBdjLInEx0hA3LcpVJm/LKRjMuWOppy/i4nNoK9YEpwPhgmLrDCtDi9edFrl//NExEcdUaqcAdpgAOcKmZSHBWfYu+303+OaUa73OY2t/fyHyYOKJuCDTYq3//97RbLOdFTjCEGRRgZqvWPxEIATxV07AElYPR1JsGKnnG+FWOib8XUuar3pIUp9N2s4//NExCQbca6gAMvMlGJX412JPxb1EiCKREJAI9TSEhc0NJBEOiKGFQP1zSRZQws0o+8drIVD5B2G8s30xbiEYIZFizIGXJvqQ93/4yHWFj0Jh5YuBWB2/8K6Og+TSbst//NExAkTwV6wAMvMlNVSWf1JRMJvmIu6ZtBMkx8+yei737UzusrJq+YDPtukF/c5ka3K3PloQ/u42ij2upK/6I0gHSEw8DCe8Iot6bfT///7/hWigdCWDIZwzcjA1Szz//NExA0RKUq0AIsMlKCcW9cH1/15sb7f4DfZm9aWm7616rDsKdFdbyxj18sdvrXz7sffhe3JQZFFrMMOFj+ba/rpv2ddQVg0wI0fY3DoBJn+TfaK+8VVfMY9x/RrQGRR//NExBsQoTq4AIvGcFsuH+iw7dc3DOEICeWGuuXSpH93m9MWD0YeIvctlKuMv61/X////rXDHuAq5+q+GSOUi3uJy2t2xED6zZ+SBGVmY+DsuaMFsFqXq1G3Zl2Ky2wf//NExCsSoVK0AMMKlAOYaLGZyGtX70lM5y2M5YecoUAzz0SU09n/alX///6V3JyYACl1VFhfpbF0591yuHRxag0qHzMllarDh2t0/UW9irTWBD5smEA+uybgdKj7Tajd//NExDMQKNq0AHsMcDBYVCp0VOWrK54t//9awzsEhItRtIV681nkOS6o7ApHVEI5gZKz8srlbSZdA+7Z+2wZZ1zVlEsBuchASDVZSzTWVmlR2l6GaUiqg+Vq//////////NExEURoVawAMMKlN6q7XtmfKvQucFrFEHWgQmFlV+PxINHQqHwzNEQukqKWlhUiWFTXInImqFRNSxMs9CJDOVpjTPTzGMYz/ohgJn////////lUInS1ZFFAS1OiqR///NExFESGUqQAMpElJIc++LFGfBiZPFk0CsGylmtCuMiYeAbE1jOaynHMRjJxbFkxnfOuv/////////////////////yKRyKe9yjtJl3iVlXDLUPzpRZxxAMOzbWEHgb//NExFsRuwp4ANKEuSdCK8ji0jQN42LxBbslQmJuPYvqHiardTIou2kr//////////9/////////6/O9jkBKAOpH1YGgUgwrDrUMJGD1TDC/zNmcCEVHoHf/G/TqKgHC//NExGcSSvZ0ANtEuSEwDSFKURnHSAlDowyPTr///////////7////////v/93QrIKdgpjKM7lJw1ERSChcqI2toe/uaBArnrUfVXsPzNyvdFlRJCQFERGte9DDReK4X//NExHAR6wpwANHEuCKrIrq3///////////v//////////7U0QOoYZ/jV1HTDDDDOTIIE7BDEDUSPisqo42ra5MXot2ZkPEY0OAPEsXOqodU1ANEgRAuLCg4XRuq/2////NExHsRev5sANKEuf/r////6LO69X///////p//Umgc4MoM6RwMHLaRZ2YGOIvptlZ8cBmIBy0wQ8RDLyOoKDobnbMARyZE2GYW4sAmhLE41WdOoskaEiQhgANomRIs//NExIgUcwZkANHEuWZKF47OJopHTZZ11pt9//6n6W//+3ohpphpxprnCtTUfPT9P////v2u7V2VXUqylhgSR8ZEgbxUEJUSBoWKuiUTM6JgKbmvNZomgZjRGSDZhheY//NExIkdKx5QANNOvAgJZYBHax02H4h2dnHJFeLIywN4AZilidKCBis+kiTAvB1DMEUC4YTyYipk6gixqgfLholQLxqifMjq/6v9d3Okmb6m8yd/pTQ5RGYfE56mEyks//NExGciAxpIANwOvGft/9f/qr0/eveiHjw3VDhkuAgFQXjcHpZhJFQjilCpqRUYZsMatqbiqeQcdMAWqCDZAHZOghgVQWcl+L1uQTgzBoF5LGe0R7BmzuO8hKRhS6cI//NExDIbUxJQANPKuUG4jki8ZIes2peBWt8b9qb//////en///5X1JPIMUgcZyMWf//pX///0+ldUozvDyCgkJoHxgSCAdGiqkoy/5IqG/IXGMMClFcz7AqsEVrt+V1K//NExBcWCxJcAMvEuDTDETtVGkdfljY9L0nfK9hXjILNjixIsDEHEkauYFa5rj0/3////////r+6M3GZuhkb/////////52K0dTgykDU1VFwMyCw07VECi2WN8j62uLk//NExBESmMpYANMScNlMuKydwnG4tBUD4AheRfsNb3aoyoeSEYeWFybYjrcJqyA7DZpdzP//+pJpICFRLJf///9NcDIOxCoDNN4kMD7Bm0uUyXzDESyn2RXsDG2MZzQx//NExBkRoM5MAMPScD4UqcfJ9TwtYfNrq7ABg1CQ0BRYDStXFaRE1xUMB5440z///xhK1Kxv/////po17Bl0xCAceLCIxo0oPKUsZa47YIBsIA0CIDA8TkBs8TMkU02Z//NExCURcN4AAMpGcHl2oKA1VjAgYJAZesUMCCwEfZ2+Kuc0XcnZyfUz///1okxBTUUzLjEwMKqqqqqqqqqqqqqqqqqqqqqqqqqqqqqqqqqqqqqqqqqqqqqqTEFNRTMu//NExDIAAANIAAAAADEwMKqqqqqqqqqqqqqqqqqqqqqqqqqqqqqqqqqqqqqqqqqqqqqqqqqqqqqqqqqqqqqqqqqqqqqqqqqqqqqqqqqqqqqqqqqqqqqqqqqqTEFNRTMu//NExIUAAANIAAAAADEwMKqqqqqqqqqqqqqqqqqqqqqqqqqqqqqqqqqqqqqqqqqqqqqqqqqqqqqqqqqqqqqqqqqqqqqqqqqqqqqqqqqqqqqqqqqqqqqqqqqqTEFNRTMu//NExKwAAANIAAAAADEwMKqqqqqqqqqqqqqqqqqqqqqqqqqqqqqqqqqqqqqqqqqqqqqqqqqqqqqqqqqqqqqqqqqqqqqqqqqqqqqqqqqqqqqqqqqqqqqqqqqqTEFNRTMu//NExKwAAANIAAAAADEwMKqqqqqqqqqqqqqqqqqqqqqqqqqqqqqqqqqqqqqqqqqqqqqqqqqqqqqqqqqqqqqqqqqqqqqqqqqqqqqqqqqqqqqqqqqqqqqqqqqqTEFNRTMu//NExKwAAANIAAAAADEwMKqqqqqqqqqqqqqqqqqqqqqqqqqqqqqqqqqqqqqqqqqqqqqqqqqqqqqqqqqqqqqqqqqqqqqqqqqqqqqqqqqqqqqqqqqqqqqqqqqqTEFNRTMu//NExKwAAANIAAAAADEwMKqqqqqqqqqqqqqqqqqqqqqqqqqqqqqqqqqqqqqqqqqqqqqqqqqqqqqqqqqqqqqqqqqqqqqqqqqqqqqqqqqqqqqqqqqqqqqqqqqqTEFNRTMu//NExKwAAANIAAAAADEwMKqqqqqqqqqqqqqqqqqqqqqqqqqqqqqqqqqqqqqqqqqqqqqqqqqqqqqqqqqqqqqqqqqqqqqqqqqqqqqqqqqqqqqqqqqqqqqqqqqqTEFNRTMu//NExKwAAANIAAAAADEwMKqqqqqqqqqqqqqqqqqqqqqqqqqqqqqqqqqqqqqqqqqqqqqqqqqqqqqqqqqqqqqqqqqqqqqqqqqqqqqqqqqqqqqqqqqqqqqqqqqqTEFNRTMu//NExKwAAANIAAAAADEwMKqqqqqqqqqqqqqqqqqqqqqqqqqqqqqqqqqqqqqqqqqqqqqqqqqqqqqqqqqqqqqqqqqqqqqqqqqqqqqqqqqqqqqqqqqqqqqqqqqqTEFNRTMu//NExKwAAANIAAAAADEwMKqqqqqqqqqqqqqqqqqqqqqqqqqqqqqqqqqqqqqqqqqqqqqqqqqqqqqqqqqqqqqqqqqqqqqqqqqqqqqqqqqqqqqqqqqqqqqqqqqqTEFNRTMu//NExKwAAANIAAAAADEwMKqqqqqqqqqqqqqqqqqqqqqqqqqqqqqqqqqqqqqqqqqqqqqqqqqqqqqqqqqqqqqqqqqqqqqqqqqqqqqqqqqqqqqqqqqqqqqqqqqqTEFNRTMu//NExKwAAANIAAAAADEwMKqqqqqqqqqqqqqqqqqqqqqqqqqqqqqqqqqqqqqqqqqqqqqqqqqqqqqqqqqqqqqqqqqqqqqqqqqqqqqqqqqqqqqqqqqqqqqqqqqqTEFNRTMu//NExKwAAANIAAAAADEwMKqqqqqqqqqqqqqqqqqqqqqqqqqqqqqqqqqqqqqqqqqqqqqqqqqqqqqqqqqqqqqqqqqqqqqqqqqqqqqqqqqqqqqqqqqqqqqqqqqqTEFNRTMu//NExKwAAANIAAAAADEwMKqqqqqqqqqqqqqqqqqqqqqqqqqqqqqqqqqqqqqqqqqqqqqqqqqqqqqqqqqqqqqqqqqqqqqqqqqqqqqqqqqqqqqqqqqqqqqqqqqqTEFNRTMu//NExKwAAANIAAAAADEwMKqqqqqqqqqqqqqqqqqqqqqqqqqqqqqqqqqqqqqqqqqqqqqqqqqqqqqqqqqqqqqqqqqqqqqqqqqqqqqqqqqqqqqqqqqqqqqqqqqqTEFNRTMu//NExKwAAANIAAAAADEwMKqqqqqqqqqqqqqqqqqqqqqqqqqqqqqqqqqqqqqqqqqqqqqqqqqqqqqqqqqqqqqqqqqqqqqqqqqqqqqqqqqqqqqqqqqqqqqqqqqqTEFNRTMu//NExKwAAANIAAAAADEwMKqqqqqqqqqqqqqqqqqqqqqqqqqqqqqqqqqqqqqqqqqqqqqqqqqqqqqqqqqqqqqqqqqqqqqqqqqqqqqqqqqqqqqqqqqqqqqqqqqqTEFNRTMu//NExKwAAANIAAAAADEwMKqqqqqqqqqqqqqqqqqqqqqqqqqqqqqqqqqqqqqqqqqqqqqqqqqqqqqqqqqqqqqqqqqqqqqqqqqqqqqqqqqqqqqqqqqqqqqqqqqqTEFNRTMu//NExKwAAANIAAAAADEwMKqqqqqqqqqqqqqqqqqqqqqqqqqqqqqqqqqqqqqqqqqqqqqqqqqqqqqqqqqqqqqqqqqqqqqqqqqqqqqqqqqqqqqqqqqqqqqqqqqqTEFNRTMu//NExKwAAANIAAAAADEwMKqqqqqqqqqqqqqqqqqqqqqqqqqqqqqqqqqqqqqqqqqqqqqqqqqqqqqqqqqqqqqqqqqqqqqqqqqqqqqqqqqqqqqqqqqqqqqqqqqqTEFNRTMu//NExKwAAANIAAAAADEwMKqqqqqqqqqqqqqqqqqqqqqqqqqqqqqqqqqqqqqqqqqqqqqqqqqqqqqqqqqqqqqqqqqqqqqqqqqqqqqqqqqqqqqqqqqqqqqqqqqqIpBg6CaC//NExKwAAANIAAAAANSI4aHQTQWiSkw6LjhswbMGTRk0eNmCckc9l7nsNsZubm5OFXubm5u5uazs7s7Ozt/+z+xXZ2dnZnZ2dnZnZ2dnYSKEjjDiBYgYUJHGHECxhhQk//NExKwAAANIAAAAAHGHECxBkyZAYYzQ75kzoNUALAOw51cJIDkCQDgUEIvg9AuBLHEv5By5mja+yypLBMK1I5gTA+rOBIPOnb3xhzr82dr8ODA8qcGDja9f7Cx+8zMQ//NExKwAAANIAAAAAGRphBBzyd+7v//xd60f+CaewQQ9293rRERetEZZOzyZPSAAIZcZ2iPaeWTtiCDk0HJk0zCCGd7tjAQhDGRERGWQIIw/AT/4CFKN0FKBBCQnCuiD//NExP8aKmT4ADJEuAtxBS4qluLcPUXJybRUTNSRComTAUAwGniEEQyZqWe4oY/+UrQilDREKmaRItihQx8YxivGVdhTUKAtqqqqrqql6rqAiSZjrdVS/qqUZqFYwoCA//NExOkiwtncAHsMuZBgIUX+zHWaqpMxsBNQEBWMXQoCJIMBAK/xgICKBhsV3/i4YjKUBDLxqDsTd+X2+/hSRh/H8fyMUlsQAAAAAAIR4iI72TIEIyzyYOFgAgQj3Z6Z//NExLEgat3YAHpGuQIEEIiIi77QQIAgQFkyd+DCBAmTJp3v/u7u7u7iM73d2hEf3d3Ef3d3cf/3d7ERERn/aIMIEIjfEGECBBCz+AAAHh4eP+OHh4e7MPD6T2MJDOYz//NExIIe4o3QAMGMuZDGAs0g8up+rjtNaZ0153oetbJEiSXNIgEAkiWyRBQCAQCSS3zM9pnPRxIBAIAhJGWOJAIBAEAkUZ9VUzMzJpEiSqvJpEiCkiRKvMkSJJKq/mZ///NExFkhatHMAMGMuf//2mf+1VU/1VVVT2o4kSJVOdqqqqZmZmZ/eTSJEiRmu8mkSJGRv9Bf4FBQVUxBTUUzLjEwMFVVVVVVVVVVVVVVVVVVVVVVVVVVVVVVVVVVVVVV//NExCYAAANIAAAAAFVVVVVVVVVVVVVVVVVVVVVVVVVVVVVVVVVVVVVVVVVVVVVVVVVVVVVVVVVVVVVVVVVVVVVVVVVVVVVVVVVVVVVVVVVVVVVVVVVVVVVVVVVVVVVV//NExAAR6HosAMMMSHTTIIChyihJEc2IUfboZCRCHBBEooG5YAAOcMJmGpDECbEyZMCCxNdxwgiQ0dKP84Q//5///lAQd8QAgCBQHwfB8HwcBAEAwj/ik9NFAVYZORGN//NExAsRuHpQANvSSB6ZSZGRAqGz8iuBVi2E3JKLkSkzC/k4lFR1AfJSIqqo2AgWFhGZBYkBhYPAUVQFRW5LtbtP/////6v6kzgeoJGjYCcGjACCzGC0WCCICYEp0zeM//NExBcPoFIwAVsAAEPV7PKa1cvhMJIU9bcr1H6pXj6v/1ro+tx4UvVi7n9366Cw5/6PpoVoHQPG4oY2dP9I4b7nf50+x0VTf/p8xV///7J3xUMmYn//p8L0bmTUYURN//NExCscayqgAYVYAIm///vZFPbbFzM6dJGqbk8bP///6e22Giz2Eg5RsdNzRxMRLx4JJLAH/////0z775PwT4zmzw3KCSYGAI5ILyFIcfARB8JaAPp////////T+yv9//NExAwVqxq8AcEoAH2XqJvVXMqkZmVbtkVCHRbkUeSJnOaMdSHjVEB1SuMGCI1YgymEiFKJh4CVZxAriYsKo4oMUguQzFdR5xKgmhBcVSxzGuLi6EFXVQcqhQ4Go7i+//NExAgR6DLAABweAKuTxBEYGF6wtmPV8oCYsCEebV1SxFxSc3t0RFKgLVDttp0GgZSKnZY8CoCICwNCViFiISuHkhEpQGDswIjx0KLX6zig+AZrWt0AyCOQNX5Y0XAm//NExBMWqaKwANNQlAPFIuLHea0FGIwCNnOm+s4WdzunEAdLswM047EsSi2L41HD+6nSUWbuv4T4VOLoiljGsAjrgGUHGiZYY3//+olpS+56i6lPRefrGGgH+NXLMyWr//NExAsU+Uq8AMRQlBpNrVMHEAMm6ZYFKNZMcs6pUzMn5l1mZPKQMy+Ee6qDa12cdf0KHaSIZF8OU38DjAga0ImB4VaC4RYEUuMtLh+O///+/6bozARkFnA74NY6dpg2//NExAoUSa7AAISMlAJmgjCChmnyHC41LUdHYbaiZN/KjZ0nq5iNTuVxM5G9X1+e7bBYfHk+Mtsfcz7Ddy/6/Rz9jX3LMcAqPjSYTe0x////3p3V1VWTIoBdpIOkcBqI//NExAsRwVrEAJtOlMNgFUNiNRmFyTaw59WW9SN6I4U16gwatm/63sp0w6bVzL2PlhDPMJvQZHuNh0AkRIhbWpd7v//7N9NjqufrF4gN+RYbxVvhL4KIgpM5mHA24xSh//NExBcRqTLEAMNOcLplq8bXSFhlpo2Aq2z+tdTm1HVMOWXUSNFYQNIKnhZw5Rt6AVPKLpaHH9mj////SmQZR0AjjyCJiEzS+Kq4Gnv3snnWc2yn9693r/uJjkoYkKmX//NExCMSGNLEAJPScMYEU6e9uxY1hsTBAVEQwYbYvaYIoiIjvYFQEWJTvt///9mMOWV1ry7dVDkBmiwZFHXpLiuSqPCqXAHGZ+7Jy5TsZOr0yvNesKJaZaWNb9oiM+R///NExC0SaSK0AMMMcPvvrzmNvNHBQOypgiwKHWuGI9NPv////11FtTxiq3O8njhPW7DE9dXWCjB5K2hgE1PJ9fcdmcbVgqeTec4Vrd0uNIXDSxISS8v7j695nh9l4fXU//NExDYRaRq4AMvScC5QesNjAy0XvZ///////02kv8+ZPCBtZbyCQYObQUps+ewdRwQHmW2PE/52KjXw+h3xWiuSmqO+Txa/wsLTfzv7vm228g2RJiV7dpv5krBXt/////NExEMSAVKwAMvMlP//0f/pbnQNCLLi7mIFlJ50DMEPlFZ9hnyF7jNmvY1vqxXH3gw+o9Qlv//a+9TazDisLq1gbQg0LAmwKvcEGsD2feJ1193///t//IL2A6AQUyyB//NExE4RqSK4AKSScIaTqKwEwbLLHHaWvUoeC+TH6y4t8dxoqyBt+OL+oXjxCr5gRdWV6i6IHcShkMGmYsNMgLMjFDnpST/////+uvMgO8S81Yd8Mo+gCBdysodA01LU//NExFoRYWbAAJtQlJjmq5SPV2JGp0SLu5gkoq82z+H/g+5AlI0NTlMxOtMdAscGAMDgKoYLtG5FV1Hr////pdVV1nz6c8epMdZr5HgXu/NDpoE1ZyiSz7+uVW5RTm/1//NExGcSCXq8AJwGlGe4/qVP5e32CYYo96KAv/ej+nQxNURHKznOMQoxyn96s51cEWDQ5sfUIzk1JoWeY7//v9aVquWsbUhPcUmFn7GbdAxHDf2EyiYscudtJyS7uEqj//NExHEUyaq4AMYElM+/Pp7TdO4U9NADk8q1LNmRfg7iLM23o/m5r+Ye7i4aUWY4U7x5hVRIccpA4CIcMKIoWZxiACVIIDzAGMFxCLHjiv/1LNY/Vr11xq74k4eB3GLl//NExHAZmcqsAM4KlFiAgGEQepUghnAjSlhUkWDoMnmpqIShCYuKch+60Z56SO26jSnWy7Zyzv/l/5f//////0uzTGeCFGdZUOUYM6TCi8pvqVEocuhVKipu0MoBLf/q//NExFwYKiqkANYEmIB/1JySiNDCnYAIGOwhEwYGxYI8emkahOVCqAhxxFtclK4AVhLsL1dBHlklyudp10q3oDBc80Dg6pns/1mZ7CdagaBr////41hpKGK8YceTDYQB//NExE4TyI6IAOPeTNRVlMNTrnGAwbHIAYM5YlOP6BZiwaLH5W0LurTcAJIMphdUOQkzv4gHQoszdjtGGajsUesK//+WGAZadG5rwgAdrf/0sWPQE36Ng8yFFAETh8yq//NExFEUCJ58AO4eTMKF8CqBjkcfa9jII1WgS0DCmKz2epTa6kSADUE1MUxoBJBPUmoH2rL5Kpa0kdal6m+mj////////////////+id/Xr9e6nfaPkqu3obbgQmR4Y5//NExFMSUw6IANtEuW29ZUBQGIiGjaPoDCAoEIwp4k5kUjIgCoC0Vo9BkF8OBPu6QQIsQOVm//5ccHxPL+D4DLh/////93/+mpXZoXVMv7OEBLWwluZhoxEGfpwoCMKY//NExFwRII6UAN4eTDNB2gxkvBDBPDnEGGkCvAbGDYJGWgQoCGh5CGitwDREHmqY5Y7jRaaZbfTQ61+3vq9ehho2OcqD8oeOCQWc8oRkCBhBQyJDCQVJuqbOx6sq7TX///NExGof+p6YANSOuUq57d///+6og++yKNUew5G3xFxXq7Gxuo4ZgqbK4pbZWRDqa3m18BDUpG0zjppuAcqpi2wvtD5tujDSnbWtU//Vv/n/////RDSo4iwkEhYpiCId//NExD0TyZakANPKlBxBhiT//9f/+lyzIsye1C6BVKqrYgkVBjXNAFMUhg9TQxkMrP9HRgBWY5VkKlo3VThFV1uTftdtdbrZOxfXxv/i3VuXp////2MVlsZWBF/6UP////NExEATWZKMANvElP1DB7aWsrQsINcOEy0VmI5GkMQm6IkRodIQhA/43tHSlQ+GdfUfjndgnjERqLzciKNRQfWZPIyj1Ps//7f/6f//21wdArf2B0VaChpCmePAhxO8//NExEUPqK6EAN5gTHVBtsVMOgIZI2IYpWFkQGaG6yRoQGKYqN0yVdNNI05Ju1jSqh7SME2IX//9bLIyncggLBEPjhqP6Zf///ym7rUxIuKaKo7EOl7DioiZEz8RghIS//NExFkSkWqEANtElLrvoTEOr1F0g+wi2MwGE41GpVM0b6khv379kgUiRJHk0esruLBh2FR5CsO6jvnv//+7xSpR3LCQQyUJD7WRYmYGsL4WJB9IRSEHUAF4OOAji6xo//NExGEceY6MANPQlJw/d/2k3GAqNA8Pn88FQ0gZ7XAhh1PTidEPRKkfFUghDlCcIsBClazwR9xoyecHDcdVq+89W91jeaXrSPS92EW+fz/LyzSf5/bVJdd3zOSPaiIJ//NExEITsZqgAHvGlCB4cEWNt6fqp////6HLDLywVSc9eoWBM0vU1A0+WSEaJawYkMkRwONnrZvEOEz4gbZXasRkVicLzVwFBv0nfn3/Pn8+9zi1dCSK+SUwfowfMxVR//NExEYRcZawAMPGldU+AlomzXvcgP1yr0SSTU1TdH6tvYRPiXk8UcB8dSVdv3qdbXPvS+n492+Yac5jOTLuZP76qiIk5ymu7T3LeHoEZkLG4dFP/1pO0dIAejbUkUg6//NExFMSKYK0AHvElCIm+XgrncaHqG8pTECxT7joSm+66VYnXyhHS2Kj6GBu6fr/3taiuqlRnU7uOrkDocCi1HigTMmyLrd7WWk1tSkpPWPgAHgn5dZDhzj7WWpmCijs//NExF0SgZq0AJMElMqnyVpmqVgHjqsYohHZSg2/L///sppuBPVwISUTEDuI4ldZW7seKLPB9xY8r//su/0VAbAni6ZMAhRBpPnnVWiy2VRqScmTVXK0xkKpSk6MZQEj//NExGYRGZKsAJoElJStdnK0rU///1bNshlLCg0+oOeokWyoaW6j///EwNPh0OllLFg99AaIppBwiXDUphq/qYv2LF6LPLq/FNzpcM3QUA1YegLYg6NuGqw6gWmClUTA//NExHQQ4Y6UAVIQAHJJEvXd4YuALAC2C4gbHL2R/ifC8LgHYX+9JJf9BZXK543In//+YMbnDQqOgRC/0aLbev5fk4Zm6RiRMd5omT/6STrR///5QKiJkRAtF4gg7C/N//NExIMhWypEAZqQAA6T6m4iKC+FCZZ05nVKjfOF5MNTpz2GpDD4U0N1k5I2MB3D0TQSRBEIA+PdwGBPQYiWr1Xocsa+jZSabzxxrMa+GMu0XsZXX//93T38qqFZ/PpX//NExFAh2yqgAYlYABT7m7nj6ZvdUb5evEF9G75W9Q2Hvqoqbk4aVDK85NFJ81Pm7rTRct5WTzzmAnjsGRsQo3h4EIcVIJ/+n/aurdcs6yhIyCpyyjDVRbTo6e20ts27//NExBsVKxasAcIoAOZFntelKelOyTVd2dCoq8ylNS25mYqJkdjTlMcyztUg1UQw8VIWcVMYXDxDiAfDxwKQakPhEcodD6oX///4b/+ZOmThX+L/9z/onf9er66a9H1///NExBkQoxqwAAhKvUXVWVbOlpZ607pIlzkOhUHGeU6lU5GZhrs488RGFEhYKcRFB5iBRgOXOmE//////IXI6MSysvuf9/5FdT3pzFc/8f/Ve98zz6VzfVQr3rPw0esf//NExCkSox6sABBQvPUdV2vFUPgexB3KxE0M5kczHqRRJJsnioigvEBRUjYuTYoV/NGP/y8yl/PzYwAOQ01KsQPnN82ZkpPQjJ/2f/o3/V2pZ9Lrmnvr3dGI88XGi4pQ//NExDER8x64AAhKvHORGDi1tuKqUSFQ8OAgwUMLMUUGzqPWoz95LAHB295FLgOBot58hNQ7vrK3pp6mWZVFj7JtNTd/e72a5Gan///+WluibN39f8v0ehd6GN/mMj8p//NExDwRix60AFiEvEpTOZ72zO51qFNV7/5xAAUJ1T1XSH5aqFb8zBTy8XWYmFFJJ1Emr1emfRZFZfejIq5zkwYd2VSDOy5Nslh2deqzfL5BJFjWhq3////RmBKx7lr///NExEgRqU60AMtElP3NGucg5yhFbslvZ4IgZhutBEdzPUSBRfUdbrMupn0CG682iMwJzrshR83sY9fy/wMPAgRPNMuXpuFApJgdSLP///+LaY2lFfyzwHRgL0Xnc5QE//NExFQSGU60AMNQlDKfm4mFnxPqCnIuRG7xxI6ZefoJabo9Bf72zeyYEDM1Ezqq9Nmc3zPs7X08p9FT/nJRLFjmEC1W1P//9O1G1SrHPeiHaeFmmvodEccvxTfEBUoQ//NExF4SiVK0AMQMlMIa8JwDNyWn8tPyvy6VBbr2jCqlKsyUSV5HLQpg09Uvb36f/S1Lu+cdpJq7lN///rvH0dCq/nLgWmpGxlG4atdQMh6Kpliq5XB80NJr29Qd1Qgs//NExGYR4eKwAMIEmFMFOhQe9re/DT5Kv0f5lgdvHEGv6//z/6UAmuD4ucQTE9V1iMDpW//sVhbiX8p8DQCfX//7H62p9u23S/V++tmZvq+tF7MelVSzHrRc4RTkGenC//NExHEPyMawAMIEcEiEUkUMdCFDAQN3nMYAWQGUIiAFN///5c+RL9+dvyw/y/1/u1rc792Wi2XfWnL2TtVN2Z7PZGdrpTrKzvFWiJLB02iOKDxpxUVFhyiIiIqQcFGM//NExIQRIw64ADhEuYDmYYoK0ipQn////////n4iv///K3v/pO6F7n2sr/25mI5HWRLTn6W0QpTOJlMtBQYooaKM48cOEWUTFQ8MUFAeKCBBY4OBggLjQqKpOD////////NExJIRSxawAAhKuf/8v//////Kf/PNRX/L89/z/HX3DJHcIO+n9eHW0iY0mH9PuFuZGTNOv0PMLEqSIzw5hmMEYeQwiKKCofiWREFpC4yh6gaD///pv0R9f/0dlzIr//NExJ8Rex6sABBKvDqE/ZH6MlC6g5bP1lyu/udzV18+eXlf2VahrL3JKtLfY7WoYSQ1serkIwfP3Jm02ZRkd6U9xNV6cJrQ1aaNkUTTEgAhtzIhMiEFCPE6UUKlaOtk//NExKwSmxawABBQuShG1QCTxgqNixM4wpRfzKI7LIJf/+Kvh+IP/y09txq+S1PNV+5s/zMU375/Mt/VbP8561zZmqf/+Wn12OS5yOHV8+1zUZ/8zXbSOfnESKAMSJEi//NExLQYyxqkABCSvUS7zhxKqf0SSlFTqkvplbAhTgmQJlCYsz8wJMHMGvxiOyOxy3YUgMhIgrHDnOklVlnf6dnp+bP2/6dmkf/////v7Ub///6f+h89qvumr7ERGZ3Y//NExKMWywaUADhMuSEWDsyNjEdd4wIKPqDx4IZshgaIJMlns0O8/e+pxiozA8c5xvbRn/Tr//+y9/pkIs50U62////73r//////+xKs6aayO7MZyO5wbRyyyrT4UsHE//NExJoS6vZ8ANHEuRdJJRAYHQMvc+Osat9FBbFYRF4+Ns98879X6ff///v76/57Jpg4FemWhELQiVfmIxjSfZQHzUyJxYP7YuCAVEDP//yags8HBPAZ9J0uUWwCgQbV//NExKER6vqEANqEuedsCGAiUl8MCJ52pRNlz4FwlYB7xwYWOBnHDqntV+vfRvh/4f3ue6tZAvQ0CCEssTymm2ppG/XEjDTLDpa3K4zqacJ4pho53qcMd///9Bxmph5S//NExKwWCXKMANHMlF9xdccpkEpX7lVLL2NW1IburBgnQmY9CNpAbkehuqavRvv+b3vPD4YCAKgQAB5sCcwgaz0i9kFuTJPLr0H3A+MCzTLjn2f/////GsGq/XQUWF2F//NExKYVYaKcAMnSlPaQ1PuSrd7MKcCZUvCHjwu9Mh2bz3KV2z4Ze++Xu/bWhqMILvQGNgxPEyY3GXN0EoEDSWQRQU6S9d37ft7cqhQkxSf////2zNSLumr8boGFftjo//NExKMSWW6oAMKMlNtdzDDaLjPHGXD2FiJweHNbML3cezHa7n91szpmmZ15CkuWcwIRFJCjTirhkNnEkYIlOQspFykmB1gwRIOgyMCKSLP//////6LD9kAKXiRBG2iy//NExKwUUZ6oAMLMlLzKlYHBXECIrQSwMaxGJzU/76w9C+e67ZsP2i6vXBzw/TJTeTGla2NjuVlMXen2zvpz7xGUXGbuLxEz5dgLEu4u7vGebsApSqPxExWs5mJqTUbD//NExK0T8VqsAMMMlCPrv9RD/3LtVO/LKokRwYgDHFuWRITA3OdGnYZUmvvN+/1x2/wbmPKrp2M5sTcWy81rCB4+sAYlJga1SiVZcq7Gc4reVt3ORXwkzApAIAWoEqo0//NExLAQMUKsAHsMcVwaEwGB0FB4CDpgyExzDBxCTQTRR///////099VnKxxQdE5cnmZ7C8pjMTw8Jx5ETj9MPo2dFyjVS5h2Nw2sjjVSio0QuQgslyFbRTA/6P0xjyy//NExMIQAPKoAMPMcTEDpKXhnvwuj7yZrJSlZ8RVC9vgGzjlY6+rkYJF6AGz9rhIRDIgfw9vxzC7lsaZ6tmz08LYiCoaBaXaDIR7dUufiato5ZYRlHDKiR41BsmIMZRu//NExNUSeO6kAMMMcPQ5YWpo////9nqua5qla0qDLBrEMGQImtt8d9JmE3kVaVDEY0LVEJeXU49l9brEq7ZBWFdaJclTrV55Y4UDltU3L7/8fW+zuftLw10UQ0vKGFVk//NExN4QgOKgAMMScV1kGoP80pgb0f////9fRFhZbGAqQilcQZPOEWHr/zeQaTBIhRmGkjROMpnUjqGDpIVEUqI8RjRKmPAKjhUx1rj5474/vi+J0eHVCx73TUMnu7H9//NExO8VoZaUAMMQlFnqapF//////+mRQKoFVYx7F9BkN4lWpW0t62+mT5eVCcSyxKpMaKj1tMWonmVlVsNywqWPCWUhID4kEwgUup3vj5vb+e/3dX2b0xFBqKOfbesR//NExOsVcaKQAHsMlGMdjQAAALtT/////7HKoU4SjSBYEoOhQPpVpS016a0xaSBYqgC8irQhiiIlXCpSWmmWyM4JjQfFYEIB4fEKlRzsUyf31bczmcSULFRRGKRlUgkY//NExOgUEaKQAHpQlBUJhcOFUK//////Ur3BKioHjYDHVRBcjs09M/mdFmPCNduVh/tTmwv20vinUEBjUEOLGdMZDpVWb8VCBaWUTBcHkH+Xo03ERxtfF91yt2KJRwlg//NExOoVuYaIAHsMlHuLbHCx6jVGjRYAAyG10//////rRjBHJiciG1NFs9/+8kcISAnAOaESxYjExwZJGmTTSzKxGfA8niMrBsAJEPMrukyE1GzqFceVWcAYdlDZ0WBx//NExOYToX6EAGJKlKhSXp93//////SqYiiTbK2KyCsVtre8QC8XSqWmgZgNCwlBMnSAkHw+oJgoOYSoQaCEVArQxLFR8NxQUxNUSuZLrn9nn9gIrFDUxgB1pjYEAgao//NExOoWuY54AGPQlChAJQzibLGc37p6J8BYQxERcrCtd0npBhPmE5T8FyHuT0cJxK02EPY0Upm0u51Fxw3KuSZLFCS1BFxQghaOXKeHA+RBTljlTapSOZuLRmue1tg///NExOIRiNZ8AEpScIJURGIHs0U1jlY5hl0UFzMqrRUjQaYiJXI1rhaUUsSHEqrmeDoLAiLhbMB+d1KDaEJj9xcfJkdy8bHpWPjovkQQQak0wBLo1Ta+OjV5L5/8/+9q//NExO4UoZZsAHsGlXatcijlOUSSO1u3pzpRCcfoKNIwuHTl8E11aVfKapzLJUbYg375OtDpzE9JkVRzoYq3jtlhbhR3FmYWJcry+u2B3M+rClYm6HAFkFMZfVsyL6P2//NExO4WmZ5cAHvQlPai3LKgM4niUrVxpLCqmW7VTEFNRTMuMTAwVVVVVVVVVVVVVVVVVVVVVVVVVVVVVVVVVVVVVVVVVVVVVVVVVVVVVVVVVVVVVVVVN6RlTEFNRTMu//NExOYUqZZYAHsMlTEwMFVVVVVVVVVVVVVVVVVVVVVVVVVVVVVVVVVVVVVVVVVVVVVVVVVVVVVVVVVVVVVVVVVVVVVVVVVVVVVVVVVVVVVVVVVVVVVVVVVVTEFNRTMu//NExOYUCW4EAMPElTEwMFVVVVVVVVVVVVVVVVVVVVVVVVVVVVVVVVVVVVVVVVVVVVVVVVVVVVVVVVVVVVVVVVVVVVVVVVVVVVVVVVVVVVVVVVVVVVVVVVVVkqshJh0X//NExK8AsAQAAOAAABYJhIIhIOD4kJyRGjUTWQmjwuLDomHRccE4kE5IYbYXSjJlo0SmhocYPCAtNBOLaalFJFak0E0FLVcWz1U1m4tCzRoCNzRo0ZMmTLv/+aNGzJky//NExKwAAANIAAAAAGTRo0aNmfMmTJg0aAgOKgbgDhWmEg81//Dg4DC9jmQeA04g8LQcPggJwuHwQE44CBgHxAGQwTEDlnxAXeoEHFA/Lg/wQ3xODjv/iAPwfB8CBiD5//NExKwAAANIAAAAAPw+p0uf+DkP5cH1Lh0iYuC0k3p0ts5+QDE8LmjpPMo86iRwMSTx6/l1C4dassk8ePBRIdATCTSdIiexpU6QyoCOh0lZKyVpVQMiU75YGgZAOVBo//NExP8ZyWkgAEpMlDuDIaLeVOlg71gqCoaqBnAAIBOEOSzifzOQUewiBJ8fGKwWPsgyZHDdOCrzZk1J2JCVYLB1QFCYNBUBCUs8KnRKeoBVR4ksNZVwLElnWyS1jUho//NExOoT8HYMAGGMSK7hK6txKSW7+d8r/JaqTEFNRTMuMTAwqqqqqqqqqqqqqqqqqqqqqqqqqqqqqqqqqqqqqqqqqqqqqqqqqqqqqqqqqqqqqqqqqqqqqqqqTEFNRTMu//NExO0VEJ4IAHmMTDEwMKqqqqqqqqqqqqqqqqqqqqqqqqqqqqqqqqqqqqqqqqqqqqqqqqqqqqqqqqqqqqqqqqqqqqqqqqqqqqqqqqqqqqqqqqqqqqqqqqqqTEFNRTMu//NExOsUoKHYAHpMTDEwMKqqqqqqqqqqqqqqqqqqqqqqqqqqqqqqqqqqqqqqqqqqqqqqqqqqqqqqqqqqqqqqqqqqqqqqqqqqqqqqqqqqqqqqqqqqqqqqqqqqqqqqqqqq//NExKwAAANIAAAAAKqqqqqqqqqqqqqqqqqqqqqqqqqqqqqqqqqqqqqqqqqqqqqqqqqqqqqqqqqqqqqqqqqqqqqqqqqqqqqqqqqqqqqqqqqqqqqqqqqqqqqqqqqqqqqq//NExKwAAANIAAAAAKqqqqqqqqqqqqqqqqqqqqqqqqqqqqqqqqqqqqqqqqqqqqqqqqqqqqqqqqqqqqqqqqqqqqqqqqqqqqqqqqqqqqqqqqqqqqqqqqqqqqqqqqqqqqqq\" type=\"audio/wav\" />\n",
       "                    Your browser does not support the audio element.\n",
       "                </audio>\n",
       "              "
      ],
      "text/plain": [
       "<IPython.lib.display.Audio object>"
      ]
     },
     "metadata": {},
     "output_type": "display_data"
    },
    {
     "name": "stdout",
     "output_type": "stream",
     "text": [
      "============================================================\n",
      "\n",
      "Kamu : Apa saja program perpustakaan yang tersedia\n",
      "1/1 [==============================] - 0s 65ms/step\n",
      "LiBot :  Mau tau tentang apa nih?\n"
     ]
    },
    {
     "data": {
      "text/html": [
       "\n",
       "                <audio  controls=\"controls\" autoplay=\"autoplay\">\n",
       "                    <source src=\"data:audio/wav;base64,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\" type=\"audio/wav\" />\n",
       "                    Your browser does not support the audio element.\n",
       "                </audio>\n",
       "              "
      ],
      "text/plain": [
       "<IPython.lib.display.Audio object>"
      ]
     },
     "metadata": {},
     "output_type": "display_data"
    },
    {
     "name": "stdout",
     "output_type": "stream",
     "text": [
      "============================================================\n",
      "\n",
      "Kamu : Kapan perpustakaan buka\n",
      "1/1 [==============================] - 0s 46ms/step\n",
      "LiBot :  Perpustakaan buka senin-jum'at mulai pukul 08.00 pagi sampai pukul 23.00, hari libur nasional dan weekend perpustakaan tutup\n"
     ]
    },
    {
     "data": {
      "text/html": [
       "\n",
       "                <audio  controls=\"controls\" autoplay=\"autoplay\">\n",
       "                    <source src=\"data:audio/wav;base64,//NExAASqHooAMPSSHFVQHDjVhaAGeYGCgU1gV4KgYZACQliMQ61YFELRIFyyFokQI5AvmgsTCJsBhEgaFUBaj/2f/////cz6gQBAEAQB8HwfB8CAgGAwj9Cs9FTNOGD//NExAgQgH5QAVsYAQ8MMAIwCOIAWQo9F9kG0hFfq5UyXi3By4U7sNR+WSKMyqhcYUpW1hyWGiCYaIkPBoi3+///XbbfZWqXRd+r5Zo9esfzw7DMv//AAE+PxO5E1f4A//NExBkY0ypsAZiAAHhjMwBtn/4euWxQYguO//8i455PkENTf//GYIoeIIQQqFz//8mDR0DQ3eX////03TTTQaXDSXP////8uGhcJw0cmCoT5QJwg5wnKlhloQhfUJC6//NExAgUUWK0AZhQAFMyNB/RVI3gxCt3hKbuDbnaJy5MGwXY8BqC9GZo+OYGwkLlgViCCqJpxyocYj43Rrdf/tM+v+U/6MvfKf/6fpkZ7WwWn2daRgAq/dWzDJYzXXZu//NExAkS2S64AdlQAMqho5QJ2HrXa6cFHl/zXef4xC4LnMrA3CsymiqE4THqo8bmv/0fqY+klexvIUHBMTGkj7rXRplTv3//63svqV82ORWkllJLFkA6UrdnLbwJiG9v//NExBAVATawAMrWcAgaMLANiCvl46m3MoD9Xy0tc95vQazMn0x9jrrr/4mLOx7oSu3W5IPCwiQLLBGKiL/s///9VoVDTQdCR4ME2MKixESpep/J+JCrg2Z1HBsCPwps//NExA8WGVKoAMJMlFopa5NOoJwTQW1RGF6X+o9Te5N2buJsoonwIgjMBYRY0mh6N5pSkxDZ7IXGwhuFKWrXmlLIGqiKg0Fk///9HQT6XEFEdTLFvGVKleX4NUEFYDEo//NExAkR8MaoANPScM7k7SDZkAVyinncWb53AaG628v4kLVYb176MoqGYIl8lJqDQOGzAFCBpx5Ra8tNlTNj/////+u3p/fWhixgcjOOJgK7viCoAfiUsEsnSrMRjqJ5//NExBQR0MKUAM4STOpK4w06n12WP0sHw0GQOJSESzQs4FQyFjeXkq9YtxEBREWsLHrgnqXELtX/////+n/z2io5D3OyIy0ZmhaYvFHbyQOXjFyIQFYVHwUoprFxTxzH//NExB8RkMpYANvMcBK2h/E6HqUQZwpRKVhthxZUNQ1lMCrp5kijla8sSSbWw7ytTpGzh2o11YkCix8t4u0HG0KHGhoWqPijW2qyzicqacMY6SPIZe0i5fnZKXUPWZc1//NExCsRwHokANMGSHY84t7nPptEtS22MZ3Llm9EKUqRpW25w9zLyWo7gNAAUHCI0GQl8Vyxufpp+7issarWfMAIdQl+hU3S1ThIpdByhgoyuNYYecAkcv6a4EcIyNm5//NExDcRWDYgAVsYAAilg/FkUOVkVAC0UbOSdZy6lkmareCJLdtV7SgFQ2+Gb0xCV074OECDobTQRBEOPYcD6CABGQ/Rm+X3Tw4PweiSNhoako8RnxX5oXlhqkruvd1///NExEQhCyKUAZlYAfyy91HYc2Tln///3TVW56DFahPtfPf/X/25ZFycrWk1BB8KtdT2Ksm/////9NjUmp58++HSzzWWH5aak5qBegyqiNjPCFAyEFSKdLWbckiQKESL//NExBISUqqkAdo4Af/7KMtduR5yZqhEkSiwQAULHOYrLzv/////rb///z+6X//N//////557nuPvQjVvW2uB7xPeePqpt4V1gDAYErpHYpWHmDQpA2P/dxtTwdHOhQT//NExBsROq6sANHEuQXABCVSyO5jHuy9/f////pdN/////9V//////7VfSNGrBcFvVGhGuFM9eoMCAMY2E0DYW0XEZ7fZ1V/6vIQQV2JOjUYr/////c65Kn///RlRq+q//NExCkT4xa8AICEuCKgi58jdKCJ3OjnOhCNOQAayZyEZlcGdJGNOHO7Q4qHOhDgZ8gARTmlABgmNR9//pR3/zIEgTudqspX3e0vTb//p9RN9X3P8VfNQvzVI5Nytcz6//NExCwXmxrAADiQvSDoadzB1ksysPU1CSFepFxkqtoIMC6jySilSA8iSxczx5lmQQhIuEUoQNHGDGpyyBLc6r//////D4ni4cv///5J///9Ppq1X3Z3mO9SUQSR0GC1//NExCAR2xrEAAhKvFSOdSFFxIPIgcYepAi4bSpSuMIJILOYXFA6cQXDgsHgUOCo4c5WHtUT//////T8pa3/qrD6S0oRzMhRQaKh7IcqmcRMLBEVFihwJBZEGAOOOHRw//NExCsQQx68AAgKvKA6oczoRUCjCgGEwsaJGMVxMYPOokUBhv///////8v////9L6rTT+Z/q1DOqOj/Rzbor1KmjzPKVnVSqVUAYAnKY5WKgBAYOlEQ6UqB4DFYxjKA//NExD0REw6kAFBKuKAIqVjh0OlVACwM1vYCwUBEh3s4iiJZ0N6udPHjyMjJB3TKh2IlSp0JHoNPZkp6SERWeOhU7h0NVnVD8lCgNCVIlKkTodEw86Ih4NCUsFQ2AahB//NExEsR+CZsAMCEAAoAQTCACClRji4RY8ZXu1loWTT0Eco5+UnlXew7wjr5nnBjtdsZYGVEaKI4MMSm9777KkoQrUiimlSlrSLGz5pRVkR8YkUK1cME+6rHBG38I3JD//NExFYSiPYgAVUYAMhUYw+HJNJXtZXh/NDAClHJfkMJTYfISt73vfkklHTNIzL0HHT91szg9NScsaH2PJKP/9b3llnTW3t1Yd9f/ryd2S+1l2uclUmv///9RcGlqUbm//NExF4foyqgAZhYAOfk0ZbpWUNnyau/////8dFPbehR83PxnPptQ6Ktr3Sq1d8x3SkKU5ljO9LcVDEBrdm2q3oLfWHu484+mdLLkA41/kG88ZqEk2UKCi7QaUf/2VrH//NExDIQwMrAAdhIAKXaE/VPoFDIkEDv///9evTpRbhBcYnhCQ0Pt8hTiJOWb9diU187M6v/xifHz0VErmDVEIPNc2tP/r8p/I3QLbR2qryVORa9CchyEM5DuLd7oLAk//NExEISqeq8AJvEmPVN///9PFOg2tqwhiKrqDRDTdYPYXK6jpPDhU9REP+pS2uVGyN1KAsraN/vVPcj0RmQ9KK6zWc2QBUyGD5OgHECcwQJgqfMrbSZHf///6q1Y/4m//NExEoRcX7AAJtOlFiOdsb26aI0Ha2YUAAkzUYJo50Hzrp9h8dSVR5FglZvusv2Q2ypZrBHLKpnVxIBUFQKDoaahDUlWmyzLQkmAnf//v66AxH536yy7D6vzTpMQkXF//NExFcR4X64AMqElAmTf0xUt8ChSzhsx35/BVBJbs7Mspr8REVPAQVcdqO2/qfnRgVceEoKp///RLcieeSqLYghJuC+xg2GZM8CYS7Y6xFlIBRFU2KwlRWqmRnNatJl//NExGIQEKakAMPGTFWZl8qXltaqpjkjQlgKFDQqREX+pYyr///////49IwiCxI8uJ4ioL3LTOBtRmrXmoer0vNbs8sqPOgIRNTKiNZFo22L80+XlrrkKRuLMVTm2lp4//NExHQQwM5cAMMMcJk6/eZGf2exxex/vXWEfCMzmVMvv9wB12n/+83xc/n0SfCxQGwWBiR47zxPjTAEoDeoCCBYd81IOO88T4BqwIEAegCgw9L8rsm+CjhPhMBy5Fyf//NExIQPWE4kAVkAAP+77kNDV5PDuKiAyn/u/5qOYQYun2Iu5j//ZrNQazEXGbIKRYqjPjuMRok8ajz///+23k/LhqX3Jwi5XHMJsvkAJtWLv6yUYEM8lRQ/xxlvLez6//NExJkiEyp8AZiYAIKnOh1m22ePepuKqrJCbUlKGolUWm6nIayWyRsOLJoB9psuTQcSy9OZt5MRn6IYB9n///603RdRcLrX/ugCllrXeaoRQgVYeTsTAMw81Yn5Hdpg//NExGMSaRq0Ac8YADwe0nyF6C2LUWQioLM0CAWYDwJGCi4fY0IxA5D3MIsQacHEh0wG0f///11S2ogXceE1RXAJaaO/VwNWFTtgORy/s5TY1hrR2vvbYy/5vGjfbyGp//NExGwQ6NLAAMNEcLvS/uK5qN0joSjl4sn5xrcVFV7PcXTjQ0HRCYOloog7X8uqrb4awOObZ0NIvO83TgJExYEY5AzAlMS7AnFFmmofRz3t5Ek0xu0hhNzjNzVEDxQN//NExHsSiZa8AJPQlLgMcWGQgspvPHXRPGuEXqPM2J019ZlS8fNSvjBFTI/VgNoOpFrI0kWAQiYN5MI079lZnqtgWYkQCizsBSAtDDltsqo8p6VElD0tOgoeOlXErluQ//NExIMQ2Mq8AHvMcLWwaYVYz/SpKlROJp8VyaauzFusrmJWqA7x7iZCyCuCxjOTa0eSnmg6u8ZlU+xjDC822v4FJNgZYUZDszFKzyb4o987TJyyBUkS/1UVx9bgjjOv//NExJIR2Na0AGPMcBEhl0Qhwh3SwtheFeynWGhctitSDG4bh1Q+ECwGmcKLIsKgDhYUBeLi7VpT8vd/8adzwnwiJLnjcoMBATymQWpXMQa2FraTKSDkhbL5XQatYYWF//NExJ0Q2MKUAEveTKifBK3T60ZiTK3j/Z4PayMRdly3UvZJRSXM6fb0t3ZUYpiMsqZ1TZz3O61nSwJDHIRVvpAkhgIxVWWiEu/m5+kzVf+06bjh/vCmQ+PfLISzrWCw//NExKwRWUasAHvQcJhS9yxE9VEGA3J+EjKkBaUAAGUKkigPAAE2C4mMAxOEXOTP/rXXP31opsql3L+Xb77LfwnWYQ6O389MCRPX3nP56nTmIdKTZu6U3CRJSpbm/9LG//NExLkRCaq4AJPElC1lqHdxQemhWkHRZoqSJ0yKnp/////3tqUqrW5bepWyAGQn2z5xXRs2n1ZyZWpCcAEWlvmQkzVb/GMalJMERSSul1QqC02G4Vf//////1qVlSVV//NExMcRYM68AIPScFRUVYGgao/3s/////rOwrWQNffmxFpMYSkHkoIsFrTgd3qsw4Vjf1kqBtLU0T7UjRtTkiXzNFTspabffepJdX9//6f////dcZjMEIg43/////31//NExNQRyVa4AMMElE3d22+hrGOdSOGHByiBVMozTV7zdDIMQWAZcPBM7lXm5Blpa1iYgNAuntVVOgyBJkk5x1Im1vXZVkLn/V/6/s3////mRCKVzhhBCv//////yNwa//NExN8SGW6gANJQlKHT613KollBojFEFV3qowiXxxOcxRwN+hQwwVsRaYPyzXndbUsSQB2BaTyLLWjUgZGh0ySLqDqZJkmrZ+tlLtf////////7uhIk0jtf/////1XS//NExOkUAvqEANtEuFWl6JrlVzvKUQozguiVFgIytfzOUbjDgeMXVQHEZWt8W6MwpHUu7/RUO0L+Bik4YdEzLo8brdZTNDJLb91a9eqtX////////+nXXT/////osjsy//NExOwUUwKAANtEuZjs1lrRIyDHUKdyhBJSCs0WPKlDJ0qDB5/Oto89I1zHwALxpToAzAoQU/F7DA2hwAiPMSdYVceoCKAoxLMZHS85kkdQZabOy0f669T13//9P/////NExO0VIwqAANtEuf///v//////o9LFbbRKTK0xlAXQCvClEllAAPJ4AUHzEdZTwIfxpzTAQEigBG6GJwIDwKtwmIoAggtMogJ4XgSGSKcKM/VwJwm1gQgoDLzBiM+3//NExOsVMw58AONEuf/9P/sz3qTu7//XV9N1KjLwXMiysxwBwFADGo1MhPoBAkDAUyuCx4FGKwyEMRuzFWhuIQgJYU1KJsSxEhwDiAzSQEg6lPHYfLjAZAOACCAsQD4U//NExOkWgwJsAONEub0EGSNA540BCcS4ZH9DN2TDGIeILmBWgs8cj+9343BqkkSRUJ81//25ugRhIEXKZYOl3///82NE9kFnkkEP///+/oGZVSPFkrk4ThfIoUB1lapV//NExOISmJZcAV0YAESKlaswVEJw0IAoYllFhkJhl0lg4wSKBeR1C+cjNiBA4NgoULGGAC11UgEkMMMMYE8d5dRRLyKRkbOp6lOkpJK9JKiy//dbVvav71ehUxm6dVJu//NExOolUyp0AZygAK6lvVRZWk/U/sr7VfV6nmaU0Zai+PiCJ0tNDRMyKaJ84s8XZu6JkxoXDM3skcZWRvnoivIDAEPEBcVQ+NKFmIGGgNeTPBRd7MUyGBegD6RBpoOs//NExKcgsxKIAdxoAWdDijx5lFM2SU1HV/////tLZFT/p7srSHt//RVa7f////+zqpVGAhQJwwkQKQhyCmch1cIgciKLVFqYS3c5uoFjHYSxZrrLzHBD9wiYXB1M/kZx//NExHcXcv6MAOSEuMDYKwd5KEiHPDYADiIyTDUe5w2dN1f//////RLf/+j3dk/////////65UMBHK4MBKhlBiWVggsEocIOrjHGY3U9i8mtMSCoc3EMBYCJG1kwRk0m//NExGwWGwqMANNEuRoa4Y1VmZi17DAQ6DcDVARVIu3a8qvCuGQZ//////////8tlh5Y8IQkaPERKCoCLDUMuODkgyEQTBwjMgB8wuQjGoSCwFWYKgREMICq0oVQzsNS//NExGYQuIZ4ANYeSLh67Yty2av4+oICwziQIPgqdb95FH07q7f//6fCln///301HoNnHuR86OPRqKlpbTAwUH/75zPBX4B0sDLLgNMC+ngBsANirDVQGFHf+Aw9A15U//NExHYRWI40AVwYAA25sEwQDQj/8BQQN0ZMZMwb//NzAqEQJsnxx///kMKgzA+xkw5cTwJwDBH///4hOO8QeLMHYLAQMiYuMhhEBmP////8slci5XNCGEiOMUGQYcAr//NExIMhoypIAZigAEIKLjV5p2GWBuAakOo02fl6P5oBA2Uk4jhSEkOomJiSwmJkyYHUWQXMFqNRhhBScSRLGZPBKiTDuNjEYQahtErUsYiyQc1WpWmz12e7Pfa+pmqW//NExE8hmyqgAZhoAKWzos7VqQdFFlrd3ZGpTqQWt1IO6bM29nTZCvX1Oklto/3RUtJkkUNbP1qSNmZaWu6qkKZvTOoK5h8qEFF/ZSqXCJj0s5d1+C1Ep3hE375jjE7n//NExBsRYMa4AdgYAH3DiuuB/4eHQ466ACvBDXOVGWMCBeA3fUmUuSnk2gBL3I2///RXt0tY2ZrH8QAFFJHgHOJDC3kZBe4V9FCltdsKyvw3oL/cEW2Cnwsx8KI7qLto//NExCgSCTK4AHvKcCvTorYgy1ExY8COxGp7iAiW4dUSUEITYIEdTf///p7EVed1NiKtXDOlInT3MB3KK+nhfo3wYFfnKojfyqqvz0c5QTLYYiaxgzXBHdfYsAHjKW0q//NExDIRqNK4AMPMcKhoxF0mdWImhkug863IlkpX////WuYbjwUkl2PV8J1b9MAMhOiCEtcC4/bpPRWi7G8ztNubBqk5oBW8GqK3XwapULMokkJRZ6ChpxUXLPvU089///NExD4RMNKwAMrMcP//RG7UjqbG7DkEXNXcQ6oMXcW1ceEzkYwJEYjav7VRw5yNcmRvT//7bN/6//r/nP9kRroqnt/zun+RvV6EehNT5+RjnIx3OcwQh4AIRkAYWW+r//NExEwRgva0AHiEuX/wkdnZRPkiYQyZ4XovZf/9y7f5f/XWsn9OoIzvetk2d1Ir6/Vt9yOIFoxItZCHQ9DSnBiwwwYKDMGEoMweO1UCX///bPF/yKuf1//+/yi+von7//NExFkRSxq4AChEvFXslU3Xdcm5X2LMlEVvPo+ySNQeViiMiKqiIowZEDlFFCA0xkDwkLgcRGqICADEChcBwwOlhI////nP5fNs8/M8+Zf//v//H/Py/+t//f/xVxP0//NExGYSOxqoAAhKvfd1CzE2sTyZtU7O293/G9d3SRNUfCPT1Ml0sW61TsfTB3bCEQIZeaK0wOGySS////l/+fjMHHkN23yg/3+26kJ7r2M2a2utKrrup3VGqRnXcrEJ//NExHASexKoAAhQuSovItCSDY8pEFRt1NU4upzlHsZxYg0JjDFAcScWBgOZTiAMi4ipBWDwAQk/ZDyObRGd2lMjlk/X1EsIFhdWSjtRdui//obT2T///9/p6tl/bL/Z//NExHkSgxqwAAhKvNJZ0I6scE1SlXbUspVailsUQOvbClnf1ahIU10LQuDDzGDZIvKrFS2QMMJUgggDGNAAyO9ylNHIOHDWiQAAETHdrdW//0paDOH//1OKIIBi///7//NExIIRMvq0AECEufoPsM2BwBC5SIDKvZYzT2kY1mkatM7NeAa1I8cwQ5jVHxXJg8Us6Xn6PmL6jhqyIQCO1C+vk87dTPcwoaQp30HHBEitphQClG///9iH1i7WNUoB//NExJAR6VKsAMDElBFVrzuokMnDwClto+r6LUiACpEy0LhCR1mkW9n1zPqyt46rHkwYVRNUswoCAhEDUse8lw2CtG3+SlQ0p56d////+oa0iKqGY7QP2SDw8YGFwuPZ//NExJsSaVawANNKlEEQQe4tMdZ82bXqJQWCSThQgIFrGpyEx8oF+fonUxs4/R1///ZP////+q3M5yN//////RamvHDL3Y/QxCDhM6nHGKDmKK2aa/HWntVC5YOGLcSO//NExKQQ6NKgANMGcOnCgnAQQMGhgLgVPKKQYyfVIr2cp6x8Kw5Yl93+r5zBtN/AtEo8f4eRNYpp+ySs9nmb41r01kOLdDoRjnerUIhG5zoRTvb5+ToS4oIwxjtMft////NExLMU4xKEAOKKuf/9fIiIvZzISzEc5yKGKHK4hAhIipC5UqUfMMITxMwIKlP04XAhxxGiJ4p7GMQ/Uo9cEGnvWpI5z2f75ms49bo9aXPO17TFEyYsE4puR2bspHc0//NExLIc4xKEAOPEuDsPAcME7C4NwVmFjAfAXBE8UsBAIJnJdmUa7bKg4eqIja28VLmIWNxgpVxH/x//////8cfxU7y8O6ZgzYztBiHjM+WRoxilFeRGgbqVBUYehIsC//NExJEhgwqQANsQuZkMqa0YGKhEW4On7FM3+adAK83dmUU31oel6j/p+pXWap5wYw93Y8J8C8UFOakEYMk3Joko6SW7KAVI5u9qxvDXoqMuXLoMiDZdjak6mb8DcgVw//NExF4hyxqMAONWvWSaydV//////////ETzrQeNx4mER2LnCaZK3SErF+TJMUz8HEHLrGct1ea1ivIz3YU9A2NQRmAOY4p/9hz6oBo95F+j+c3mev28p0cNj8ZJAFBM//NExCkZwxaYANnWuVlHPKIexIRHUg9EfGMuUYdWxkTLXLR7Jn7a5kugubDr6//////////+v9F7rYu5R60V0ktT74UY25h71bXYs4YzSHUG5LR4axsLDE023+GbBOEx//NExBUVSe6cANqWmDNA43KP5328/1T3/wbv5UDyQ76Y4gZdtkyYbtUB0as7UTv9G7/uafMVz9f7fmrRd///QXFzIlDZk6o2OSIgUwyqypbWMfNAsCAITndila6Ch6Rf//NExBISwVqYANnMlMHghFs5RARN5xfzfm9W/d57+W2ZYlrywCCt9dt/bZYlFGotUd/bqsEzw1///3NNlgaoqLkTRpxF668ScgLgcQhIyPMRYst/ROAhxJgdPZ178v2y//NExBoS2waIAONEuYuBsBxOigyCfUlrT9a0eu/f2/////////nIR6HMd//////5lrdl28mVaKsSGBHMKiTVpHfmiAPMurDxQUIWmGuoFgQwQGYtTx14JimtHFQdsg2P//NExCESOwaIANnEuQnOO7aN9/v1b7m/////////voYtIpv/////+lfSlEyOdocriCq4U7B0JfLXREaeO5jQaAUQd8GBguDhVu2Hn17D8C01CgqBZXu9SMo3v/9fv/////NExCsRaw6EAOKEuP/////5X3Ia//////9UdSFZPX22ljFEoV1DLQgqRh1wAEjIWyOCjpI9MQAhMSAyxoXZglDZ7uzhcAqIk5h+CCOP3WPTVWpv//1//////////9H///NExDgSYxJ4AOKEuP////6NlbVv9LVYyGMlSsGMtQiioZAoPmIpMdKU5kEwGEwaWUASdDvNMLCTzwBGXsskGkfp/ZMp201CCI30NQRSlfuKYxag6lwdK4v7v//32f/1//NExEEScJZYAOYSTPq36/18sgWfpTNxvMEAoRDM1LTjAIBAxLDhYYbDphwAl3nOCgNBQRb19kjUFYpejUat/h+716DCWMeuV1U/6CXbtZ15Lzu7//klf/6VPmgBQJ2W//NExEoQ4HJMAVwAAJx7Wzve3nYyo/qnvu9yUx1+xm2vueat7/+NzdlS1RM9+9/VjvPJnjdYyHkiH7EATvYyrm8dh0+vRUPkPA0ExPtPk8nEz/3/9Uw6ogTEiQdYgqca//NExFkhUyqkAYtYADpHWVgmlCg62jzJH//9/v/1CYfsdBsOxhNHJMMzR/mZifIhaoTRtLjouRKVlWzhwBCOrH//////9/6Np+jDbGIcwZkHmMUxz3aKiynRVIGdf5FQ//NExCYTmx7AAcUQALRKlNZNI7iGVZnZyoZV3YRcSONMgNSPdGchTKCsUUMqjIi1IxrI0gyKmkyAW0KVJ2UAwGVktfMfrn///RFjsgkxGic0lkClR5nVv/lahjK6G6Gp//NExCoSwva0AJhEueVv6Vaj2MrUdW803TzPv2mVGYrKVMkqIGdTVMKChoINCeZ7eAwMwMsT8BxowyUaP0X6uf/yR/IQV8n/0f3AcU9ylRDcio4rtYuoqI77lqKb0//2//NExDIUqvagANIEueYpdv//VrZf///5v3dzq0MZCKKMzEmBWYp51MGcH0Ow3f5TOCZc6HYZFJoJMtoFjW9V3/7/jgI9AlygkHOw+JjjB8IgekaqRbT/2/r6hRs7f//2//NExDITIwKgANHEuaMm//9v//////1UrHQqpRmSjXlTKyrDFhBaJeUscUPMKjwUBwxghLMtSYtfwg1m1vDZkNB5mJGbIGYjgsrOE2JRLqKMx9v///+nl2v/p7e3b/t///NExDgTAqqYANwEubf/////t0UrGBp1l374XF1szNL6vVn1GQI1KGKzOJs7LeBY0KAezt4xIMdRgKTDsudDIYFYRYumYgMLEbXOpL1+l79W6////Lzpr9+HbT/3///j//NExD8SGY6QANxElEYC6iNvjiRktQqw8sjY6C8MDDgkHNcMDJA2BnUvfUuqtXDs2hrJtxEEmAyR5yklqKqKMw3SdFb7v//lCKv+3//+bF3CzStv0guCIdUmoMXoEYmc//NExEkQsJaEAN5iTGfIlRqwRt1jkl+sOzW+4QCrc9ueIuUKg+7oHubFRNTm+zeWNRNFHf/+pH/qR//14nMickdP+XQOefeRNb11uIqGDH14MJgxTGtIQxJvfZ1jC/re//NExFkQeJ6EAN4iTAhJMpSUAVZbucPVrH91LWYdXpdbdaH//////RD///v1/////+kqK13ylr/9yliuwEEyh+eniABOPOQcgqXq3iIYN4XNCxzgBY6jIRAchMT8esSl//NExGoSKvKAAOREuSAH4ZBdwbjK3OKjeSv7Rxys/xf/1v/OKJ0/6v//+ixP+PZD9cJqgTbDKNWiKcpBBD9rvEGXSRyXegIMaS4DLIysZo0UlDP2SuGy1YylrzRB6X6Z//NExHQRGI6MANveTMNffvGVy+n1vOpzyEbn//8m6pOEOSqEa7PSswlxnBmYn/+o/b//Qs7eMlIWzuFKwhJq1hNo26eqAmYCmRzmiSFqnsKwc16p5IK7cBjTRzeKh7Tj//NExIIVaZ6kAMYElMB/rxL9L/I/l958y6ICsVQOnWL3huisWQM4TMpYpP7DkJTbf///+brpALQRAxSF8IRN7GZeLtWhBkJ09Ha1NkjcjLU2pkW/9VccDrEU7kIiernk//NExH8U4ZaoAMPGlHBaPfetaxV5YYXCKQHYQLFwOA5MyKhFjrnf9VXOLwAqgPGcMQG+e3bin1RuJCIxq70nqD+FMW5K18hzRMUVx7qp/Ec1RPXOhbbP0/0/ebmFR4Kp//NExH4RiMK0AJPeTEV4soBKDjSr9pNfqJ////+pWzsDWgzOdQFkiN2UdGzH34RdfAod4ORKRIaQOd38yOsbkYUte/NiP48oCt2b/SzS9zedCMppzuKOIBc2LGBQKkwY//NExIoR8Uq4AHvElGOeH3uMFAK3ZCr9///qjc/3pAsfRjX6JcCvPtDuE00yJwc9KzIPBDXYGRfe/Jj92nkEpOWoXggUHBPnJSp7RS4PqBtyQaeBXNEubzAwDhqGAw9o//NExJUUAWK0AIvElJqQsQPBRNf/9KqTWqj1hc0Dmz+OK5AhrsBFgMxT6hSLxLo+tMBLr5w5stvDUmfPACmfA1eXeKnSYiju+ITIlDQFFQE1Q6SZzqcadVu/ln////N1//NExJgTiL6wAMRYTDuW1Bx4IBE5xq4t5MmKd4wIRfCPYsUu8yNXrlSl9rOFNTTOAabwsTXlwRXSzxSoiuCJU0PDMq4sVd7K3KTqe+r5XO553/////h1NTzjXyc24BMt//NExJwSGM6oAMvScBhYoVAlfQOu0CYiicOzi6ASiqDpAf82aVlB/g6CYiFz0na0XfCAF+cYQ1X17xG32Wo220Env/cuv+qaNVH2KT2gYmKB4AAY4KkbKkHQMnoswKie//NExKYScLZ0ANYSTGSAyWU1jM0s8eWJyYxTRjV0CrEhgYpwCSQIA0Zw3JKtTRU1BRYrkGiz0E+0Yt+uKWocde5IGGoD2JhQMYCCQ+9cpi8rs5lBco7DCnijxdBUXUxc//NExK8R8HosANsSSCAqIiyFPrQNAwwqp61qOSlNQafYqkKVC5tjEDHrydrVuaNUmTU+23KjlazDBSpPCdSgf8nDneld+jfgZCiRv/m5eTHQUj6BZJ8CWgdkFB+6zdgJ//NExLoSqDIcANpYAJgJcC+4Zv602xAggGKMJxC2f552NHYQTD4BZ46yADL/2/I8hhia0y1//vuT6DE+RQiiRBDv/+/9o7yCFw+ThoRhIEaQpiPP//2qQagzoM6GOoaB//NExMISUCocAVsYAHSuMuJ9IMPsRqOcTIocXMRWml6sqFEzrKOodAMtGIK2R2UU9vfefurjffTvZijJBCokDQ06p9pYO///aJfkS311Kwa/PSz9RYOtU4SrDWJQVDQo//NExMsiMypgAZqYAC40FB4FCyE1f3BcoVAxyaHgYdLA8gkFGSHZmlhFLY1ZC3stqMgF6RM+aLMVUjhaTQUT6bVeg2tP+t///////f////////6UsiHg1lEqa6SUulTO//NExJUSWHqEAdkQADTBhIkOsQv1YJGnuRtPR7gOGDfyAQh0ORuVXBpVFcjUWCmy2gZgKgFWs+ZknyLmrLLBMNQUzqWnzB+f1sf79ft///7aIn//v7////9W3co9MVES//NExJ4UswJwAOREuTx4haZVNZWchEMgWoDmCIucPh8eIAGmVyvAhDJzz4gIrrCQ+OBsOEsnw6svHuNQLqmQKAAtC4FrMS9x0p2MiC9Z7nFZw3eo8mqot9fp////q736//NExJ4YMw5sAOTKuX/fr5v////1psIMJOokUOI7uj+1UYcHReWAw6OIPccVhD/MBBoWFLYYKDCEMHtxDgHbqYWZRztwA0GsmU0JInma6mk6uc//85dHbX/////9v/////NExJAXMxZwAOSKuP/////6rRHgsiu9f7pQg4YqPBc1p4RG4AMvyP0uDkK43IEYTnEWO/kXdxur31T1ohh+/R+8sOfLUQeImUnJP///9f////6CCWExZxcvOKWPrUNW//NExIYRou6AAOKEufndOiKljQfyJm/stYWCEyI7uZxp0kz9HWC2hwAFcFmZGpYeS/////////nVPWqcp1X/////////6K7EQwGXbyuE/wE8dw7xFab7UtUqJIRFJ7c7//NExJIPuIaQANYYSKjccphWJL+biLiM+vjYKptniQGqIwRP///8p/gN///s/+x4eAgnAJJr2PcwaKMUH0oV7Zz+dBtwvzAmrrYxA6A/Ib7zdM92ualJ6SSBu9m4fxNX//NExKYR2qqYANNEuSr8xMbft/02AuauDBcgtAo3/VT70//REACHpATzBoWEJ1cFAsdeAEq5/cp0Kmjgl3OlGn1TROjVfY6/KHbf/+NDDmOsqrow5iIjBrgGfzN6f//2//NExLEPEIakAN5eSN3iByw4VWAi5JbBV7/s6rv//7JghTl1sGBklblPlu4tM26obuVL7wEvi6JbbceiH/mgZQt9moVnz9sYqu7/b////tl5mmlQqbEcdDFCIoNI4iOd//NExMcSKJqkANZeTAR27SH7//9ka129VgrILYq3lljad01pXwdz5rEQtFBr8Nr32gLD5f9wOk5XV+sQFBPLcqqS05PTPTP///9bKqpUqvsOQ48SM4qMDsWZQUecc1T4//NExNERaTaoANYKcDa1ou2Qj/+xilps/GLmV7OziDIWHvbUrzL1CT7BVZHrQcjfnx6NRP3CdtxjCv3ukWZyX3/3mI8mOeq2/9/71rGDys9luhznc4NXigwfNON2rcuU//NExN4SAaqoAMrElP//74YQziM+MYoJvWrtr+8jQgklle1d3fQc9l8EoA9/uPQMXTNRn+X6AZEktcXW4ijzar1/5dfSTYIOwNgykRyBBx1zyaqLFQSUYB0JFhZkYPWo//NExOkT6aKsAMsKlK2f/7WoJmXKULgqtEbVTT1lAE1ggAZy5YLlGnU1IFJa1vJD+/3npj8gD7Zc6UxAxr8mrjkTk/MwYJKZEg9BJTRgQC4pEwoaiFuR7nM0JYbbmKYy//NExOwUwZawAMvElKKBgqE0CiT4SeGk//7WHggYMCEYl2AAot4freAroX5vOYtVyyMj+Nwwh14ik3836CNahyjrHHTpuq4Z0YIkIwYs0Uaq5JjqgYy9YJpJCiy78yKl//NExOwUya60AMLElAj6Uwer+0CEgkWExs7//rUwvehqVgpAIgJVHs74IEAEsNiUTJwUQpI+xB2zM2//RW+K/U3rDo4CirHYClD7pODOIjWBoRAQANMCdsWEBUdPoMDh//NExOsXKeawAKLGmCIOm///9WTSBjCF0RWbX5DFirG0GxcM1B36rRKVPQhyXtW/y/e7/xEcb/6+pnKYzHPhqW11LpNRIZdmZwESFDHYBMDR5dZG3Ba8Yo6HVnVmQaDp//NExOEVGgKsAMHGmG///9lT9urOrTakFMVAwLAwgE4WBgqGDG4KBIoMJhMBAMgCBhMBBGkOLk+TJ4sBlG6cKtcYaGzKZVQlcrp3BZuaT0MGrithE1Lalty/2lpLHYy5//NExN8RwUaoAKNKcDwsk3Kb036f/GXsKZU02mMRbTVg4atjOhsyckGbwcosOn+rhq8VjUpgQlgeJ2JZSzSB46xDjCjRQ8taDLijVQ1lMUP2HaEi1Hc4XIjulj7y7ThY//NExOsTcTqcAMvGcFHO2a0Go1DGdQpmW6EX+DEA4BBw0BJihQBG2hrxlxi1bRIdTU4haKAEUP3bDooLOgVCbrERY25q0ID4EPKe1zpUItmSTqXoW6hpx8Cx4GODx7pY//NExPAVkPpgAOPScSxc4hiEmQw5ZNUbrBwOGA9w3bj7Qsau+467v8cN47y/X933J6We71+fLqRFCTs7aREx6n+ZrM++/+q5b88tsyMoa/9dcj6Sw6RUzLuq0ukWf6FP//NExOwUsGYoAN5SKOEoPz8Fj5v1lN2S1EV0QidIoswMccMj8IJdtgbiwx4Ikhh7QV1sInmXF0TYCgD3GKJc+wcoOATMZJKj8MOa75SEwHERhhyCOxMkjzfHKOcuFIuJ//NExOwT0EocANvGJJsfY+r/NTdA2NLHDGozTb/p1IJsZu6EyNDc1N0D//6CClm6LoJMmxsXFVpGqZPOIf//N1HzBmTcvpMgt80NlmBfWbkopJJZquprtW5TjIEYlJHD//NExO8WenoYAVsYAQyJBLRJpDmZKqk0OmrS4ULX2fxSXV2YGACRa1tqEoFwDyJupyt+bzn////6aJPfr/fW5lXf/7J//v///+l9Ru6Hkx9ggdugx/EhZozeNUg5NK4I//NExOgikyqIAZhoACqNnTmIlUtgkMOmLsJYcBY+jNaurenSXjygIqBvQX1KBfJwcY2DdJJM3RX///////eZLreuZLqjq5YihFJN3msrOXbf////9dGuU4Www1hJEJcW//NExLAV2rKQAds4AVGoSKGE6CiCkoaqEghflmNmDq5wRWYIAwLDCQZpyaZMHskl8RrSHhiUBlwBKDeEcI9kQHEQExUtJ0P/////////95Ut/3+/Xf//////VsrGLUpk//NExKsYiwaMANyKuVUqxQVDlKg5a+SWOApzGAAWADCQ00plNcKQCMEQMCQwShlFujp5mXaEzxm1DYjzwcgdEm9a9beaBkFTqv///+W//////leGqgqJaje7jIQzeHhq//NExJsUsvaMANxEubhC0HBkqXgZizqNQrKrcqzVDbqdvY2dG1uJjvv/IfLMjJG7omdvvV9bV9mx3/oReknVKzTKRq7ETLEDcRr1rvDVAD8VP/+gZqZcCtXgY4JYGjxu//NExJsP0I5sANvYTAY+GXvsA4UAZCFAfKBjAGf+AkFgSBYNxhy5z/Vw28pE4SYswdn/vxQBBERSgz4yYoP/r/xpmApcUgLAGqCWJ8iP/9v/GbPjNnCoo0zBAqf////9//NExK4OSGYsAVoQAAFwC1ilw5cyNB6EKDsE6FkrqhSmRdL5+wCUl5XJ2n4+L6hjBFfyAk0CmAbphkEXEQEho7SDCCQro8EBNCsWjwrhFymVDQvMk6NeddBmVqo/siv1//NExMchSyo8AZqoANdTNV9auyqlIsjNaNS1smkgvu7Ne7f9T+ymuboIX/p1pHGcii2Rc06aJrPl0zcmTQ2S9bqSLhdLaajBZgeqpbNLipiKTAMVYTUacYg0HFV/S6zM//NExJQfkyqQAY+YAEszy7Vbm607GuxADgReEwt///y///+p/vb/+yknBYXUSSQUC4LKaRk6/7ErERI5TVCB6pSzgKyCgDQrOm6SD/RdnBem4QDYIDFpKX+dxR1P//bB//NExGgPYHqgAdpYAPZd26L//6Zxf/XNBJ8RA1MH5+HhKdNMUmr8co6QuA/9ry63WGDhspJEZk9maYzRf+TVZb/VXqiatBFxbp/hvmzE3/7anxIevlGIFKP//1f/Sp4S//NExH0QkIagANbeSHhU7ctL0qBtgFq5zKqrcJnpfAaugaFEYMzaW5QWqLf/Nw13OGwvNd6ahiq2J5FSGxQ7X//gIFWEIwPOEISWeQZ/60///WUInCo993l5asLfM2GD//NExI0Q4JqkAM6eTGWxWzaXCC9VOorCJDW2Lpq2J8OjrUJMYKngMAhmryYl1//6v/6kd3PoCc2lVAWHKDqEf7+1apn/3SiBkTslbXT03frTbYjG2Dtq7ougAiUAc+Lr//NExJwQ4JKkANbeTA6xPRJNJtXAoBln2bEsawFBMKjpGTCW5tyet//qIhcHQ+VTC4ucDTgM5Rr+r/T/+xdT/9FCbS/AbAzokC6VVsZYTAJq7l6nXa6s+oGbhjZLk2EK//NExKsRqUagANNacBhi6F04HUJVAyk3PZy2FZcyPdF6VN50gpM0PpjcDGR2KBqj//////9q8jUiPEum5BaJB30r2AkMTEAhzdtyEBULNzb1CvTFdQc4rB76NmSQajxo//NExLcRaLKkAM0STCkIRjaitkiqxfrxyqxszcm1wVU8KhpYCeMyX/////9f1Ca+jgTMWjMzH7TiDSMxBRBQwYHjBxBfVL9C8xeAIlNSAAAWLxd94DkO9ao+WXhCEybI//NExMQSGVaYANJGlER1lpITniIcYj+l237P////6Oxq/p+iJnAc4EJlASGuymZICxixUGCBUBg2YBCrTRUFg4uMWXtMwcFQWJAOp1GTgBLAzzCyKTaYHmCOA7AAwT9J//NExM4SOSZ4ANvQcHw3DQDNABDEs//CWAFwOAAagTcTv//BOxMgnALQLw5xP///xllwdg9Q54XsnDwGE////NSXMzdzdBnWmf/////zxubu5upkEGJQzKdMIqpy0Zcp//NExNgSMK5UAVxIAEYlTPYaOlqTKi4uXQxZomCCObLx2Ann1TYhiAKEjxS2T8mpoavtrQIQSh3llJmDnkGJz6w7jcyHayH1HsuPRTMiUY6podOxzG8h4ZDnS6ScWuhz//NExOIh+ypoAZxoAPu3XPzwyqua6mPvuqfEbp/4+P///+Y/Z//V+/i2spq7T/9xe8EO0ud7DIiw409cGBA+y9r7sKEMutZXK2Ws4vZ/GbI48AldiCWuDgNHwYYFUBzt//NExK0gKtqsAZlYAb+dcFgYLuBN1izLnMCoo59n////G/+0reVK62DFV5OykWuGesUbvC78mqk6t4pupmOIYqTm6A2J3RLDAj1Kjvlv//9gYk6hDIggcScxUorD5ykZ//NExH8Q6MKwAdgwAMKInHQQjwALMPgcy0m3///fR20nFYoqxzqsyDRq0oRAOxWaiM+CBhproCASugIEJNMuRAS5G0GcQRHjLYBCoZZ+obhsfv///oVmMUVoZKdaMqGU//NExI4USaaoAMLElIESAZSiwm4saSWoFAoPT4uLOT/6KFVetOgYmsdYzQ3eW4lWA0yQxNzFQrufou4ALJwyqYupe5kihSas3ljZLNhOFHqclCHsqvJ+a6xa8+u6eT////NExI8VoZ6oAMpKlOn6eb8N5oCU6KRyS5mtc5jYCRkMgQ/PpsqQ3kHIZb//rpamg25N5TCrOmEkGikWxdO7DTSjLK1iWcqL5DItVyeGsrhH7wu0vah8ojOZFT94Es0V//NExIsXaZKoAMPGlM3Ly9NE5dxbJPycnOXDkgIbVX1b1zN1D////qWhN7moVzmASxIYsVGNQwl6ho1HAeWJiZl51Yfap8AlCqs8O9ps2ExRugNTRRLVRVwkDQkDoMna//NExIAScZa0AJPElDx1xMBkhzf6/xn//2f1KgURcLdx2gOkkOvpFKZSBLmOi5MlFKJmHcEac4SRISywGbzH8xoaynsJsZTDMnlFsVOzv/3LET1/lUlhFK/9Xnp3//////NExIkRCKq0AIveTCM09HTfhvBosMYjoySOjAoJMXEMyAKyIAhdwPFALOX0d8GBASXyT2VilUuIQASC0uZZiEJBMXI6wrXQ0o9F95GrqWd/+T9upThSmJix0ve8i/l5//NExJcROKacAMPeTFAtaVdlN6tlnWteaNAqWULtFc2VuMr3VwKFKBFmS7nPQpss3Y/bsYhS6hyG39dplUbG26KoVcoRqmOX2O053wiMr/vy80gBab/qcTYLX80TcEqC//NExKURoJpEAOYYTLwAEHm6kDQCwBAAEWAafrdNTACGE8BtASAT/9Bbp2BAghZECnC6E//v4SgXcyCzCoEALh//+JOMsTMZhgBhB9GDHf///vsSQ8CQGcOePpLCYDiI//NExLEQyE4kAVoYACJmOX/////GWPQeQwA9xEDDpDLHAeDmFZTqmjBhSNGYG4HQOtYHZhcQeeAt4kIIAEkCZ8iUEjzjKIsRAvhAIDBBYMBxBcoBshgDnk+4h4XCgM2M//NExMAhkypsAZloAKAsoZFBsCAmltIpuWkImDE4y3WjpO61LWhPolMs6K6poaKW+XTEzZOnWmym60FpL9apfDwPuY/qSNa+kLKN/tU5vzgf9B8BkdVo0WFS2liJAlX0//NExIwgQc6gAZmQAKaWEN9lMkoYTy4oZFr9RQCLU1w0mX0JQqoTcoXuqD4S7jIZFtQ3f+fv33/nH+Lf31vyQcYhkS/L6A+ssKGyJtC/3WUNQsgu/G4S+RI3bTBJhxOy//NExF4UcS60Adh4AJLWscw3EtpgC/e4bBG6diFpm2vHbvqZB6sumV9k3mvEA7UtCBm/IH+T+X+b3ZPA0Y1DRSHx/Ut83HtEkgkIgM+zR/rjDV//6fo5xsPVxvxUwsJy//NExF8WGYqoAMPQlKgCjphgNOi67KY1FeSADSjXbSVLbxFmTWi7OqfrghTu1DqmkI2THIdFqF8SXe8xdmzT0znz/d+LpnF329nmvElA5AFFxE20O2f////7XyPPNjB4//NExFkWuTqcAMPYcARKe1TILA0yjTzOgpXIxMy8c2VvGgmBoPgXluTfSjLbXTEGZA3iHfUlr6kcdwiYPp4rPBk9rZrv+n/vmuNV////5rM5+/////0qpG3//////roT//NExFEXewZwAOPKuUT26UKGOUVDrGUcsXVy5YgLNKzzWQVrF8ylerVH5Diqf+bg7PgkiHsADGrzNH5JPArkruU0bvp07f//Vqr/////1tU///////tSq//ZlUphAYWE//NExEYSQv54ANqEuThl8QaGNJRCMwmhMSizwGYIokAtIEYGkhewm4OvcEgdQZggj8mZdDKDFiqmJr2/Xr///9v//////3b//////v3X/aqnuDUOwgwIc9s8YqA0+CAs//NExFASQwJ0ANqEued+jlQIHIYXEjExBSt9Qos2DZJD8BtrWoXegKX4nh0FSk6YhTPuPW23Ru6AAeOrPNcm7////////6yp3iV+WAwlBUGlM9x46G1gEzgaHDI5IAop//NExFoSoKJkAN4YTDGQZCADBwFYMplRRxG6hPcTdWZ06QBoqgFWSvrSWlfjVsrTQqPIK8q7DVlP+v3///r1U/9//MI/AYlGKVgYHNU8XiFMcOmRpBBsPFlgOT3NPg8D//NExGIRaLI4AOPSTAoXLvABMcTPOD5y4XJh9ksKvILeLFqPf2pkVN1zUrqqSxVJNS8HFVIDh1ZSrOwk0Yp7QAPxOVAUG5A88J6yywsPK0Gw6eggN8fBaARQAAAImG6k//NExG8R8CYkAVoYAA3HQRhNlIT0DZwLeBANSBu7FJNIvHyseN3m7006RkfUkZJqQcwQTTpp00EjJBJKQc3r2em/0kk1JaS00mPostTf/0l1LWki1G92Ogf9yMYJRC4F//NExHofmlqYAZmYAFYKfsNV12mtByp3vEC3VluPtYjVNWet8YrjiuZmtXCSi9cZsochKtZYKVjb3O4Vhi2ir2ROJhiLem8fDyQ4/99XgUYq/w1gPlL0uZo/59YVyx+2//NExE4PiK64Adh4AJXZ3kzRiV1KtsmMtqM+cp7Xh7Tr+wZWgbZuvsqOFlt+2rctW5fGTVA8g47//9OtZSApAgyMuhkjcsBi0zQwfuz0jMXOoKE7vmQP8JHK5mFlxd23//NExGIPOLLAAHveTOr/7LodqCStKIvQJ1lZqVJoHHDyx1g80tz6QyfGN///67+PZMdUEyJ+UKVmAc7nH0tnNuqBYG/EgIF1sC47kYH11lNfJ3LMbSW4LUeFbLtzQzVB//NExHgRgTa8AJvKcAaD0UBAnQWMDIDJLjsfQGHa112M/y82yv8cu58388zBre7/9BVZtrm1vCUqlXkorSbh4YlY0oYAKPiRVHXRYGFZ37sUb6jWtX23jcKx/S//6vDV//NExIUXoi6oAMIGmEv24KjhlaAym61pVmwEZBUY8VcJQkPCp2SpyUjW6AodK///cqo8JRaBEBNzSCooUV/NHEE8CyZE1JAwEmIj5/mnNkAKEbCkMINJBqUkk2jRU7cq//NExHkUyUagAMvGcGt/7q3VkcBQcK4CGQ0HToSBkBKXzvV//////8REhE06FQkBajbw7RRMFBIxryD8pNMfi8WCZhk4DTHIgY5QVCiQ7Z5wKgBLrled3u9NW8Pmezn2//NExHgSEQZ0ANtEcBKFDKKCrn795HOtNdzu6zb/Zazt79WirT/u201Swy7A4wHMgptMVIqddCKGuSxm/jbsJeJf8qOaC/DEAWv+VHQPBfEOiFRFy/oNQHURohUYRLf7//NExIISqKJMAVwYAGw6RxDwKiN8ZD+6JuV2TcCQAB4jILQg9UbQh3/224coLnWQQi5iQAtE5//7N+RQqDvLg547TZEqlIqEQ//+37/zAzIKPZFDc2IIQwqVl8+qY+xF//NExIohiyp4AZmIAIBUh4zFIxDEhEGoIa1+9S//////RPnMxkZCrbZGg3OzOZaiH3QX5r/da/x4DbXPufu8uiYri2r/r2PwW6SboJ46LnbWv2qU5XWjCCc1yvuoBRuf//NExFYSEYakAdEQAT/z9+D9vX26f9P9m1U6aPiEaocYZXOZnKlIlAYBWFD5yQ2VuJtTo//+yU7hKVAAw0x4WJit+9PRUfKK0JPedAwDP/93+z8R4/v39//5enrVEDok//NExGAQaWKkANCOlIyA7PiyYmVowRuU5rqrehttvZa479NHtqRYukWckRBAcHRIScg2C4sasVaBn5gsaYdTjKwAPy393vBeL6v08v/br79PTRw1JmHB9WKdjKHFBfzT//NExHERwe6gAMiKmObTzPbrup1Z5ZWvb/6WyMRCUApAaGgwZWLHkkCyvX6V/jW6GlorbcE1yLf/dw8bk6k6ent//9D83UVF2WAxGypOUiKJAZ7GFoFfyr0PjXkB/p////NExH0Rqe6gANCOmGMUJ0DQ0smCYRtNiwosVNgz7ert0MHSDEFfN0gIfXvl+7PieGP7d/P7//0bUnQ52QBgQddWU5hEoGgis24l+nvKARxHo//5h6Aks+wTlgMNYWIj//NExIkRuX6gAMiKlI8l/uUVImymSLUspMKRJrHL7fhr6D+duvl//l5l7T81Qwoild6zQ3hBXGCVKBS7/olgAJj7ej/xRcXWShALgqATA8TgEwcAz0KynAEUgWCmhwT2//NExJUQ8UqgANCKlCdikpR1LkfJNqv//7owcyBxANSHVlNtZ+rb2Q7+r+v//X9tfd+1df6aNsrkav1stC70JIoc76wgiFSB+93YoA4+iGrrts+zK6Ffp//QOCYAAzKj//NExKQRqU6cAMlGlBzI2v6Lt3zyJkten//6ab73s1Kv01PvVquu6ofdX0JOqs6lYhWnRjkDjlCAhCLGZGNqF//+faC3/+vMDaNhFimXsl+11m9tX96o3U3arqs37WlV//NExLARqsqkAKCEuZVsfJNaleS7EYxyK7SWdGQyId0Y8qGxEWKYTFhwgDFO4WUCGwqN/////81+cnELF/L//6K013p06sTq3X3R6oaRHVi8q87MyO3dZzuY7yx6HOwu//NExLwR2va0ADlEudQWVHGmEhiirB4VDBwWAoqouHQECIoCh4DqNEN1BBH///9zy/l/V7///+v7fZP/X/Tul7dyHrKmiVW5C1Wl7MVWEjD4uND440OYqjikji5GIVA+//NExMcRYxq0AAhKvWGgMUCDAAAwTDBwkCD7Egyv///1qRr5amy+e6LWmfV+qV8Vxz19/w/3b1Nf/Q7ikvd1m2u3uKgiJeWfm7jj7G1c6DlLWoF6oUMqjRBFZMMaLs4Q//NExNQSmw6sABBKudBJBTCwkFaoJg8GiCQHSgqD23Df///55ksPjdubU5OsNdll5daOTuu2z06mWXp6qq2O1mlqpFSei0z+0iPIpVY6UMj2MrCxxzodIm5TiL2FBEcM//NExNwRQw6oABBKuRIXDwSDgwgsVYM7Cx4ARTu2h9Z+xPFNCNyeT+8uSWuHZ9Kxmeeyfe+X+f/7s07J5fpu3lzP/R/orttXXVqZ2oV9zCaEcZOaQ5akGs6KKiKKg8YL//NExOoVgyKkABBQvKkEg88BhUQHh1QBYWOsleGVt9Dc2LwtWjUpBJJfpKBj7eNzAoKZ6riUPwvDPAjqQXNpruCxs9M3kVi5fS0LYjI0Wst9/5+s/ONZ//19G+9yuz2///NExOcSYx6wABBKvKo2pFd5GznORTizuLV2Rjr7ev//+3N79vUyLVXMpYzpuFfg1fz1t4jX/prOMyMTrFw7uUA/i/qsZtLBEwbdfrPHCl9vuDywv/wgiB5VOYZq71NU//NExPAV+xqwADDKvZ9DR87//z/2z/9H/+1ePZmX8PQlOYDHsuQR6yz95DLPgt6lea0mS/fDBMBASC5AVBkInjR3/+4PEzbmH5wiWW8Nql6iVBA0J1G4JARM2rH4BtvN//NExOsaCu6oAMvEuY6M+JiZLcmg2mmyAui2t6YjZI1SNxmT6dlEO//9Pjb1JVWRwZTu3CCzq8rEodQxlMZhTBoAlwmYEa80LAC9H/+udrR60op15ZCCGONmUJWHaTfc//NExNUcCeaoAM4MmBsR8vcq0eGK6byROGd4TDPuBg/VQ311WFG3/t///ontpkODZlHO6OODAZC4OgkBkOz2eetKxe7//6/2J6Kl7nUT/FOwFBNznoUki6MCWqp7Gs+k//NExLcVocawAKRElHLR3GSjWqeYP0OmLpiLkWK/12pRb/1Xf//////sGMpUcKbNCgIiLhr4dyO31B3/+2v/Qipa6tkMLbBAoNmVkSBjbT7ZBQOMmhd/6j2UJuaGINoH//NExLMScX6wAKPElCmxeJxgG8eZRkUS1nQOGu91V1q2pNagj/////86ob3/9r3ddf/////0dSOqPZ1+2rHVVIuUPY2eFQE2sWc0wuDTubGDgM0yNv+YDA7y467MQJUL//NExLwSgYaYANPElO5FQLo/FwoJi/PtdJzBmMy7o0na173XqZHX/////+qGf//t3sT/////+y7HQxaf00YrMchhRMg1OQNAMBw6WCAzDROeTQdes2ccm3JAzv8tb5lg//NExMUVswZ8AONEuZ1E5DqCJsCQSRFULOVtxqMGhCgqsMniQSNIJf///////+4q78WHiIiMkTXeY/WYHl8x9CMbQzkI00AADDIsi76KKDQOAm2ziKwq6bVA6y0XMi2M//NExMEUuwJ8AOQEuUYdSEhOenIy/NUFQmJiSAC5bSLfR/+n////9bkqL4K7FjEXMciOU2hG5N5MUPlC//8cSmtF/gGiwM2dAaN/4G1QgNAgGAAOFf+BiBwFggGSFBaQ//NExMERQJ5wANvSTC4//wGhgWThv4W/hc2Vv/8Gx8gQ4BihlwWALnP//xoE+JwGPGTFljNm4nf///8tmgt4hQdgggVSfKhAyJjN/////59nOk+MmQwiBFCclQzeQOQU//NExM8RWKJAAVswAEBoiNSkQglaH5MKhRpB75129iUONzNuOVrKpoRIeQsgC4AJHGIChisTxfIsFFBZwRoeGeBM4EyCE6zFMxQWm2RJjBBjFlLU/TeyLM5F1KpJrmym//NExNwhcypIAZqgAGVZIi6k1JqWy6vQWbmboU0ETRZu7PU9Tta30GUn+lOumYP8UuMfrEHUQOk0g3WkoLXaoWRNnhXTXn1aykKZQY8NyIzMqhgrVjXflKto8xXgK1Sn//NExKkg2lqgAZqYAChaVK9paK6JKuF051oPchi7c59znRp//Z/umc4+c31mr+Phtnyro+7Ul+9fMe9631bTx5E1PZW11DcMQpJIcW0J7aJD3iDiasu8bpPvFPDf5YVZ//NExHghuiacAdl4AP/UPC7CoXsa5iREZMiwPsMP/NwDgC3kt5/GiAo620jFEVuFcindETWcOISVKyXUVy6eUioslAnjxccjCqSJw6hMHwqNQ94ubKHwKFEgPEtoPRCp//NExEQb6i6kANRQmJo4UHQzYliW8Z1beKsluP1jHCk0Swwiu2vqOqs0YbX//w44mTDRCMDTB6hlZrok8AVnHo8hMQ34bLmJqwqjBVpUxgV1tWf96SnyIeZf4oOkz43Z//NExCcWOWasAKNMlIp+BRjZ9Gvn+orTsucX3ZPgQWBIFSRFZEBXiEmKlAfBkaPVJkzaW///MqcKljiriBkmq0h0gfYTr5MACGV22A0WNbCJPv9vnf/1///e+aSDmRJT//NExCERGVa0AJHMlJ+08WzXG3qtetVBVw+0NIGFTpweLHQSLLM///6XHZZr6TxZVZ6Q29XXqEOsi7fqtaAXgO5F8xIL8snlel/7f/H/63/xdS9FhVUMtyR8qlseIQWS//NExC8RwTqoAMzQcHgaPHT5IklLYG7juXFP///YpZY1GuOtkTFBEsY1XUUHhhzWQs2hiNw2ugK5t1alICeveNM7OWLrfxd755GJY1QCIl2b/4zNqqkeGFXtExgzKeR7//NExDsSMTqUANPGcDDWEjx37oKjKv////+pNrU0BYkQh8oGJiVDG74obJIgEBaGoWqejlgAGMXeT6cGAGTNyYkuZ7gRGj6S7YVDLPVQ11WckqhjDVEQhoShoilGVCQF//NExEUSaK5QAOYSTBUs7/yyMbgxk0fkkVejJzuRCqscgdWEo+k+D4bAgLHRroaliE2SU3WSSZgfeo5Gn6XkKn3l5VS/z2xapba+jafjUKLV1Dm3+qo6YPEAAyEaAIs1//NExE4Q0D4kAM4YBJSjxvgnEj3pSHWvosMwOQaDCZeg8KuZRspSJo4Xey18lRcYzphjHLtxYw6EaPWsrFpNy0iUeo3VVb7FKc76Qxbv25eahBRl/68yDhIT1GgNgwJF//NExF0QSCYgAVsYAAO5/NF4EygcYgWOBlT9NzdUNCBs4DUQG5Acz+pkFwbYCAoNjYZZBsFjf/7p8TmGQAbHBBILmCyI8/+34ocOXFdD1zITmPgXAP3///48DnjIDrFx//NExG4iGypoAZmYAJBRcaRPmRBBp/////5MFQmCombmZuXC5WZm6mFLzkJgZmlaYDFxt3TAgoLAQFDzNT3dMhRmmDBqBPF0nBzCLFIB8jJm7kyi5BVlIh5II2ZjQpLS//NExDgfcyKYAZuQAGUkk/mSzJZjZbpfzUxSUopJU3TUtf91pLWurZd7L1Wf6SqOmiyTvqdDq2//TOIGCa0kEEHp6SVluy1rRUdT66SKmUzmSa5+7cpZyDEJ0FAcScN2//NExA0SSqqcAdooAcwR49BcDGmXZajD9WqsTS3R6XtD0GLCOCBpw+Lf///////b///VH///b//////qljKWIHgrn85fNi5LPlVaUTpEdzGWE2wTfhiQXAjK4gBLSB0t//NExBYT+wqQANtEuYIdn/86BkApQzlYw4LwnJcQdE37///////7Np//oXdaf////////9EeiqZkiisQp5GdTHYEMVhJThw9zJLJ9AspP5nMcZLgBgQ18gMcqBL+bAXi//NExBkWkwZ4ANQEuVNn6moaHJJYWcMUXIAVEGE7FM3QROF4yNnZGi1X7/////pR5v97fT37/6P///////6ZTGcKAluUKJUrTOlRKJXDKjcfY/+SAJuacWhcCMyezhls//NExBERAI48ANvYTIigcBQPwBsKWTV+ZMAvxcjlcH6huCI0D+DV8xgVVaPrgs+MLf/JVHvT9T/91mz7f///lj9ODFghwAp05LVHXiMmjzBr4u4BOgsiPUfZDbRVYqXM//NExCARaDIgAVoAANaxpHK1CzqmuaQUlHnlOWLDGCprXqY3t1mD2Nbc9Bxq7bjd1TBldaBznkEOb/zIEzAuxPtPDgIKPh8W4UAMgEwYGcXgBAfBu8TmoZsXMOaOaafL//NExC0dQyqIAY+gAGXC2XCcRQWa/z6DKatktL+henX9f/vTUg6CDorUtNRqkv/9BBJBBSDKQoHj7HktJBVP//7smbmly+mntu6jVMoE4YEWN0FJHpZ9RhJm0nWiyZub//NExAsScrqUAdkoAaRihoj4SupXl+ONI/Dyxp6mzyVtJIUgYKOTI7Wanf///////7f2Vuny99b1//Vf//vpzn1ow5Z2W7G6PXM8Mdz+3SO4ABpRuMDIJ7ogOTQNcbAs//NExBQQoIqYAM6eTMtazZA7tnyqDpLGy7T7v28SKAdn//5P/7//7P/+NCwLtAIeIvCwfOHgmHTosLlF5U7AJw2jXqd/DD0TcAaKtAYBAwL/wGHNNVFYJ8JkOYxMwQKp//NExCQSorKYANNEuJkuato//////6yszf//WqX///1/1///+/YqOMRhnGRkZEhEeZmBdaSvm0g6xFvZpmYWwj1yGqi2UtLeFx1LPeQGt3DOoDBQ7lXgOF4KJhvXr/////NExCwRcUaYANYKcP/U/j936l//9Fbf+pxM8PeEzhxh9Qq4LoxdxwpU9jph17UrdjYRAEJdaWhVYs3DdyFc/1G5bhm3Scx3XQEQf44AYQzH19Ov//11nKpA57JPyP////NExDkR+T6YANYOcK7z3/7QeChreOoNqQBFVNUscJBJI4h2fWgcE0Hyn6QYOpxv9yrv5OhvfTCaxfSZjWhFkgLbjR/db/VjFmRUxL2vvk6v/+jf/3QXcSdryllFC5zt//NExEQQgKaUANYeTNZgaYXuR1sYMhwMGODkvkaRRZ8jt7uninMPmobsfp6MsDAnBrJkHzZzbJ//6dLq5EyBWUcOi5BIcR//6qP/mWCxaT9KUjELXc5fLIbOu0ZbDCnY//NExFUSaTKUAN4UcFYIPAvVixlGeWZ6twLax6BSGDycMpSGgSQrCsmBCdrrhlKV7/7Fi1vQlKWN//+r/6o+gK3U7DTHJIm15My51AfhHgMWYQcYckDX2sRm28TJq2gq//NExF4RYKaUANaSTGfRnbyYpZiuZRIUDKH+G/zxft9bU7srpRq1dH0BzZVj3/////1XuT2UcZUqWZHY2CJxnBsMPGIDiAtmVapFijfMPGawH1OUH36ia2kXksoKzlB0//NExGsQyV6UANJElCY0y4SxwVEQ54lEQVCorCY0iDTXJY87////6fkpaqsmVKAxVIxPajKw6C4BHgAYpDyLyTyAIUa4/JUnLdjOdvWVnAyRp5GKvGSLJbI03Djy4K/h//NExHoRgKqMANPMTNqNMQwJPj7eW/////f//9EM7JVCIKDBjvSH8B8JBdpgENY8OU9FOgsgffIYCJWQPRZtFuZqi+dpVFOZE7WOcXowgfOuRsn+y9Sv//0Vbv6b/9e3//NExIcQ+K5kAOYMTLbV/qU0SAUtUAADMUzsE0NWcukwFI8SCBcjNAZcGRc8cIjHMnBi+DgEfmB5rEmv1MCDwVynWTi11GuxCKHp3VkvGs2evd+3Ye/os+V6lTNwDTCA//NExJYRoK5QAOYWTCIwUAYwqGA4SCkwIApr4IDcHBokmswQgcGA/VtwUwufqYPte3TS7nBIkzvXrej0T/ajd/pnP/9aPo9NfuZ+7s/FlTegM++5NqHzuNY2h2OqUSQF//NExKISULJMAO5MTELASCoKGvBRlAp8af+KGEAS9DxPrWkbBYwBhhgEgiTut6JsBkBAAwAQYBigx9+h4AQQN8A1RQCgMA4v/7Qy+HrnyKDXE59f/jNjLjjEpkTkHX3///NExKsRkLJQAV0YAP5u5E0pmnN+2//3/mboIJuZps/////1dk1IJpGhifNFMkIjNR14zTkFIww+UaSnWCgYFEiEwDEMbf2U/lVHcUwqJdTPEkiPA1PCakmZmQ9B8MZe//NExLchOyJgAZugARnUF1EnAoIjSI9SagfMC8jcbSdNh6kkiiYpLUpSO7omRKTc3RukbGSKlX3Ugkm9Wa3/Uv/1LWt6k9f31//0OxopjNJNBu6SzFCkdZNI2QNfegi6//NExIUiMyKYAZtoAGkiZnpClpr8GAwoY3TwvmTKwhEADfUAkQ0GSxoJPBI62FnuGTJX7lFCvIvqlePsQkBoILmOQOaVCwNsky8XzEnTqOk6aqk1XtQVR7KZkUT60U16//NExE8g0xZ4AdyQAVe2j9am2SVp1769rv+z+v/+//X2tYumSZuovJoEDKyOkyLM5giUy8eJoxJuWydMD5siYuPqjDiw84IhGhpuAgo9s1fdgxKTAMO4hT43VcSxUmg5//NExB4Y4waEAOREuSC5gho5QuwHQZwYA4yqOaamaRimmytF2fW3/6v+rMGZ3//+tW9f/27f////+lFK5ClMc4UBIznM6ykVnRwEKGgwQRiIOMqMQ9bfhS8zqeCMdNRx//NExA0Vqw6MANyEuenC4YZ+MBw5N644S8xYE3iTgeADbQW0Y4PRENHGfNkKSCv9X////0r///7o3//9//////5qKFQwJwR0dCO9Fcx3RmQ4hDiw547dovsdihhXh+y6//NExAkRswacANNEuZ+MTDY2QjVh2Kuv6F1KdEug6gAJxknzMwKyaPdLsn//////+3//8n/////////5LKaQinVXVd65NiFU4vVp5N1K8QFQT9iduxHqd8AbkBuJ3DHq//NExBURQIakAM5wSLI/lnePFHR4smnZRNxtbD8OL/r//BBTk/SxgDfKf///+KipUMhU0NeIQ2YCBVzEF8P7y07pH5Cc95S1CMJjhewvqoP7z950jLccPzxtOKAUQFU+//NExCMQoTasAM4EcI30///XZYJjhOn7FoY4/+/ssFv//aKANA9MhMFFQqFFxy3quSIQ7zGeeEqMQ3lyzwyWVY/fkIBCxu/gHjS0KtmqPLa981/qwWdBI/W+BDyDRIFw//NExDMRQKawAMYeTE02hnK5VG0Iv//9ircbGLZPG4f7/aVNIbjg/DVm2NWkWGeXVs3seakCxhy6jEx1lLEIVAmcf5u+d/0ZUaEhK88IjTBQOzIVEg8t/vfblv//jEot//NExEERILasAM4STOVtURUugsyR+tgMUOlRWO84F7AMX142tqcV5ae7bk2JKUsGEqi6i4o1xo+ZuHS3v//WCqg1EWWPFlHSKgK7V/1g0Hf//+jLKjcU5MvDoVAoCDxg//NExE8QyJaYAMveTMCxoVNGUwAhOIAGreZIhHV3Q2u2QwAXKlDKVbS0omImoR0WFdLy2qVdDi1bVb4T68HQseFQ14Klj3/f/VK1AswzDkMiDwNmgUNhGixh3DsNNDFG//NExF4SGKpYAOYeTKnZEGBRIg+Khbix58DN73sU52VkdO6zs8UffFrVI1L2OGvEj/Tup1N/PKPpH4kYIhgAU8vaXKvloMFWnSQaUbFjxutrxjbFvS96whiw5hcfybps//NExGgQQGYoANPMKCjofbY++m25DG0IQue1jb7Ior9ycFUXIEIulTsBtWsJEB4DOKDmtU1mcwTUEgTmO8mVwO6lpqjJDhEf13WzwxmK4LAKhQTZ9TJjjHAMwPsZOhst//NExHoQYCIgAVsAAA1ooCxkUTL5kRCpJtJT0KceC+ggibk+pC7tdn01vZBBeeZJBBSVJlVWddFk9VqqbpIPmh6pmq01pOt2ttSq3t303N2rSNDxmFyqYeu9OaURcESN//NExIsgWxokAZuAAT2WOFHghi1DliVRrG+SAQATEVVUR3mIE46yesuIEbSAHe4yJxuTw8DsJhOKoKDZkrHlyfDDc3PmqxT9OvvznsYx9ru0Ot/M/733+ypbdbvUchHu//NExFwgUyKYAZlYAfZ373//3TZm9ykXUfPeyPrv99/7K98Sylzm556rr6n2PtyFuRWqZC/1hgT0HZmHiGo2tBU2MlAPlIfuNVZQ6Dau7O8f9cIQfUwm3iAbYKWfoH0z//NExC0a8w6MAdpoAai6S0UWqSR3VfRq1f/7V03b6v1buzun61/76SqlK7a6n///XrqW7IKNE2PtMDBJlT9ZgtI9MjNkDdKgs+iiYsq07FgITHCLI0GrBNmC4uaCdGlA//NExBQWQp6YANtEuW/me45S4LTHGKgVYijJLgI4C2AZxNHGCTiNDkRL5oy12tQ1f/9X/dvb/q+nv/////o9v///RkopwsJiXht+eVNXmBFacZylxjgAjkHkNnTCwAKv//NExA4USQKUANsWcGakShBKfGKWJ79K5ie0bQQpYgRjWiOSSKIFxCJqxw0PRxN1D/iY/nZxa7zMiARe+CAXILLvZ///T/0cKSz6qJEBaxNVv1Zezg0sYoMsea40w3wE//NExA8SmOKUANJQcDij2nCEJzyi6L+gdMw6aT0aoLhEcWQNJ/PHlmNORIys9IaJhULDXISUA9qfFaP///u22EKT60p2VbkdKqW1NKPmLtpmzVoUBH+YHIyykjjUM/3G//NExBcQAJagANZSTCj/iYiyVc9LeNlkcGDsc8Gsqd9fWtH//////3TAfAajzExKFAwEBYQJs2c2yHGPK13oCEDgHHWg6sLbkOW4mdoHomojiyWRQwC+Y8847t/////e//NExCoSMvacANKEuVRSvr/++jf/////////XuUy3HaiFZHZ1cecxxJwDWqvauqpHm271LGDFWh+zzBZ3eZy1smFJGXR3FFRgNIWJSL5TQN6kUkEOr////1ctb////////NExDQSeq6cAMtEuf3/////+ypdDlMw6lCfPVA5heNMzeN9onSIzjNEr7AY6OEMZpkmPJecbVWd5s3uxJe1iTxTg+smBGBaQR/QwUPGXtb3rlWfasokHkFLtn/9QkaW//NExD0RKLqcAMtMTBZ5VuA7mJDSHwUz2+Bj5yKuxSRpSkBcTTWrclbWpOJ4zfz5YwEBCqAQke6w16qJadGKHpUHQ1+wlbLBUYerDRHDX9/553rDUS00HGDkKsMoiABE//NExEsQKLKMAMoGTGCgNMRC0BD1HqFmYUnTaxeJKwlOpj6MBDOMBE18uNDMKgEFQCgqgqdVlr38s9qQn/uzqqv1f//kuz+ROIBzBgkBCE4yBTpzq8znLe48y/Vry4iE//NExF0RQMI4AOMGTEeQgaxonsusDFYsoNS50/kxcDJuYo007nE7qy6J4PsUnqUiRSVi+0OLe+vRnqGpG0Z0NByMIo5LOfjwHYCMb//zmqCKPwDBAGYOAKHP8DCEAMwW//NExGsRwE4gAVsYAAJCAMgM+/YDEBAwoAACAxhQBQx/+BrDQKACDgBEBgkH//wbsEeHgGgg5aQep//+TJPjQHLHeQ8g9P///9SBICzxkw28rFQlRC47wbBf////+LKD//NExHchwypIAZmgANQ3KBOClxjBkDIZQiBYGYZUUtaCxx0DBbnbdKYh9SxKublN/OFeIQfhydcil4fFhzw12SvcirHA7yhQ+dFFQyHdSSeQD0CscEGHDjEWTUeYFhp0//NExEMg4xqcAZpAAQ9fSoa9J7pLmI77o2L5aY8h3JPiCDKSOIt1c57HiKIU2lWZAjofLlTb2h7iiUk17yMHi82N5JKZviYQYUiEwhBlwvVkbjGmhNCj7ArtBQYl1KrW//NExBIWgw6gAdooAVle//puf/1ufq/L1J6e/RujIkosZXGAcPyCfILjmZwgdyTFK9d56f19+5ESqJbd+/N/3/06rvnUeSRWQ5iO8crORmjhE4sCi/sWsIII5NrsHkBp//NExAsUuwagANCKuQjx19S9/43Ybqb36N0//02qM6TgA4qgoK7IKyi4uDMU6jnruRyWXev9U0OV8vT/p/0/31obQWIo0aOYxClMQWR1Q5lSKqsCSJ7CgbqZtoTrKsZc//NExAsU+eagAMiKmBdpe1rmc+2gPhCtqb36f//3plKroIh0cgABuHxZWQYVDCYuwwxhRTq6V1mesv2pMLmAV62xPTd+uwJECxoICA4fUomAaDYqeD1oFLURkOcrCDPL//NExAoUysKYANCKuYqoEEZzWEY3z9GM5wT6fN/////60RzxAYH1GFBhEawirDBZIrM6sltNFRK2SxzRZZ6PerPMzP9P/9/pe1EYpkHPBgY7Dl2cioEqIiK0AQAMVyAW//NExAkRsU6AAVoQAPUZplVAEWhEPMgU1hNSGI/Le6x5/75///////+VQolDK0KKVwK4iet1vhrLZ0TA1Knf/+VWAnEg7iUFZbhqMqFQ+iUTOidNWro0kTQe3DKosMIh//NExBUWAV5cAZw4AEMJEUCDMxKNHHAQkaGgMURTqX8MBpA0LUHiR5zmmO+6k3Kq7aI+56N5xnpZ2IHu3VZq+5cu8hQP/FnU/R6k//6b9ZqYoy3AQE8BJq9kXCbUaq98//NExBAVqXKwAY8wAHv0I7JBUd2iNeivv/iE7853N/3HsmmQIRWnYct/9UR2IJp7zdURTdxsgSlqLmueHGnrYaI/2whTKEXPp/3wgXaWGYaKqMyNNVHQ74FvEGNwkIDV//NExAwSSU6wAdNAAFDfSTIYGXCWek2rWZv3/j/v4r+v7/mve2QUliAaE24dhZTxDPWg4ERnIMApMseMxwoaBBy3r/////V/xs2q/e1UU4sawigC1QmBhAAGk3J4l6bU//NExBUSSUa0AMNMcNqmSpo9T/79ffkP2x5f5TNLPZl0IFD7ONIHFsgwGybmWgJDSQkwFBGlCSiE+yxrf///0ITV/dxKiFYysSdD28AcYXJCwWZesMaai/z+7+vpmubt//NExB4QsTq4AMPMcb37237T7rP8prhYWKEm4MNNPQWsCs20iy+imELw5jb3tZzbLHH/IReLimpaZdjCaZRd2CcngiDLhWSbY4F7sFrv5N8/LvN9qyJbNRwhZ5hE0+iM//NExC4SoTK0AHvMcJGqTpGEaNRWNK4OkiwVCcahCCT1jVo7v/////6l+DPNDyjId1E7MnS+5biBZMBKxxMMdXq2IwvoM8WV/AWTqIk46KwyqPJKGnjAJI2U1UmVzn2s//NExDYSeTawAHvMcFlolsi+IHzxhQjFGm3IW0k9n//SxyrC2mU4burlN3hxbdCxKotgcpyidj+Zk6WJXMitbWN7lvpi/I1GKSMYOjWFgcE40Ugp4KtigKEwVAoZCo0J//NExD8RsPqsAHvQcAKzSb1WKneuxs2hSaBC3GOoVU2nFdeXlUaCFKUlChPYXAvRuaUzBWRwtq2T+PQHc6jADBhab6pybDlDEGosk0EmmTDZO/1Uf//////rvcFkTS4X//NExEsRQOKsAHvMcItto/bK1y0p3TAaz+QIlOkuHQlRSjoik5bWLbe3NNsVFEsnXGzIrQaGzNLuzPUfX8vn+Sr0rACCi4ibcl8uQaNq+xXEJUCfL0u1pugQ6p5O+OVJ//NExFkRkSqgAHvScBjcA6oFxzJJPUWS/bW7e+c6Rz7QoUbRLj7aYJGWiqEpScPCdgcoIT6K4kGnm///////+urPEiQDEW5Vz+E+csX0ysLKqk8otqhoRA8GZlQbnlmv//NExGURUNKkAHsScKgXW+DyzAC4EO060KNlv+797dnctobWsuD8hPD3hgyepH//////+ml+iuA/AbKiUSkDyaT/Ubeib5bG0XSsnAqHy8rwnt/d+aJla1PHuxpOHUBE//NExHISIRKcAHvMcKH5/l303KSsIJiZKI7nwAScKF1lUP///////oRVlwCwhlc8ddp3T8Oa/DyTuaWnpSLigFFTr0C+rK6U7tT8qWOzsvrAQcMA9iakXJ+ZaE0JTDo2//NExHwRSUqYAFsGlBCBIEg0k4ce46CwV0f/////+iYVfNuh1OUO0+4Vq/OK4sOTS77id0diQLikbVUXW9jSHKES8bPBbQf2gio0dacXFx/3d1W049EWl4FLmoO1iupm//NExIkSUUqQAGMGlJsbLq///////1FFYAgShtAWnnze/yowS0O7VLO29jORfR9mNvknetl1CXJXH3DTAvSFpJuRI84kjfShs3M895bP9rMU27J6Nqg3Uk+XNa+5hScD//NExJISYY6MAHsQlJ4SW9P/+7///9QqCCEpYiHHApm9dbhXq1wJELG6XO5KS3JhtyQlCAjIVayJ5LOrTnL43IYJnBPosK8NgkogYcR1gakiBAVxYYT1m1VJXdykpdzZ//NExJsUeZKAAEvMlHOGmbITYBhKYgVkhs3JC5ZzacM8teugFkN3UfVeQatv//6ILKN1PgGor35L0MwVj6zDTcS1VAXczUem5jyVqiISPSI44IsUY8HEyla3necYqTcC//NExJwbmZpsAHvSlCT2CQGYGITcXE4TxXLhZ6/gwI8+cVpuemfG1JWSsWE5N0FwhujR8JFNFxpQJh8WjccZygwVcbKOKV1rOPrf+//3arM529Uv//9P/+k2qGNNOMKu//NExIAf+x5kAHvOvGhERm8mnKtPzGZjdrGzXsxHyBHgDKJYUJzpF4d6oNMJIVw/wgJYzeVcEOFOkLXTQjw7wjI3h/qZNnAIDQLTWTVJpTPXtRS8fJb3XizBZAUkIB5l//NExFMdYapgAMPSlBIlhMg2B5SSNbo4zgkVlbnlkKJMUm6L2SalvoL7P//sJKFaLIu72C46jxK1xTWZ4yKLch0B6W2Aqm5TqgwVQrH51N6zGa1ccTYpVkG0N4t4+TKQ//NExDAWKYZkAHvQlPRoAUPTRLWP6nr+9v+ulVcqzRuwgpRTFOdEXdCxIGWCUzf//1////yNBYBy896zMS6s4uXacnrg4oBKJ11vQk0eQpHoPkp7Wq6QsBYnAyBwNAKG//NExCoRoUZAAGMScYQiWpInoUNs1vrff///qX31ccW2Ell8mSfrLj5lBYAx2DVQSkZjEqrGNVgVAxqRkBQVVUMOAxDCoKEpYBCQGTOPGWBosBSEiGhERJMATXRgFRes//NExDYSAKXgAGDGTIFiox7Dv/2SpGt2VI/wo/bGD0xBTUUzLjEwMFVVVVVVVVVVVVVVVVVVVVVVVVVVVVVVVVVVVVVVVVVVVVVVVVVVVVVVVVVVVVVVVVVVTEFNRTMu//NExEEAAANIAAAAADEwMFVVVVVVVVVVVVVVVVVVVVVVVVVVVVVVVVVVVVVVVVVVVVVVVVVVVVVVVVVVVVVVVVVVVVVVVVVVVVVVVVVVVVVVVVVVVVVVVVVVTEFNRTMu//NExJQAAANIAAAAADEwMFVVVVVVVVVVVVVVVVVVVVVVVVVVVVVVVVVVVVVVVVVVVVVVVVVVVVVVVVVVVVVVVVVVVVVVVVVVVVVVVVVVVVVVVVVVVVVVVVVVTEFNRTMu//NExKwAAANIAAAAADEwMFVVVVVVVVVVVVVVVVVVVVVVVVVVVVVVVVVVVVVVVVVVVVVVVVVVVVVVVVVVVVVVVVVVVVVVVVVVVVVVVVVVVVVVVVVVVVVVVVVVTEFNRTMu//NExKwAAANIAAAAADEwMFVVVVVVVVVVVVVVVVVVVVVVVVVVVVVVVVVVVVVVVVVVVVVVVVVVVVVVVVVVVVVVVVVVVVVVVVVVVVVVVVVVVVVVVVVVVVVVVVVVTEFNRTMu//NExKwAAANIAAAAADEwMFVVVVVVVVVVVVVVVVVVVVVVVVVVVVVVVVVVVVVVVVVVVVVVVVVVVVVVVVVVVVVVVVVVVVVVVVVVVVVVVVVVVVVVVVVVVVVVVVVVTEFNRTMu//NExKwAAANIAAAAADEwMFVVVVVVVVVVVVVVVVVVVVVVVVVVVVVVVVVVVVVVVVVVVVVVVVVVVVVVVVVVVVVVVVVVVVVVVVVVVVVVVVVVVVVVVVVVVVVVVVVVTEFNRTMu//NExKwAAANIAAAAADEwMFVVVVVVVVVVVVVVVVVVVVVVVVVVVVVVVVVVVVVVVVVVVVVVVVVVVVVVVVVVVVVVVVVVVVVVVVVVVVVVVVVVVVVVVVVVVVVVVVVVTEFNRTMu//NExKwAAANIAAAAADEwMFVVVVVVVVVVVVVVVVVVVVVVVVVVVVVVVVVVVVVVVVVVVVVVVVVVVVVVVVVVVVVVVVVVVVVVVVVVVVVVVVVVVVVVVVVVVVVVVVVVTEFNRTMu//NExKwAAANIAAAAADEwMFVVVVVVVVVVVVVVVVVVVVVVVVVVVVVVVVVVVVVVVVVVVVVVVVVVVVVVVVVVVVVVVVVVVVVVVVVVVVVVVVVVVVVVVVVVVVVVVVVVTEFNRTMu//NExKwAAANIAAAAADEwMFVVVVVVVVVVVVVVVVVVVVVVVVVVVVVVVVVVVVVVVVVVVVVVVVVVVVVVVVVVVVVVVVVVVVVVVVVVVVVVVVVVVVVVVVVVVVVVVVVVTEFNRTMu//NExKwAAANIAAAAADEwMFVVVVVVVVVVVVVVVVVVVVVVVVVVVVVVVVVVVVVVVVVVVVVVVVVVVVVVVVVVVVVVVVVVVVVVVVVVVVVVVVVVVVVVVVVVVVVVVVVVTEFNRTMu//NExKwAAANIAAAAADEwMFVVVVVVVVVVVVVVVVVVVVVVVVVVVVVVVVVVVVVVVVVVVVVVVVVVVVVVVVVVVVVVVVVVVVVVVVVVVVVVVVVVVVVVVVVVVVVVVVVVTEFNRTMu//NExKwAAANIAAAAADEwMFVVVVVVVVVVVVVVVVVVVVVVVVVVVVVVVVVVVVVVVVVVVVVVVVVVVVVVVVVVVVVVVVVVVVVVVVVVVVVVVVVVVVVVVVVVVVVVVVVVTEFNRTMu//NExKwAAANIAAAAADEwMFVVVVVVVVVVVVVVVVVVVVVVVVVVVVVVVVVVVVVVVVVVVVVVVVVVVVVVVVVVVVVVVVVVVVVVVVVVVVVVVVVVVVVVVVVVVVVVVVVVTEFNRTMu//NExKwAAANIAAAAADEwMFVVVVVVVVVVVVVVVVVVVVVVVVVVVVVVVVVVVVVVVVVVVVVVVVVVVVVVVVVVVVVVVVVVVVVVVVVVVVVVVVVVVVVVVVVVVVVVVVVVTEFNRTMu//NExKwAAANIAAAAADEwMFVVVVVVVVVVVVVVVVVVVVVVVVVVVVVVVVVVVVVVVVVVVVVVVVVVVVVVVVVVVVVVVVVVVVVVVVVVVVVVVVVVVVVVVVVVVVVVVVVVTEFNRTMu//NExKwAAANIAAAAADEwMFVVVVVVVVVVVVVVVVVVVVVVVVVVVVVVVVVVVVVVVVVVVVVVVVVVVVVVVVVVVVVVVVVVVVVVVVVVVVVVVVVVVVVVVVVVVVVVVVVVTEFNRTMu//NExKwAAANIAAAAADEwMFVVVVVVVVVVVVVVVVVVVVVVVVVVVVVVVVVVVVVVVVVVVVVVVVVVVVVVVVVVVVVVVVVVVVVVVVVVVVVVVVVVVVVVVVVVVVVVVVVVTEFNRTMu//NExKwAAANIAAAAADEwMFVVVVVVVVVVVVVVVVVVVVVVVVVVVVVVVVVVVVVVVVVVVVVVVVVVVVVVVVVVVVVVVVVVVVVVVVVVVVVVVVVVVVVVVVVVVVVVVVVVTEFNRTMu//NExKwAAANIAAAAADEwMFVVVVVVVVVVVVVVVVVVVVVVVVVVVVVVVVVVVVVVVVVVVVVVVVVVVVVVVVVVVVVVVVVVVVVVVVVVVVVVVVVVVVVVVVVVVVVVVVVVQ1Cj6R6w//NExKwAAANIAAAAAOShOIrCkL2hDPNGZUseAsH9R7q5SWzA4heisydE0ZBuLB3PH3VRqP4/kxfT+fWNs2i/rVeRKFbl6OzkJ//oV3Z//7P/dmdvdmf2chD+hXHZ2djM//NExKwAAANIAAAAADiyH7sq26mYYcj5XGEBihwQ1Q0pECkuXeijDGfu7EpmAHrbE9sumUpeKomByDYWjsNhsRigURYH4UA3BAUCsUEEvEEeiSZGRyZFk+PTZSrNzw/M//NExKwAAANIAAAAAAzOE7TbLUMDIoSLIjJ/3P/rELQJYHBBRxDll00BsKGFhA8sthPCeFT/lBKo5GIMnCS7hAYJWZTKKwwt+KOAAYSlugcFWKhAooYWZ4wMnkp6DGgR//NExP8Z2tWoAHsEuZzstrjGUrY440BP1utJWuwVA1LtNCITCktMBijRE0RNEUy0E1BUTE3FTaedZEKtRWVYtJpIm2vcYItWar/3GpbHL1XsjHRJhRjZtqAicB4aGFVV//NExOokoun0AMMGuT2NZQFWP/q7H3Y6X6w9j+rDIMdWGAwcgxallMMqGAoaxlXpMpBlTEFNRTMuMTAwqqqqqqqqqqqqqqqqqqqqqqqqqqqqqqqqqqqqqqqqTEFNRTMu//NExKofQx3UAMJGvDEwMKqqqqqqqqqqqqqqqqqqqqqqqqqqqqqqqqqqqqqqqqqqqqqqqqqqqqqqqqqqqqqqqqqqqqqqqqqqqqqqqqqqqqqqqqqqqqqqqqqqqqqqqqqq//NExIAAAANIAAAAAKqqqqqqqqqqqqqqqqqqqqqqqqqqqqqqqqqqqqqqqqqqqqqqqqqqqqqqqqqqqqqqqqqqqqqqqqqqqqqqqqqqqqqqqqqqqqqqqqqqqqqqqqqqqqqq//NExKwAAANIAAAAAKqqqqqqqqqqqqqqqqqqqqqqqqqqqqqqqqqqqqqqqqqqqqqqqqqqqqqqqqqqqqqqqqqqqqqqqqqqqqqqqqqqqqqqqqqqqqqqqqqqqqqqqqqqqqqq//NExAASMwYcAUgQARcXdhQFACgLKFBQxE/dERE+EOc5znOep853///////+QhP2/////+T//nOQhCEIQhDv5znIQhCEIQgGBgYGBgYGBiwAAAAAAAHcCiKyQHUQ1HrL//NExAoUGd6gAY84ADfcGBC3uNhJJA+B6D/c8A8blFAuAwRx/5IgXsEITiIa39aNZ0PMX/s+0bO7P/6Nn+qHFjy7FGfqZRWIgucT/++U4gesmcHq9ZEUWjpr/hEh4Os4//NExAwVSV6sAchAAEyHgByBGF6MJNGCqiKBxIi4hCjBwOGFnWQjc8vcf/x71VSWy0sM85EBJwEAjgfWGCjAg60Dh5TCBEUOlCGhoyTZ3b77eXpoeTVVSVw5rLZ7B/Cd//NExAkUIi64ABpGmF3OU7Wkic48pm3fJS5CftAiHYzbYvL/zz8/OQp/lECi0yf3zxHll0zNOKuZLDBQYkpEPDSWlLTp5qydHOkcLs+3uj5DY/cqtbb+S6AZEbPrLHH///NExAsT+b68AHpGlPe5c7edKLyXtRuTo9yLVrUEFwgTnM0UWld/8vY38rUbQmQEi6XKNlLZOnW81yJywZiF5Ea4NUG1qh5RdSzE/in+nb070MubxfYl+9+GOLd1R39b//NExA4VgU64AMPGlIBRLEmrHuq4U87iYbrWrWe/WNqxmrfUuWaS5ERsqF5Od2z9s3ZlTogTATCgEegaAyweLnXh4eIosw8J0xwrFI0d//vp/xjFm26IJojRqIZOGV5f//NExAsSoTq8AKNKcACndM3UIU0dk2DkOzOgCslwHoYXD4Mjow5VVnaxbUqtUvEWiBxAkLl6UoYko48TqQ6hEspr2TNhj//2JEvTVoo91BB1FsLxDzvk0BMO55hVKJyk//NExBMSMTrAAJtKcJjLZVE4OpMBLsJAODIPMwDj3d7a02xyKiHiBIgwJlAQrJnFBdbxOxgol1onbV7v//8309y0Kuc/dYgxOY6yTbVr3q8AFzPmfnq4Zxnp2P8axfyD//NExB0RoSrEAMPGcCW4MQ5MwIFqcM8ul3QGhnMTlTc0GAMwJs3W0Em3C5Wwr///7a2Uvf7o6sLudBAgF+LQmY3DhKVCQr49VcDOI9/NZtQ2n1luQrX3hj8kDpktAtcg//NExCkSURq4AMPGcMZcy89Spcg6qEYiOoDo0CoyJh/c+t2JXf///K+jI1zKKo5Txqwy4LYQpa9eqNLjgNhKx5pYUeNXHy2Rf913/x3xNbxLjjjQXtNxGlzE1bDUummJ//NExDIRsT64AMPQcGqJx44QjFvFZcyEgcMt//////9WPuwRZrO6CYwMPLNZxfkpgjYHBkEe5iamjoILLtDWatPyuZOFClGASdGMjc3Di2/ThmfokTdAJjtGNlHuo9P///NExD4SEUasANSGcP//oc5TEzGCAvoqlMzjqIjrAzi0GQ3Zp3yUyk7qIDWoc4bbx/6nepjd4yVVrGG7FY4JDZjgiJvZhFjSRti2v7v4ucNp///31C6CbYjBsuB2ISXq//NExEgR0U6sAMnQlMMNZ0j9nLFP39i7LRkHO93CTfEPkf1f//P/xX/AO3A10cdPvIiOmYoofQpyP7Mvl3jP//9bAAQQKi5NI4+QLEVgcfXKrhuaJRRuSM0lDJ2YFYV///NExFMQmU6wANFQlP/0EvVxH2M/l9/7ezq91cyGDkWKUdByHVTFVDPdf/r/p/2r3f/////+/jmISRwEdwaI5TwhmtZfldpwXo1aRU1C3IB+F1ZbRdRqX31ni+btU//6//NExGMRaqawAMlKuSeXP5uhdhHhyYYhhSooa1hfQoJgeGgdl0p/y9b3f//+HjigaH3AstU3Ra++fuKAcGw/CXUbCgg0OWFvbUPztdRZMkfMn8IMmjCux2cVekRDqGMa//NExHARqTq0AMwGcOg3WQpTKzCZRQUCIgS9iXB8TpExQ4WAEWFDgDJkq9SP/HjlN1MOOPOHqOiz1oW1P/zUAH0JOLZnq88OFSYNk89AX28Myp+6EvmjKiocRv///7te//NExHwVoUasANSKcOVNw5IfdPJ2o02s2hbYJGyZIbsnecfSBXsyYqLN+Fzvw3t6gm1CdBiZpZu7MXn23/9a+QPdFuFfZ11ClL4mLtK9bncsSqCOOzWdJcpZRoCFxYuZ//NExHgZKeagANKSmWBLpESuo9+LZl5t/b//73jZZMO4M6Fmn4hGqXPdSEDEelB2nU1zVy7Z/VeN7R9bIiLQawXJgqsGyJ2yolzl0DOvnAuwwsAoM61zPnWxGUoJIvNJ//NExGYWufqkANHMmOZiiWlP3lZBZXxiAKR1Dn/yzX9XUxMaSMUcfScpxj5nl3Eav1R2mR3Yrf8lq9b5+u/mZ/xq7/apu+M+qzf6xpFG8///zv9+oopt4gA3m/OufCyf//NExF4YQe6oANIMmWHEM86vbEbC0BzRsUldugfcuVLu8IB3yHbkL6MZ/T/+c7d87zbA2454DJTMeEW1ZWFW0EBNEBl2WKUTA9QgFkI///j4iHhogKLSYmwARFQIZCCk//NExFATuU6sAMlMlOalayDHbhI1D1FSNzCoVftntCifCGznMvT/9P/2+7fi5eFmF5SegRsqy01EoHKspJkityxR5p9b6LwIwA///0xMCgXFS1SJEweQeOjaThlF6BjK//NExFQTYVqoANCMlFA7JRAc77+L6MMHfADBAQWKSyyhZpphpSJbTT5NOlSbzvVXjFS/VVpH9WAQiBs6LBTPZaWxKW/DRWGv///O7PLQ1QhcViFrzBoDjSetDEsUCgO0//NExFkR6SKUANGGcEAMBIWMUya+ygCYLDL+oXTV7Db5UZiBk5gO4FTMHMrcghgeINA2tFT/PfdR74v/ro//+7pVNFgLGgxdBKEySwUFCqTBurwdB0FsS2B50DjpEyeW//NExGQRUJ5cAO5YTDMVJTtmYJgnq5y+1vLFG20aLGdKvp3TH//t199yGe1//+/T/6k3MGSAECxYMUgQw11g0ThUENTBAjCghidZiYIAasLxQXOSaOyGKzVWMlQ6xzhc//NExHEQsIpUAO5eTDKLP19e7tT0dTLff/v2d/J7/6f1aULAoDGIhBjpE5hjs+DgyoUUhbwopTASbG28sADQo044XI4wbfJMogFgNjCRMFQghJCpiySNF0MyP1FMuIMN//NExIEQwGZQAVwAABWuUT7XRQQbYvJoqSWpaDOl/UmhSW9lOitX/daR5TLupTLZmr//3Tos6q6fWr/9Opv09A+Wi4mbrZL2SXRJg6pzh8xN1m9fmCWAgALBnGNRb/Nx//NExJEguyqQAZuAAJdSiNpBxnCKXC6uWKdrRJcyHOHb0pBeAFAuoacc40d/+/p///8/ex//q/NVeaY3/n9P9P//+nSZyQoUPKmjYjIziMjQ5zzSxphQnctLlXJ0KkyY//NExGEYSw6UAdtQAdWxGsqRh5ikiBxtxH3kr3GVDw89N7R3qyUyb6w3CSJw4bgRkINHGV6kU09X7+pv///HKcz791etlJO+7ed6I/mr1fzHf//+ppRmc8cFTi0kJIVF//NExFIZyxKUANzOuapAoaJyClzzRWYYpxcRjWlihwkkxarGJ5xAQAhlA0b+BgYHYO6i0CxCLmfx/L2bW7+HPuMLzz82KoFKMQezc2THGThoymTf39Ter/69bqLr+j/9//NExD0Z+wacAVuIATdtRu/t/6f1etvUh//6/p61OdTQMz6zdFBBNjdRufUpNlH00TBIwOIuQAGNDEJHgCXpcZMsRphHEHvwONEIYCCyLJHxbDLkSZcKCQLQshWGxxEP//NExCgckuqkAZpQAIVBSPQpQNERIMXLj4hSY542V7D0VSpYpfmHmGOhhjlXpOnKtW7rT51//+n/3VW//9P6/VRhHhij4iQjMJvQu5CWJjipIPSh+SGD1XbJR4FHBZ1K//NExAgUaQK4AZlIAFXu/Y+fDRN8QAUWkr+lD1dZmU7JDUCV/7pQxSo3esQKMnRIhjaMJd9EpskSupXFY8xTgYtLKbBVn5v/1Oej/95RfTtrRTYayBpapqW5HVqgTQAF//NExAkRSRqoAdkYADCm7W2vFBZMMuqHu3c/1+qkopKnw3HbtJUISYIQICIIB2NhzNPdhq/olAzLnHnKEn6Jz/////9E1d9+tNWS2btRBs84QyGGZuSoCwgwIlD2GFDK//NExBYR6MasAM4McKrzdegr2eb1ds9z9pzcgslWH0FESSQKnlwMOWFXA0HYSLLAJILAad///////2JkqBdagWaoVpAQ5PAtoYCAKbcMzfL5O9GcKDVXdmo0CEnhJqqn//NExCEPsLaMAN4MTAmfRQTSTsdZEka//1ukv//vT///9nTBkgDYbCwKoqKH38S/MLII4kpQ4SP26juDouZta/Cgs/UFYdZcwHj6+ZhyCPqMPU3+pB/////////7kcyo//NExDUSGwaIAONEue5Wf//////Tq7bfQqqyIqkuWHR1tUUSd0Z1H3BpbQ7F4ADDqRAwM0IcR3YfsWz/9x6JZvsUuYIBADesggOO4Qn6L3/+ckBOQPjk//lF///+39Qq//NExD8Q6NKYANMGcDgyLlSyxy+o757kPvLcJkUKlsO2aYwx2QbRIKIdWxIk1jXtDeZ9suGPjUdYtjdwBDTDE/9zNKGa9GXRipyGuiKPutTmnPdQ2J/////2IuofIOqE//NExE4SMXq0AMvOlEDZkQ4oPpXHqAg2zH6LSlf29Iz0/Urf/SLtV4iFuFWiM6QM4kqBwzMuIuUelgmfLCymPm2FnrpNf///vq3RH0X+azgA3gW5b5jHmym2cAYzreYi//NExFgRKM64AKPScFpvZEyGWvop/tQMMjXNBSb+ju6ignnFNmjxcgLg+XPMeNtGOQPyCnaOv//6FdEyHyCTsUqbLnAulqxSAbYeqEhP2yCScv+L5mXrSm2B+sWPcUWs//NExGYP0M68AMNMcMfopGbbuRTanFiqRwMeDYsl4DHvF0S5KlAgGkrEf///7rUVquYfyVGRqUV7vZQw2z3KIAGWeK3eKr/9sbEm0JRCFTBRVOZ4ir6rr7/3ojIDermH//NExHkSSV60AKLKlOVjdH/9aGlMpzKw7g6FKLP/6f/1S6qhj4BMiEiqk9elTdJmZUr1TTdWIDBSZyPs7bf2270ZX1Rab//+v6/zv0purPSrtr9CHJOimACkkZXYII0Z//NExIIRMe6wAMIEmN6qx0GORwhQh1BCD0cE3Ct///8P/fJBUmih/kua/4pLb5dff3r+rGuude3c9TmPMpDPu/iKWoUpzCxRh44dR3KrDOYw0YcrGAYwddFFx4mMcOAK//NExJASewq8AGiEuSzKb///////+//////7fuzpvK8v91Imp7u6qRVOiOeYUrKLvzkFEocSMqMtSTiMRRRQ4op2Ko0xCoQ4uwqIB8RQOAIKRAVGVSP///////8luf/+//NExJkR2yK0ABBKvK35GWcnVVz7JVCVrr5EaVPbex95FYiO5Cq1EO7pKICjGEhQjEOLtQ5hQegqMEGccHwgCGVhg+48aQ4gBdSqn///////8/KxETNSy/79I4TQPNfz//NExKQRSxq0AAhKvb6GcMp8OXJ0P+28Kz4djiDVdx5lmRrnhnGOmyo25CpIZMw4DCDpa6A1YGEYMqBjwo11xtWm8QzAASArDocM7UjJj//0v///8v4ma7VTzPL8kUdo//NExLESKxK8AAhKua175LOzZf/qr/yMZ+U2/9aXlbGZoeXdQZS7MwEwiqSL1lAoCoq9o43wKtZdxf8ysNCnmnrYeHDwRuIHX6Ite46/7b/+c9dK9bOKChw8Aqi48jDw//NExLsSCwLEAAhGufnINBIFkiI8tDXFAAfOC1yFkqQLPH///ooJ6d57Hysh/mdgVRM0Rv4cqw4aXhMH3GuC8vqSbQq2pM1teo3z6Nw6GoHR9jic5gpVKpRNm6H9a3fK//NExMUSKnqwAHhGuMNJAMBfvWY///75wejI6pFgjDS939Eu781Hal4woA9X0k9lQ8GSbUB9kVqlwhWrGPK7rSHMMHTIYOSZaJHGrUQ3v0Nzl6gQpmOKd6L2M+ToUzzq//NExM8SOTqsANIKcAQo44NM+R23W//9tT/1AE6wWC/eX+SwbXwY5xYTEVHPGkIRpTbXMGf1+423qSb382MlVro8oAUue3XK0BW+f+u/9H//r99HFWkJuj8nSd6ijZBF//NExNkReYawAMnElF6cx0OY7//dR70UOQpC5S4SUVtpJ2Hqh4EmBJrLsbYobFzUv5LZn8ORAKMUldqxAmIrFQ2nTL32ae3XjXf/8//5v///uuIAHLIxn0fJNBgbgSiQ//NExOYUuZ6oAMyElDMGurzJLpMkCTv/1EnkevADjCBlxtWI2YFZNvIJ6GgbCqGm+gCjArXGKiw1TnEji6HLjfF0PLdNiLhnHnmCSNnpu8Lf/8n36f/wBStZ/bfpGQ8S//NExOYTaZKkANYElCP96SV5aTgr//RTvQ+pKm0iisa0pZkZrECRysKxxAABriJOEx9gmVBHZQ/SaxbHgAxtahwFT12ENElaPlodCMcnRVRPAtr6ULb1AIWCsmEiQVTa//NExOsWKaKgANYElD7Tv////+mzkj1DVsmqaTFZoVCJ1nAmRACFQA5ZhQzGfQQsdXscBAeWtX1ERtmpeKgSxJS0jh9RiQwnpNjPhayZFMoF11MYGybIHktN9amZ//65//NExOUUGYqkAMvElEhATyf///7oWjIKEBBhZTW/////T2ciHSdLX6VkIUACQo/QM9iXRNsA4VnSZCDsSdwx0SGlp5Z5NwOFZzvI/x1ARp6s25mylhXhziibEUYY2e6O//NExOcToLKcANPYTIP0Ud0Wr//+R3kf////7OkRBmGmHOn/////98/e37nYrjkIUewsuq3V92IyCRojqp0X6EZWmGEKYt+2RrCgA/CjEzLwyLsn6n3mRDFXiU50LhRF//NExOsagvZwAOSEuQQH+F8lZc1G5k8HAhbOuAFB1x+goZU6VwQmlaWQKGS7vek3Eu9+/Uv9Fnz+8TovMin//+tVnQ7FAwIAmH2vetJ6gMA1mHV8GaGKwv1K1ThgFlsV//NExNQVivZ8ANtKuRCUGmfmGHALoQNNQwXMe7ea83ano2+7TspQ4Dqv87ToLoe50WjQ60JUUCQLiVhGQNXanjFPd1NpDduNOYQBclVKCohEolNupRuaq9b1zRdgkQao//NExNAZsZaUANPQlJMcVB4mDxk4OELXa32O//T0kEnQeJhIkOKmhCF1/maOgmmkzeoIXjaxZLjrIDyp39VWVs+GoUPq/K6+msyo+rF/xiMMO28m9aNCSo4xuK8tox1Y//NExLwhYa6cANYSlEDM5xzOoIyRdLi/bVTHUQDSjH/dxjRf////qcreGyQUlwwZmjlevZtn7qGMpzvEJi6xKN9U2wys3yb7L7wVFtrN9RYrDe69+bv0/s/KyMpSIxiE//NExIkUgZKsAMPKlGTQ3uYO4TM2tb9Hsp///3MdU1yVrWEYDS6gz8WBRYNY3PYCJabg/PpMoZ7SlNvw1BPROFijYU6Knv4qxZ5Wj/4odaCyqlDio5LXnftn/l1F///3//NExIoSoZK0AMPElNcRdSpN2BrgVt4QCDoOHhWS2610DoiWgmtHypRtND1ds0OV6NqJZClrd1K0U+M/8vf///6/wpd8gNmhkxYlExxKFenoaSI2P//fb7LqEcOcXMGp//NExJIQiLawAJNeTM9yGRq2V9jqoZHyODpYv/XZZPH0og6HCKcorheHyHlpHxBBdW7//6a0CQoTBkGQKOXXbuY/5lSr//17PvSqrbqKNjKJnsGAYS9tZJTOvSVSZKJo//NExKISeZaoAJPElLg0NxW4uxqytSKG6xMrEh1dUxun+v//////9KUd9m1PRAcuowj77dSllCP///XU9FXXKt4+LlGdKSZmJ3JpQOm/8zCD5MjOC7Mb7vh9uGmIIciZ//NExKsQiJakAM4eTN7LF1b21/jOv//////3s6uqGU7Ig6SIlYXVVfCyCdNjDJn/20Uf1mEqzpLMcOunM7MDBUw7XYYBDIXvGOtd7yaKJz3thQvHSQ3jjpK3It2MPRX///NExLsReY6oAMPElP9ZB0SvDQcB0MqToT3Ys65bgigMhv/7P/VVjkUyZgc1b2UDdwDOkFO+QiWFqW8XBjVr44N1z+vquzRKVWhfPrvURzN//VlxUIgAHAUNCJrZI6e9//NExMgSmY6kAMPElFtsK79hkRf/omP6BWoWFH2nRkEOhBAcLMcFAUqCiD9VpLTW4P0exZB9g8I1arTFHCppylCQPlVpNi//jfdmpfC6TNl4VYalqYVbz0e4S536g4We//NExNAQyJqkAMYeTDHyP//xLLK9SxlZZTNYJCQBTAUHDAAgQG9BkoOokFAMCUxNH890EuVZDSiAwSpp6GhpGCoVH4GKmShKixGah/lShETYlhLBvBYNHqmIqF8UHDlu//NExN8RgKqcAM4YTN9q1K0aDzt3ai9f/3afxMomdAHASFwdMSEkObjtMIAaC4CpUmPgkIPuKvIpURIl9wgOhBAXXrcd6yEL7fsT/dW/a0dw9GZr8s1xJlD19V0sZIKS//NExOwUYVKEANoGlM1Ipp/trv+pb//9jO2n6Ca8kgsMWC4zF2D86XMih9F8wYNDFY3ZdKG6GFhSjTDDwFQDpc2sX91cuRO9ukQqsfP9ZelG4BmDnU9+jy0qujZoqXq6//NExO0VmLpQAO5STD7/2f/Xc+yvdnVUVUeASKSbNDBLcmEeMugYxhA5pULwDjos59FCJAJCpoPc+gPUOcPcO4tw57lxjQRomlhIiaGpQJ65mkShooKiCPBbUCWHcMOF//NExOkUgMJQAO4YTMCURTpyKPEvMxkFKSQ9xwFgwhuggaLdMuDyHiQSaTlEmMEUCedNjCyF35sdk8wU7MYNVPm6KP/6aCk0OtS1p/////drJ7Juv7KaumhdMvqcqzCi//NExOoTyMJQAVwwAMHysFjxBMaypaJayJ5suF43Mhst/RYPvclWU25Fq0gN51rCWdmjRzkB2HnMHYda8bybkALR4DyIY1jpLSshzWiQRjaygjHpJBHOGx8fzQnSbotc//NExO0layqYAZpoAII1DG8zE1MNt0uffb2Xx3x+1/+7////////////+KvivffT7UhjWxEyhMOVwht1s9wdonFtygkqZpDELKpd7lO4otr803/w2vN7b2bcKPuDwX/w//NExKohWwagAdlYAY5z843e3nE72XHoc+1ibSQ5j6j0o0Xp3Kl8uVL5Z7xOwXrlunpiDrWK/VbbxBfX8V7rNorg9TIySW/Z//rctw66MNCZouIgqeCqxrSkExJ03HrF//NExHcbaaKkAM4elKSNFNIl+P3uCQB0ltN6gj5U6az4cuPI9+bRfSD60mjw+p3E2UARNYVPstR9aj/mPalzJqtmJ1rDYEgGAgTPCzxMDIlBW3////+6eU9C2sWdeLLq//NExFwW0UqkAMPWlLEEJvmFQo8XJrITTEgpM2GUJLMlTT4BVElNQ8yWETX1trPWmZxtpyPpyJIsFAKiVybsRHgaorc0GgKEg0oqMPXJ///////SgEgOARtyIyikbZGB//NExFMS+N6MANsMcJzIaw+YmsyO+zYiKZDnBk5/iam6kAb6dZ/W2cbMFrMzTV1du2r//9//////////////93d39O1ioYKKYWGYacmqhpuI4CjEMsMNAxjORhYlN9Qr//NExFoRyvp4ANtKubFV6Tb4Tv7LhSqB0GzUOi92uQWdE11e2rr///6///////f//////yzoRv/dLs0xgx7YUYOfNOE2EvD0waA4dMXNXtlS6hN1q9EpXn8Ba7YBs9rp//NExGUROvJ4AONEudYKzClgK6BNiaKKLLP///////9Kzn8wCpMNqeHFqoBzY2Q25iAqwZZYgAQ4fUJkgjmZkiKbFG6WeqGJBgsOQIBQVTtf7eidi9N/+iXKFwscOB8g//NExHMPSJJ0AN4STCdP/////0yG9PD7i4gYQpTG36MOoTJhxuMUIAESzyIBfwLhwG/bsVobt6rNekGoIR3ZmmG28Jp8JTUgkZb1+29Pt//reJiItv//////cx5XGWBx//NExIgQ8I6AANvYTOloTJFSy52elIUGQXAFnHcWDMMGj4JrLlMyU/Vv4xiMWasOkSBkKScYrgnGoqkeEvjun8nKU1e+3uJi//Z/////0GRPTe2cCxZbReqKYZNgMryN//NExJcSgT58AN4EcMAi6EIW0AEKonTCbNXKooZIIIl0GXcdSwHQWiFRQqLCpweUnPWWH7I79P/3/0iDTA2v/rhj/d///1erU7z8xa9u5Mjoh/0BqkbonRCw5mEAMN9J//NExKARUJqAAN4YTDrlprfuap/vH/+b2r7/JEidX/OLMxnMORvYL2VLRCgh7TGSC5FWdaFRA3////4Ac0q80gXMuYXPgQCDFaepjcesKCQeody3fvOk0mj/MAi+Vj8x//NExK0RaSaUANJQcIr9U///+55Sq1jCjGzOGpgg0FBSPnRV5YZTz2AkzCEgu9X//+FmhUICyGvSC0cq1A9vCbTIB13MnrepU8Un5zhvlT0T9///9kSzEIqKCEKwt4VW//NExLoT0T6kAMrMcB3UTrRzj0q/1o3b0dXJlGVqzaBZjnt/7Y/PAg950zYLNFVoDapZz7/4DJg5Ud5q/S4dx4Q/n////+Y3L5jahIDGUqB44iLLDweDzgI7JA0JgqND//NExL0RSUqsANCGlFDWJQmGpV0Khqs6exFKnf4KuWGoiPKDoaPCENRLNr1D12giFwaBmUEYIBAwOa9D0pjMZsyq0FAUu0t+j9f81U41S+f4+mi/+VKi4tBZrBSeg00K//NExMoRwfaoAMCEmI0Uv/6OnPLvq6//r/DSOgCEtiIFXvYVWHgaX2dUtX7c8cb1xLVB2y0Ly9pMiFDtc3eVfO4KC03Vx7JNVv9+7HVt7Y3ItrUT+7oHfPb9+cyqNOe8//NExNYTOWKQAMBKlP3uqz9I19m8+x8cFgG4nh8augI2iEnIt2sgEvNiD5/4mCDN7+GjgJCAZwN98Aa4AULC5wDNCO3U0EJMDNgwYpAOKgakj29uByRYBRAAIOBuRoGA//NExNwQ6VY8ANiQlCAFgnffRtYNNEEgFAAKABO45gaB//txYxOgEggoMyFwEeOMia//1f9ZQKhfHwMgKgQYR4HSDLlc29f7/X//lEcZkRouMPfIgQccZYKhOGZXOvD2//NExOsUMDYcAVsYAYwA+HjZFoB8QGqVo4VaYHXvM9HaaJn0k2I69Us4lGJRdusxqOINrHQCQaHLkqOA2LdQgi1E0OpHBvL83HoPIl2D2aSSR2kpK2sfO/+2rMWtx2pW//NExO0lwyo0AZqgAFYl+lcMpnzHN9ruSzkTMTxzcylzTY5t+y57iv/VZMH97KPHWvS8FcLTPayq3S7uWh0xlyXRfneLIh4iNdLjhdZxO8/9zcnxb6OX+c/p993SfXkx//NExKkgUuqsAY9YAeQjCFAMCInw4Gg8gQQ5yLROHzIoGRU0qTJmBZpswia2f//ZgQ40vSoaIU38P1VZURiqPWUpVXOCIQqruoQcG+UWysajZ86SyfUr1Gr9Ri+yybaZ//NExHoUaUqwAdgYACxHHZtiOD9EqkAronQgQDTGQtxxtRI2vjp1ZJUaqfRf1vrKKNeSR6v//LOK3EguNLjGB0JBNatY+QpubUEhoKEkaKQqgMLo4zkHqIpo3U3nC33L//NExHsXYeasANNQmFV6JSUq8u9zuWOftmDn+w2U95Cu/8q3W2UtjvO+Pt3cM07kb8XFGrfV//+LpW8wKLHNW86KDNc1y0FgB86bl96SJysW51ZmEnDMnyKWNyKebq0E//NExHAUweawAKNMmBip1aiQdTJkwrSdK7P5ZeG+GM6y2XpoYycye2nMpU1GYq7////XUtWklM1NplGAWz8goBk2CtwGAjRMlliyjdVX/hsTDrPtV7r+ryvyqxMTERCF//NExHAREea0AMtEmFmXldIu/2Z2s7SWxC6Ino/tELw5////9DJpsBKjl8YcMvIZ/yHRAiu3chh9xQPk2e/0+zqZ0QnPqX6krzhWYL9/X9D////////9IoSVEgikR0////NExH4RqN6cANvScP///96P7r6P5QQMkPMolkbJmGV5BYbOHtzsgdlVmkUbLnNnxz3XmRu6wJA3V9DqaWWgvFk1tP//////////0VpqOUy7//////9yyypS+tSZzMLH//NExIoRcvaMANtEuf5iKh4oWGVrIGQie6k5nAbpWcTWBF8Pv7ZtQHFnatRq1CBck3WTNdbxGrmDF3qz59kVtV/////5Y9R////9YaJ0iWoMpJgUWIbAASmH08fhrBj8//NExJcRkvaIANqEuUAGDKCZF404h0NdL8fKmwurTdnIaCgEveVaPaqyValKIstf/s7UeP/dq/6f/60VPFMAwOfzBouKA8aJNBlI5mEiqYGCSE0bgioAeVb9JUTrFCea//NExKMP0Kp0AOZeTH5LYRpiysWYW1CpTMdfSOGnkP+gtsb/6btelSdf2/R7el/t9PSqMrvY4ywDO4+MfiYBBIxKRhc4IJL3LYRGazMV5acFbJQUkaiAng6KxgCJHrla//NExLYPmKZUAOZMTLALolo/5Zygo//vXlfGPPf6u1taFJojdQcEAweRSlUPx2WbiUuy/H/5Z0FRddjgMIDbbVY+Gzx8o9SHBJ5C9twqXw3VcFGJXI+VZSkWdS98meWi//NExMoSSK5IAOPMTPkjyj9BZS6wMe01Dyy18HeQeFJroDtQhvUD3kHEoMbGelXrEvi0tqCkJ99SmaW9Z21iLAVm5L7+MebCbQhAuSo19/eqZtPB7i5vFQ/kh+lM/MC+//NExNMQoGI0AOZMKFxasXma3ucQc4rn6ltLD1S+r4vaBaI6nYJp8RdYpr/N831auv/mNnwc6rN93zvVd0mxP82zj7tnd9/wL5pul71nxTWP7aiWmeXvJiNpMlB4WMjA//NExOMR2E4cAVsYALEFwGLC/ExpovYJekwV/5fDUYNOBTohs+0exs4TQUZJlezx4b5cp1uDiLyLWPCPvN/GTsJrVrurr6hv73j7zWta5/zqnhx933711n1e7j3x961f//NExO4layIYAZx4AXe+//f13iv+feA+E4+/5UOkyp68VI+Xf9ps8IkvTkBJYABahkEu3rC0d4ggwTKDCUgEXNaTBz42wFDYtmhCWwcpHkZAhhjD3C+kQehLlQoDWF4J//NExKsescqYAZp4AFFYR5qEnHiOEtC6jYX0XisJYWno5BZlxP1IIaKSitluUZakh2mCeqpA3Wgta3Qe9Vk+3QX/p31/06lq/9X/rbpKen7ordNTHEEVJ+mqijUtjhsi//NExIMgsyKsAZpoAIiARRtyYMC1mLqBSSMLhWOtaNY7kMrOSJNGCE0jlscnv8MomFEmr/k7s5OBQC7PXcmTBwMKLAXrfng4VPf61/////vKfPTpio3ZwYcMsACZSRfm//NExFMR4Pq4AZgwAGwsWOIZaC/NmHC9M1lypDkPVr+qV/meWGCNb1Eoku1SjgKR9XWmjw5nGuIOLC52zNK//////+rO8yZoBtwFUVozgWDGQHWsFgiZ7hRrc0GJQCFR//NExF4SoMKkAdpgAACMRmIyoZLDQcDw4EqrLqTqfOGIk3F/oIWy3gXEDnLqjCYzBn+j8AFui4yupJD1tgLmv93mW6tnLtLUv47s8x5Wtfr8q1rcxjFmehuYzmcrGTur//NExGYfwwJ0AOYEuUpv//1///////7o/U0rG6IpQolSuAnEo+Y2rHOsQzN2Yy0xNuUTEWA1skfN7zHkDtgAOuGHoi7sAMSgh7keWoqpsFuS5ymk5vYT6DAV0bONvawZ//NExDoSYLJIAN5eTKx7fBWsNAzzuW///8b//ro51QIXhhwmLJHMzHpLyPohAFKoCAuJQUMDpIKtDbj2dDhKJBULaEqZcpdAEamq+c2IXoHqb3ul/kuNWynlyI1anDMe//NExEMRSEokANPGJIr01ToDsLACFbpSZ16e7d3au8NyaxYyZOP0SD0tIo0raRizNa3NPnkzesYeJpckwNnr2MtJdC0pX6jDltc4k9U4y9jEVpuMcnEYc+ohbzdS0H6T//NExFAQeDYgAVsQANBe4aYI4MCFGIvRtwLQ3BAFQgH5AQ73FcLgRQjkxpOeeZ+Jw4Tkw8PNaaq/zyBTUY9Zp5x3/oyuzO093dM5P/z0c+c2znsa7GUPVj3//9FV7I09//NExGEaOuKYAY9QAQgd7koJk8mrhmvLaARERSEly0l0ktjNKCJBhr71im1/Yna5TO8/IcJcUmuBhCxNZZPR/9LP/1+3///JjgfgRbRG9UTvOAYyXD6lzwsyoKCDvDWg//NExEsQYIaYAdpIAEnml3mtDpY3/1j/zCAlPkQAhqNR04EQfETmHz0//////+1nVf//y//o1G//////r1RVsCe8/4prrFTuLP+R1npMJUL2NFORCC9VxWN/98RPNGyS//NExFwRsq6kANHEuWEeAGpIBn////9Gf06/tn/2ux1ahGOvRCEJkkIQjTnV84G/Az/79sJwMeex8C/owNOGMj3gKAI55r//P/1hSpmiCU16////9Pqv0/7zk+1SeyI2//NExGgSMlq4AHhEuedkunYmYjIYsyTKecotbEIUzCAjDhziAQynIYQxlFFgkUcEGChDav///n//////p/+v/79+dU7boqTBFMpVVXpcExWghYEyI4QcU4dAhiMJOCQK//NExHIRWw7EAChEuQRBgY6OqBAYoG4kgGCUQwURChoNf///////j//+ef5v/3Xn/1hvuNf4i+uxrxKMzLujMeWIloOaVEwsUH445KSh6xSD9BFCdQ9OgYQIaIIw8tKG//NExH8P+wbEAABEucCgjjg5rQCDf///////y/////69/16tRHT6/e+9HmUrGMahkMhjGdEM5S2RDTO6oHg6HRW9SsIgUrCTqwkQBgYqCxnETOUJAYweFp0wNGgzLk2J//NExJIRMxK4AAgQuVT3+d89nlD+Iq//rwVwajzqSRF0RIXU9glLDlLCRFYC8q5ZYedlgqCoKqBk6SUHZ1ssVWCyNcIZcJgjZx80QQNtWi87HGmY438nTddnMFLiKGEW//NExKARcxaoADhKubdFTWkufIAmCbu12ReM4lYWYxBkKzQ+h13GQO83KZ43RoumdUjajcpugXDp8tTQTQSZBkFIOkucSUaMeZB1m5stJmqWktlLU7JIbp9kKOmtNSmU//NExK0O6B5wAVgQAOnWkk6fWho1osy7KXvrSSSRN1rZps813PZFDFy3hKIkD6P/SWJdlD8rtjDhJRAMJh0dZPeaGwOlD26zpocJ98OMFSSmfO311bKaPRmXKtpd9Oc///NExMQhgw4gAZtoAf98LmlF7jm48lbL6//zY1elLOpubfUPtn/7K/23FOSZVvNEPdNfKR5VL/6///63ve+mT52H+elx62Q5J0eL3e1TEhkv2m0t1JRYFptLStjTPZLT//NExJEe+xqkAZhYAWL6N7D1/KAKW8hoYFpe8nO8EDKzeYSJlgBLvmJR3rUEWlHN/lNYEGKPveU+U///+bXQKULmf6JILe3hbKhJFn8mCa828FFFn8ggjLm+GZNf4Yvt//NExGgSKL64AdhIAAHjF4AYsVI31ur93+d4/bntYjs9DK2SLc65oj8OV3MZzSW////9Vc+buFS0QzuWlKoR3mCwBdGgGbblAHZy9QPJ30J/gdra0F2zIsjPO/P7f6m2//NExHIRWUa4AMPQcCtS4YfMoIsKnlkRrW1tOuJoGuAwgnD6Ut//9q/1qtRvKOmMxQG/p/y5rm9b1ELi4V8Ayt1phmzr2//DPsbVjI0KRWgxp4RW1PlQ1BUNAJRI9Wdf//NExH8SSVK4AMLElEPrcdiVI4KmSJUbSEmKLB3///v2ojmXHkmYAhc6Lyal7oBVLBcg6PIEVC9Tp1HWtF161nrWmVLVVLUvYMawMBAUqCv/2EhE8jeJXEA76Fu1KBq+//NExIgScN6sAMPEcIlXf//8GnwZcoOqN92jeUc5YxM3PASEhAiATId0gV2lyXUT44cMLxmhTxTywSIhcUKu2FhEJVWmJzrnmL/dVZma6Lq9HcTp09nRZX51H00DxAwc//NExJESQNKEAMsGcEAueGwLgNSbWs+70GbbqUggtEWvohfMnd4Bi0Qg4GBwDFiAIg+PPijFunzhQIpu3nb69LlKynSrRU3/RSrryir0JVVOhJ9K9icS5rUfbTdRWNKz//NExJsQ6FYsAN4eJIIAkuPko0HYWY3Hg8ko2NkXMYO8by8nFxjgBH3LopgjjvPm5vZ82D0RXWkksVaLPYyqRVTijrd6U1Kfv/9j3M76qqNYn1OK+Kv339LcNXdfubuY//NExKoQyOIsAVQYAKIqczx/X37/3375rYo9e3Ma2Pj5+abPqKWWbygKICszPqAJaQVW1YJInfaG+rpgQxtpkBBRdT6nMyITroQUZ0QUFguDgDpGAgB3GnGaq2SOfagX//NExLkfqyqkAY9YALuwWrHtVexC3v7oqSRc06CcW+N5L0bChn+GTWkVaRuMn+wxfAZI1QZXc8LR7nkc9lJ25/nxLdozXT2ZP0SIDKiLTNlKF2hAaiN/+tihleaASJ51//NExI0QaOa0Ac8oAIDvISLna5ayT8wlSzrgCuWFtfofbUBWNb3cE0WMInJQBih0AASEoQXn8V29f48fHzdxLMxLACMU20YlydhX//1K3vDTP4TwqvQwad2u0ttYdtOK//NExJ4RWSK4AMPMcBUSYT/MNYdGsow/dSYpYaJmlz6ihURCIiEahWLn0sUDR5LDTEuAxEVAQNV+7F3JzrJUDwi2XYtd7HcxveepTs5zBJiCowTYQoajY3J1mngR1QtJ//NExKsRWT64AGvMcBC7bAPlBMgEaAy3BtOhOB2CZIeYlwWQCaDLNiCCSEIpPreS//TK1bQNAX1odwTS1HBbWHs6/BMF2eQgA1lYhjHxwY5flD7KwGuPmgprd4IdgjO9//NExLgQQMqwAGYScD+nu0ypIdsQ4s2f9NLV//1rSsuaKlGaf6RrH5vFujl8EpcYClGdGjJEI8cW0mT1Y1ANu1qip3IA0JuYAEGliclJbbydp/+f2dZ735P1X/dos5ZZ//NExMoSiM6sAHvScMFoCi0tagj+j7XsnP//+mMN1dXZghsRgp5IIlK13aWBnDVxXosV6LyHCbQrd2UpeqYuaVLQsZy4Z55WDdJgpLFphixpvEtRsSyJ2LmhxCFFC1yh//NExNIPaU60AGsElOp+Wq5b9v//+wss6eUYDKyClL/QKdc4SYn+lsElhiUNIzqLpxvEJCteLs3mJp5xGk5UUyGuNzlMmZGKQyVgKjpkLAk0sqQs+KGMK/lvlSMGg7BW//NExOcUiTqoAMPScArU/7FqPO///9V/VUoSCpuWdVuhABzFUHMVgduCfphYtLdlQUAIWATy00Nd1kO8wMyVBwEZKvmlZIkvMR4Ju6epLU/b7///3en/////t3////////NExOcUaNagAMPYcPpT36+rEQgI4kwkqi2OKVVe7/ucZoVn1ia1F9mVpokgLAcABS1LCtD/4E0LAxNB+FCymrWaIRiGrjyIRhZk620nrvXV///5Cf////vrsX////////NExOgUwNKIAMvScOiKiyo7zauVylBMGEAkKkMyWtUOEl5qBGNWB74krS4BkC+NALO3ZCgwv7nXc/RweZKMMIFkTGtWtFTDuHseOImqd30ku3////2//////qR9v/////NExOgUWw50AONEuP/3zyL0bNR5lUQVnFMguQ7AxxI1oqLILuMN7j4RFAtSohIEI4S8qlZEARiWVX40QKIMQYEwnEZZ56zSjuaTGuRvT6Wb//////////6s9Wp///////NExOkVUwZsANtEuf/av6t97FDCimUqASI2RSzbwDMej40K8Dj7qM0gMMIJgEIGGQsnwpyBDhCaLspdlrLvRFsSuhkMoQRJZItihyYVMiEMsxWa9LBoRDyKh/0V///i//NExOYUwxJsANtKuF3Vhqt3//6jyuGrxgFCWdDtPFYVRHTiU6jhAJazFbs9Uv0ueNzv6wz5W9zxSdbHoJfW7Wb/17bIuZvhO4nx36JJn9I3q+c7l/yfe47c9vbsrlQ///NExOYTKw5oANqEuP72Uyvp0PyahkBxn37vbufpbqoM0MRsgSbEqhM+T2bVFA6C/P/1OlYNJsCWGQXCirpqA8Ai4ywkdNNTr2YWQbgXAYgXBmP1LoMpFIB4C3jBhcx3//NExOwVqLZIAOYSTIwdV0d0Frqg7xPBkBzGRJRmZTr1aL6a5PHmJWXDWTCUGQvpoWr+n90JmfN0zcl0F0DAoeqjXd/eilbbtzd000y0uS4YkufOjnpYeB1OlTu6YEUk//NExOgVCGIcAVoYAV5+aOYy6Gs4GrtM8RQVhGPGg1IUaJQ/tIUGgCuMoZR4eKLiAC4Hg3NV1QlD+LDgPBjkjaj/8YHkmFn9NFMVX3f6IwpVS9cbR1PX8aTb3ol+LvfS//NExOYiIyosAZtoAD4rAkGNA5nbkYbt7T2iVCf7wniXc4OhZGHXGZ/2UTEtQoQLnyZVh1sTSldTRnP0BmAOBlMnNMNVjVhciBYZvbhl86v6xXVcv9rAQALOxGAIJKEQ//NExLAgiyqgAZhAAMhYZFJFppZmS1Jzp/5vzEOOYoJAouffNv2PScqMec/R7K7Ke6M5RSxiOnvOzvNb/6TJUfMGpMVjxkUiLJni4aCYqD4LkhklEIiA5PFxERBqg8Oj//NExIAgqxqIAds4ALHXSnOhLurmBAbM210FJ1MZyYDLPGww2pzB1HeiazlMoohGkgqdLAC4KhTLZaFnDJsmm5ufd92U2f+3/q9S9cyJ22f77rqZbozfZj0u4EFlfoya//NExFAhOxqAAORQvUQQldZPi/nXr/+f/+fntubGMI40cPEQDQXiG0niURxBPLUqwmhxO4PoHQPB5Qu9hgKhyYbRZ1IezaSx8kYcvVxSuQIzZoB0lqc+b/jACEnQ+MAQ//NExB4XmxqUANKKvUx5YlHz5g8T21r///1T7uyUJ786aToZ3mVGqlkY90MjX/fT///t5RViHEEQiKPK6C7mIhBNBEooccoREWEowWFKM0Gf13FExlwdt0Bo0EuC4ZqS//NExBISEJqQANZMTJuEuJR36XX47uUwUl+xudtYkl3RMonv//xFt+JaPqHgq4FWnlBV30f1nSrhzxEVLSw8sBqzpWo0WcOlShk5NoWzFB4x8LM0RQhRfpsQFYULUtts//NExBwR4JI8AN4STObGMSqOjAjvB8MsxQzQslhU/OhJAyGqbdQdJbb+0NdOp//2q7fS3/Z//2kaPgmLcGAFNch8LiCsLqHpZHZmyDrmPKwOw2JWdHX5aFX0ilLBR7bd//NExCcPEDYkAVoQAKlds3r9JUvVcevPa8V+pRJ3vAdtRqoPaQgPYNkG1qhUiv2LIKGBgjve8Xm29t4F7ElBsf9dofGKSDGADSdfrjlmwc8doj/1K7Ypc4eHYblz9mt5//NExD0gwyo0AZqQAHiGidw98nCLl339n+0hwpQToWSJixkwaCiX/Xq9X6iSFwFAmRcYzZSIIJwJ8uD3vt////lwvkiTwzApQjyDicyGEQGQNzQnbmci0wAFt5XRkBAy//NExA0Uax60AY8QAFrnSayH2QtEY7iBxB2VjHMSQxE1I39yTo1Sv/0ILV+hW/+zyMdad3r/9jvac8lkKNV2Kpvf+rznaR2cnuUqfOtf9bHYRaatGhQYWSf6SmCKB0YC//NExA4RqJakAdlIAGtglcFHONRxqM2aeex5Ulk9niSHyACA/AiiaRBwPJ//+lYh/7EK////9R0AvcfWAQCVUEwVGixs0t6mTFQdaYwPJtWFiRgInWcyZlDLbMYdyQ3Y//NExBoRSJKcAM5eTG5U2sZzro/idj4PJVKtsZo054Vd//6qns/UlwL/////HLK9zUlXAJRo8wnV3p2AiTAsBFVGnAqc0Dg5phCoCKYLhEHHsvo7u4Ya7DzdFQJXOjNz//NExCcRwUKUANYEcJTanQyFVv/////+sYwf/SNBdH////8RNLKYY1GnEUPpv7GHBqHN6AftBZi7mOMChjImGAW0dxAdClzzcMRRXUPOqZwK6pGIzsomZ2xa8CmP//5I//NExDMRQI6IAM5wTC6vzBU8r////96XflXJPJcsFIVDohwItXaMT4DhUJ2Yt1R7OuIeiVg4dAzY4KwXgrFsRIA0oeYUxKxTy37XQeClP//5Y0Yf9MN/////s71Cp2YW//NExEERmIZ8AM6wSLKhgkDdCjlPCsoZcscgWNCjR1C66Aw2uIuIATz4ZEin0L+sSn10r9WMyZKEQ4VZNY7PDpaFX4g0Iu1f/6p4Gf+3/////K/pTUDIx9U4rxPmjwhc//NExE0ReJJsANZeTDCQYwg1AzaY2SA0dM2MRpYGiFyJXo4w0ylwFLk0mPrFWUDGTKE5TseL/61zW2IQVqARX/9cS/9aBLAxyaRZps9EMIWI9S5P0NdJ5zAMEigEs3Dg//NExFoPqJ5IAN4eTChMRDgaKg0+Vcp6ir1B3Khoqd9nqfedJf63FfET/1HoK+3PdQl6wVowqETREYs2NEFjIAUMlDRIRsDvHwaZ0IenEWkUgp1YPiUVEJYsdOLqLqLq//NExG4QoGIYAMPMKCV1dXVpJJwDwMiosLCwsLiorX///1f//9YqLfxYVkxBTUUzLjEwMKqqqqqqqqqqqqqqqqqqqqqqqqqqqqqqqqqqqqqqqqqqqqqqqqqqTEFNRTMu//NExH4SMMFIAMPSTDEwMKqqqqqqqqqqqqqqqqqqqqqqqqqqqqqqqqqqqqqqqqqqqqqqqqqqqqqqqqqqqqqqqqqqqqqqqqqqqqqqqqqqqqqqqqqqqqqqqqqqTEFNRTMu//NExIgAAANIAAAAADEwMKqqqqqqqqqqqqqqqqqqqqqqqqqqqqqqqqqqqqqqqqqqqqqqqqqqqqqqqqqqqqqqqqqqqqqqqqqqqqqqqqqqqqqqqqqqqqqqqqqqTEFNRTMu//NExKwAAANIAAAAADEwMKqqqqqqqqqqqqqqqqqqqqqqqqqqqqqqqqqqqqqqqqqqqqqqqqqqqqqqqqqqqqqqqqqqqqqqqqqqqqqqqqqqqqqqqqqqqqqqqqqqTEFNRTMu//NExKwAAANIAAAAADEwMKqqqqqqqqqqqqqqqqqqqqqqqqqqqqqqqqqqqqqqqqqqqqqqqqqqqqqqqqqqqqqqqqqqqqqqqqqqqqqqqqqqqqqqqqqqqqqqqqqqTEFNRTMu//NExKwAAANIAAAAADEwMKqqqqqqqqqqqqqqqqqqqqqqqqqqqqqqqqqqqqqqqqqqqqqqqqqqqqqqqqqqqqqqqqqqqqqqqqqqqqqqqqqqqqqqqqqqqqqqqqqqTEFNRTMu//NExKwAAANIAAAAADEwMKqqqqqqqqqqqqqqqqqqqqqqqqqqqqqqqqqqqqqqqqqqqqqqqqqqqqqqqqqqqqqqqqqqqqqqqqqqqqqqqqqqqqqqqqqqqqqqqqqqTEFNRTMu//NExKwAAANIAAAAADEwMKqqqqqqqqqqqqqqqqqqqqqqqqqqqqqqqqqqqqqqqqqqqqqqqqqqqqqqqqqqqqqqqqqqqqqqqqqqqqqqqqqqqqqqqqqqqqqqqqqqTEFNRTMu//NExKwAAANIAAAAADEwMKqqqqqqqqqqqqqqqqqqqqqqqqqqqqqqqqqqqqqqqqqqqqqqqqqqqqqqqqqqqqqqqqqqqqqqqqqqqqqqqqqqqqqqqqqqqqqqqqqqTEFNRTMu//NExKwAAANIAAAAADEwMKqqqqqqqqqqqqqqqqqqqqqqqqqqqqqqqqqqqqqqqqqqqqqqqqqqqqqqqqqqqqqqqqqqqqqqqqqqqqqqqqqqqqqqqqqqqqqqqqqqTEFNRTMu//NExKwAAANIAAAAADEwMKqqqqqqqqqqqqqqqqqqqqqqqqqqqqqqqqqqqqqqqqqqqqqqqqqqqqqqqqqqqqqqqqqqqqqqqqqqqqqqqqqqqqqqqqqqqqqqqqqqTEFNRTMu//NExKwAAANIAAAAADEwMKqqqqqqqqqqqqqqqqqqqqqqqqqqqqqqqqqqqqqqqqqqqqqqqqqqqqqqqqqqqqqqqqqqqqqqqqqqqqqqqqqqqqqqqqqqqqqqqqqqTEFNRTMu//NExKwAAANIAAAAADEwMKqqqqqqqqqqqqqqqqqqqqqqqqqqqqqqqqqqqqqqqqqqqqqqqqqqqqqqqqqqqqqqqqqqqqqqqqqqqqqqqqqqqqqqqqqqqqqqqqqqTEFNRTMu//NExKwAAANIAAAAADEwMKqqqqqqqqqqqqqqqqqqqqqqqqqqqqqqqqqqqqqqqqqqqqqqqqqqqqqqqqqqqqqqqqqqqqqqqqqqqqqqqqqqqqqqqqqqqqqqqqqqqqqqqqqq//NExKwAAANIAAAAAKqqqqqqqqqqqqqqqqqqqqqqqqqqqqqqqqqqqqqqqqqqqqqqqqqqqqqqqqqqqqqqqqqqqqqqqqqqqqqqqqqqqqqqqqqqqqqqqqqqqqqqqqqqqqqq//NExKwAAANIAAAAAKqqqqqqqqqqqqqqqqqqqqqqqqqqqqqqqqqqqqqqqqqqqqqqqqqqqqqqqqqqqqqqqqqqqqqqqqqqqqqqqqqqqqqqqqqqqqqqqqqqqqqqqqqqqqqq\" type=\"audio/wav\" />\n",
       "                    Your browser does not support the audio element.\n",
       "                </audio>\n",
       "              "
      ],
      "text/plain": [
       "<IPython.lib.display.Audio object>"
      ]
     },
     "metadata": {},
     "output_type": "display_data"
    },
    {
     "name": "stdout",
     "output_type": "stream",
     "text": [
      "============================================================\n",
      "\n",
      "Kamu : Bagaimana peraturan meminjam buku\n",
      "1/1 [==============================] - 0s 57ms/step\n",
      "LiBot :  Membawa kartu peminjaman buku yang bisa didapatkan setelah melakukan pendaftaran, maksimal meminjam 2 buku sekali peminjaman  dan batas waktu peminjaman 2 Minggu per buku\n"
     ]
    },
    {
     "data": {
      "text/html": [
       "\n",
       "                <audio  controls=\"controls\" autoplay=\"autoplay\">\n",
       "                    <source src=\"data:audio/wav;base64,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\" type=\"audio/wav\" />\n",
       "                    Your browser does not support the audio element.\n",
       "                </audio>\n",
       "              "
      ],
      "text/plain": [
       "<IPython.lib.display.Audio object>"
      ]
     },
     "metadata": {},
     "output_type": "display_data"
    },
    {
     "name": "stdout",
     "output_type": "stream",
     "text": [
      "============================================================\n",
      "\n",
      "Kamu : Bagaimana cara mendaftar sebagai anggota perpustakaan\n",
      "1/1 [==============================] - 0s 57ms/step\n",
      "LiBot :  Untuk mendaftar teman-teman bisa mengisi formulir langsung di resepsionis perpustakaan, dokumen yang dibutuhkan adalah ktm/bukti krs\n"
     ]
    },
    {
     "data": {
      "text/html": [
       "\n",
       "                <audio  controls=\"controls\" autoplay=\"autoplay\">\n",
       "                    <source src=\"data:audio/wav;base64,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\" type=\"audio/wav\" />\n",
       "                    Your browser does not support the audio element.\n",
       "                </audio>\n",
       "              "
      ],
      "text/plain": [
       "<IPython.lib.display.Audio object>"
      ]
     },
     "metadata": {},
     "output_type": "display_data"
    },
    {
     "name": "stdout",
     "output_type": "stream",
     "text": [
      "============================================================\n",
      "\n",
      "Kamu : Terima kasih\n",
      "1/1 [==============================] - 0s 50ms/step\n",
      "LiBot :  Dengan senang hati:)\n"
     ]
    },
    {
     "data": {
      "text/html": [
       "\n",
       "                <audio  controls=\"controls\" autoplay=\"autoplay\">\n",
       "                    <source src=\"data:audio/wav;base64,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\" type=\"audio/wav\" />\n",
       "                    Your browser does not support the audio element.\n",
       "                </audio>\n",
       "              "
      ],
      "text/plain": [
       "<IPython.lib.display.Audio object>"
      ]
     },
     "metadata": {},
     "output_type": "display_data"
    },
    {
     "name": "stdout",
     "output_type": "stream",
     "text": [
      "============================================================\n",
      "\n",
      "Kamu : dadah\n",
      "1/1 [==============================] - 0s 46ms/step\n",
      "LiBot :  Bye!\n"
     ]
    },
    {
     "data": {
      "text/html": [
       "\n",
       "                <audio  controls=\"controls\" autoplay=\"autoplay\">\n",
       "                    <source src=\"data:audio/wav;base64,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\" type=\"audio/wav\" />\n",
       "                    Your browser does not support the audio element.\n",
       "                </audio>\n",
       "              "
      ],
      "text/plain": [
       "<IPython.lib.display.Audio object>"
      ]
     },
     "metadata": {},
     "output_type": "display_data"
    },
    {
     "name": "stdout",
     "output_type": "stream",
     "text": [
      "============================================================\n",
      "\n"
     ]
    }
   ],
   "source": [
    "# Membuat Input Chat\n",
    "while True:\n",
    "  texts_p = []\n",
    "  prediction_input = input('Kamu : ')\n",
    "  \n",
    "  # Menghapus punktuasi dan konversi ke huruf kecil\n",
    "  prediction_input = [letters.lower() for letters in prediction_input if letters not in string.punctuation]\n",
    "  prediction_input = ''.join(prediction_input)\n",
    "  texts_p.append(prediction_input)\n",
    "\n",
    "  # Tokenisasi dan Padding\n",
    "  prediction_input = tokenizer.texts_to_sequences(texts_p)\n",
    "  prediction_input = np.array(prediction_input).reshape(-1)\n",
    "  prediction_input = pad_sequences([prediction_input],input_shape)\n",
    "\n",
    "  # Mendapatkan hasil keluaran pada model \n",
    "  output = model.predict(prediction_input)\n",
    "  output = output.argmax()\n",
    "\n",
    "  # Menemukan respon sesuai data tag dan memainkan voice bot\n",
    "  response_tag = le.inverse_transform([output])[0]\n",
    "  print(\"LiBot : \", random.choice(responses[response_tag]))\n",
    "  tts = gTTS(random.choice(responses[response_tag]), lang='id')\n",
    "  tts.save('LiBot.wav')\n",
    "  time.sleep(0.08)\n",
    "  ipd.display(ipd.Audio('LiBot.wav', autoplay=True))\n",
    "  print(\"=\"*60 + \"\\n\")\n",
    "  if response_tag == \"goodbye\":\n",
    "    break"
   ]
  },
  {
   "cell_type": "markdown",
   "id": "PpFwQ9gWmWtk",
   "metadata": {
    "id": "PpFwQ9gWmWtk"
   },
   "source": [
    "# Save The Model\n",
    "\n",
    "Setelah pengujian Chatbot telah disesuaikan dengan kalimat dan jawabannya. Maka, model chatbot bisa disimpan dengan format .h5 atau .pkl (pickle) untuk penggunaan aplikasi AI Chatbot dengan website atau sistem Android. "
   ]
  },
  {
   "cell_type": "code",
   "execution_count": null,
   "id": "MxdDHujDmaC0",
   "metadata": {
    "colab": {
     "base_uri": "https://localhost:8080/"
    },
    "id": "MxdDHujDmaC0",
    "outputId": "2b4f8561-4e68-4d53-ca9e-fa2a99f78b8e"
   },
   "outputs": [],
   "source": [
    "model.save('chat_model.h5')\n",
    "\n",
    "print('Model Created Successfully!')"
   ]
  }
 ],
 "metadata": {
  "colab": {
   "collapsed_sections": [],
   "provenance": []
  },
  "gpuClass": "standard",
  "kernelspec": {
   "display_name": "Python 3 (ipykernel)",
   "language": "python",
   "name": "python3"
  },
  "language_info": {
   "codemirror_mode": {
    "name": "ipython",
    "version": 3
   },
   "file_extension": ".py",
   "mimetype": "text/x-python",
   "name": "python",
   "nbconvert_exporter": "python",
   "pygments_lexer": "ipython3",
   "version": "3.9.12"
  },
  "latex_envs": {
   "LaTeX_envs_menu_present": true,
   "autoclose": false,
   "autocomplete": true,
   "bibliofile": "biblio.bib",
   "cite_by": "apalike",
   "current_citInitial": 1,
   "eqLabelWithNumbers": true,
   "eqNumInitial": 1,
   "hotkeys": {
    "equation": "Ctrl-E",
    "itemize": "Ctrl-I"
   },
   "labels_anchors": false,
   "latex_user_defs": false,
   "report_style_numbering": false,
   "user_envs_cfg": false
  },
  "toc": {
   "base_numbering": 1,
   "nav_menu": {},
   "number_sections": true,
   "sideBar": true,
   "skip_h1_title": false,
   "title_cell": "Table of Contents",
   "title_sidebar": "Contents",
   "toc_cell": false,
   "toc_position": {},
   "toc_section_display": true,
   "toc_window_display": true
  },
  "varInspector": {
   "cols": {
    "lenName": 16,
    "lenType": 16,
    "lenVar": 40
   },
   "kernels_config": {
    "python": {
     "delete_cmd_postfix": "",
     "delete_cmd_prefix": "del ",
     "library": "var_list.py",
     "varRefreshCmd": "print(var_dic_list())"
    },
    "r": {
     "delete_cmd_postfix": ") ",
     "delete_cmd_prefix": "rm(",
     "library": "var_list.r",
     "varRefreshCmd": "cat(var_dic_list()) "
    }
   },
   "types_to_exclude": [
    "module",
    "function",
    "builtin_function_or_method",
    "instance",
    "_Feature"
   ],
   "window_display": false
  }
 },
 "nbformat": 4,
 "nbformat_minor": 5
}
